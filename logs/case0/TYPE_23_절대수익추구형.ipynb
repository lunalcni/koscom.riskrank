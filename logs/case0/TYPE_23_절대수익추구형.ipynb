{
 "cells": [
  {
   "cell_type": "markdown",
   "id": "2dd67b7b-b151-49b1-955e-dd7627677a4e",
   "metadata": {},
   "source": [
    "# 펀드 위험등급 산출"
   ]
  },
  {
   "cell_type": "markdown",
   "id": "b3e20237-dc40-4627-a953-52539fea6148",
   "metadata": {},
   "source": [
    "## 패키지 로드"
   ]
  },
  {
   "cell_type": "code",
   "execution_count": 1,
   "id": "103faeb9-9c7b-46f1-8ddb-e8e438626b60",
   "metadata": {
    "execution": {
     "iopub.execute_input": "2022-12-16T08:21:04.628553Z",
     "iopub.status.busy": "2022-12-16T08:21:04.627585Z",
     "iopub.status.idle": "2022-12-16T08:21:05.196384Z",
     "shell.execute_reply": "2022-12-16T08:21:05.195365Z"
    }
   },
   "outputs": [],
   "source": [
    "%matplotlib inline"
   ]
  },
  {
   "cell_type": "code",
   "execution_count": 2,
   "id": "2ead0865-2adf-4384-9e33-e05ad2246056",
   "metadata": {
    "execution": {
     "iopub.execute_input": "2022-12-16T08:21:05.200369Z",
     "iopub.status.busy": "2022-12-16T08:21:05.199369Z",
     "iopub.status.idle": "2022-12-16T08:21:05.894350Z",
     "shell.execute_reply": "2022-12-16T08:21:05.893348Z"
    }
   },
   "outputs": [],
   "source": [
    "import functools\n",
    "import os\n",
    "import re\n",
    "from pathlib import Path\n",
    "\n",
    "import matplotlib.pyplot as plt\n",
    "import numpy as np\n",
    "import pandas as pd\n",
    "import seaborn as sns\n",
    "from tqdm import trange"
   ]
  },
  {
   "cell_type": "code",
   "execution_count": 3,
   "id": "dbbc9fff",
   "metadata": {
    "collapsed": false,
    "execution": {
     "iopub.execute_input": "2022-12-16T08:21:05.897353Z",
     "iopub.status.busy": "2022-12-16T08:21:05.897353Z",
     "iopub.status.idle": "2022-12-16T08:21:05.910349Z",
     "shell.execute_reply": "2022-12-16T08:21:05.909348Z"
    }
   },
   "outputs": [],
   "source": [
    "plt.rc('font', family='Malgun Gothic')  # For Windows"
   ]
  },
  {
   "cell_type": "markdown",
   "id": "14a55fcc",
   "metadata": {
    "collapsed": false
   },
   "source": [
    "## 변수 정의"
   ]
  },
  {
   "cell_type": "code",
   "execution_count": 4,
   "id": "7cac398d",
   "metadata": {
    "collapsed": false,
    "execution": {
     "iopub.execute_input": "2022-12-16T08:21:05.914351Z",
     "iopub.status.busy": "2022-12-16T08:21:05.913358Z",
     "iopub.status.idle": "2022-12-16T08:21:05.925348Z",
     "shell.execute_reply": "2022-12-16T08:21:05.925348Z"
    }
   },
   "outputs": [
    {
     "name": "stdout",
     "output_type": "stream",
     "text": [
      "TEST_PROCESS=False, VALIDATE_PROCESS=False, DATA_FILEPATH='data\\\\TYPE_23_절대수익추구형.csv', BINS=[0, 0.005, 0.05, 0.1, 0.15, 0.25, inf]\n"
     ]
    }
   ],
   "source": [
    "TEST_PROCESS = eval(os.environ.get('TEST_PROCESS', 'True'))\n",
    "VALIDATE_PROCESS = eval(os.environ.get('VALIDATE_PROCESS', 'True'))\n",
    "DATA_FILEPATH = os.environ.get('DATA_FILEPATH', './data/TYPE_10_채권형.csv')\n",
    "BINS = eval(os.environ.get('BINS', '[0, 0.005, 0.05, 0.10, 0.15, 0.25, float(\"inf\")]'))\n",
    "\n",
    "print(f'{TEST_PROCESS=}, {VALIDATE_PROCESS=}, {DATA_FILEPATH=}, {BINS=}')"
   ]
  },
  {
   "cell_type": "markdown",
   "id": "b30625d1",
   "metadata": {
    "collapsed": false
   },
   "source": [
    "## 타입 추출"
   ]
  },
  {
   "cell_type": "code",
   "execution_count": 5,
   "id": "9613fca5-40ff-41c8-a061-d9c23223c365",
   "metadata": {
    "execution": {
     "iopub.execute_input": "2022-12-16T08:21:05.929350Z",
     "iopub.status.busy": "2022-12-16T08:21:05.928348Z",
     "iopub.status.idle": "2022-12-16T08:21:05.942349Z",
     "shell.execute_reply": "2022-12-16T08:21:05.941353Z"
    }
   },
   "outputs": [
    {
     "data": {
      "text/plain": [
       "('23', '절대수익추구형')"
      ]
     },
     "execution_count": 5,
     "metadata": {},
     "output_type": "execute_result"
    }
   ],
   "source": [
    "filepath = Path(DATA_FILEPATH)\n",
    "filename_pattern = re.compile(r'TYPE_([0-9]+)_([^_]+)\\.csv')\n",
    "\n",
    "match_rst = re.fullmatch(filename_pattern, filepath.name)\n",
    "type_no, type_name = match_rst.groups()\n",
    "\n",
    "type_no, type_name"
   ]
  },
  {
   "cell_type": "markdown",
   "id": "3a02a33b-ddc6-446a-88c3-37887ffe4768",
   "metadata": {},
   "source": [
    "## 데이터 로드"
   ]
  },
  {
   "cell_type": "code",
   "execution_count": 6,
   "id": "a4260092-7f8c-48a7-a523-7b72bc350181",
   "metadata": {
    "execution": {
     "iopub.execute_input": "2022-12-16T08:21:05.946350Z",
     "iopub.status.busy": "2022-12-16T08:21:05.945349Z",
     "iopub.status.idle": "2022-12-16T08:21:06.749096Z",
     "shell.execute_reply": "2022-12-16T08:21:06.749096Z"
    }
   },
   "outputs": [
    {
     "name": "stdout",
     "output_type": "stream",
     "text": [
      "len(codes)=889\n"
     ]
    }
   ],
   "source": [
    "lists_wo_idx_df = pd.read_csv(filepath, names=[\"date\", \"code\", \"nav\"], usecols=[0, 1, 2], parse_dates=[0])\n",
    "lists_df = lists_wo_idx_df.set_index(['code', 'date'])\n",
    "\n",
    "codes = lists_df.index.get_level_values('code').unique()\n",
    "print(f\"{len(codes)=}\")"
   ]
  },
  {
   "cell_type": "markdown",
   "id": "af705139",
   "metadata": {
    "collapsed": false
   },
   "source": [
    "## 수치 산출 테스트\n",
    "\n",
    "1년을 기준으로 프로세스 정의"
   ]
  },
  {
   "cell_type": "markdown",
   "id": "40923317",
   "metadata": {
    "collapsed": false
   },
   "source": [
    "### 기간 조건 적용"
   ]
  },
  {
   "cell_type": "code",
   "execution_count": 7,
   "id": "95127215",
   "metadata": {
    "collapsed": false,
    "execution": {
     "iopub.execute_input": "2022-12-16T08:21:06.753095Z",
     "iopub.status.busy": "2022-12-16T08:21:06.752097Z",
     "iopub.status.idle": "2022-12-16T08:21:06.766145Z",
     "shell.execute_reply": "2022-12-16T08:21:06.765148Z"
    }
   },
   "outputs": [],
   "source": [
    "if TEST_PROCESS:\n",
    "    lists_1y_df = pd.concat([\n",
    "        lists_df.xs(code).last('1y').assign(code=code)\n",
    "        for code in codes])\n",
    "    lists_1y_df.reset_index(inplace=True)\n",
    "    display(lists_1y_df)"
   ]
  },
  {
   "cell_type": "markdown",
   "id": "688435e8",
   "metadata": {
    "collapsed": false
   },
   "source": [
    "### 리샘플링, 퍼센트 체인지 추출"
   ]
  },
  {
   "cell_type": "code",
   "execution_count": 8,
   "id": "49fb3044",
   "metadata": {
    "collapsed": false,
    "execution": {
     "iopub.execute_input": "2022-12-16T08:21:06.769138Z",
     "iopub.status.busy": "2022-12-16T08:21:06.769138Z",
     "iopub.status.idle": "2022-12-16T08:21:06.780925Z",
     "shell.execute_reply": "2022-12-16T08:21:06.780925Z"
    }
   },
   "outputs": [],
   "source": [
    "if TEST_PROCESS:\n",
    "    lists_1y_wk_df = lists_1y_df.set_index(['date']).groupby(['code'])[['nav']].resample('W').last()\n",
    "    lists_1y_wk_df = lists_1y_wk_df.assign(ret=lists_1y_wk_df.groupby(['code'])[['nav']].pct_change())\n",
    "    display(lists_1y_wk_df)"
   ]
  },
  {
   "cell_type": "markdown",
   "id": "2cce5e5e",
   "metadata": {
    "collapsed": false
   },
   "source": [
    "### 표준편차 산출"
   ]
  },
  {
   "cell_type": "code",
   "execution_count": 9,
   "id": "e3a68ad1",
   "metadata": {
    "collapsed": false,
    "execution": {
     "iopub.execute_input": "2022-12-16T08:21:06.783919Z",
     "iopub.status.busy": "2022-12-16T08:21:06.783919Z",
     "iopub.status.idle": "2022-12-16T08:21:06.798022Z",
     "shell.execute_reply": "2022-12-16T08:21:06.797029Z"
    }
   },
   "outputs": [],
   "source": [
    "if TEST_PROCESS:\n",
    "    lists_1y_std_df = lists_1y_wk_df.groupby(['code'])[['ret']].std(numeric_only=True) * np.sqrt(52)\n",
    "    lists_1y_std_df.reset_index(inplace=True)\n",
    "    lists_1y_std_df.rename(columns={'ret': 'std_1y'}, inplace=True)\n",
    "    display(lists_1y_std_df)"
   ]
  },
  {
   "cell_type": "markdown",
   "id": "4ad9f8b2",
   "metadata": {
    "collapsed": false
   },
   "source": [
    "### VaR 산출"
   ]
  },
  {
   "cell_type": "code",
   "execution_count": 10,
   "id": "2f689639",
   "metadata": {
    "collapsed": false,
    "execution": {
     "iopub.execute_input": "2022-12-16T08:21:06.801023Z",
     "iopub.status.busy": "2022-12-16T08:21:06.800022Z",
     "iopub.status.idle": "2022-12-16T08:21:06.813817Z",
     "shell.execute_reply": "2022-12-16T08:21:06.812824Z"
    }
   },
   "outputs": [],
   "source": [
    "if TEST_PROCESS:\n",
    "    lists_1y_var_df = lists_1y_wk_df.groupby(['code'])[['ret']].quantile(0.025, numeric_only=True)\n",
    "    lists_1y_var_df = np.minimum(lists_1y_var_df, 0) * -1 * np.sqrt(52)\n",
    "    lists_1y_var_df.rename(columns={'ret': 'var_1y'}, inplace=True)\n",
    "    display(lists_1y_var_df)"
   ]
  },
  {
   "cell_type": "markdown",
   "id": "5e1000bc",
   "metadata": {
    "collapsed": false
   },
   "source": [
    "## 수치 산출 프로세스 정의"
   ]
  },
  {
   "cell_type": "code",
   "execution_count": 11,
   "id": "32f9fa69",
   "metadata": {
    "collapsed": false,
    "execution": {
     "iopub.execute_input": "2022-12-16T08:21:06.816818Z",
     "iopub.status.busy": "2022-12-16T08:21:06.816818Z",
     "iopub.status.idle": "2022-12-16T08:21:06.829025Z",
     "shell.execute_reply": "2022-12-16T08:21:06.828036Z"
    }
   },
   "outputs": [],
   "source": [
    "offsets = ['1y', '3y']"
   ]
  },
  {
   "cell_type": "code",
   "execution_count": 12,
   "id": "23962ef9",
   "metadata": {
    "collapsed": false,
    "execution": {
     "iopub.execute_input": "2022-12-16T08:21:06.832025Z",
     "iopub.status.busy": "2022-12-16T08:21:06.832025Z",
     "iopub.status.idle": "2022-12-16T08:21:12.393832Z",
     "shell.execute_reply": "2022-12-16T08:21:12.392821Z"
    }
   },
   "outputs": [
    {
     "name": "stdout",
     "output_type": "stream",
     "text": [
      "CPU times: total: 5.52 s\n",
      "Wall time: 5.54 s\n"
     ]
    },
    {
     "data": {
      "text/html": [
       "<div>\n",
       "<style scoped>\n",
       "    .dataframe tbody tr th:only-of-type {\n",
       "        vertical-align: middle;\n",
       "    }\n",
       "\n",
       "    .dataframe tbody tr th {\n",
       "        vertical-align: top;\n",
       "    }\n",
       "\n",
       "    .dataframe thead th {\n",
       "        text-align: right;\n",
       "    }\n",
       "</style>\n",
       "<table border=\"1\" class=\"dataframe\">\n",
       "  <thead>\n",
       "    <tr style=\"text-align: right;\">\n",
       "      <th></th>\n",
       "      <th>std_1y</th>\n",
       "      <th>var_1y</th>\n",
       "      <th>std_3y</th>\n",
       "      <th>var_3y</th>\n",
       "    </tr>\n",
       "    <tr>\n",
       "      <th>code</th>\n",
       "      <th></th>\n",
       "      <th></th>\n",
       "      <th></th>\n",
       "      <th></th>\n",
       "    </tr>\n",
       "  </thead>\n",
       "  <tbody>\n",
       "    <tr>\n",
       "      <th>K55101BV9704</th>\n",
       "      <td>0.040379</td>\n",
       "      <td>0.098558</td>\n",
       "      <td>0.040533</td>\n",
       "      <td>0.091303</td>\n",
       "    </tr>\n",
       "    <tr>\n",
       "      <th>K55101BV9712</th>\n",
       "      <td>0.040364</td>\n",
       "      <td>0.098053</td>\n",
       "      <td>0.031731</td>\n",
       "      <td>0.078918</td>\n",
       "    </tr>\n",
       "    <tr>\n",
       "      <th>K55102DK7773</th>\n",
       "      <td>0.029362</td>\n",
       "      <td>0.046334</td>\n",
       "      <td>0.023808</td>\n",
       "      <td>0.045704</td>\n",
       "    </tr>\n",
       "    <tr>\n",
       "      <th>K55102DK7781</th>\n",
       "      <td>0.029896</td>\n",
       "      <td>0.047262</td>\n",
       "      <td>0.024414</td>\n",
       "      <td>0.046647</td>\n",
       "    </tr>\n",
       "    <tr>\n",
       "      <th>K55102DK7799</th>\n",
       "      <td>0.029893</td>\n",
       "      <td>0.046967</td>\n",
       "      <td>0.024237</td>\n",
       "      <td>0.046375</td>\n",
       "    </tr>\n",
       "    <tr>\n",
       "      <th>...</th>\n",
       "      <td>...</td>\n",
       "      <td>...</td>\n",
       "      <td>...</td>\n",
       "      <td>...</td>\n",
       "    </tr>\n",
       "    <tr>\n",
       "      <th>KRM301957473</th>\n",
       "      <td>0.052704</td>\n",
       "      <td>0.046964</td>\n",
       "      <td>0.194414</td>\n",
       "      <td>0.106154</td>\n",
       "    </tr>\n",
       "    <tr>\n",
       "      <th>KRM306363370</th>\n",
       "      <td>0.035891</td>\n",
       "      <td>0.067796</td>\n",
       "      <td>0.038717</td>\n",
       "      <td>0.076676</td>\n",
       "    </tr>\n",
       "    <tr>\n",
       "      <th>KRM306395562</th>\n",
       "      <td>0.020520</td>\n",
       "      <td>0.050386</td>\n",
       "      <td>0.046014</td>\n",
       "      <td>0.072855</td>\n",
       "    </tr>\n",
       "    <tr>\n",
       "      <th>KRM309542301</th>\n",
       "      <td>0.043576</td>\n",
       "      <td>0.093240</td>\n",
       "      <td>0.043576</td>\n",
       "      <td>0.093240</td>\n",
       "    </tr>\n",
       "    <tr>\n",
       "      <th>KRM313350527</th>\n",
       "      <td>0.134482</td>\n",
       "      <td>0.116175</td>\n",
       "      <td>0.092072</td>\n",
       "      <td>0.095002</td>\n",
       "    </tr>\n",
       "  </tbody>\n",
       "</table>\n",
       "<p>889 rows × 4 columns</p>\n",
       "</div>"
      ],
      "text/plain": [
       "                std_1y    var_1y    std_3y    var_3y\n",
       "code                                                \n",
       "K55101BV9704  0.040379  0.098558  0.040533  0.091303\n",
       "K55101BV9712  0.040364  0.098053  0.031731  0.078918\n",
       "K55102DK7773  0.029362  0.046334  0.023808  0.045704\n",
       "K55102DK7781  0.029896  0.047262  0.024414  0.046647\n",
       "K55102DK7799  0.029893  0.046967  0.024237  0.046375\n",
       "...                ...       ...       ...       ...\n",
       "KRM301957473  0.052704  0.046964  0.194414  0.106154\n",
       "KRM306363370  0.035891  0.067796  0.038717  0.076676\n",
       "KRM306395562  0.020520  0.050386  0.046014  0.072855\n",
       "KRM309542301  0.043576  0.093240  0.043576  0.093240\n",
       "KRM313350527  0.134482  0.116175  0.092072  0.095002\n",
       "\n",
       "[889 rows x 4 columns]"
      ]
     },
     "execution_count": 12,
     "metadata": {},
     "output_type": "execute_result"
    }
   ],
   "source": [
    "%%time\n",
    "\n",
    "lists_rst_dfs = []\n",
    "\n",
    "for offset in offsets:\n",
    "    lists_off_df = pd.concat([\n",
    "        lists_df.xs(code).last(offset).assign(code=code)\n",
    "        for code in codes])\n",
    "    lists_off_df.reset_index(inplace=True)\n",
    "\n",
    "    lists_off_wk_df = lists_off_df.set_index(['date']).groupby(['code'])[['nav']].resample('W').last()\n",
    "    lists_off_wk_df = lists_off_wk_df.assign(ret=lists_off_wk_df.groupby(['code'])[['nav']].pct_change())\n",
    "\n",
    "    lists_off_std_df = lists_off_wk_df.groupby(['code'])[['ret']].std(numeric_only=True) * np.sqrt(52)\n",
    "    lists_off_std_df.rename(columns={'ret': f'std_{offset}'}, inplace=True)\n",
    "\n",
    "    lists_off_var_df = lists_off_wk_df.groupby(['code'])[['ret']].quantile(0.025, numeric_only=True)\n",
    "    lists_off_var_df = np.minimum(lists_off_var_df, 0) * -1 * np.sqrt(52)\n",
    "    lists_off_var_df.rename(columns={'ret': f'var_{offset}'}, inplace=True)\n",
    "\n",
    "    lists_rst_dfs.append(lists_off_std_df)\n",
    "    lists_rst_dfs.append(lists_off_var_df)\n",
    "\n",
    "lists_rst_df = pd.concat(lists_rst_dfs, axis='columns')\n",
    "lists_rst_df"
   ]
  },
  {
   "cell_type": "markdown",
   "id": "8ee29e9e",
   "metadata": {
    "collapsed": false
   },
   "source": [
    "### 프로세스 테스트"
   ]
  },
  {
   "cell_type": "code",
   "execution_count": 13,
   "id": "a6cc3475-204e-417d-ac8f-67c33c944c4e",
   "metadata": {
    "execution": {
     "iopub.execute_input": "2022-12-16T08:21:12.397822Z",
     "iopub.status.busy": "2022-12-16T08:21:12.397822Z",
     "iopub.status.idle": "2022-12-16T08:21:12.409822Z",
     "shell.execute_reply": "2022-12-16T08:21:12.408821Z"
    }
   },
   "outputs": [
    {
     "name": "stdout",
     "output_type": "stream",
     "text": [
      "CPU times: total: 0 ns\n",
      "Wall time: 0 ns\n"
     ]
    }
   ],
   "source": [
    "%%time\n",
    "\n",
    "def calc_std_y(code):\n",
    "    df = lists_wo_idx_df[lists_wo_idx_df['code'] == code][[\"date\", \"nav\"]]\n",
    "    df = df.sort_values(by=\"date\")\n",
    "    df = df.set_index(\"date\")\n",
    "\n",
    "    df_1y = df.last(\"1Y\")\n",
    "    df_1y_w = df_1y.resample(\"W\").last()\n",
    "\n",
    "    df_3y = df.last(\"3Y\")\n",
    "    df_3y_w = df_3y.resample(\"W\").last()\n",
    "\n",
    "    df_3y_w[\"ret\"] = df_3y_w[\"nav\"].pct_change()\n",
    "    df_3y_w = df_3y_w.iloc[1:]\n",
    "    std_3y = df_3y_w[\"ret\"].std() * np.sqrt(52)\n",
    "\n",
    "    df_1y_w[\"ret\"] = df_1y_w[\"nav\"].pct_change()\n",
    "    df_1y_w = df_1y_w.iloc[1:]\n",
    "    std_1y = df_1y_w[\"ret\"].std() * np.sqrt(52)\n",
    "\n",
    "    var_3y = -np.minimum(df_3y_w[\"ret\"].quantile(0.025), 0) * np.sqrt(52)\n",
    "\n",
    "    return std_3y, std_1y, var_3y\n",
    "\n",
    "if VALIDATE_PROCESS:\n",
    "    list_std_y = []\n",
    "    for i in trange(len(codes)):\n",
    "        code = codes[i]\n",
    "        list_std_y.append(calc_std_y(code))"
   ]
  },
  {
   "cell_type": "code",
   "execution_count": 14,
   "id": "802df7ed",
   "metadata": {
    "collapsed": false,
    "execution": {
     "iopub.execute_input": "2022-12-16T08:21:12.413824Z",
     "iopub.status.busy": "2022-12-16T08:21:12.413824Z",
     "iopub.status.idle": "2022-12-16T08:21:12.425823Z",
     "shell.execute_reply": "2022-12-16T08:21:12.424822Z"
    }
   },
   "outputs": [],
   "source": [
    "if VALIDATE_PROCESS:\n",
    "    for code_idx, code in enumerate(codes):\n",
    "        for old_idx, new_name in [(0, 'std_3y'), (1, 'std_1y'), (2, 'var_3y')]:\n",
    "            old_rst = list_std_y[code_idx][old_idx]\n",
    "            new_rst = lists_rst_df.xs(code).xs(new_name)\n",
    "            if not np.isclose(old_rst, new_rst, equal_nan=True):\n",
    "                print(f\"{code=}, {old_rst=}, {new_rst=}, {np.isclose(old_rst, new_rst, equal_nan=True)=}\")"
   ]
  },
  {
   "cell_type": "markdown",
   "id": "b717f08f",
   "metadata": {
    "collapsed": false
   },
   "source": [
    "## 등급 변환"
   ]
  },
  {
   "cell_type": "code",
   "execution_count": 15,
   "id": "8e22c6e0",
   "metadata": {
    "collapsed": false,
    "execution": {
     "iopub.execute_input": "2022-12-16T08:21:12.429822Z",
     "iopub.status.busy": "2022-12-16T08:21:12.428822Z",
     "iopub.status.idle": "2022-12-16T08:21:12.458123Z",
     "shell.execute_reply": "2022-12-16T08:21:12.455577Z"
    }
   },
   "outputs": [
    {
     "data": {
      "text/html": [
       "<div>\n",
       "<style scoped>\n",
       "    .dataframe tbody tr th:only-of-type {\n",
       "        vertical-align: middle;\n",
       "    }\n",
       "\n",
       "    .dataframe tbody tr th {\n",
       "        vertical-align: top;\n",
       "    }\n",
       "\n",
       "    .dataframe thead th {\n",
       "        text-align: right;\n",
       "    }\n",
       "</style>\n",
       "<table border=\"1\" class=\"dataframe\">\n",
       "  <thead>\n",
       "    <tr style=\"text-align: right;\">\n",
       "      <th></th>\n",
       "      <th>code</th>\n",
       "      <th>std_1y</th>\n",
       "      <th>var_1y</th>\n",
       "      <th>std_3y</th>\n",
       "      <th>var_3y</th>\n",
       "      <th>risk_std_1y</th>\n",
       "      <th>risk_std_3y</th>\n",
       "      <th>risk_var_3y</th>\n",
       "    </tr>\n",
       "  </thead>\n",
       "  <tbody>\n",
       "    <tr>\n",
       "      <th>0</th>\n",
       "      <td>K55101BV9704</td>\n",
       "      <td>0.040379</td>\n",
       "      <td>0.098558</td>\n",
       "      <td>0.040533</td>\n",
       "      <td>0.091303</td>\n",
       "      <td>5등급</td>\n",
       "      <td>5등급</td>\n",
       "      <td>4등급</td>\n",
       "    </tr>\n",
       "    <tr>\n",
       "      <th>1</th>\n",
       "      <td>K55101BV9712</td>\n",
       "      <td>0.040364</td>\n",
       "      <td>0.098053</td>\n",
       "      <td>0.031731</td>\n",
       "      <td>0.078918</td>\n",
       "      <td>5등급</td>\n",
       "      <td>5등급</td>\n",
       "      <td>4등급</td>\n",
       "    </tr>\n",
       "    <tr>\n",
       "      <th>2</th>\n",
       "      <td>K55102DK7773</td>\n",
       "      <td>0.029362</td>\n",
       "      <td>0.046334</td>\n",
       "      <td>0.023808</td>\n",
       "      <td>0.045704</td>\n",
       "      <td>5등급</td>\n",
       "      <td>5등급</td>\n",
       "      <td>5등급</td>\n",
       "    </tr>\n",
       "    <tr>\n",
       "      <th>3</th>\n",
       "      <td>K55102DK7781</td>\n",
       "      <td>0.029896</td>\n",
       "      <td>0.047262</td>\n",
       "      <td>0.024414</td>\n",
       "      <td>0.046647</td>\n",
       "      <td>5등급</td>\n",
       "      <td>5등급</td>\n",
       "      <td>5등급</td>\n",
       "    </tr>\n",
       "    <tr>\n",
       "      <th>4</th>\n",
       "      <td>K55102DK7799</td>\n",
       "      <td>0.029893</td>\n",
       "      <td>0.046967</td>\n",
       "      <td>0.024237</td>\n",
       "      <td>0.046375</td>\n",
       "      <td>5등급</td>\n",
       "      <td>5등급</td>\n",
       "      <td>5등급</td>\n",
       "    </tr>\n",
       "    <tr>\n",
       "      <th>...</th>\n",
       "      <td>...</td>\n",
       "      <td>...</td>\n",
       "      <td>...</td>\n",
       "      <td>...</td>\n",
       "      <td>...</td>\n",
       "      <td>...</td>\n",
       "      <td>...</td>\n",
       "      <td>...</td>\n",
       "    </tr>\n",
       "    <tr>\n",
       "      <th>871</th>\n",
       "      <td>KRM301957473</td>\n",
       "      <td>0.052704</td>\n",
       "      <td>0.046964</td>\n",
       "      <td>0.194414</td>\n",
       "      <td>0.106154</td>\n",
       "      <td>4등급</td>\n",
       "      <td>2등급</td>\n",
       "      <td>3등급</td>\n",
       "    </tr>\n",
       "    <tr>\n",
       "      <th>872</th>\n",
       "      <td>KRM306363370</td>\n",
       "      <td>0.035891</td>\n",
       "      <td>0.067796</td>\n",
       "      <td>0.038717</td>\n",
       "      <td>0.076676</td>\n",
       "      <td>5등급</td>\n",
       "      <td>5등급</td>\n",
       "      <td>4등급</td>\n",
       "    </tr>\n",
       "    <tr>\n",
       "      <th>873</th>\n",
       "      <td>KRM306395562</td>\n",
       "      <td>0.020520</td>\n",
       "      <td>0.050386</td>\n",
       "      <td>0.046014</td>\n",
       "      <td>0.072855</td>\n",
       "      <td>5등급</td>\n",
       "      <td>5등급</td>\n",
       "      <td>4등급</td>\n",
       "    </tr>\n",
       "    <tr>\n",
       "      <th>874</th>\n",
       "      <td>KRM309542301</td>\n",
       "      <td>0.043576</td>\n",
       "      <td>0.093240</td>\n",
       "      <td>0.043576</td>\n",
       "      <td>0.093240</td>\n",
       "      <td>5등급</td>\n",
       "      <td>5등급</td>\n",
       "      <td>4등급</td>\n",
       "    </tr>\n",
       "    <tr>\n",
       "      <th>875</th>\n",
       "      <td>KRM313350527</td>\n",
       "      <td>0.134482</td>\n",
       "      <td>0.116175</td>\n",
       "      <td>0.092072</td>\n",
       "      <td>0.095002</td>\n",
       "      <td>3등급</td>\n",
       "      <td>4등급</td>\n",
       "      <td>4등급</td>\n",
       "    </tr>\n",
       "  </tbody>\n",
       "</table>\n",
       "<p>876 rows × 8 columns</p>\n",
       "</div>"
      ],
      "text/plain": [
       "             code    std_1y    var_1y    std_3y    var_3y risk_std_1y  \\\n",
       "0    K55101BV9704  0.040379  0.098558  0.040533  0.091303         5등급   \n",
       "1    K55101BV9712  0.040364  0.098053  0.031731  0.078918         5등급   \n",
       "2    K55102DK7773  0.029362  0.046334  0.023808  0.045704         5등급   \n",
       "3    K55102DK7781  0.029896  0.047262  0.024414  0.046647         5등급   \n",
       "4    K55102DK7799  0.029893  0.046967  0.024237  0.046375         5등급   \n",
       "..            ...       ...       ...       ...       ...         ...   \n",
       "871  KRM301957473  0.052704  0.046964  0.194414  0.106154         4등급   \n",
       "872  KRM306363370  0.035891  0.067796  0.038717  0.076676         5등급   \n",
       "873  KRM306395562  0.020520  0.050386  0.046014  0.072855         5등급   \n",
       "874  KRM309542301  0.043576  0.093240  0.043576  0.093240         5등급   \n",
       "875  KRM313350527  0.134482  0.116175  0.092072  0.095002         3등급   \n",
       "\n",
       "    risk_std_3y risk_var_3y  \n",
       "0           5등급         4등급  \n",
       "1           5등급         4등급  \n",
       "2           5등급         5등급  \n",
       "3           5등급         5등급  \n",
       "4           5등급         5등급  \n",
       "..          ...         ...  \n",
       "871         2등급         3등급  \n",
       "872         5등급         4등급  \n",
       "873         5등급         4등급  \n",
       "874         5등급         4등급  \n",
       "875         4등급         4등급  \n",
       "\n",
       "[876 rows x 8 columns]"
      ]
     },
     "execution_count": 15,
     "metadata": {},
     "output_type": "execute_result"
    }
   ],
   "source": [
    "labels = [\"6등급\", \"5등급\", \"4등급\", \"3등급\", \"2등급\", \"1등급\"]\n",
    "cut_fn = functools.partial(pd.cut, bins=BINS, labels=labels)\n",
    "\n",
    "lists_lb_df = lists_rst_df.assign(\n",
    "    risk_std_1y=cut_fn(lists_rst_df['std_1y']),\n",
    "    risk_std_3y=cut_fn(lists_rst_df['std_3y']),\n",
    "    # risk_var_1y=cut_fn(lists_rst_df['var_1y']),\n",
    "    risk_var_3y=cut_fn(lists_rst_df['var_3y']))\n",
    "lists_lb_df.dropna(inplace=True)\n",
    "lists_lb_df.reset_index(inplace=True)\n",
    "\n",
    "lists_lb_df"
   ]
  },
  {
   "cell_type": "markdown",
   "id": "28274c14",
   "metadata": {
    "collapsed": false
   },
   "source": [
    "#### 프로세스 테스트"
   ]
  },
  {
   "cell_type": "code",
   "execution_count": 16,
   "id": "e0aa081c-7f0d-4f1b-ae74-00a27747aaa5",
   "metadata": {
    "execution": {
     "iopub.execute_input": "2022-12-16T08:21:12.464145Z",
     "iopub.status.busy": "2022-12-16T08:21:12.464145Z",
     "iopub.status.idle": "2022-12-16T08:21:12.487142Z",
     "shell.execute_reply": "2022-12-16T08:21:12.486140Z"
    }
   },
   "outputs": [],
   "source": [
    "if VALIDATE_PROCESS:\n",
    "    list_std_3y, list_std_1y, list_var_3y = zip(*list_std_y)\n",
    "\n",
    "    df_result = pd.DataFrame({\n",
    "        \"code\": codes,\n",
    "        \"std_3y\": list_std_3y,\n",
    "        \"std_1y\": list_std_1y,\n",
    "        \"var_3y\": list_var_3y,\n",
    "    })\n",
    "\n",
    "    bins = [0, 0.005, 0.05, 0.10, 0.15, 0.25, float(\"inf\")]\n",
    "    labels = [\"6등급\", \"5등급\", \"4등급\", \"3등급\", \"2등급\", \"1등급\"]\n",
    "\n",
    "    df_result[\"risk_std_3y\"] = pd.cut(df_result.std_3y, bins=bins, labels=labels)\n",
    "    df_result[\"risk_std_1y\"] = pd.cut(df_result.std_1y, bins=bins, labels=labels)\n",
    "    df_result[\"risk_var_3y\"] = pd.cut(df_result.var_3y, bins=bins, labels=labels)\n",
    "\n",
    "    df_result = df_result.dropna()"
   ]
  },
  {
   "cell_type": "code",
   "execution_count": 17,
   "id": "c3e75562-b9ea-4c95-9a11-004be639146b",
   "metadata": {
    "execution": {
     "iopub.execute_input": "2022-12-16T08:21:12.490148Z",
     "iopub.status.busy": "2022-12-16T08:21:12.489170Z",
     "iopub.status.idle": "2022-12-16T08:21:12.503139Z",
     "shell.execute_reply": "2022-12-16T08:21:12.502140Z"
    }
   },
   "outputs": [],
   "source": [
    "if VALIDATE_PROCESS:\n",
    "    display(\n",
    "        (lists_lb_df[['code', 'risk_std_1y', 'risk_std_3y', 'risk_var_3y']].set_index(['code'])\n",
    "        == df_result[['code', 'risk_std_1y', 'risk_std_3y', 'risk_var_3y']].set_index(['code'])).all())"
   ]
  },
  {
   "cell_type": "markdown",
   "id": "7093a90e-9367-40e8-bb58-fc375b2c7f0d",
   "metadata": {},
   "source": [
    "## 등급 결과 출력"
   ]
  },
  {
   "cell_type": "code",
   "execution_count": 18,
   "id": "7d74f1a2-a5b2-4b5a-b1e4-7356deb7fb2c",
   "metadata": {
    "execution": {
     "iopub.execute_input": "2022-12-16T08:21:12.506138Z",
     "iopub.status.busy": "2022-12-16T08:21:12.506138Z",
     "iopub.status.idle": "2022-12-16T08:21:12.534385Z",
     "shell.execute_reply": "2022-12-16T08:21:12.533568Z"
    }
   },
   "outputs": [],
   "source": [
    "os.makedirs('result', exist_ok=True)\n",
    "lists_lb_df.to_csv(f'result/RESULT_{type_no}_{type_name}.csv', index=False)"
   ]
  },
  {
   "cell_type": "markdown",
   "id": "2ed08a3d-eb09-4f1f-83a5-987be9b9d584",
   "metadata": {},
   "source": [
    "## 시각화"
   ]
  },
  {
   "cell_type": "code",
   "execution_count": 19,
   "id": "a2981513-60e5-4604-8fee-235d898df378",
   "metadata": {
    "execution": {
     "iopub.execute_input": "2022-12-16T08:21:12.537381Z",
     "iopub.status.busy": "2022-12-16T08:21:12.537381Z",
     "iopub.status.idle": "2022-12-16T08:21:12.708532Z",
     "shell.execute_reply": "2022-12-16T08:21:12.707527Z"
    }
   },
   "outputs": [
    {
     "data": {
      "text/html": [
       "<style type=\"text/css\">\n",
       "#T_80ef9_row0_col0, #T_80ef9_row0_col1, #T_80ef9_row2_col1, #T_80ef9_row5_col2 {\n",
       "  background-color: #fff7fb;\n",
       "  color: #000000;\n",
       "}\n",
       "#T_80ef9_row0_col2, #T_80ef9_row1_col0, #T_80ef9_row5_col0, #T_80ef9_row5_col1 {\n",
       "  background-color: #fcf4fa;\n",
       "  color: #000000;\n",
       "}\n",
       "#T_80ef9_row1_col1 {\n",
       "  background-color: #fdf5fa;\n",
       "  color: #000000;\n",
       "}\n",
       "#T_80ef9_row1_col2 {\n",
       "  background-color: #f4eef6;\n",
       "  color: #000000;\n",
       "}\n",
       "#T_80ef9_row2_col0 {\n",
       "  background-color: #faf2f8;\n",
       "  color: #000000;\n",
       "}\n",
       "#T_80ef9_row2_col2 {\n",
       "  background-color: #bcc7e1;\n",
       "  color: #000000;\n",
       "}\n",
       "#T_80ef9_row3_col0 {\n",
       "  background-color: #b4c4df;\n",
       "  color: #000000;\n",
       "}\n",
       "#T_80ef9_row3_col1 {\n",
       "  background-color: #c1cae2;\n",
       "  color: #000000;\n",
       "}\n",
       "#T_80ef9_row3_col2, #T_80ef9_row4_col0, #T_80ef9_row4_col1 {\n",
       "  background-color: #023858;\n",
       "  color: #f1f1f1;\n",
       "}\n",
       "#T_80ef9_row4_col2 {\n",
       "  background-color: #73a9cf;\n",
       "  color: #f1f1f1;\n",
       "}\n",
       "</style>\n",
       "<table id=\"T_80ef9\">\n",
       "  <thead>\n",
       "    <tr>\n",
       "      <th class=\"blank level0\" >&nbsp;</th>\n",
       "      <th id=\"T_80ef9_level0_col0\" class=\"col_heading level0 col0\" >3년 표준편차</th>\n",
       "      <th id=\"T_80ef9_level0_col1\" class=\"col_heading level0 col1\" >1년 표준편차</th>\n",
       "      <th id=\"T_80ef9_level0_col2\" class=\"col_heading level0 col2\" >3년 VaR</th>\n",
       "    </tr>\n",
       "    <tr>\n",
       "      <th class=\"index_name level0\" >등급</th>\n",
       "      <th class=\"blank col0\" >&nbsp;</th>\n",
       "      <th class=\"blank col1\" >&nbsp;</th>\n",
       "      <th class=\"blank col2\" >&nbsp;</th>\n",
       "    </tr>\n",
       "  </thead>\n",
       "  <tbody>\n",
       "    <tr>\n",
       "      <th id=\"T_80ef9_level0_row0\" class=\"row_heading level0 row0\" >1등급</th>\n",
       "      <td id=\"T_80ef9_row0_col0\" class=\"data row0 col0\" >1</td>\n",
       "      <td id=\"T_80ef9_row0_col1\" class=\"data row0 col1\" >2</td>\n",
       "      <td id=\"T_80ef9_row0_col2\" class=\"data row0 col2\" >18</td>\n",
       "    </tr>\n",
       "    <tr>\n",
       "      <th id=\"T_80ef9_level0_row1\" class=\"row_heading level0 row1\" >2등급</th>\n",
       "      <td id=\"T_80ef9_row1_col0\" class=\"data row1 col0\" >14</td>\n",
       "      <td id=\"T_80ef9_row1_col1\" class=\"data row1 col1\" >14</td>\n",
       "      <td id=\"T_80ef9_row1_col2\" class=\"data row1 col2\" >40</td>\n",
       "    </tr>\n",
       "    <tr>\n",
       "      <th id=\"T_80ef9_level0_row2\" class=\"row_heading level0 row2\" >3등급</th>\n",
       "      <td id=\"T_80ef9_row2_col0\" class=\"data row2 col0\" >23</td>\n",
       "      <td id=\"T_80ef9_row2_col1\" class=\"data row2 col1\" >4</td>\n",
       "      <td id=\"T_80ef9_row2_col2\" class=\"data row2 col2\" >143</td>\n",
       "    </tr>\n",
       "    <tr>\n",
       "      <th id=\"T_80ef9_level0_row3\" class=\"row_heading level0 row3\" >4등급</th>\n",
       "      <td id=\"T_80ef9_row3_col0\" class=\"data row3 col0\" >206</td>\n",
       "      <td id=\"T_80ef9_row3_col1\" class=\"data row3 col1\" >193</td>\n",
       "      <td id=\"T_80ef9_row3_col2\" class=\"data row3 col2\" >442</td>\n",
       "    </tr>\n",
       "    <tr>\n",
       "      <th id=\"T_80ef9_level0_row4\" class=\"row_heading level0 row4\" >5등급</th>\n",
       "      <td id=\"T_80ef9_row4_col0\" class=\"data row4 col0\" >617</td>\n",
       "      <td id=\"T_80ef9_row4_col1\" class=\"data row4 col1\" >647</td>\n",
       "      <td id=\"T_80ef9_row4_col2\" class=\"data row4 col2\" >225</td>\n",
       "    </tr>\n",
       "    <tr>\n",
       "      <th id=\"T_80ef9_level0_row5\" class=\"row_heading level0 row5\" >6등급</th>\n",
       "      <td id=\"T_80ef9_row5_col0\" class=\"data row5 col0\" >15</td>\n",
       "      <td id=\"T_80ef9_row5_col1\" class=\"data row5 col1\" >16</td>\n",
       "      <td id=\"T_80ef9_row5_col2\" class=\"data row5 col2\" >8</td>\n",
       "    </tr>\n",
       "  </tbody>\n",
       "</table>\n"
      ],
      "text/plain": [
       "<pandas.io.formats.style.Styler at 0x16bbc3859a0>"
      ]
     },
     "execution_count": 19,
     "metadata": {},
     "output_type": "execute_result"
    }
   ],
   "source": [
    "risk_std_3y_stat_df = lists_lb_df[\"risk_std_3y\"].value_counts().sort_index(ascending=False)\n",
    "risk_std_1y_stat_df = lists_lb_df[\"risk_std_1y\"].value_counts().sort_index(ascending=False)\n",
    "risk_var_3y_stat_df = lists_lb_df[\"risk_var_3y\"].value_counts().sort_index(ascending=False)\n",
    "stat_df = pd.concat([risk_std_3y_stat_df, risk_std_1y_stat_df, risk_var_3y_stat_df], axis=1)\n",
    "stat_df = stat_df.rename(columns={\"risk_std_3y\": \"3년 표준편차\", \"risk_std_1y\": \"1년 표준편차\", \"risk_var_3y\": \"3년 VaR\"})\n",
    "stat_df.reset_index(names=['등급'], inplace=True)\n",
    "\n",
    "stat_df.set_index('등급').style.background_gradient()"
   ]
  },
  {
   "cell_type": "code",
   "execution_count": 20,
   "id": "2ecfd0b2-0548-41e1-a6ed-9abd2da5b7c8",
   "metadata": {
    "execution": {
     "iopub.execute_input": "2022-12-16T08:21:12.714861Z",
     "iopub.status.busy": "2022-12-16T08:21:12.713530Z",
     "iopub.status.idle": "2022-12-16T08:21:13.083640Z",
     "shell.execute_reply": "2022-12-16T08:21:13.083640Z"
    }
   },
   "outputs": [
    {
     "data": {
      "image/png": "[encoded data removed]",
      "text/plain": [
       "<Figure size 640x480 with 1 Axes>"
      ]
     },
     "metadata": {},
     "output_type": "display_data"
    }
   ],
   "source": [
    "def show_values(axs, orient=\"v\", space=.01):\n",
    "    def _single(ax):\n",
    "        if orient == \"v\":\n",
    "            for p in ax.patches:\n",
    "                _x = p.get_x() + p.get_width() / 2\n",
    "                _y = p.get_y() + p.get_height() + (p.get_height() * 0.01)\n",
    "                value = '{:d}'.format(int(p.get_height()))\n",
    "                ax.text(_x, _y, value, ha=\"center\")\n",
    "        elif orient == \"h\":\n",
    "            for p in ax.patches:\n",
    "                _x = p.get_x() + p.get_width() + float(space)\n",
    "                _y = p.get_y() + p.get_height() - (p.get_height() * 0.5)\n",
    "                value = '{:d}'.format(int(p.get_width()))\n",
    "                ax.text(_x, _y, value, ha=\"left\")\n",
    "\n",
    "    if isinstance(axs, np.ndarray):\n",
    "        for idx, ax in np.ndenumerate(axs):\n",
    "            _single(ax)\n",
    "    else:\n",
    "        _single(axs)\n",
    "\n",
    "\n",
    "stat_df_long = (\n",
    "    stat_df\n",
    "    .melt(id_vars=\"등급\", value_vars=[\"3년 표준편차\", \"1년 표준편차\", \"3년 VaR\"], var_name=\"기준\") \\\n",
    "    .rename(columns={\"index\": \"등급\"})\n",
    ")\n",
    "axis = sns.barplot(x=\"등급\", y=\"value\", hue=\"기준\", data=stat_df_long)\n",
    "axis.set_title(f\"{type_name} 펀드 위험등급 분포\")\n",
    "show_values(axis)"
   ]
  },
  {
   "cell_type": "markdown",
   "id": "1f9227c4-c788-429d-b8d4-fc278ba29d24",
   "metadata": {},
   "source": [
    "## 통계 결과 출력"
   ]
  },
  {
   "cell_type": "code",
   "execution_count": 21,
   "id": "68fbd533-f46e-4cd6-9c35-28c3ae50830d",
   "metadata": {
    "execution": {
     "iopub.execute_input": "2022-12-16T08:21:13.087610Z",
     "iopub.status.busy": "2022-12-16T08:21:13.086609Z",
     "iopub.status.idle": "2022-12-16T08:21:13.100612Z",
     "shell.execute_reply": "2022-12-16T08:21:13.099729Z"
    }
   },
   "outputs": [],
   "source": [
    "os.makedirs('result', exist_ok=True)\n",
    "stat_df.to_csv(f'result/STATISTICS_{type_no}_{type_name}.csv', index=False)"
   ]
  }
 ],
 "metadata": {
  "kernelspec": {
   "display_name": "Python 3 (ipykernel)",
   "language": "python",
   "name": "python3"
  },
  "language_info": {
   "codemirror_mode": {
    "name": "ipython",
    "version": 3
   },
   "file_extension": ".py",
   "mimetype": "text/x-python",
   "name": "python",
   "nbconvert_exporter": "python",
   "pygments_lexer": "ipython3",
   "version": "3.9.13"
  },
  "toc-autonumbering": true,
  "toc-showcode": false,
  "toc-showmarkdowntxt": false
 },
 "nbformat": 4,
 "nbformat_minor": 5
}
