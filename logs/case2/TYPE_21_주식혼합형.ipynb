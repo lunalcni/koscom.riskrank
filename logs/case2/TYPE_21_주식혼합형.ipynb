{
 "cells": [
  {
   "cell_type": "markdown",
   "id": "2dd67b7b-b151-49b1-955e-dd7627677a4e",
   "metadata": {},
   "source": [
    "# 펀드 위험등급 산출"
   ]
  },
  {
   "cell_type": "markdown",
   "id": "b3e20237-dc40-4627-a953-52539fea6148",
   "metadata": {},
   "source": [
    "## 패키지 로드"
   ]
  },
  {
   "cell_type": "code",
   "execution_count": 1,
   "id": "103faeb9-9c7b-46f1-8ddb-e8e438626b60",
   "metadata": {
    "execution": {
     "iopub.execute_input": "2022-12-16T08:49:13.401991Z",
     "iopub.status.busy": "2022-12-16T08:49:13.400993Z",
     "iopub.status.idle": "2022-12-16T08:49:13.955813Z",
     "shell.execute_reply": "2022-12-16T08:49:13.955003Z"
    }
   },
   "outputs": [],
   "source": [
    "%matplotlib inline"
   ]
  },
  {
   "cell_type": "code",
   "execution_count": 2,
   "id": "2ead0865-2adf-4384-9e33-e05ad2246056",
   "metadata": {
    "execution": {
     "iopub.execute_input": "2022-12-16T08:49:13.960804Z",
     "iopub.status.busy": "2022-12-16T08:49:13.958806Z",
     "iopub.status.idle": "2022-12-16T08:49:14.552108Z",
     "shell.execute_reply": "2022-12-16T08:49:14.551226Z"
    }
   },
   "outputs": [],
   "source": [
    "import functools\n",
    "import os\n",
    "import re\n",
    "from pathlib import Path\n",
    "\n",
    "import matplotlib.pyplot as plt\n",
    "import numpy as np\n",
    "import pandas as pd\n",
    "import seaborn as sns\n",
    "from tqdm import trange"
   ]
  },
  {
   "cell_type": "code",
   "execution_count": 3,
   "id": "81e8ed4d",
   "metadata": {
    "collapsed": false,
    "execution": {
     "iopub.execute_input": "2022-12-16T08:49:14.556103Z",
     "iopub.status.busy": "2022-12-16T08:49:14.555102Z",
     "iopub.status.idle": "2022-12-16T08:49:14.568106Z",
     "shell.execute_reply": "2022-12-16T08:49:14.567228Z"
    }
   },
   "outputs": [],
   "source": [
    "plt.rc('font', family='Malgun Gothic')  # For Windows"
   ]
  },
  {
   "cell_type": "markdown",
   "id": "1f3f5096",
   "metadata": {
    "collapsed": false
   },
   "source": [
    "## 변수 정의"
   ]
  },
  {
   "cell_type": "code",
   "execution_count": 4,
   "id": "82200364",
   "metadata": {
    "collapsed": false,
    "execution": {
     "iopub.execute_input": "2022-12-16T08:49:14.571132Z",
     "iopub.status.busy": "2022-12-16T08:49:14.571132Z",
     "iopub.status.idle": "2022-12-16T08:49:14.584106Z",
     "shell.execute_reply": "2022-12-16T08:49:14.583223Z"
    }
   },
   "outputs": [
    {
     "name": "stdout",
     "output_type": "stream",
     "text": [
      "TEST_PROCESS=False, VALIDATE_PROCESS=False, DATA_FILEPATH='data\\\\TYPE_21_주식혼합형.csv', BINS=[0, 0.005, 0.1, 0.3, 0.5, 0.7, inf]\n"
     ]
    }
   ],
   "source": [
    "TEST_PROCESS = eval(os.environ.get('TEST_PROCESS', 'True'))\n",
    "VALIDATE_PROCESS = eval(os.environ.get('VALIDATE_PROCESS', 'True'))\n",
    "DATA_FILEPATH = os.environ.get('DATA_FILEPATH', './data/TYPE_10_채권형.csv')\n",
    "BINS = eval(os.environ.get('BINS', '[0, 0.005, 0.05, 0.10, 0.15, 0.25, float(\"inf\")]'))\n",
    "\n",
    "print(f'{TEST_PROCESS=}, {VALIDATE_PROCESS=}, {DATA_FILEPATH=}, {BINS=}')"
   ]
  },
  {
   "cell_type": "markdown",
   "id": "2399e079",
   "metadata": {
    "collapsed": false
   },
   "source": [
    "## 타입 추출"
   ]
  },
  {
   "cell_type": "code",
   "execution_count": 5,
   "id": "9613fca5-40ff-41c8-a061-d9c23223c365",
   "metadata": {
    "execution": {
     "iopub.execute_input": "2022-12-16T08:49:14.587103Z",
     "iopub.status.busy": "2022-12-16T08:49:14.587103Z",
     "iopub.status.idle": "2022-12-16T08:49:14.600103Z",
     "shell.execute_reply": "2022-12-16T08:49:14.599210Z"
    }
   },
   "outputs": [
    {
     "data": {
      "text/plain": [
       "('21', '주식혼합형')"
      ]
     },
     "execution_count": 5,
     "metadata": {},
     "output_type": "execute_result"
    }
   ],
   "source": [
    "filepath = Path(DATA_FILEPATH)\n",
    "filename_pattern = re.compile(r'TYPE_([0-9]+)_([^_]+)\\.csv')\n",
    "\n",
    "match_rst = re.fullmatch(filename_pattern, filepath.name)\n",
    "type_no, type_name = match_rst.groups()\n",
    "\n",
    "type_no, type_name"
   ]
  },
  {
   "cell_type": "markdown",
   "id": "3a02a33b-ddc6-446a-88c3-37887ffe4768",
   "metadata": {},
   "source": [
    "## 데이터 로드"
   ]
  },
  {
   "cell_type": "code",
   "execution_count": 6,
   "id": "a4260092-7f8c-48a7-a523-7b72bc350181",
   "metadata": {
    "execution": {
     "iopub.execute_input": "2022-12-16T08:49:14.603137Z",
     "iopub.status.busy": "2022-12-16T08:49:14.603137Z",
     "iopub.status.idle": "2022-12-16T08:49:15.406618Z",
     "shell.execute_reply": "2022-12-16T08:49:15.405608Z"
    }
   },
   "outputs": [
    {
     "name": "stdout",
     "output_type": "stream",
     "text": [
      "len(codes)=834\n"
     ]
    }
   ],
   "source": [
    "lists_wo_idx_df = pd.read_csv(filepath, names=[\"date\", \"code\", \"nav\"], usecols=[0, 1, 2], parse_dates=[0])\n",
    "lists_df = lists_wo_idx_df.set_index(['code', 'date'])\n",
    "\n",
    "codes = lists_df.index.get_level_values('code').unique()\n",
    "print(f\"{len(codes)=}\")"
   ]
  },
  {
   "cell_type": "markdown",
   "id": "8d9d18ea",
   "metadata": {
    "collapsed": false
   },
   "source": [
    "## 수치 산출 테스트\n",
    "\n",
    "1년을 기준으로 프로세스 정의"
   ]
  },
  {
   "cell_type": "markdown",
   "id": "6b159243",
   "metadata": {
    "collapsed": false
   },
   "source": [
    "### 기간 조건 적용"
   ]
  },
  {
   "cell_type": "code",
   "execution_count": 7,
   "id": "679dc0f5",
   "metadata": {
    "collapsed": false,
    "execution": {
     "iopub.execute_input": "2022-12-16T08:49:15.409646Z",
     "iopub.status.busy": "2022-12-16T08:49:15.409646Z",
     "iopub.status.idle": "2022-12-16T08:49:15.421949Z",
     "shell.execute_reply": "2022-12-16T08:49:15.421000Z"
    }
   },
   "outputs": [],
   "source": [
    "if TEST_PROCESS:\n",
    "    lists_1y_df = pd.concat([\n",
    "        lists_df.xs(code).last('1y').assign(code=code)\n",
    "        for code in codes])\n",
    "    lists_1y_df.reset_index(inplace=True)\n",
    "    display(lists_1y_df)"
   ]
  },
  {
   "cell_type": "markdown",
   "id": "45d5cae3",
   "metadata": {
    "collapsed": false
   },
   "source": [
    "### 리샘플링, 퍼센트 체인지 추출"
   ]
  },
  {
   "cell_type": "code",
   "execution_count": 8,
   "id": "9bc58d2f",
   "metadata": {
    "collapsed": false,
    "execution": {
     "iopub.execute_input": "2022-12-16T08:49:15.424959Z",
     "iopub.status.busy": "2022-12-16T08:49:15.424959Z",
     "iopub.status.idle": "2022-12-16T08:49:15.437961Z",
     "shell.execute_reply": "2022-12-16T08:49:15.437147Z"
    }
   },
   "outputs": [],
   "source": [
    "if TEST_PROCESS:\n",
    "    lists_1y_wk_df = lists_1y_df.set_index(['date']).groupby(['code'])[['nav']].resample('W').last()\n",
    "    lists_1y_wk_df = lists_1y_wk_df.assign(ret=lists_1y_wk_df.groupby(['code'])[['nav']].pct_change())\n",
    "    display(lists_1y_wk_df)"
   ]
  },
  {
   "cell_type": "markdown",
   "id": "6303f4b6",
   "metadata": {
    "collapsed": false
   },
   "source": [
    "### 표준편차 산출"
   ]
  },
  {
   "cell_type": "code",
   "execution_count": 9,
   "id": "48444ae3",
   "metadata": {
    "collapsed": false,
    "execution": {
     "iopub.execute_input": "2022-12-16T08:49:15.440989Z",
     "iopub.status.busy": "2022-12-16T08:49:15.440989Z",
     "iopub.status.idle": "2022-12-16T08:49:15.453960Z",
     "shell.execute_reply": "2022-12-16T08:49:15.453133Z"
    }
   },
   "outputs": [],
   "source": [
    "if TEST_PROCESS:\n",
    "    lists_1y_std_df = lists_1y_wk_df.groupby(['code'])[['ret']].std(numeric_only=True) * np.sqrt(52)\n",
    "    lists_1y_std_df.reset_index(inplace=True)\n",
    "    lists_1y_std_df.rename(columns={'ret': 'std_1y'}, inplace=True)\n",
    "    display(lists_1y_std_df)"
   ]
  },
  {
   "cell_type": "markdown",
   "id": "290e4af2",
   "metadata": {
    "collapsed": false
   },
   "source": [
    "### VaR 산출"
   ]
  },
  {
   "cell_type": "code",
   "execution_count": 10,
   "id": "2efd7f64",
   "metadata": {
    "collapsed": false,
    "execution": {
     "iopub.execute_input": "2022-12-16T08:49:15.456947Z",
     "iopub.status.busy": "2022-12-16T08:49:15.456947Z",
     "iopub.status.idle": "2022-12-16T08:49:15.469134Z",
     "shell.execute_reply": "2022-12-16T08:49:15.468322Z"
    }
   },
   "outputs": [],
   "source": [
    "if TEST_PROCESS:\n",
    "    lists_1y_var_df = lists_1y_wk_df.groupby(['code'])[['ret']].quantile(0.025, numeric_only=True)\n",
    "    lists_1y_var_df = np.minimum(lists_1y_var_df, 0) * -1 * np.sqrt(52)\n",
    "    lists_1y_var_df.rename(columns={'ret': 'var_1y'}, inplace=True)\n",
    "    display(lists_1y_var_df)"
   ]
  },
  {
   "cell_type": "markdown",
   "id": "ff65c0c7",
   "metadata": {
    "collapsed": false
   },
   "source": [
    "## 수치 산출 프로세스 정의"
   ]
  },
  {
   "cell_type": "code",
   "execution_count": 11,
   "id": "1c3fab3f",
   "metadata": {
    "collapsed": false,
    "execution": {
     "iopub.execute_input": "2022-12-16T08:49:15.472164Z",
     "iopub.status.busy": "2022-12-16T08:49:15.472164Z",
     "iopub.status.idle": "2022-12-16T08:49:15.485331Z",
     "shell.execute_reply": "2022-12-16T08:49:15.484509Z"
    }
   },
   "outputs": [],
   "source": [
    "offsets = ['1y', '3y']"
   ]
  },
  {
   "cell_type": "code",
   "execution_count": 12,
   "id": "9fb6c80f",
   "metadata": {
    "collapsed": false,
    "execution": {
     "iopub.execute_input": "2022-12-16T08:49:15.488330Z",
     "iopub.status.busy": "2022-12-16T08:49:15.488330Z",
     "iopub.status.idle": "2022-12-16T08:49:20.597158Z",
     "shell.execute_reply": "2022-12-16T08:49:20.596280Z"
    }
   },
   "outputs": [
    {
     "name": "stdout",
     "output_type": "stream",
     "text": [
      "CPU times: total: 5.08 s\n",
      "Wall time: 5.09 s\n"
     ]
    },
    {
     "data": {
      "text/html": [
       "<div>\n",
       "<style scoped>\n",
       "    .dataframe tbody tr th:only-of-type {\n",
       "        vertical-align: middle;\n",
       "    }\n",
       "\n",
       "    .dataframe tbody tr th {\n",
       "        vertical-align: top;\n",
       "    }\n",
       "\n",
       "    .dataframe thead th {\n",
       "        text-align: right;\n",
       "    }\n",
       "</style>\n",
       "<table border=\"1\" class=\"dataframe\">\n",
       "  <thead>\n",
       "    <tr style=\"text-align: right;\">\n",
       "      <th></th>\n",
       "      <th>std_1y</th>\n",
       "      <th>var_1y</th>\n",
       "      <th>std_3y</th>\n",
       "      <th>var_3y</th>\n",
       "    </tr>\n",
       "    <tr>\n",
       "      <th>code</th>\n",
       "      <th></th>\n",
       "      <th></th>\n",
       "      <th></th>\n",
       "      <th></th>\n",
       "    </tr>\n",
       "  </thead>\n",
       "  <tbody>\n",
       "    <tr>\n",
       "      <th>K55101D21336</th>\n",
       "      <td>0.171602</td>\n",
       "      <td>0.097861</td>\n",
       "      <td>0.171602</td>\n",
       "      <td>0.097861</td>\n",
       "    </tr>\n",
       "    <tr>\n",
       "      <th>K55101DN0982</th>\n",
       "      <td>0.083296</td>\n",
       "      <td>0.180790</td>\n",
       "      <td>0.074298</td>\n",
       "      <td>0.168477</td>\n",
       "    </tr>\n",
       "    <tr>\n",
       "      <th>K55102BJ9543</th>\n",
       "      <td>0.134864</td>\n",
       "      <td>0.328088</td>\n",
       "      <td>0.150511</td>\n",
       "      <td>0.321600</td>\n",
       "    </tr>\n",
       "    <tr>\n",
       "      <th>K55102C60433</th>\n",
       "      <td>0.163488</td>\n",
       "      <td>0.436308</td>\n",
       "      <td>0.183905</td>\n",
       "      <td>0.338322</td>\n",
       "    </tr>\n",
       "    <tr>\n",
       "      <th>K55102C60441</th>\n",
       "      <td>0.163429</td>\n",
       "      <td>0.439235</td>\n",
       "      <td>0.184148</td>\n",
       "      <td>0.340435</td>\n",
       "    </tr>\n",
       "    <tr>\n",
       "      <th>...</th>\n",
       "      <td>...</td>\n",
       "      <td>...</td>\n",
       "      <td>...</td>\n",
       "      <td>...</td>\n",
       "    </tr>\n",
       "    <tr>\n",
       "      <th>KRM302AP1270</th>\n",
       "      <td>0.125287</td>\n",
       "      <td>0.297911</td>\n",
       "      <td>0.210278</td>\n",
       "      <td>0.321256</td>\n",
       "    </tr>\n",
       "    <tr>\n",
       "      <th>KRM306317160</th>\n",
       "      <td>0.259323</td>\n",
       "      <td>0.692263</td>\n",
       "      <td>0.296835</td>\n",
       "      <td>0.716544</td>\n",
       "    </tr>\n",
       "    <tr>\n",
       "      <th>KRM306662813</th>\n",
       "      <td>0.251121</td>\n",
       "      <td>0.672721</td>\n",
       "      <td>0.282580</td>\n",
       "      <td>0.695448</td>\n",
       "    </tr>\n",
       "    <tr>\n",
       "      <th>KRM306797718</th>\n",
       "      <td>0.251008</td>\n",
       "      <td>0.671434</td>\n",
       "      <td>0.284007</td>\n",
       "      <td>0.694158</td>\n",
       "    </tr>\n",
       "    <tr>\n",
       "      <th>KRM306797726</th>\n",
       "      <td>0.251785</td>\n",
       "      <td>0.669288</td>\n",
       "      <td>0.285822</td>\n",
       "      <td>0.692073</td>\n",
       "    </tr>\n",
       "  </tbody>\n",
       "</table>\n",
       "<p>834 rows × 4 columns</p>\n",
       "</div>"
      ],
      "text/plain": [
       "                std_1y    var_1y    std_3y    var_3y\n",
       "code                                                \n",
       "K55101D21336  0.171602  0.097861  0.171602  0.097861\n",
       "K55101DN0982  0.083296  0.180790  0.074298  0.168477\n",
       "K55102BJ9543  0.134864  0.328088  0.150511  0.321600\n",
       "K55102C60433  0.163488  0.436308  0.183905  0.338322\n",
       "K55102C60441  0.163429  0.439235  0.184148  0.340435\n",
       "...                ...       ...       ...       ...\n",
       "KRM302AP1270  0.125287  0.297911  0.210278  0.321256\n",
       "KRM306317160  0.259323  0.692263  0.296835  0.716544\n",
       "KRM306662813  0.251121  0.672721  0.282580  0.695448\n",
       "KRM306797718  0.251008  0.671434  0.284007  0.694158\n",
       "KRM306797726  0.251785  0.669288  0.285822  0.692073\n",
       "\n",
       "[834 rows x 4 columns]"
      ]
     },
     "execution_count": 12,
     "metadata": {},
     "output_type": "execute_result"
    }
   ],
   "source": [
    "%%time\n",
    "\n",
    "lists_rst_dfs = []\n",
    "\n",
    "for offset in offsets:\n",
    "    lists_off_df = pd.concat([\n",
    "        lists_df.xs(code).last(offset).assign(code=code)\n",
    "        for code in codes])\n",
    "    lists_off_df.reset_index(inplace=True)\n",
    "\n",
    "    lists_off_wk_df = lists_off_df.set_index(['date']).groupby(['code'])[['nav']].resample('W').last()\n",
    "    lists_off_wk_df = lists_off_wk_df.assign(ret=lists_off_wk_df.groupby(['code'])[['nav']].pct_change())\n",
    "\n",
    "    lists_off_std_df = lists_off_wk_df.groupby(['code'])[['ret']].std(numeric_only=True) * np.sqrt(52)\n",
    "    lists_off_std_df.rename(columns={'ret': f'std_{offset}'}, inplace=True)\n",
    "\n",
    "    lists_off_var_df = lists_off_wk_df.groupby(['code'])[['ret']].quantile(0.025, numeric_only=True)\n",
    "    lists_off_var_df = np.minimum(lists_off_var_df, 0) * -1 * np.sqrt(52)\n",
    "    lists_off_var_df.rename(columns={'ret': f'var_{offset}'}, inplace=True)\n",
    "\n",
    "    lists_rst_dfs.append(lists_off_std_df)\n",
    "    lists_rst_dfs.append(lists_off_var_df)\n",
    "\n",
    "lists_rst_df = pd.concat(lists_rst_dfs, axis='columns')\n",
    "lists_rst_df"
   ]
  },
  {
   "cell_type": "markdown",
   "id": "6c2c154e",
   "metadata": {
    "collapsed": false
   },
   "source": [
    "### 프로세스 테스트"
   ]
  },
  {
   "cell_type": "code",
   "execution_count": 13,
   "id": "a6cc3475-204e-417d-ac8f-67c33c944c4e",
   "metadata": {
    "execution": {
     "iopub.execute_input": "2022-12-16T08:49:20.601157Z",
     "iopub.status.busy": "2022-12-16T08:49:20.600155Z",
     "iopub.status.idle": "2022-12-16T08:49:20.613159Z",
     "shell.execute_reply": "2022-12-16T08:49:20.612192Z"
    }
   },
   "outputs": [
    {
     "name": "stdout",
     "output_type": "stream",
     "text": [
      "CPU times: total: 0 ns\n",
      "Wall time: 0 ns\n"
     ]
    }
   ],
   "source": [
    "%%time\n",
    "\n",
    "def calc_std_y(code):\n",
    "    df = lists_wo_idx_df[lists_wo_idx_df['code'] == code][[\"date\", \"nav\"]]\n",
    "    df = df.sort_values(by=\"date\")\n",
    "    df = df.set_index(\"date\")\n",
    "\n",
    "    df_1y = df.last(\"1Y\")\n",
    "    df_1y_w = df_1y.resample(\"W\").last()\n",
    "\n",
    "    df_3y = df.last(\"3Y\")\n",
    "    df_3y_w = df_3y.resample(\"W\").last()\n",
    "\n",
    "    df_3y_w[\"ret\"] = df_3y_w[\"nav\"].pct_change()\n",
    "    df_3y_w = df_3y_w.iloc[1:]\n",
    "    std_3y = df_3y_w[\"ret\"].std() * np.sqrt(52)\n",
    "\n",
    "    df_1y_w[\"ret\"] = df_1y_w[\"nav\"].pct_change()\n",
    "    df_1y_w = df_1y_w.iloc[1:]\n",
    "    std_1y = df_1y_w[\"ret\"].std() * np.sqrt(52)\n",
    "\n",
    "    var_3y = -np.minimum(df_3y_w[\"ret\"].quantile(0.025), 0) * np.sqrt(52)\n",
    "\n",
    "    return std_3y, std_1y, var_3y\n",
    "\n",
    "if VALIDATE_PROCESS:\n",
    "    list_std_y = []\n",
    "    for i in trange(len(codes)):\n",
    "        code = codes[i]\n",
    "        list_std_y.append(calc_std_y(code))"
   ]
  },
  {
   "cell_type": "code",
   "execution_count": 14,
   "id": "a47ca9c0",
   "metadata": {
    "collapsed": false,
    "execution": {
     "iopub.execute_input": "2022-12-16T08:49:20.616187Z",
     "iopub.status.busy": "2022-12-16T08:49:20.615185Z",
     "iopub.status.idle": "2022-12-16T08:49:20.628627Z",
     "shell.execute_reply": "2022-12-16T08:49:20.627613Z"
    }
   },
   "outputs": [],
   "source": [
    "if VALIDATE_PROCESS:\n",
    "    for code_idx, code in enumerate(codes):\n",
    "        for old_idx, new_name in [(0, 'std_3y'), (1, 'std_1y'), (2, 'var_3y')]:\n",
    "            old_rst = list_std_y[code_idx][old_idx]\n",
    "            new_rst = lists_rst_df.xs(code).xs(new_name)\n",
    "            if not np.isclose(old_rst, new_rst, equal_nan=True):\n",
    "                print(f\"{code=}, {old_rst=}, {new_rst=}, {np.isclose(old_rst, new_rst, equal_nan=True)=}\")"
   ]
  },
  {
   "cell_type": "markdown",
   "id": "79fded95",
   "metadata": {
    "collapsed": false
   },
   "source": [
    "## 등급 변환"
   ]
  },
  {
   "cell_type": "code",
   "execution_count": 15,
   "id": "6f6d2244",
   "metadata": {
    "collapsed": false,
    "execution": {
     "iopub.execute_input": "2022-12-16T08:49:20.631652Z",
     "iopub.status.busy": "2022-12-16T08:49:20.631652Z",
     "iopub.status.idle": "2022-12-16T08:49:20.660622Z",
     "shell.execute_reply": "2022-12-16T08:49:20.658771Z"
    }
   },
   "outputs": [
    {
     "data": {
      "text/html": [
       "<div>\n",
       "<style scoped>\n",
       "    .dataframe tbody tr th:only-of-type {\n",
       "        vertical-align: middle;\n",
       "    }\n",
       "\n",
       "    .dataframe tbody tr th {\n",
       "        vertical-align: top;\n",
       "    }\n",
       "\n",
       "    .dataframe thead th {\n",
       "        text-align: right;\n",
       "    }\n",
       "</style>\n",
       "<table border=\"1\" class=\"dataframe\">\n",
       "  <thead>\n",
       "    <tr style=\"text-align: right;\">\n",
       "      <th></th>\n",
       "      <th>code</th>\n",
       "      <th>std_1y</th>\n",
       "      <th>var_1y</th>\n",
       "      <th>std_3y</th>\n",
       "      <th>var_3y</th>\n",
       "      <th>risk_std_1y</th>\n",
       "      <th>risk_std_3y</th>\n",
       "      <th>risk_var_3y</th>\n",
       "    </tr>\n",
       "  </thead>\n",
       "  <tbody>\n",
       "    <tr>\n",
       "      <th>0</th>\n",
       "      <td>K55101D21336</td>\n",
       "      <td>0.171602</td>\n",
       "      <td>0.097861</td>\n",
       "      <td>0.171602</td>\n",
       "      <td>0.097861</td>\n",
       "      <td>4등급</td>\n",
       "      <td>4등급</td>\n",
       "      <td>5등급</td>\n",
       "    </tr>\n",
       "    <tr>\n",
       "      <th>1</th>\n",
       "      <td>K55101DN0982</td>\n",
       "      <td>0.083296</td>\n",
       "      <td>0.180790</td>\n",
       "      <td>0.074298</td>\n",
       "      <td>0.168477</td>\n",
       "      <td>5등급</td>\n",
       "      <td>5등급</td>\n",
       "      <td>4등급</td>\n",
       "    </tr>\n",
       "    <tr>\n",
       "      <th>2</th>\n",
       "      <td>K55102BJ9543</td>\n",
       "      <td>0.134864</td>\n",
       "      <td>0.328088</td>\n",
       "      <td>0.150511</td>\n",
       "      <td>0.321600</td>\n",
       "      <td>4등급</td>\n",
       "      <td>4등급</td>\n",
       "      <td>3등급</td>\n",
       "    </tr>\n",
       "    <tr>\n",
       "      <th>3</th>\n",
       "      <td>K55102C60433</td>\n",
       "      <td>0.163488</td>\n",
       "      <td>0.436308</td>\n",
       "      <td>0.183905</td>\n",
       "      <td>0.338322</td>\n",
       "      <td>4등급</td>\n",
       "      <td>4등급</td>\n",
       "      <td>3등급</td>\n",
       "    </tr>\n",
       "    <tr>\n",
       "      <th>4</th>\n",
       "      <td>K55102C60441</td>\n",
       "      <td>0.163429</td>\n",
       "      <td>0.439235</td>\n",
       "      <td>0.184148</td>\n",
       "      <td>0.340435</td>\n",
       "      <td>4등급</td>\n",
       "      <td>4등급</td>\n",
       "      <td>3등급</td>\n",
       "    </tr>\n",
       "    <tr>\n",
       "      <th>...</th>\n",
       "      <td>...</td>\n",
       "      <td>...</td>\n",
       "      <td>...</td>\n",
       "      <td>...</td>\n",
       "      <td>...</td>\n",
       "      <td>...</td>\n",
       "      <td>...</td>\n",
       "      <td>...</td>\n",
       "    </tr>\n",
       "    <tr>\n",
       "      <th>822</th>\n",
       "      <td>KRM302AP1270</td>\n",
       "      <td>0.125287</td>\n",
       "      <td>0.297911</td>\n",
       "      <td>0.210278</td>\n",
       "      <td>0.321256</td>\n",
       "      <td>4등급</td>\n",
       "      <td>4등급</td>\n",
       "      <td>3등급</td>\n",
       "    </tr>\n",
       "    <tr>\n",
       "      <th>823</th>\n",
       "      <td>KRM306317160</td>\n",
       "      <td>0.259323</td>\n",
       "      <td>0.692263</td>\n",
       "      <td>0.296835</td>\n",
       "      <td>0.716544</td>\n",
       "      <td>4등급</td>\n",
       "      <td>4등급</td>\n",
       "      <td>1등급</td>\n",
       "    </tr>\n",
       "    <tr>\n",
       "      <th>824</th>\n",
       "      <td>KRM306662813</td>\n",
       "      <td>0.251121</td>\n",
       "      <td>0.672721</td>\n",
       "      <td>0.282580</td>\n",
       "      <td>0.695448</td>\n",
       "      <td>4등급</td>\n",
       "      <td>4등급</td>\n",
       "      <td>2등급</td>\n",
       "    </tr>\n",
       "    <tr>\n",
       "      <th>825</th>\n",
       "      <td>KRM306797718</td>\n",
       "      <td>0.251008</td>\n",
       "      <td>0.671434</td>\n",
       "      <td>0.284007</td>\n",
       "      <td>0.694158</td>\n",
       "      <td>4등급</td>\n",
       "      <td>4등급</td>\n",
       "      <td>2등급</td>\n",
       "    </tr>\n",
       "    <tr>\n",
       "      <th>826</th>\n",
       "      <td>KRM306797726</td>\n",
       "      <td>0.251785</td>\n",
       "      <td>0.669288</td>\n",
       "      <td>0.285822</td>\n",
       "      <td>0.692073</td>\n",
       "      <td>4등급</td>\n",
       "      <td>4등급</td>\n",
       "      <td>2등급</td>\n",
       "    </tr>\n",
       "  </tbody>\n",
       "</table>\n",
       "<p>827 rows × 8 columns</p>\n",
       "</div>"
      ],
      "text/plain": [
       "             code    std_1y    var_1y    std_3y    var_3y risk_std_1y  \\\n",
       "0    K55101D21336  0.171602  0.097861  0.171602  0.097861         4등급   \n",
       "1    K55101DN0982  0.083296  0.180790  0.074298  0.168477         5등급   \n",
       "2    K55102BJ9543  0.134864  0.328088  0.150511  0.321600         4등급   \n",
       "3    K55102C60433  0.163488  0.436308  0.183905  0.338322         4등급   \n",
       "4    K55102C60441  0.163429  0.439235  0.184148  0.340435         4등급   \n",
       "..            ...       ...       ...       ...       ...         ...   \n",
       "822  KRM302AP1270  0.125287  0.297911  0.210278  0.321256         4등급   \n",
       "823  KRM306317160  0.259323  0.692263  0.296835  0.716544         4등급   \n",
       "824  KRM306662813  0.251121  0.672721  0.282580  0.695448         4등급   \n",
       "825  KRM306797718  0.251008  0.671434  0.284007  0.694158         4등급   \n",
       "826  KRM306797726  0.251785  0.669288  0.285822  0.692073         4등급   \n",
       "\n",
       "    risk_std_3y risk_var_3y  \n",
       "0           4등급         5등급  \n",
       "1           5등급         4등급  \n",
       "2           4등급         3등급  \n",
       "3           4등급         3등급  \n",
       "4           4등급         3등급  \n",
       "..          ...         ...  \n",
       "822         4등급         3등급  \n",
       "823         4등급         1등급  \n",
       "824         4등급         2등급  \n",
       "825         4등급         2등급  \n",
       "826         4등급         2등급  \n",
       "\n",
       "[827 rows x 8 columns]"
      ]
     },
     "execution_count": 15,
     "metadata": {},
     "output_type": "execute_result"
    }
   ],
   "source": [
    "labels = [\"6등급\", \"5등급\", \"4등급\", \"3등급\", \"2등급\", \"1등급\"]\n",
    "cut_fn = functools.partial(pd.cut, bins=BINS, labels=labels)\n",
    "\n",
    "lists_lb_df = lists_rst_df.assign(\n",
    "    risk_std_1y=cut_fn(lists_rst_df['std_1y']),\n",
    "    risk_std_3y=cut_fn(lists_rst_df['std_3y']),\n",
    "    # risk_var_1y=cut_fn(lists_rst_df['var_1y']),\n",
    "    risk_var_3y=cut_fn(lists_rst_df['var_3y']))\n",
    "lists_lb_df.dropna(inplace=True)\n",
    "lists_lb_df.reset_index(inplace=True)\n",
    "\n",
    "lists_lb_df"
   ]
  },
  {
   "cell_type": "markdown",
   "id": "a0bc4fd0",
   "metadata": {
    "collapsed": false
   },
   "source": [
    "#### 프로세스 테스트"
   ]
  },
  {
   "cell_type": "code",
   "execution_count": 16,
   "id": "e0aa081c-7f0d-4f1b-ae74-00a27747aaa5",
   "metadata": {
    "execution": {
     "iopub.execute_input": "2022-12-16T08:49:20.674627Z",
     "iopub.status.busy": "2022-12-16T08:49:20.674627Z",
     "iopub.status.idle": "2022-12-16T08:49:20.692067Z",
     "shell.execute_reply": "2022-12-16T08:49:20.690265Z"
    }
   },
   "outputs": [],
   "source": [
    "if VALIDATE_PROCESS:\n",
    "    list_std_3y, list_std_1y, list_var_3y = zip(*list_std_y)\n",
    "\n",
    "    df_result = pd.DataFrame({\n",
    "        \"code\": codes,\n",
    "        \"std_3y\": list_std_3y,\n",
    "        \"std_1y\": list_std_1y,\n",
    "        \"var_3y\": list_var_3y,\n",
    "    })\n",
    "\n",
    "    bins = [0, 0.005, 0.05, 0.10, 0.15, 0.25, float(\"inf\")]\n",
    "    labels = [\"6등급\", \"5등급\", \"4등급\", \"3등급\", \"2등급\", \"1등급\"]\n",
    "\n",
    "    df_result[\"risk_std_3y\"] = pd.cut(df_result.std_3y, bins=bins, labels=labels)\n",
    "    df_result[\"risk_std_1y\"] = pd.cut(df_result.std_1y, bins=bins, labels=labels)\n",
    "    df_result[\"risk_var_3y\"] = pd.cut(df_result.var_3y, bins=bins, labels=labels)\n",
    "\n",
    "    df_result = df_result.dropna()"
   ]
  },
  {
   "cell_type": "code",
   "execution_count": 17,
   "id": "c3e75562-b9ea-4c95-9a11-004be639146b",
   "metadata": {
    "execution": {
     "iopub.execute_input": "2022-12-16T08:49:20.696069Z",
     "iopub.status.busy": "2022-12-16T08:49:20.695077Z",
     "iopub.status.idle": "2022-12-16T08:49:20.707067Z",
     "shell.execute_reply": "2022-12-16T08:49:20.706068Z"
    }
   },
   "outputs": [],
   "source": [
    "if VALIDATE_PROCESS:\n",
    "    display(\n",
    "        (lists_lb_df[['code', 'risk_std_1y', 'risk_std_3y', 'risk_var_3y']].set_index(['code'])\n",
    "        == df_result[['code', 'risk_std_1y', 'risk_std_3y', 'risk_var_3y']].set_index(['code'])).all())"
   ]
  },
  {
   "cell_type": "markdown",
   "id": "7093a90e-9367-40e8-bb58-fc375b2c7f0d",
   "metadata": {},
   "source": [
    "## 등급 결과 출력"
   ]
  },
  {
   "cell_type": "code",
   "execution_count": 18,
   "id": "7d74f1a2-a5b2-4b5a-b1e4-7356deb7fb2c",
   "metadata": {
    "execution": {
     "iopub.execute_input": "2022-12-16T08:49:20.711070Z",
     "iopub.status.busy": "2022-12-16T08:49:20.710070Z",
     "iopub.status.idle": "2022-12-16T08:49:20.737077Z",
     "shell.execute_reply": "2022-12-16T08:49:20.736066Z"
    }
   },
   "outputs": [],
   "source": [
    "os.makedirs('result', exist_ok=True)\n",
    "lists_lb_df.to_csv(f'result/RESULT_{type_no}_{type_name}.csv', index=False)"
   ]
  },
  {
   "cell_type": "markdown",
   "id": "2ed08a3d-eb09-4f1f-83a5-987be9b9d584",
   "metadata": {},
   "source": [
    "## 시각화"
   ]
  },
  {
   "cell_type": "code",
   "execution_count": 19,
   "id": "a2981513-60e5-4604-8fee-235d898df378",
   "metadata": {
    "execution": {
     "iopub.execute_input": "2022-12-16T08:49:20.741074Z",
     "iopub.status.busy": "2022-12-16T08:49:20.741074Z",
     "iopub.status.idle": "2022-12-16T08:49:20.846068Z",
     "shell.execute_reply": "2022-12-16T08:49:20.845068Z"
    }
   },
   "outputs": [
    {
     "data": {
      "text/html": [
       "<style type=\"text/css\">\n",
       "#T_3f8cf_row0_col0, #T_3f8cf_row0_col1, #T_3f8cf_row5_col0, #T_3f8cf_row5_col2 {\n",
       "  background-color: #fff7fb;\n",
       "  color: #000000;\n",
       "}\n",
       "#T_3f8cf_row0_col2 {\n",
       "  background-color: #e8e4f0;\n",
       "  color: #000000;\n",
       "}\n",
       "#T_3f8cf_row1_col0 {\n",
       "  background-color: #fef6fb;\n",
       "  color: #000000;\n",
       "}\n",
       "#T_3f8cf_row1_col1 {\n",
       "  background-color: #fef6fa;\n",
       "  color: #000000;\n",
       "}\n",
       "#T_3f8cf_row1_col2 {\n",
       "  background-color: #dad9ea;\n",
       "  color: #000000;\n",
       "}\n",
       "#T_3f8cf_row2_col0 {\n",
       "  background-color: #f1ebf5;\n",
       "  color: #000000;\n",
       "}\n",
       "#T_3f8cf_row2_col1 {\n",
       "  background-color: #faf2f8;\n",
       "  color: #000000;\n",
       "}\n",
       "#T_3f8cf_row2_col2, #T_3f8cf_row3_col0, #T_3f8cf_row3_col1 {\n",
       "  background-color: #023858;\n",
       "  color: #f1f1f1;\n",
       "}\n",
       "#T_3f8cf_row3_col2 {\n",
       "  background-color: #056caa;\n",
       "  color: #f1f1f1;\n",
       "}\n",
       "#T_3f8cf_row4_col0 {\n",
       "  background-color: #ede7f2;\n",
       "  color: #000000;\n",
       "}\n",
       "#T_3f8cf_row4_col1 {\n",
       "  background-color: #cacee5;\n",
       "  color: #000000;\n",
       "}\n",
       "#T_3f8cf_row4_col2 {\n",
       "  background-color: #f8f1f8;\n",
       "  color: #000000;\n",
       "}\n",
       "#T_3f8cf_row5_col1 {\n",
       "  background-color: #fbf3f9;\n",
       "  color: #000000;\n",
       "}\n",
       "</style>\n",
       "<table id=\"T_3f8cf\">\n",
       "  <thead>\n",
       "    <tr>\n",
       "      <th class=\"blank level0\" >&nbsp;</th>\n",
       "      <th id=\"T_3f8cf_level0_col0\" class=\"col_heading level0 col0\" >3년 표준편차</th>\n",
       "      <th id=\"T_3f8cf_level0_col1\" class=\"col_heading level0 col1\" >1년 표준편차</th>\n",
       "      <th id=\"T_3f8cf_level0_col2\" class=\"col_heading level0 col2\" >3년 VaR</th>\n",
       "    </tr>\n",
       "    <tr>\n",
       "      <th class=\"index_name level0\" >등급</th>\n",
       "      <th class=\"blank col0\" >&nbsp;</th>\n",
       "      <th class=\"blank col1\" >&nbsp;</th>\n",
       "      <th class=\"blank col2\" >&nbsp;</th>\n",
       "    </tr>\n",
       "  </thead>\n",
       "  <tbody>\n",
       "    <tr>\n",
       "      <th id=\"T_3f8cf_level0_row0\" class=\"row_heading level0 row0\" >1등급</th>\n",
       "      <td id=\"T_3f8cf_row0_col0\" class=\"data row0 col0\" >0</td>\n",
       "      <td id=\"T_3f8cf_row0_col1\" class=\"data row0 col1\" >3</td>\n",
       "      <td id=\"T_3f8cf_row0_col2\" class=\"data row0 col2\" >55</td>\n",
       "    </tr>\n",
       "    <tr>\n",
       "      <th id=\"T_3f8cf_level0_row1\" class=\"row_heading level0 row1\" >2등급</th>\n",
       "      <td id=\"T_3f8cf_row1_col0\" class=\"data row1 col0\" >5</td>\n",
       "      <td id=\"T_3f8cf_row1_col1\" class=\"data row1 col1\" >9</td>\n",
       "      <td id=\"T_3f8cf_row1_col2\" class=\"data row1 col2\" >78</td>\n",
       "    </tr>\n",
       "    <tr>\n",
       "      <th id=\"T_3f8cf_level0_row2\" class=\"row_heading level0 row2\" >3등급</th>\n",
       "      <td id=\"T_3f8cf_row2_col0\" class=\"data row2 col0\" >62</td>\n",
       "      <td id=\"T_3f8cf_row2_col1\" class=\"data row2 col1\" >25</td>\n",
       "      <td id=\"T_3f8cf_row2_col2\" class=\"data row2 col2\" >381</td>\n",
       "    </tr>\n",
       "    <tr>\n",
       "      <th id=\"T_3f8cf_level0_row3\" class=\"row_heading level0 row3\" >4등급</th>\n",
       "      <td id=\"T_3f8cf_row3_col0\" class=\"data row3 col0\" >677</td>\n",
       "      <td id=\"T_3f8cf_row3_col1\" class=\"data row3 col1\" >606</td>\n",
       "      <td id=\"T_3f8cf_row3_col2\" class=\"data row3 col2\" >294</td>\n",
       "    </tr>\n",
       "    <tr>\n",
       "      <th id=\"T_3f8cf_level0_row4\" class=\"row_heading level0 row4\" >5등급</th>\n",
       "      <td id=\"T_3f8cf_row4_col0\" class=\"data row4 col0\" >83</td>\n",
       "      <td id=\"T_3f8cf_row4_col1\" class=\"data row4 col1\" >164</td>\n",
       "      <td id=\"T_3f8cf_row4_col2\" class=\"data row4 col2\" >19</td>\n",
       "    </tr>\n",
       "    <tr>\n",
       "      <th id=\"T_3f8cf_level0_row5\" class=\"row_heading level0 row5\" >6등급</th>\n",
       "      <td id=\"T_3f8cf_row5_col0\" class=\"data row5 col0\" >0</td>\n",
       "      <td id=\"T_3f8cf_row5_col1\" class=\"data row5 col1\" >20</td>\n",
       "      <td id=\"T_3f8cf_row5_col2\" class=\"data row5 col2\" >0</td>\n",
       "    </tr>\n",
       "  </tbody>\n",
       "</table>\n"
      ],
      "text/plain": [
       "<pandas.io.formats.style.Styler at 0x287d7bf69a0>"
      ]
     },
     "execution_count": 19,
     "metadata": {},
     "output_type": "execute_result"
    }
   ],
   "source": [
    "risk_std_3y_stat_df = lists_lb_df[\"risk_std_3y\"].value_counts().sort_index(ascending=False)\n",
    "risk_std_1y_stat_df = lists_lb_df[\"risk_std_1y\"].value_counts().sort_index(ascending=False)\n",
    "risk_var_3y_stat_df = lists_lb_df[\"risk_var_3y\"].value_counts().sort_index(ascending=False)\n",
    "stat_df = pd.concat([risk_std_3y_stat_df, risk_std_1y_stat_df, risk_var_3y_stat_df], axis=1)\n",
    "stat_df = stat_df.rename(columns={\"risk_std_3y\": \"3년 표준편차\", \"risk_std_1y\": \"1년 표준편차\", \"risk_var_3y\": \"3년 VaR\"})\n",
    "stat_df.reset_index(names=['등급'], inplace=True)\n",
    "\n",
    "stat_df.set_index('등급').style.background_gradient()"
   ]
  },
  {
   "cell_type": "code",
   "execution_count": 20,
   "id": "2ecfd0b2-0548-41e1-a6ed-9abd2da5b7c8",
   "metadata": {
    "execution": {
     "iopub.execute_input": "2022-12-16T08:49:20.850073Z",
     "iopub.status.busy": "2022-12-16T08:49:20.849069Z",
     "iopub.status.idle": "2022-12-16T08:49:21.228068Z",
     "shell.execute_reply": "2022-12-16T08:49:21.227089Z"
    }
   },
   "outputs": [
    {
     "data": {
      "image/png": "[encoded data removed]",
      "text/plain": [
       "<Figure size 640x480 with 1 Axes>"
      ]
     },
     "metadata": {},
     "output_type": "display_data"
    }
   ],
   "source": [
    "def show_values(axs, orient=\"v\", space=.01):\n",
    "    def _single(ax):\n",
    "        if orient == \"v\":\n",
    "            for p in ax.patches:\n",
    "                _x = p.get_x() + p.get_width() / 2\n",
    "                _y = p.get_y() + p.get_height() + (p.get_height() * 0.01)\n",
    "                value = '{:d}'.format(int(p.get_height()))\n",
    "                ax.text(_x, _y, value, ha=\"center\")\n",
    "        elif orient == \"h\":\n",
    "            for p in ax.patches:\n",
    "                _x = p.get_x() + p.get_width() + float(space)\n",
    "                _y = p.get_y() + p.get_height() - (p.get_height() * 0.5)\n",
    "                value = '{:d}'.format(int(p.get_width()))\n",
    "                ax.text(_x, _y, value, ha=\"left\")\n",
    "\n",
    "    if isinstance(axs, np.ndarray):\n",
    "        for idx, ax in np.ndenumerate(axs):\n",
    "            _single(ax)\n",
    "    else:\n",
    "        _single(axs)\n",
    "\n",
    "\n",
    "stat_df_long = (\n",
    "    stat_df\n",
    "    .melt(id_vars=\"등급\", value_vars=[\"3년 표준편차\", \"1년 표준편차\", \"3년 VaR\"], var_name=\"기준\") \\\n",
    "    .rename(columns={\"index\": \"등급\"})\n",
    ")\n",
    "axis = sns.barplot(x=\"등급\", y=\"value\", hue=\"기준\", data=stat_df_long)\n",
    "axis.set_title(f\"{type_name} 펀드 위험등급 분포\")\n",
    "show_values(axis)"
   ]
  },
  {
   "cell_type": "markdown",
   "id": "1f9227c4-c788-429d-b8d4-fc278ba29d24",
   "metadata": {},
   "source": [
    "## 통계 결과 출력"
   ]
  },
  {
   "cell_type": "code",
   "execution_count": 21,
   "id": "68fbd533-f46e-4cd6-9c35-28c3ae50830d",
   "metadata": {
    "execution": {
     "iopub.execute_input": "2022-12-16T08:49:21.231069Z",
     "iopub.status.busy": "2022-12-16T08:49:21.231069Z",
     "iopub.status.idle": "2022-12-16T08:49:21.244069Z",
     "shell.execute_reply": "2022-12-16T08:49:21.243068Z"
    }
   },
   "outputs": [],
   "source": [
    "os.makedirs('result', exist_ok=True)\n",
    "stat_df.to_csv(f'result/STATISTICS_{type_no}_{type_name}.csv', index=False)"
   ]
  }
 ],
 "metadata": {
  "kernelspec": {
   "display_name": "Python 3 (ipykernel)",
   "language": "python",
   "name": "python3"
  },
  "language_info": {
   "codemirror_mode": {
    "name": "ipython",
    "version": 3
   },
   "file_extension": ".py",
   "mimetype": "text/x-python",
   "name": "python",
   "nbconvert_exporter": "python",
   "pygments_lexer": "ipython3",
   "version": "3.9.13"
  },
  "toc-autonumbering": true,
  "toc-showcode": false,
  "toc-showmarkdowntxt": false
 },
 "nbformat": 4,
 "nbformat_minor": 5
}
