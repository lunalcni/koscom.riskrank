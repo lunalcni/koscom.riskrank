{
 "cells": [
  {
   "cell_type": "markdown",
   "id": "2dd67b7b-b151-49b1-955e-dd7627677a4e",
   "metadata": {},
   "source": [
    "# 펀드 위험등급 산출"
   ]
  },
  {
   "cell_type": "markdown",
   "id": "b3e20237-dc40-4627-a953-52539fea6148",
   "metadata": {},
   "source": [
    "## 패키지 로드"
   ]
  },
  {
   "cell_type": "code",
   "execution_count": 1,
   "id": "103faeb9-9c7b-46f1-8ddb-e8e438626b60",
   "metadata": {
    "execution": {
     "iopub.execute_input": "2022-12-16T08:50:19.483789Z",
     "iopub.status.busy": "2022-12-16T08:50:19.482790Z",
     "iopub.status.idle": "2022-12-16T08:50:20.017356Z",
     "shell.execute_reply": "2022-12-16T08:50:20.016319Z"
    }
   },
   "outputs": [],
   "source": [
    "%matplotlib inline"
   ]
  },
  {
   "cell_type": "code",
   "execution_count": 2,
   "id": "2ead0865-2adf-4384-9e33-e05ad2246056",
   "metadata": {
    "execution": {
     "iopub.execute_input": "2022-12-16T08:50:20.021359Z",
     "iopub.status.busy": "2022-12-16T08:50:20.020328Z",
     "iopub.status.idle": "2022-12-16T08:50:20.647135Z",
     "shell.execute_reply": "2022-12-16T08:50:20.646107Z"
    }
   },
   "outputs": [],
   "source": [
    "import functools\n",
    "import os\n",
    "import re\n",
    "from pathlib import Path\n",
    "\n",
    "import matplotlib.pyplot as plt\n",
    "import numpy as np\n",
    "import pandas as pd\n",
    "import seaborn as sns\n",
    "from tqdm import trange"
   ]
  },
  {
   "cell_type": "code",
   "execution_count": 3,
   "id": "666d6379",
   "metadata": {
    "collapsed": false,
    "execution": {
     "iopub.execute_input": "2022-12-16T08:50:20.650137Z",
     "iopub.status.busy": "2022-12-16T08:50:20.650137Z",
     "iopub.status.idle": "2022-12-16T08:50:20.662192Z",
     "shell.execute_reply": "2022-12-16T08:50:20.661272Z"
    }
   },
   "outputs": [],
   "source": [
    "plt.rc('font', family='Malgun Gothic')  # For Windows"
   ]
  },
  {
   "cell_type": "markdown",
   "id": "79a00a1d",
   "metadata": {
    "collapsed": false
   },
   "source": [
    "## 변수 정의"
   ]
  },
  {
   "cell_type": "code",
   "execution_count": 4,
   "id": "b9e26db6",
   "metadata": {
    "collapsed": false,
    "execution": {
     "iopub.execute_input": "2022-12-16T08:50:20.665161Z",
     "iopub.status.busy": "2022-12-16T08:50:20.665161Z",
     "iopub.status.idle": "2022-12-16T08:50:20.678253Z",
     "shell.execute_reply": "2022-12-16T08:50:20.677352Z"
    }
   },
   "outputs": [
    {
     "name": "stdout",
     "output_type": "stream",
     "text": [
      "TEST_PROCESS=False, VALIDATE_PROCESS=False, DATA_FILEPATH='data\\\\TYPE_50_해외채권형.csv', BINS=[0, 0.005, 0.1, 0.3, 0.5, 0.7, inf]\n"
     ]
    }
   ],
   "source": [
    "TEST_PROCESS = eval(os.environ.get('TEST_PROCESS', 'True'))\n",
    "VALIDATE_PROCESS = eval(os.environ.get('VALIDATE_PROCESS', 'True'))\n",
    "DATA_FILEPATH = os.environ.get('DATA_FILEPATH', './data/TYPE_10_채권형.csv')\n",
    "BINS = eval(os.environ.get('BINS', '[0, 0.005, 0.05, 0.10, 0.15, 0.25, float(\"inf\")]'))\n",
    "\n",
    "print(f'{TEST_PROCESS=}, {VALIDATE_PROCESS=}, {DATA_FILEPATH=}, {BINS=}')"
   ]
  },
  {
   "cell_type": "markdown",
   "id": "859ce472",
   "metadata": {
    "collapsed": false
   },
   "source": [
    "## 타입 추출"
   ]
  },
  {
   "cell_type": "code",
   "execution_count": 5,
   "id": "9613fca5-40ff-41c8-a061-d9c23223c365",
   "metadata": {
    "execution": {
     "iopub.execute_input": "2022-12-16T08:50:20.681248Z",
     "iopub.status.busy": "2022-12-16T08:50:20.681248Z",
     "iopub.status.idle": "2022-12-16T08:50:20.693617Z",
     "shell.execute_reply": "2022-12-16T08:50:20.692688Z"
    }
   },
   "outputs": [
    {
     "data": {
      "text/plain": [
       "('50', '해외채권형')"
      ]
     },
     "execution_count": 5,
     "metadata": {},
     "output_type": "execute_result"
    }
   ],
   "source": [
    "filepath = Path(DATA_FILEPATH)\n",
    "filename_pattern = re.compile(r'TYPE_([0-9]+)_([^_]+)\\.csv')\n",
    "\n",
    "match_rst = re.fullmatch(filename_pattern, filepath.name)\n",
    "type_no, type_name = match_rst.groups()\n",
    "\n",
    "type_no, type_name"
   ]
  },
  {
   "cell_type": "markdown",
   "id": "3a02a33b-ddc6-446a-88c3-37887ffe4768",
   "metadata": {},
   "source": [
    "## 데이터 로드"
   ]
  },
  {
   "cell_type": "code",
   "execution_count": 6,
   "id": "a4260092-7f8c-48a7-a523-7b72bc350181",
   "metadata": {
    "execution": {
     "iopub.execute_input": "2022-12-16T08:50:20.696578Z",
     "iopub.status.busy": "2022-12-16T08:50:20.696578Z",
     "iopub.status.idle": "2022-12-16T08:50:22.182608Z",
     "shell.execute_reply": "2022-12-16T08:50:22.181721Z"
    }
   },
   "outputs": [
    {
     "name": "stdout",
     "output_type": "stream",
     "text": [
      "len(codes)=1611\n"
     ]
    }
   ],
   "source": [
    "lists_wo_idx_df = pd.read_csv(filepath, names=[\"date\", \"code\", \"nav\"], usecols=[0, 1, 2], parse_dates=[0])\n",
    "lists_df = lists_wo_idx_df.set_index(['code', 'date'])\n",
    "\n",
    "codes = lists_df.index.get_level_values('code').unique()\n",
    "print(f\"{len(codes)=}\")"
   ]
  },
  {
   "cell_type": "markdown",
   "id": "957b2cf8",
   "metadata": {
    "collapsed": false
   },
   "source": [
    "## 수치 산출 테스트\n",
    "\n",
    "1년을 기준으로 프로세스 정의"
   ]
  },
  {
   "cell_type": "markdown",
   "id": "2b71ab05",
   "metadata": {
    "collapsed": false
   },
   "source": [
    "### 기간 조건 적용"
   ]
  },
  {
   "cell_type": "code",
   "execution_count": 7,
   "id": "d53288cc",
   "metadata": {
    "collapsed": false,
    "execution": {
     "iopub.execute_input": "2022-12-16T08:50:22.185605Z",
     "iopub.status.busy": "2022-12-16T08:50:22.185605Z",
     "iopub.status.idle": "2022-12-16T08:50:22.198610Z",
     "shell.execute_reply": "2022-12-16T08:50:22.197721Z"
    }
   },
   "outputs": [],
   "source": [
    "if TEST_PROCESS:\n",
    "    lists_1y_df = pd.concat([\n",
    "        lists_df.xs(code).last('1y').assign(code=code)\n",
    "        for code in codes])\n",
    "    lists_1y_df.reset_index(inplace=True)\n",
    "    display(lists_1y_df)"
   ]
  },
  {
   "cell_type": "markdown",
   "id": "f324b82d",
   "metadata": {
    "collapsed": false
   },
   "source": [
    "### 리샘플링, 퍼센트 체인지 추출"
   ]
  },
  {
   "cell_type": "code",
   "execution_count": 8,
   "id": "c917eecb",
   "metadata": {
    "collapsed": false,
    "execution": {
     "iopub.execute_input": "2022-12-16T08:50:22.201605Z",
     "iopub.status.busy": "2022-12-16T08:50:22.201605Z",
     "iopub.status.idle": "2022-12-16T08:50:22.214640Z",
     "shell.execute_reply": "2022-12-16T08:50:22.213715Z"
    }
   },
   "outputs": [],
   "source": [
    "if TEST_PROCESS:\n",
    "    lists_1y_wk_df = lists_1y_df.set_index(['date']).groupby(['code'])[['nav']].resample('W').last()\n",
    "    lists_1y_wk_df = lists_1y_wk_df.assign(ret=lists_1y_wk_df.groupby(['code'])[['nav']].pct_change())\n",
    "    display(lists_1y_wk_df)"
   ]
  },
  {
   "cell_type": "markdown",
   "id": "dd284436",
   "metadata": {
    "collapsed": false
   },
   "source": [
    "### 표준편차 산출"
   ]
  },
  {
   "cell_type": "code",
   "execution_count": 9,
   "id": "45a7f15e",
   "metadata": {
    "collapsed": false,
    "execution": {
     "iopub.execute_input": "2022-12-16T08:50:22.217605Z",
     "iopub.status.busy": "2022-12-16T08:50:22.217605Z",
     "iopub.status.idle": "2022-12-16T08:50:22.230040Z",
     "shell.execute_reply": "2022-12-16T08:50:22.229099Z"
    }
   },
   "outputs": [],
   "source": [
    "if TEST_PROCESS:\n",
    "    lists_1y_std_df = lists_1y_wk_df.groupby(['code'])[['ret']].std(numeric_only=True) * np.sqrt(52)\n",
    "    lists_1y_std_df.reset_index(inplace=True)\n",
    "    lists_1y_std_df.rename(columns={'ret': 'std_1y'}, inplace=True)\n",
    "    display(lists_1y_std_df)"
   ]
  },
  {
   "cell_type": "markdown",
   "id": "b1d8c475",
   "metadata": {
    "collapsed": false
   },
   "source": [
    "### VaR 산출"
   ]
  },
  {
   "cell_type": "code",
   "execution_count": 10,
   "id": "d14519a0",
   "metadata": {
    "collapsed": false,
    "execution": {
     "iopub.execute_input": "2022-12-16T08:50:22.233067Z",
     "iopub.status.busy": "2022-12-16T08:50:22.233067Z",
     "iopub.status.idle": "2022-12-16T08:50:22.246073Z",
     "shell.execute_reply": "2022-12-16T08:50:22.245197Z"
    }
   },
   "outputs": [],
   "source": [
    "if TEST_PROCESS:\n",
    "    lists_1y_var_df = lists_1y_wk_df.groupby(['code'])[['ret']].quantile(0.025, numeric_only=True)\n",
    "    lists_1y_var_df = np.minimum(lists_1y_var_df, 0) * -1 * np.sqrt(52)\n",
    "    lists_1y_var_df.rename(columns={'ret': 'var_1y'}, inplace=True)\n",
    "    display(lists_1y_var_df)"
   ]
  },
  {
   "cell_type": "markdown",
   "id": "9db80aaf",
   "metadata": {
    "collapsed": false
   },
   "source": [
    "## 수치 산출 프로세스 정의"
   ]
  },
  {
   "cell_type": "code",
   "execution_count": 11,
   "id": "e0ddc1d6",
   "metadata": {
    "collapsed": false,
    "execution": {
     "iopub.execute_input": "2022-12-16T08:50:22.249038Z",
     "iopub.status.busy": "2022-12-16T08:50:22.249038Z",
     "iopub.status.idle": "2022-12-16T08:50:22.261530Z",
     "shell.execute_reply": "2022-12-16T08:50:22.260523Z"
    }
   },
   "outputs": [],
   "source": [
    "offsets = ['1y', '3y']"
   ]
  },
  {
   "cell_type": "code",
   "execution_count": 12,
   "id": "41c736cf",
   "metadata": {
    "collapsed": false,
    "execution": {
     "iopub.execute_input": "2022-12-16T08:50:22.264560Z",
     "iopub.status.busy": "2022-12-16T08:50:22.263553Z",
     "iopub.status.idle": "2022-12-16T08:50:32.118238Z",
     "shell.execute_reply": "2022-12-16T08:50:32.117252Z"
    }
   },
   "outputs": [
    {
     "name": "stdout",
     "output_type": "stream",
     "text": [
      "CPU times: total: 9.83 s\n",
      "Wall time: 9.83 s\n"
     ]
    },
    {
     "data": {
      "text/html": [
       "<div>\n",
       "<style scoped>\n",
       "    .dataframe tbody tr th:only-of-type {\n",
       "        vertical-align: middle;\n",
       "    }\n",
       "\n",
       "    .dataframe tbody tr th {\n",
       "        vertical-align: top;\n",
       "    }\n",
       "\n",
       "    .dataframe thead th {\n",
       "        text-align: right;\n",
       "    }\n",
       "</style>\n",
       "<table border=\"1\" class=\"dataframe\">\n",
       "  <thead>\n",
       "    <tr style=\"text-align: right;\">\n",
       "      <th></th>\n",
       "      <th>std_1y</th>\n",
       "      <th>var_1y</th>\n",
       "      <th>std_3y</th>\n",
       "      <th>var_3y</th>\n",
       "    </tr>\n",
       "    <tr>\n",
       "      <th>code</th>\n",
       "      <th></th>\n",
       "      <th></th>\n",
       "      <th></th>\n",
       "      <th></th>\n",
       "    </tr>\n",
       "  </thead>\n",
       "  <tbody>\n",
       "    <tr>\n",
       "      <th>K55101AZ9057</th>\n",
       "      <td>0.022992</td>\n",
       "      <td>0.045142</td>\n",
       "      <td>0.048493</td>\n",
       "      <td>0.084809</td>\n",
       "    </tr>\n",
       "    <tr>\n",
       "      <th>K55101AZ9420</th>\n",
       "      <td>0.020959</td>\n",
       "      <td>0.040802</td>\n",
       "      <td>0.055683</td>\n",
       "      <td>0.077978</td>\n",
       "    </tr>\n",
       "    <tr>\n",
       "      <th>K55101AZ9438</th>\n",
       "      <td>0.020981</td>\n",
       "      <td>0.041542</td>\n",
       "      <td>0.053129</td>\n",
       "      <td>0.078838</td>\n",
       "    </tr>\n",
       "    <tr>\n",
       "      <th>K55101AZ9453</th>\n",
       "      <td>0.021001</td>\n",
       "      <td>0.042684</td>\n",
       "      <td>0.047942</td>\n",
       "      <td>0.079938</td>\n",
       "    </tr>\n",
       "    <tr>\n",
       "      <th>K55101AZ9487</th>\n",
       "      <td>0.020980</td>\n",
       "      <td>0.041414</td>\n",
       "      <td>0.056390</td>\n",
       "      <td>0.078651</td>\n",
       "    </tr>\n",
       "    <tr>\n",
       "      <th>...</th>\n",
       "      <td>...</td>\n",
       "      <td>...</td>\n",
       "      <td>...</td>\n",
       "      <td>...</td>\n",
       "    </tr>\n",
       "    <tr>\n",
       "      <th>KR5370AQ0137</th>\n",
       "      <td>0.072911</td>\n",
       "      <td>0.165475</td>\n",
       "      <td>0.058060</td>\n",
       "      <td>0.132332</td>\n",
       "    </tr>\n",
       "    <tr>\n",
       "      <th>KR5370AX4734</th>\n",
       "      <td>0.080143</td>\n",
       "      <td>0.150654</td>\n",
       "      <td>0.061903</td>\n",
       "      <td>0.093197</td>\n",
       "    </tr>\n",
       "    <tr>\n",
       "      <th>KR5370AX4742</th>\n",
       "      <td>0.047846</td>\n",
       "      <td>0.086171</td>\n",
       "      <td>0.047846</td>\n",
       "      <td>0.086171</td>\n",
       "    </tr>\n",
       "    <tr>\n",
       "      <th>KR5370AX4775</th>\n",
       "      <td>0.080148</td>\n",
       "      <td>0.150687</td>\n",
       "      <td>0.061903</td>\n",
       "      <td>0.093136</td>\n",
       "    </tr>\n",
       "    <tr>\n",
       "      <th>KR5370AX4809</th>\n",
       "      <td>0.080126</td>\n",
       "      <td>0.150153</td>\n",
       "      <td>0.061894</td>\n",
       "      <td>0.092420</td>\n",
       "    </tr>\n",
       "  </tbody>\n",
       "</table>\n",
       "<p>1611 rows × 4 columns</p>\n",
       "</div>"
      ],
      "text/plain": [
       "                std_1y    var_1y    std_3y    var_3y\n",
       "code                                                \n",
       "K55101AZ9057  0.022992  0.045142  0.048493  0.084809\n",
       "K55101AZ9420  0.020959  0.040802  0.055683  0.077978\n",
       "K55101AZ9438  0.020981  0.041542  0.053129  0.078838\n",
       "K55101AZ9453  0.021001  0.042684  0.047942  0.079938\n",
       "K55101AZ9487  0.020980  0.041414  0.056390  0.078651\n",
       "...                ...       ...       ...       ...\n",
       "KR5370AQ0137  0.072911  0.165475  0.058060  0.132332\n",
       "KR5370AX4734  0.080143  0.150654  0.061903  0.093197\n",
       "KR5370AX4742  0.047846  0.086171  0.047846  0.086171\n",
       "KR5370AX4775  0.080148  0.150687  0.061903  0.093136\n",
       "KR5370AX4809  0.080126  0.150153  0.061894  0.092420\n",
       "\n",
       "[1611 rows x 4 columns]"
      ]
     },
     "execution_count": 12,
     "metadata": {},
     "output_type": "execute_result"
    }
   ],
   "source": [
    "%%time\n",
    "\n",
    "lists_rst_dfs = []\n",
    "\n",
    "for offset in offsets:\n",
    "    lists_off_df = pd.concat([\n",
    "        lists_df.xs(code).last(offset).assign(code=code)\n",
    "        for code in codes])\n",
    "    lists_off_df.reset_index(inplace=True)\n",
    "\n",
    "    lists_off_wk_df = lists_off_df.set_index(['date']).groupby(['code'])[['nav']].resample('W').last()\n",
    "    lists_off_wk_df = lists_off_wk_df.assign(ret=lists_off_wk_df.groupby(['code'])[['nav']].pct_change())\n",
    "\n",
    "    lists_off_std_df = lists_off_wk_df.groupby(['code'])[['ret']].std(numeric_only=True) * np.sqrt(52)\n",
    "    lists_off_std_df.rename(columns={'ret': f'std_{offset}'}, inplace=True)\n",
    "\n",
    "    lists_off_var_df = lists_off_wk_df.groupby(['code'])[['ret']].quantile(0.025, numeric_only=True)\n",
    "    lists_off_var_df = np.minimum(lists_off_var_df, 0) * -1 * np.sqrt(52)\n",
    "    lists_off_var_df.rename(columns={'ret': f'var_{offset}'}, inplace=True)\n",
    "\n",
    "    lists_rst_dfs.append(lists_off_std_df)\n",
    "    lists_rst_dfs.append(lists_off_var_df)\n",
    "\n",
    "lists_rst_df = pd.concat(lists_rst_dfs, axis='columns')\n",
    "lists_rst_df"
   ]
  },
  {
   "cell_type": "markdown",
   "id": "3cfb27d7",
   "metadata": {
    "collapsed": false
   },
   "source": [
    "### 프로세스 테스트"
   ]
  },
  {
   "cell_type": "code",
   "execution_count": 13,
   "id": "a6cc3475-204e-417d-ac8f-67c33c944c4e",
   "metadata": {
    "execution": {
     "iopub.execute_input": "2022-12-16T08:50:32.121238Z",
     "iopub.status.busy": "2022-12-16T08:50:32.121238Z",
     "iopub.status.idle": "2022-12-16T08:50:32.133929Z",
     "shell.execute_reply": "2022-12-16T08:50:32.132964Z"
    }
   },
   "outputs": [
    {
     "name": "stdout",
     "output_type": "stream",
     "text": [
      "CPU times: total: 0 ns\n",
      "Wall time: 0 ns\n"
     ]
    }
   ],
   "source": [
    "%%time\n",
    "\n",
    "def calc_std_y(code):\n",
    "    df = lists_wo_idx_df[lists_wo_idx_df['code'] == code][[\"date\", \"nav\"]]\n",
    "    df = df.sort_values(by=\"date\")\n",
    "    df = df.set_index(\"date\")\n",
    "\n",
    "    df_1y = df.last(\"1Y\")\n",
    "    df_1y_w = df_1y.resample(\"W\").last()\n",
    "\n",
    "    df_3y = df.last(\"3Y\")\n",
    "    df_3y_w = df_3y.resample(\"W\").last()\n",
    "\n",
    "    df_3y_w[\"ret\"] = df_3y_w[\"nav\"].pct_change()\n",
    "    df_3y_w = df_3y_w.iloc[1:]\n",
    "    std_3y = df_3y_w[\"ret\"].std() * np.sqrt(52)\n",
    "\n",
    "    df_1y_w[\"ret\"] = df_1y_w[\"nav\"].pct_change()\n",
    "    df_1y_w = df_1y_w.iloc[1:]\n",
    "    std_1y = df_1y_w[\"ret\"].std() * np.sqrt(52)\n",
    "\n",
    "    var_3y = -np.minimum(df_3y_w[\"ret\"].quantile(0.025), 0) * np.sqrt(52)\n",
    "\n",
    "    return std_3y, std_1y, var_3y\n",
    "\n",
    "if VALIDATE_PROCESS:\n",
    "    list_std_y = []\n",
    "    for i in trange(len(codes)):\n",
    "        code = codes[i]\n",
    "        list_std_y.append(calc_std_y(code))"
   ]
  },
  {
   "cell_type": "code",
   "execution_count": 14,
   "id": "2abc4d34",
   "metadata": {
    "collapsed": false,
    "execution": {
     "iopub.execute_input": "2022-12-16T08:50:32.136927Z",
     "iopub.status.busy": "2022-12-16T08:50:32.136927Z",
     "iopub.status.idle": "2022-12-16T08:50:32.149364Z",
     "shell.execute_reply": "2022-12-16T08:50:32.148361Z"
    }
   },
   "outputs": [],
   "source": [
    "if VALIDATE_PROCESS:\n",
    "    for code_idx, code in enumerate(codes):\n",
    "        for old_idx, new_name in [(0, 'std_3y'), (1, 'std_1y'), (2, 'var_3y')]:\n",
    "            old_rst = list_std_y[code_idx][old_idx]\n",
    "            new_rst = lists_rst_df.xs(code).xs(new_name)\n",
    "            if not np.isclose(old_rst, new_rst, equal_nan=True):\n",
    "                print(f\"{code=}, {old_rst=}, {new_rst=}, {np.isclose(old_rst, new_rst, equal_nan=True)=}\")"
   ]
  },
  {
   "cell_type": "markdown",
   "id": "2989bbd4",
   "metadata": {
    "collapsed": false
   },
   "source": [
    "## 등급 변환"
   ]
  },
  {
   "cell_type": "code",
   "execution_count": 15,
   "id": "ecb1e5ec",
   "metadata": {
    "collapsed": false,
    "execution": {
     "iopub.execute_input": "2022-12-16T08:50:32.152362Z",
     "iopub.status.busy": "2022-12-16T08:50:32.152362Z",
     "iopub.status.idle": "2022-12-16T08:50:32.180823Z",
     "shell.execute_reply": "2022-12-16T08:50:32.179811Z"
    }
   },
   "outputs": [
    {
     "data": {
      "text/html": [
       "<div>\n",
       "<style scoped>\n",
       "    .dataframe tbody tr th:only-of-type {\n",
       "        vertical-align: middle;\n",
       "    }\n",
       "\n",
       "    .dataframe tbody tr th {\n",
       "        vertical-align: top;\n",
       "    }\n",
       "\n",
       "    .dataframe thead th {\n",
       "        text-align: right;\n",
       "    }\n",
       "</style>\n",
       "<table border=\"1\" class=\"dataframe\">\n",
       "  <thead>\n",
       "    <tr style=\"text-align: right;\">\n",
       "      <th></th>\n",
       "      <th>code</th>\n",
       "      <th>std_1y</th>\n",
       "      <th>var_1y</th>\n",
       "      <th>std_3y</th>\n",
       "      <th>var_3y</th>\n",
       "      <th>risk_std_1y</th>\n",
       "      <th>risk_std_3y</th>\n",
       "      <th>risk_var_3y</th>\n",
       "    </tr>\n",
       "  </thead>\n",
       "  <tbody>\n",
       "    <tr>\n",
       "      <th>0</th>\n",
       "      <td>K55101AZ9057</td>\n",
       "      <td>0.022992</td>\n",
       "      <td>0.045142</td>\n",
       "      <td>0.048493</td>\n",
       "      <td>0.084809</td>\n",
       "      <td>5등급</td>\n",
       "      <td>5등급</td>\n",
       "      <td>5등급</td>\n",
       "    </tr>\n",
       "    <tr>\n",
       "      <th>1</th>\n",
       "      <td>K55101AZ9420</td>\n",
       "      <td>0.020959</td>\n",
       "      <td>0.040802</td>\n",
       "      <td>0.055683</td>\n",
       "      <td>0.077978</td>\n",
       "      <td>5등급</td>\n",
       "      <td>5등급</td>\n",
       "      <td>5등급</td>\n",
       "    </tr>\n",
       "    <tr>\n",
       "      <th>2</th>\n",
       "      <td>K55101AZ9438</td>\n",
       "      <td>0.020981</td>\n",
       "      <td>0.041542</td>\n",
       "      <td>0.053129</td>\n",
       "      <td>0.078838</td>\n",
       "      <td>5등급</td>\n",
       "      <td>5등급</td>\n",
       "      <td>5등급</td>\n",
       "    </tr>\n",
       "    <tr>\n",
       "      <th>3</th>\n",
       "      <td>K55101AZ9453</td>\n",
       "      <td>0.021001</td>\n",
       "      <td>0.042684</td>\n",
       "      <td>0.047942</td>\n",
       "      <td>0.079938</td>\n",
       "      <td>5등급</td>\n",
       "      <td>5등급</td>\n",
       "      <td>5등급</td>\n",
       "    </tr>\n",
       "    <tr>\n",
       "      <th>4</th>\n",
       "      <td>K55101AZ9487</td>\n",
       "      <td>0.020980</td>\n",
       "      <td>0.041414</td>\n",
       "      <td>0.056390</td>\n",
       "      <td>0.078651</td>\n",
       "      <td>5등급</td>\n",
       "      <td>5등급</td>\n",
       "      <td>5등급</td>\n",
       "    </tr>\n",
       "    <tr>\n",
       "      <th>...</th>\n",
       "      <td>...</td>\n",
       "      <td>...</td>\n",
       "      <td>...</td>\n",
       "      <td>...</td>\n",
       "      <td>...</td>\n",
       "      <td>...</td>\n",
       "      <td>...</td>\n",
       "      <td>...</td>\n",
       "    </tr>\n",
       "    <tr>\n",
       "      <th>1593</th>\n",
       "      <td>KR5370AQ0137</td>\n",
       "      <td>0.072911</td>\n",
       "      <td>0.165475</td>\n",
       "      <td>0.058060</td>\n",
       "      <td>0.132332</td>\n",
       "      <td>5등급</td>\n",
       "      <td>5등급</td>\n",
       "      <td>4등급</td>\n",
       "    </tr>\n",
       "    <tr>\n",
       "      <th>1594</th>\n",
       "      <td>KR5370AX4734</td>\n",
       "      <td>0.080143</td>\n",
       "      <td>0.150654</td>\n",
       "      <td>0.061903</td>\n",
       "      <td>0.093197</td>\n",
       "      <td>5등급</td>\n",
       "      <td>5등급</td>\n",
       "      <td>5등급</td>\n",
       "    </tr>\n",
       "    <tr>\n",
       "      <th>1595</th>\n",
       "      <td>KR5370AX4742</td>\n",
       "      <td>0.047846</td>\n",
       "      <td>0.086171</td>\n",
       "      <td>0.047846</td>\n",
       "      <td>0.086171</td>\n",
       "      <td>5등급</td>\n",
       "      <td>5등급</td>\n",
       "      <td>5등급</td>\n",
       "    </tr>\n",
       "    <tr>\n",
       "      <th>1596</th>\n",
       "      <td>KR5370AX4775</td>\n",
       "      <td>0.080148</td>\n",
       "      <td>0.150687</td>\n",
       "      <td>0.061903</td>\n",
       "      <td>0.093136</td>\n",
       "      <td>5등급</td>\n",
       "      <td>5등급</td>\n",
       "      <td>5등급</td>\n",
       "    </tr>\n",
       "    <tr>\n",
       "      <th>1597</th>\n",
       "      <td>KR5370AX4809</td>\n",
       "      <td>0.080126</td>\n",
       "      <td>0.150153</td>\n",
       "      <td>0.061894</td>\n",
       "      <td>0.092420</td>\n",
       "      <td>5등급</td>\n",
       "      <td>5등급</td>\n",
       "      <td>5등급</td>\n",
       "    </tr>\n",
       "  </tbody>\n",
       "</table>\n",
       "<p>1598 rows × 8 columns</p>\n",
       "</div>"
      ],
      "text/plain": [
       "              code    std_1y    var_1y    std_3y    var_3y risk_std_1y  \\\n",
       "0     K55101AZ9057  0.022992  0.045142  0.048493  0.084809         5등급   \n",
       "1     K55101AZ9420  0.020959  0.040802  0.055683  0.077978         5등급   \n",
       "2     K55101AZ9438  0.020981  0.041542  0.053129  0.078838         5등급   \n",
       "3     K55101AZ9453  0.021001  0.042684  0.047942  0.079938         5등급   \n",
       "4     K55101AZ9487  0.020980  0.041414  0.056390  0.078651         5등급   \n",
       "...            ...       ...       ...       ...       ...         ...   \n",
       "1593  KR5370AQ0137  0.072911  0.165475  0.058060  0.132332         5등급   \n",
       "1594  KR5370AX4734  0.080143  0.150654  0.061903  0.093197         5등급   \n",
       "1595  KR5370AX4742  0.047846  0.086171  0.047846  0.086171         5등급   \n",
       "1596  KR5370AX4775  0.080148  0.150687  0.061903  0.093136         5등급   \n",
       "1597  KR5370AX4809  0.080126  0.150153  0.061894  0.092420         5등급   \n",
       "\n",
       "     risk_std_3y risk_var_3y  \n",
       "0            5등급         5등급  \n",
       "1            5등급         5등급  \n",
       "2            5등급         5등급  \n",
       "3            5등급         5등급  \n",
       "4            5등급         5등급  \n",
       "...          ...         ...  \n",
       "1593         5등급         4등급  \n",
       "1594         5등급         5등급  \n",
       "1595         5등급         5등급  \n",
       "1596         5등급         5등급  \n",
       "1597         5등급         5등급  \n",
       "\n",
       "[1598 rows x 8 columns]"
      ]
     },
     "execution_count": 15,
     "metadata": {},
     "output_type": "execute_result"
    }
   ],
   "source": [
    "labels = [\"6등급\", \"5등급\", \"4등급\", \"3등급\", \"2등급\", \"1등급\"]\n",
    "cut_fn = functools.partial(pd.cut, bins=BINS, labels=labels)\n",
    "\n",
    "lists_lb_df = lists_rst_df.assign(\n",
    "    risk_std_1y=cut_fn(lists_rst_df['std_1y']),\n",
    "    risk_std_3y=cut_fn(lists_rst_df['std_3y']),\n",
    "    # risk_var_1y=cut_fn(lists_rst_df['var_1y']),\n",
    "    risk_var_3y=cut_fn(lists_rst_df['var_3y']))\n",
    "lists_lb_df.dropna(inplace=True)\n",
    "lists_lb_df.reset_index(inplace=True)\n",
    "\n",
    "lists_lb_df"
   ]
  },
  {
   "cell_type": "markdown",
   "id": "8af1a61f",
   "metadata": {
    "collapsed": false
   },
   "source": [
    "#### 프로세스 테스트"
   ]
  },
  {
   "cell_type": "code",
   "execution_count": 16,
   "id": "e0aa081c-7f0d-4f1b-ae74-00a27747aaa5",
   "metadata": {
    "execution": {
     "iopub.execute_input": "2022-12-16T08:50:32.183820Z",
     "iopub.status.busy": "2022-12-16T08:50:32.183820Z",
     "iopub.status.idle": "2022-12-16T08:50:32.196013Z",
     "shell.execute_reply": "2022-12-16T08:50:32.195014Z"
    }
   },
   "outputs": [],
   "source": [
    "if VALIDATE_PROCESS:\n",
    "    list_std_3y, list_std_1y, list_var_3y = zip(*list_std_y)\n",
    "\n",
    "    df_result = pd.DataFrame({\n",
    "        \"code\": codes,\n",
    "        \"std_3y\": list_std_3y,\n",
    "        \"std_1y\": list_std_1y,\n",
    "        \"var_3y\": list_var_3y,\n",
    "    })\n",
    "\n",
    "    bins = [0, 0.005, 0.05, 0.10, 0.15, 0.25, float(\"inf\")]\n",
    "    labels = [\"6등급\", \"5등급\", \"4등급\", \"3등급\", \"2등급\", \"1등급\"]\n",
    "\n",
    "    df_result[\"risk_std_3y\"] = pd.cut(df_result.std_3y, bins=bins, labels=labels)\n",
    "    df_result[\"risk_std_1y\"] = pd.cut(df_result.std_1y, bins=bins, labels=labels)\n",
    "    df_result[\"risk_var_3y\"] = pd.cut(df_result.var_3y, bins=bins, labels=labels)\n",
    "\n",
    "    df_result = df_result.dropna()"
   ]
  },
  {
   "cell_type": "code",
   "execution_count": 17,
   "id": "c3e75562-b9ea-4c95-9a11-004be639146b",
   "metadata": {
    "execution": {
     "iopub.execute_input": "2022-12-16T08:50:32.199012Z",
     "iopub.status.busy": "2022-12-16T08:50:32.199012Z",
     "iopub.status.idle": "2022-12-16T08:50:32.212012Z",
     "shell.execute_reply": "2022-12-16T08:50:32.211012Z"
    }
   },
   "outputs": [],
   "source": [
    "if VALIDATE_PROCESS:\n",
    "    display(\n",
    "        (lists_lb_df[['code', 'risk_std_1y', 'risk_std_3y', 'risk_var_3y']].set_index(['code'])\n",
    "        == df_result[['code', 'risk_std_1y', 'risk_std_3y', 'risk_var_3y']].set_index(['code'])).all())"
   ]
  },
  {
   "cell_type": "markdown",
   "id": "7093a90e-9367-40e8-bb58-fc375b2c7f0d",
   "metadata": {},
   "source": [
    "## 등급 결과 출력"
   ]
  },
  {
   "cell_type": "code",
   "execution_count": 18,
   "id": "7d74f1a2-a5b2-4b5a-b1e4-7356deb7fb2c",
   "metadata": {
    "execution": {
     "iopub.execute_input": "2022-12-16T08:50:32.215012Z",
     "iopub.status.busy": "2022-12-16T08:50:32.215012Z",
     "iopub.status.idle": "2022-12-16T08:50:32.242352Z",
     "shell.execute_reply": "2022-12-16T08:50:32.242352Z"
    }
   },
   "outputs": [],
   "source": [
    "os.makedirs('result', exist_ok=True)\n",
    "lists_lb_df.to_csv(f'result/RESULT_{type_no}_{type_name}.csv', index=False)"
   ]
  },
  {
   "cell_type": "markdown",
   "id": "2ed08a3d-eb09-4f1f-83a5-987be9b9d584",
   "metadata": {},
   "source": [
    "## 시각화"
   ]
  },
  {
   "cell_type": "code",
   "execution_count": 19,
   "id": "a2981513-60e5-4604-8fee-235d898df378",
   "metadata": {
    "execution": {
     "iopub.execute_input": "2022-12-16T08:50:32.246346Z",
     "iopub.status.busy": "2022-12-16T08:50:32.246346Z",
     "iopub.status.idle": "2022-12-16T08:50:32.351376Z",
     "shell.execute_reply": "2022-12-16T08:50:32.350503Z"
    }
   },
   "outputs": [
    {
     "data": {
      "text/html": [
       "<style type=\"text/css\">\n",
       "#T_643b5_row0_col0 {\n",
       "  background-color: #fef6fa;\n",
       "  color: #000000;\n",
       "}\n",
       "#T_643b5_row0_col1, #T_643b5_row0_col2, #T_643b5_row1_col0, #T_643b5_row1_col1, #T_643b5_row1_col2, #T_643b5_row2_col0, #T_643b5_row2_col1, #T_643b5_row5_col0, #T_643b5_row5_col2 {\n",
       "  background-color: #fff7fb;\n",
       "  color: #000000;\n",
       "}\n",
       "#T_643b5_row2_col2 {\n",
       "  background-color: #f3edf5;\n",
       "  color: #000000;\n",
       "}\n",
       "#T_643b5_row3_col0 {\n",
       "  background-color: #c6cce3;\n",
       "  color: #000000;\n",
       "}\n",
       "#T_643b5_row3_col1 {\n",
       "  background-color: #d6d6e9;\n",
       "  color: #000000;\n",
       "}\n",
       "#T_643b5_row3_col2, #T_643b5_row4_col0, #T_643b5_row4_col1 {\n",
       "  background-color: #023858;\n",
       "  color: #f1f1f1;\n",
       "}\n",
       "#T_643b5_row4_col2 {\n",
       "  background-color: #cccfe5;\n",
       "  color: #000000;\n",
       "}\n",
       "#T_643b5_row5_col1 {\n",
       "  background-color: #fef6fb;\n",
       "  color: #000000;\n",
       "}\n",
       "</style>\n",
       "<table id=\"T_643b5\">\n",
       "  <thead>\n",
       "    <tr>\n",
       "      <th class=\"blank level0\" >&nbsp;</th>\n",
       "      <th id=\"T_643b5_level0_col0\" class=\"col_heading level0 col0\" >3년 표준편차</th>\n",
       "      <th id=\"T_643b5_level0_col1\" class=\"col_heading level0 col1\" >1년 표준편차</th>\n",
       "      <th id=\"T_643b5_level0_col2\" class=\"col_heading level0 col2\" >3년 VaR</th>\n",
       "    </tr>\n",
       "    <tr>\n",
       "      <th class=\"index_name level0\" >등급</th>\n",
       "      <th class=\"blank col0\" >&nbsp;</th>\n",
       "      <th class=\"blank col1\" >&nbsp;</th>\n",
       "      <th class=\"blank col2\" >&nbsp;</th>\n",
       "    </tr>\n",
       "  </thead>\n",
       "  <tbody>\n",
       "    <tr>\n",
       "      <th id=\"T_643b5_level0_row0\" class=\"row_heading level0 row0\" >1등급</th>\n",
       "      <td id=\"T_643b5_row0_col0\" class=\"data row0 col0\" >12</td>\n",
       "      <td id=\"T_643b5_row0_col1\" class=\"data row0 col1\" >2</td>\n",
       "      <td id=\"T_643b5_row0_col2\" class=\"data row0 col2\" >1</td>\n",
       "    </tr>\n",
       "    <tr>\n",
       "      <th id=\"T_643b5_level0_row1\" class=\"row_heading level0 row1\" >2등급</th>\n",
       "      <td id=\"T_643b5_row1_col0\" class=\"data row1 col0\" >0</td>\n",
       "      <td id=\"T_643b5_row1_col1\" class=\"data row1 col1\" >1</td>\n",
       "      <td id=\"T_643b5_row1_col2\" class=\"data row1 col2\" >0</td>\n",
       "    </tr>\n",
       "    <tr>\n",
       "      <th id=\"T_643b5_level0_row2\" class=\"row_heading level0 row2\" >3등급</th>\n",
       "      <td id=\"T_643b5_row2_col0\" class=\"data row2 col0\" >0</td>\n",
       "      <td id=\"T_643b5_row2_col1\" class=\"data row2 col1\" >1</td>\n",
       "      <td id=\"T_643b5_row2_col2\" class=\"data row2 col2\" >96</td>\n",
       "    </tr>\n",
       "    <tr>\n",
       "      <th id=\"T_643b5_level0_row3\" class=\"row_heading level0 row3\" >4등급</th>\n",
       "      <td id=\"T_643b5_row3_col0\" class=\"data row3 col0\" >346</td>\n",
       "      <td id=\"T_643b5_row3_col1\" class=\"data row3 col1\" >293</td>\n",
       "      <td id=\"T_643b5_row3_col2\" class=\"data row3 col2\" >1183</td>\n",
       "    </tr>\n",
       "    <tr>\n",
       "      <th id=\"T_643b5_level0_row4\" class=\"row_heading level0 row4\" >5등급</th>\n",
       "      <td id=\"T_643b5_row4_col0\" class=\"data row4 col0\" >1239</td>\n",
       "      <td id=\"T_643b5_row4_col1\" class=\"data row4 col1\" >1292</td>\n",
       "      <td id=\"T_643b5_row4_col2\" class=\"data row4 col2\" >314</td>\n",
       "    </tr>\n",
       "    <tr>\n",
       "      <th id=\"T_643b5_level0_row5\" class=\"row_heading level0 row5\" >6등급</th>\n",
       "      <td id=\"T_643b5_row5_col0\" class=\"data row5 col0\" >1</td>\n",
       "      <td id=\"T_643b5_row5_col1\" class=\"data row5 col1\" >9</td>\n",
       "      <td id=\"T_643b5_row5_col2\" class=\"data row5 col2\" >4</td>\n",
       "    </tr>\n",
       "  </tbody>\n",
       "</table>\n"
      ],
      "text/plain": [
       "<pandas.io.formats.style.Styler at 0x188be40b4f0>"
      ]
     },
     "execution_count": 19,
     "metadata": {},
     "output_type": "execute_result"
    }
   ],
   "source": [
    "risk_std_3y_stat_df = lists_lb_df[\"risk_std_3y\"].value_counts().sort_index(ascending=False)\n",
    "risk_std_1y_stat_df = lists_lb_df[\"risk_std_1y\"].value_counts().sort_index(ascending=False)\n",
    "risk_var_3y_stat_df = lists_lb_df[\"risk_var_3y\"].value_counts().sort_index(ascending=False)\n",
    "stat_df = pd.concat([risk_std_3y_stat_df, risk_std_1y_stat_df, risk_var_3y_stat_df], axis=1)\n",
    "stat_df = stat_df.rename(columns={\"risk_std_3y\": \"3년 표준편차\", \"risk_std_1y\": \"1년 표준편차\", \"risk_var_3y\": \"3년 VaR\"})\n",
    "stat_df.reset_index(names=['등급'], inplace=True)\n",
    "\n",
    "stat_df.set_index('등급').style.background_gradient()"
   ]
  },
  {
   "cell_type": "code",
   "execution_count": 20,
   "id": "2ecfd0b2-0548-41e1-a6ed-9abd2da5b7c8",
   "metadata": {
    "execution": {
     "iopub.execute_input": "2022-12-16T08:50:32.354323Z",
     "iopub.status.busy": "2022-12-16T08:50:32.354323Z",
     "iopub.status.idle": "2022-12-16T08:50:32.621337Z",
     "shell.execute_reply": "2022-12-16T08:50:32.620326Z"
    }
   },
   "outputs": [
    {
     "data": {
      "image/png": "[encoded data removed]",
      "text/plain": [
       "<Figure size 640x480 with 1 Axes>"
      ]
     },
     "metadata": {},
     "output_type": "display_data"
    }
   ],
   "source": [
    "def show_values(axs, orient=\"v\", space=.01):\n",
    "    def _single(ax):\n",
    "        if orient == \"v\":\n",
    "            for p in ax.patches:\n",
    "                _x = p.get_x() + p.get_width() / 2\n",
    "                _y = p.get_y() + p.get_height() + (p.get_height() * 0.01)\n",
    "                value = '{:d}'.format(int(p.get_height()))\n",
    "                ax.text(_x, _y, value, ha=\"center\")\n",
    "        elif orient == \"h\":\n",
    "            for p in ax.patches:\n",
    "                _x = p.get_x() + p.get_width() + float(space)\n",
    "                _y = p.get_y() + p.get_height() - (p.get_height() * 0.5)\n",
    "                value = '{:d}'.format(int(p.get_width()))\n",
    "                ax.text(_x, _y, value, ha=\"left\")\n",
    "\n",
    "    if isinstance(axs, np.ndarray):\n",
    "        for idx, ax in np.ndenumerate(axs):\n",
    "            _single(ax)\n",
    "    else:\n",
    "        _single(axs)\n",
    "\n",
    "\n",
    "stat_df_long = (\n",
    "    stat_df\n",
    "    .melt(id_vars=\"등급\", value_vars=[\"3년 표준편차\", \"1년 표준편차\", \"3년 VaR\"], var_name=\"기준\") \\\n",
    "    .rename(columns={\"index\": \"등급\"})\n",
    ")\n",
    "axis = sns.barplot(x=\"등급\", y=\"value\", hue=\"기준\", data=stat_df_long)\n",
    "axis.set_title(f\"{type_name} 펀드 위험등급 분포\")\n",
    "show_values(axis)"
   ]
  },
  {
   "cell_type": "markdown",
   "id": "1f9227c4-c788-429d-b8d4-fc278ba29d24",
   "metadata": {},
   "source": [
    "## 통계 결과 출력"
   ]
  },
  {
   "cell_type": "code",
   "execution_count": 21,
   "id": "68fbd533-f46e-4cd6-9c35-28c3ae50830d",
   "metadata": {
    "execution": {
     "iopub.execute_input": "2022-12-16T08:50:32.624354Z",
     "iopub.status.busy": "2022-12-16T08:50:32.623355Z",
     "iopub.status.idle": "2022-12-16T08:50:32.637325Z",
     "shell.execute_reply": "2022-12-16T08:50:32.636340Z"
    }
   },
   "outputs": [],
   "source": [
    "os.makedirs('result', exist_ok=True)\n",
    "stat_df.to_csv(f'result/STATISTICS_{type_no}_{type_name}.csv', index=False)"
   ]
  }
 ],
 "metadata": {
  "kernelspec": {
   "display_name": "Python 3 (ipykernel)",
   "language": "python",
   "name": "python3"
  },
  "language_info": {
   "codemirror_mode": {
    "name": "ipython",
    "version": 3
   },
   "file_extension": ".py",
   "mimetype": "text/x-python",
   "name": "python",
   "nbconvert_exporter": "python",
   "pygments_lexer": "ipython3",
   "version": "3.9.13"
  },
  "toc-autonumbering": true,
  "toc-showcode": false,
  "toc-showmarkdowntxt": false
 },
 "nbformat": 4,
 "nbformat_minor": 5
}
