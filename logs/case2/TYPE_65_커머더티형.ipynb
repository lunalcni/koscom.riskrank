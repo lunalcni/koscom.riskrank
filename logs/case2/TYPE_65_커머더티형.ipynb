{
 "cells": [
  {
   "cell_type": "markdown",
   "id": "2dd67b7b-b151-49b1-955e-dd7627677a4e",
   "metadata": {},
   "source": [
    "# 펀드 위험등급 산출"
   ]
  },
  {
   "cell_type": "markdown",
   "id": "b3e20237-dc40-4627-a953-52539fea6148",
   "metadata": {},
   "source": [
    "## 패키지 로드"
   ]
  },
  {
   "cell_type": "code",
   "execution_count": 1,
   "id": "103faeb9-9c7b-46f1-8ddb-e8e438626b60",
   "metadata": {
    "execution": {
     "iopub.execute_input": "2022-12-16T08:52:44.984304Z",
     "iopub.status.busy": "2022-12-16T08:52:44.983293Z",
     "iopub.status.idle": "2022-12-16T08:52:45.595880Z",
     "shell.execute_reply": "2022-12-16T08:52:45.594904Z"
    }
   },
   "outputs": [],
   "source": [
    "%matplotlib inline"
   ]
  },
  {
   "cell_type": "code",
   "execution_count": 2,
   "id": "2ead0865-2adf-4384-9e33-e05ad2246056",
   "metadata": {
    "execution": {
     "iopub.execute_input": "2022-12-16T08:52:45.598896Z",
     "iopub.status.busy": "2022-12-16T08:52:45.597878Z",
     "iopub.status.idle": "2022-12-16T08:52:46.178404Z",
     "shell.execute_reply": "2022-12-16T08:52:46.177399Z"
    }
   },
   "outputs": [],
   "source": [
    "import functools\n",
    "import os\n",
    "import re\n",
    "from pathlib import Path\n",
    "\n",
    "import matplotlib.pyplot as plt\n",
    "import numpy as np\n",
    "import pandas as pd\n",
    "import seaborn as sns\n",
    "from tqdm import trange"
   ]
  },
  {
   "cell_type": "code",
   "execution_count": 3,
   "id": "0f16f474",
   "metadata": {
    "collapsed": false,
    "execution": {
     "iopub.execute_input": "2022-12-16T08:52:46.182428Z",
     "iopub.status.busy": "2022-12-16T08:52:46.182428Z",
     "iopub.status.idle": "2022-12-16T08:52:46.194751Z",
     "shell.execute_reply": "2022-12-16T08:52:46.193593Z"
    }
   },
   "outputs": [],
   "source": [
    "plt.rc('font', family='Malgun Gothic')  # For Windows"
   ]
  },
  {
   "cell_type": "markdown",
   "id": "b76d7874",
   "metadata": {
    "collapsed": false
   },
   "source": [
    "## 변수 정의"
   ]
  },
  {
   "cell_type": "code",
   "execution_count": 4,
   "id": "cca8ff76",
   "metadata": {
    "collapsed": false,
    "execution": {
     "iopub.execute_input": "2022-12-16T08:52:46.197796Z",
     "iopub.status.busy": "2022-12-16T08:52:46.197796Z",
     "iopub.status.idle": "2022-12-16T08:52:46.210404Z",
     "shell.execute_reply": "2022-12-16T08:52:46.209583Z"
    }
   },
   "outputs": [
    {
     "name": "stdout",
     "output_type": "stream",
     "text": [
      "TEST_PROCESS=False, VALIDATE_PROCESS=False, DATA_FILEPATH='data\\\\TYPE_65_커머더티형.csv', BINS=[0, 0.005, 0.1, 0.3, 0.5, 0.7, inf]\n"
     ]
    }
   ],
   "source": [
    "TEST_PROCESS = eval(os.environ.get('TEST_PROCESS', 'True'))\n",
    "VALIDATE_PROCESS = eval(os.environ.get('VALIDATE_PROCESS', 'True'))\n",
    "DATA_FILEPATH = os.environ.get('DATA_FILEPATH', './data/TYPE_10_채권형.csv')\n",
    "BINS = eval(os.environ.get('BINS', '[0, 0.005, 0.05, 0.10, 0.15, 0.25, float(\"inf\")]'))\n",
    "\n",
    "print(f'{TEST_PROCESS=}, {VALIDATE_PROCESS=}, {DATA_FILEPATH=}, {BINS=}')"
   ]
  },
  {
   "cell_type": "markdown",
   "id": "b3c03d1b",
   "metadata": {
    "collapsed": false
   },
   "source": [
    "## 타입 추출"
   ]
  },
  {
   "cell_type": "code",
   "execution_count": 5,
   "id": "9613fca5-40ff-41c8-a061-d9c23223c365",
   "metadata": {
    "execution": {
     "iopub.execute_input": "2022-12-16T08:52:46.213403Z",
     "iopub.status.busy": "2022-12-16T08:52:46.213403Z",
     "iopub.status.idle": "2022-12-16T08:52:46.224786Z",
     "shell.execute_reply": "2022-12-16T08:52:46.224786Z"
    }
   },
   "outputs": [
    {
     "data": {
      "text/plain": [
       "('65', '커머더티형')"
      ]
     },
     "execution_count": 5,
     "metadata": {},
     "output_type": "execute_result"
    }
   ],
   "source": [
    "filepath = Path(DATA_FILEPATH)\n",
    "filename_pattern = re.compile(r'TYPE_([0-9]+)_([^_]+)\\.csv')\n",
    "\n",
    "match_rst = re.fullmatch(filename_pattern, filepath.name)\n",
    "type_no, type_name = match_rst.groups()\n",
    "\n",
    "type_no, type_name"
   ]
  },
  {
   "cell_type": "markdown",
   "id": "3a02a33b-ddc6-446a-88c3-37887ffe4768",
   "metadata": {},
   "source": [
    "## 데이터 로드"
   ]
  },
  {
   "cell_type": "code",
   "execution_count": 6,
   "id": "a4260092-7f8c-48a7-a523-7b72bc350181",
   "metadata": {
    "execution": {
     "iopub.execute_input": "2022-12-16T08:52:46.228787Z",
     "iopub.status.busy": "2022-12-16T08:52:46.227790Z",
     "iopub.status.idle": "2022-12-16T08:52:46.430471Z",
     "shell.execute_reply": "2022-12-16T08:52:46.429481Z"
    }
   },
   "outputs": [
    {
     "name": "stdout",
     "output_type": "stream",
     "text": [
      "len(codes)=166\n"
     ]
    }
   ],
   "source": [
    "lists_wo_idx_df = pd.read_csv(filepath, names=[\"date\", \"code\", \"nav\"], usecols=[0, 1, 2], parse_dates=[0])\n",
    "lists_df = lists_wo_idx_df.set_index(['code', 'date'])\n",
    "\n",
    "codes = lists_df.index.get_level_values('code').unique()\n",
    "print(f\"{len(codes)=}\")"
   ]
  },
  {
   "cell_type": "markdown",
   "id": "4aa376cf",
   "metadata": {
    "collapsed": false
   },
   "source": [
    "## 수치 산출 테스트\n",
    "\n",
    "1년을 기준으로 프로세스 정의"
   ]
  },
  {
   "cell_type": "markdown",
   "id": "c516df7c",
   "metadata": {
    "collapsed": false
   },
   "source": [
    "### 기간 조건 적용"
   ]
  },
  {
   "cell_type": "code",
   "execution_count": 7,
   "id": "e023d948",
   "metadata": {
    "collapsed": false,
    "execution": {
     "iopub.execute_input": "2022-12-16T08:52:46.434460Z",
     "iopub.status.busy": "2022-12-16T08:52:46.433459Z",
     "iopub.status.idle": "2022-12-16T08:52:46.446459Z",
     "shell.execute_reply": "2022-12-16T08:52:46.445462Z"
    }
   },
   "outputs": [],
   "source": [
    "if TEST_PROCESS:\n",
    "    lists_1y_df = pd.concat([\n",
    "        lists_df.xs(code).last('1y').assign(code=code)\n",
    "        for code in codes])\n",
    "    lists_1y_df.reset_index(inplace=True)\n",
    "    display(lists_1y_df)"
   ]
  },
  {
   "cell_type": "markdown",
   "id": "09d3e315",
   "metadata": {
    "collapsed": false
   },
   "source": [
    "### 리샘플링, 퍼센트 체인지 추출"
   ]
  },
  {
   "cell_type": "code",
   "execution_count": 8,
   "id": "c95f1bc7",
   "metadata": {
    "collapsed": false,
    "execution": {
     "iopub.execute_input": "2022-12-16T08:52:46.451478Z",
     "iopub.status.busy": "2022-12-16T08:52:46.450458Z",
     "iopub.status.idle": "2022-12-16T08:52:46.462458Z",
     "shell.execute_reply": "2022-12-16T08:52:46.461488Z"
    }
   },
   "outputs": [],
   "source": [
    "if TEST_PROCESS:\n",
    "    lists_1y_wk_df = lists_1y_df.set_index(['date']).groupby(['code'])[['nav']].resample('W').last()\n",
    "    lists_1y_wk_df = lists_1y_wk_df.assign(ret=lists_1y_wk_df.groupby(['code'])[['nav']].pct_change())\n",
    "    display(lists_1y_wk_df)"
   ]
  },
  {
   "cell_type": "markdown",
   "id": "64d355c8",
   "metadata": {
    "collapsed": false
   },
   "source": [
    "### 표준편차 산출"
   ]
  },
  {
   "cell_type": "code",
   "execution_count": 9,
   "id": "31e4d5d3",
   "metadata": {
    "collapsed": false,
    "execution": {
     "iopub.execute_input": "2022-12-16T08:52:46.466458Z",
     "iopub.status.busy": "2022-12-16T08:52:46.465458Z",
     "iopub.status.idle": "2022-12-16T08:52:46.478458Z",
     "shell.execute_reply": "2022-12-16T08:52:46.477492Z"
    }
   },
   "outputs": [],
   "source": [
    "if TEST_PROCESS:\n",
    "    lists_1y_std_df = lists_1y_wk_df.groupby(['code'])[['ret']].std(numeric_only=True) * np.sqrt(52)\n",
    "    lists_1y_std_df.reset_index(inplace=True)\n",
    "    lists_1y_std_df.rename(columns={'ret': 'std_1y'}, inplace=True)\n",
    "    display(lists_1y_std_df)"
   ]
  },
  {
   "cell_type": "markdown",
   "id": "305c4ca8",
   "metadata": {
    "collapsed": false
   },
   "source": [
    "### VaR 산출"
   ]
  },
  {
   "cell_type": "code",
   "execution_count": 10,
   "id": "4c1ca0b3",
   "metadata": {
    "collapsed": false,
    "execution": {
     "iopub.execute_input": "2022-12-16T08:52:46.482473Z",
     "iopub.status.busy": "2022-12-16T08:52:46.481474Z",
     "iopub.status.idle": "2022-12-16T08:52:46.494488Z",
     "shell.execute_reply": "2022-12-16T08:52:46.493457Z"
    }
   },
   "outputs": [],
   "source": [
    "if TEST_PROCESS:\n",
    "    lists_1y_var_df = lists_1y_wk_df.groupby(['code'])[['ret']].quantile(0.025, numeric_only=True)\n",
    "    lists_1y_var_df = np.minimum(lists_1y_var_df, 0) * -1 * np.sqrt(52)\n",
    "    lists_1y_var_df.rename(columns={'ret': 'var_1y'}, inplace=True)\n",
    "    display(lists_1y_var_df)"
   ]
  },
  {
   "cell_type": "markdown",
   "id": "8685d8a4",
   "metadata": {
    "collapsed": false
   },
   "source": [
    "## 수치 산출 프로세스 정의"
   ]
  },
  {
   "cell_type": "code",
   "execution_count": 11,
   "id": "600d133c",
   "metadata": {
    "collapsed": false,
    "execution": {
     "iopub.execute_input": "2022-12-16T08:52:46.498474Z",
     "iopub.status.busy": "2022-12-16T08:52:46.497458Z",
     "iopub.status.idle": "2022-12-16T08:52:46.510493Z",
     "shell.execute_reply": "2022-12-16T08:52:46.509457Z"
    }
   },
   "outputs": [],
   "source": [
    "offsets = ['1y', '3y']"
   ]
  },
  {
   "cell_type": "code",
   "execution_count": 12,
   "id": "5d94bc69",
   "metadata": {
    "collapsed": false,
    "execution": {
     "iopub.execute_input": "2022-12-16T08:52:46.514459Z",
     "iopub.status.busy": "2022-12-16T08:52:46.513473Z",
     "iopub.status.idle": "2022-12-16T08:52:47.460062Z",
     "shell.execute_reply": "2022-12-16T08:52:47.459063Z"
    }
   },
   "outputs": [
    {
     "name": "stdout",
     "output_type": "stream",
     "text": [
      "CPU times: total: 922 ms\n",
      "Wall time: 928 ms\n"
     ]
    },
    {
     "data": {
      "text/html": [
       "<div>\n",
       "<style scoped>\n",
       "    .dataframe tbody tr th:only-of-type {\n",
       "        vertical-align: middle;\n",
       "    }\n",
       "\n",
       "    .dataframe tbody tr th {\n",
       "        vertical-align: top;\n",
       "    }\n",
       "\n",
       "    .dataframe thead th {\n",
       "        text-align: right;\n",
       "    }\n",
       "</style>\n",
       "<table border=\"1\" class=\"dataframe\">\n",
       "  <thead>\n",
       "    <tr style=\"text-align: right;\">\n",
       "      <th></th>\n",
       "      <th>std_1y</th>\n",
       "      <th>var_1y</th>\n",
       "      <th>std_3y</th>\n",
       "      <th>var_3y</th>\n",
       "    </tr>\n",
       "    <tr>\n",
       "      <th>code</th>\n",
       "      <th></th>\n",
       "      <th></th>\n",
       "      <th></th>\n",
       "      <th></th>\n",
       "    </tr>\n",
       "  </thead>\n",
       "  <tbody>\n",
       "    <tr>\n",
       "      <th>K55101B44423</th>\n",
       "      <td>0.341780</td>\n",
       "      <td>0.615237</td>\n",
       "      <td>0.349596</td>\n",
       "      <td>0.670413</td>\n",
       "    </tr>\n",
       "    <tr>\n",
       "      <th>K55101B84817</th>\n",
       "      <td>0.238684</td>\n",
       "      <td>0.619014</td>\n",
       "      <td>0.238684</td>\n",
       "      <td>0.619014</td>\n",
       "    </tr>\n",
       "    <tr>\n",
       "      <th>K55105B57004</th>\n",
       "      <td>0.114156</td>\n",
       "      <td>0.121484</td>\n",
       "      <td>0.149792</td>\n",
       "      <td>0.379568</td>\n",
       "    </tr>\n",
       "    <tr>\n",
       "      <th>K55105BJ8567</th>\n",
       "      <td>0.474669</td>\n",
       "      <td>0.747520</td>\n",
       "      <td>0.633390</td>\n",
       "      <td>1.227256</td>\n",
       "    </tr>\n",
       "    <tr>\n",
       "      <th>K55105BJ8583</th>\n",
       "      <td>0.095576</td>\n",
       "      <td>0.178762</td>\n",
       "      <td>0.086806</td>\n",
       "      <td>0.178005</td>\n",
       "    </tr>\n",
       "    <tr>\n",
       "      <th>...</th>\n",
       "      <td>...</td>\n",
       "      <td>...</td>\n",
       "      <td>...</td>\n",
       "      <td>...</td>\n",
       "    </tr>\n",
       "    <tr>\n",
       "      <th>KR5307167506</th>\n",
       "      <td>0.092412</td>\n",
       "      <td>0.166723</td>\n",
       "      <td>0.122782</td>\n",
       "      <td>0.228884</td>\n",
       "    </tr>\n",
       "    <tr>\n",
       "      <th>KR5307167514</th>\n",
       "      <td>0.092474</td>\n",
       "      <td>0.167110</td>\n",
       "      <td>0.122814</td>\n",
       "      <td>0.229282</td>\n",
       "    </tr>\n",
       "    <tr>\n",
       "      <th>KR5307167522</th>\n",
       "      <td>0.092394</td>\n",
       "      <td>0.166719</td>\n",
       "      <td>0.122771</td>\n",
       "      <td>0.229361</td>\n",
       "    </tr>\n",
       "    <tr>\n",
       "      <th>KR5307167530</th>\n",
       "      <td>0.092312</td>\n",
       "      <td>0.166506</td>\n",
       "      <td>0.122777</td>\n",
       "      <td>0.229390</td>\n",
       "    </tr>\n",
       "    <tr>\n",
       "      <th>KR5307167548</th>\n",
       "      <td>0.092417</td>\n",
       "      <td>0.166862</td>\n",
       "      <td>0.122773</td>\n",
       "      <td>0.229218</td>\n",
       "    </tr>\n",
       "  </tbody>\n",
       "</table>\n",
       "<p>166 rows × 4 columns</p>\n",
       "</div>"
      ],
      "text/plain": [
       "                std_1y    var_1y    std_3y    var_3y\n",
       "code                                                \n",
       "K55101B44423  0.341780  0.615237  0.349596  0.670413\n",
       "K55101B84817  0.238684  0.619014  0.238684  0.619014\n",
       "K55105B57004  0.114156  0.121484  0.149792  0.379568\n",
       "K55105BJ8567  0.474669  0.747520  0.633390  1.227256\n",
       "K55105BJ8583  0.095576  0.178762  0.086806  0.178005\n",
       "...                ...       ...       ...       ...\n",
       "KR5307167506  0.092412  0.166723  0.122782  0.228884\n",
       "KR5307167514  0.092474  0.167110  0.122814  0.229282\n",
       "KR5307167522  0.092394  0.166719  0.122771  0.229361\n",
       "KR5307167530  0.092312  0.166506  0.122777  0.229390\n",
       "KR5307167548  0.092417  0.166862  0.122773  0.229218\n",
       "\n",
       "[166 rows x 4 columns]"
      ]
     },
     "execution_count": 12,
     "metadata": {},
     "output_type": "execute_result"
    }
   ],
   "source": [
    "%%time\n",
    "\n",
    "lists_rst_dfs = []\n",
    "\n",
    "for offset in offsets:\n",
    "    lists_off_df = pd.concat([\n",
    "        lists_df.xs(code).last(offset).assign(code=code)\n",
    "        for code in codes])\n",
    "    lists_off_df.reset_index(inplace=True)\n",
    "\n",
    "    lists_off_wk_df = lists_off_df.set_index(['date']).groupby(['code'])[['nav']].resample('W').last()\n",
    "    lists_off_wk_df = lists_off_wk_df.assign(ret=lists_off_wk_df.groupby(['code'])[['nav']].pct_change())\n",
    "\n",
    "    lists_off_std_df = lists_off_wk_df.groupby(['code'])[['ret']].std(numeric_only=True) * np.sqrt(52)\n",
    "    lists_off_std_df.rename(columns={'ret': f'std_{offset}'}, inplace=True)\n",
    "\n",
    "    lists_off_var_df = lists_off_wk_df.groupby(['code'])[['ret']].quantile(0.025, numeric_only=True)\n",
    "    lists_off_var_df = np.minimum(lists_off_var_df, 0) * -1 * np.sqrt(52)\n",
    "    lists_off_var_df.rename(columns={'ret': f'var_{offset}'}, inplace=True)\n",
    "\n",
    "    lists_rst_dfs.append(lists_off_std_df)\n",
    "    lists_rst_dfs.append(lists_off_var_df)\n",
    "\n",
    "lists_rst_df = pd.concat(lists_rst_dfs, axis='columns')\n",
    "lists_rst_df"
   ]
  },
  {
   "cell_type": "markdown",
   "id": "b2251b12",
   "metadata": {
    "collapsed": false
   },
   "source": [
    "### 프로세스 테스트"
   ]
  },
  {
   "cell_type": "code",
   "execution_count": 13,
   "id": "a6cc3475-204e-417d-ac8f-67c33c944c4e",
   "metadata": {
    "execution": {
     "iopub.execute_input": "2022-12-16T08:52:47.464093Z",
     "iopub.status.busy": "2022-12-16T08:52:47.464093Z",
     "iopub.status.idle": "2022-12-16T08:52:47.476102Z",
     "shell.execute_reply": "2022-12-16T08:52:47.475116Z"
    }
   },
   "outputs": [
    {
     "name": "stdout",
     "output_type": "stream",
     "text": [
      "CPU times: total: 0 ns\n",
      "Wall time: 0 ns\n"
     ]
    }
   ],
   "source": [
    "%%time\n",
    "\n",
    "def calc_std_y(code):\n",
    "    df = lists_wo_idx_df[lists_wo_idx_df['code'] == code][[\"date\", \"nav\"]]\n",
    "    df = df.sort_values(by=\"date\")\n",
    "    df = df.set_index(\"date\")\n",
    "\n",
    "    df_1y = df.last(\"1Y\")\n",
    "    df_1y_w = df_1y.resample(\"W\").last()\n",
    "\n",
    "    df_3y = df.last(\"3Y\")\n",
    "    df_3y_w = df_3y.resample(\"W\").last()\n",
    "\n",
    "    df_3y_w[\"ret\"] = df_3y_w[\"nav\"].pct_change()\n",
    "    df_3y_w = df_3y_w.iloc[1:]\n",
    "    std_3y = df_3y_w[\"ret\"].std() * np.sqrt(52)\n",
    "\n",
    "    df_1y_w[\"ret\"] = df_1y_w[\"nav\"].pct_change()\n",
    "    df_1y_w = df_1y_w.iloc[1:]\n",
    "    std_1y = df_1y_w[\"ret\"].std() * np.sqrt(52)\n",
    "\n",
    "    var_3y = -np.minimum(df_3y_w[\"ret\"].quantile(0.025), 0) * np.sqrt(52)\n",
    "\n",
    "    return std_3y, std_1y, var_3y\n",
    "\n",
    "if VALIDATE_PROCESS:\n",
    "    list_std_y = []\n",
    "    for i in trange(len(codes)):\n",
    "        code = codes[i]\n",
    "        list_std_y.append(calc_std_y(code))"
   ]
  },
  {
   "cell_type": "code",
   "execution_count": 14,
   "id": "359fa4ed",
   "metadata": {
    "collapsed": false,
    "execution": {
     "iopub.execute_input": "2022-12-16T08:52:47.479093Z",
     "iopub.status.busy": "2022-12-16T08:52:47.479093Z",
     "iopub.status.idle": "2022-12-16T08:52:47.492100Z",
     "shell.execute_reply": "2022-12-16T08:52:47.491162Z"
    }
   },
   "outputs": [],
   "source": [
    "if VALIDATE_PROCESS:\n",
    "    for code_idx, code in enumerate(codes):\n",
    "        for old_idx, new_name in [(0, 'std_3y'), (1, 'std_1y'), (2, 'var_3y')]:\n",
    "            old_rst = list_std_y[code_idx][old_idx]\n",
    "            new_rst = lists_rst_df.xs(code).xs(new_name)\n",
    "            if not np.isclose(old_rst, new_rst, equal_nan=True):\n",
    "                print(f\"{code=}, {old_rst=}, {new_rst=}, {np.isclose(old_rst, new_rst, equal_nan=True)=}\")"
   ]
  },
  {
   "cell_type": "markdown",
   "id": "6bdfca44",
   "metadata": {
    "collapsed": false
   },
   "source": [
    "## 등급 변환"
   ]
  },
  {
   "cell_type": "code",
   "execution_count": 15,
   "id": "cb2ea50e",
   "metadata": {
    "collapsed": false,
    "execution": {
     "iopub.execute_input": "2022-12-16T08:52:47.495091Z",
     "iopub.status.busy": "2022-12-16T08:52:47.494095Z",
     "iopub.status.idle": "2022-12-16T08:52:47.522955Z",
     "shell.execute_reply": "2022-12-16T08:52:47.521990Z"
    }
   },
   "outputs": [
    {
     "data": {
      "text/html": [
       "<div>\n",
       "<style scoped>\n",
       "    .dataframe tbody tr th:only-of-type {\n",
       "        vertical-align: middle;\n",
       "    }\n",
       "\n",
       "    .dataframe tbody tr th {\n",
       "        vertical-align: top;\n",
       "    }\n",
       "\n",
       "    .dataframe thead th {\n",
       "        text-align: right;\n",
       "    }\n",
       "</style>\n",
       "<table border=\"1\" class=\"dataframe\">\n",
       "  <thead>\n",
       "    <tr style=\"text-align: right;\">\n",
       "      <th></th>\n",
       "      <th>code</th>\n",
       "      <th>std_1y</th>\n",
       "      <th>var_1y</th>\n",
       "      <th>std_3y</th>\n",
       "      <th>var_3y</th>\n",
       "      <th>risk_std_1y</th>\n",
       "      <th>risk_std_3y</th>\n",
       "      <th>risk_var_3y</th>\n",
       "    </tr>\n",
       "  </thead>\n",
       "  <tbody>\n",
       "    <tr>\n",
       "      <th>0</th>\n",
       "      <td>K55101B44423</td>\n",
       "      <td>0.341780</td>\n",
       "      <td>0.615237</td>\n",
       "      <td>0.349596</td>\n",
       "      <td>0.670413</td>\n",
       "      <td>3등급</td>\n",
       "      <td>3등급</td>\n",
       "      <td>2등급</td>\n",
       "    </tr>\n",
       "    <tr>\n",
       "      <th>1</th>\n",
       "      <td>K55101B84817</td>\n",
       "      <td>0.238684</td>\n",
       "      <td>0.619014</td>\n",
       "      <td>0.238684</td>\n",
       "      <td>0.619014</td>\n",
       "      <td>4등급</td>\n",
       "      <td>4등급</td>\n",
       "      <td>2등급</td>\n",
       "    </tr>\n",
       "    <tr>\n",
       "      <th>2</th>\n",
       "      <td>K55105B57004</td>\n",
       "      <td>0.114156</td>\n",
       "      <td>0.121484</td>\n",
       "      <td>0.149792</td>\n",
       "      <td>0.379568</td>\n",
       "      <td>4등급</td>\n",
       "      <td>4등급</td>\n",
       "      <td>3등급</td>\n",
       "    </tr>\n",
       "    <tr>\n",
       "      <th>3</th>\n",
       "      <td>K55105BJ8567</td>\n",
       "      <td>0.474669</td>\n",
       "      <td>0.747520</td>\n",
       "      <td>0.633390</td>\n",
       "      <td>1.227256</td>\n",
       "      <td>3등급</td>\n",
       "      <td>2등급</td>\n",
       "      <td>1등급</td>\n",
       "    </tr>\n",
       "    <tr>\n",
       "      <th>4</th>\n",
       "      <td>K55105BJ8583</td>\n",
       "      <td>0.095576</td>\n",
       "      <td>0.178762</td>\n",
       "      <td>0.086806</td>\n",
       "      <td>0.178005</td>\n",
       "      <td>5등급</td>\n",
       "      <td>5등급</td>\n",
       "      <td>4등급</td>\n",
       "    </tr>\n",
       "    <tr>\n",
       "      <th>...</th>\n",
       "      <td>...</td>\n",
       "      <td>...</td>\n",
       "      <td>...</td>\n",
       "      <td>...</td>\n",
       "      <td>...</td>\n",
       "      <td>...</td>\n",
       "      <td>...</td>\n",
       "      <td>...</td>\n",
       "    </tr>\n",
       "    <tr>\n",
       "      <th>159</th>\n",
       "      <td>KR5307167506</td>\n",
       "      <td>0.092412</td>\n",
       "      <td>0.166723</td>\n",
       "      <td>0.122782</td>\n",
       "      <td>0.228884</td>\n",
       "      <td>5등급</td>\n",
       "      <td>4등급</td>\n",
       "      <td>4등급</td>\n",
       "    </tr>\n",
       "    <tr>\n",
       "      <th>160</th>\n",
       "      <td>KR5307167514</td>\n",
       "      <td>0.092474</td>\n",
       "      <td>0.167110</td>\n",
       "      <td>0.122814</td>\n",
       "      <td>0.229282</td>\n",
       "      <td>5등급</td>\n",
       "      <td>4등급</td>\n",
       "      <td>4등급</td>\n",
       "    </tr>\n",
       "    <tr>\n",
       "      <th>161</th>\n",
       "      <td>KR5307167522</td>\n",
       "      <td>0.092394</td>\n",
       "      <td>0.166719</td>\n",
       "      <td>0.122771</td>\n",
       "      <td>0.229361</td>\n",
       "      <td>5등급</td>\n",
       "      <td>4등급</td>\n",
       "      <td>4등급</td>\n",
       "    </tr>\n",
       "    <tr>\n",
       "      <th>162</th>\n",
       "      <td>KR5307167530</td>\n",
       "      <td>0.092312</td>\n",
       "      <td>0.166506</td>\n",
       "      <td>0.122777</td>\n",
       "      <td>0.229390</td>\n",
       "      <td>5등급</td>\n",
       "      <td>4등급</td>\n",
       "      <td>4등급</td>\n",
       "    </tr>\n",
       "    <tr>\n",
       "      <th>163</th>\n",
       "      <td>KR5307167548</td>\n",
       "      <td>0.092417</td>\n",
       "      <td>0.166862</td>\n",
       "      <td>0.122773</td>\n",
       "      <td>0.229218</td>\n",
       "      <td>5등급</td>\n",
       "      <td>4등급</td>\n",
       "      <td>4등급</td>\n",
       "    </tr>\n",
       "  </tbody>\n",
       "</table>\n",
       "<p>164 rows × 8 columns</p>\n",
       "</div>"
      ],
      "text/plain": [
       "             code    std_1y    var_1y    std_3y    var_3y risk_std_1y  \\\n",
       "0    K55101B44423  0.341780  0.615237  0.349596  0.670413         3등급   \n",
       "1    K55101B84817  0.238684  0.619014  0.238684  0.619014         4등급   \n",
       "2    K55105B57004  0.114156  0.121484  0.149792  0.379568         4등급   \n",
       "3    K55105BJ8567  0.474669  0.747520  0.633390  1.227256         3등급   \n",
       "4    K55105BJ8583  0.095576  0.178762  0.086806  0.178005         5등급   \n",
       "..            ...       ...       ...       ...       ...         ...   \n",
       "159  KR5307167506  0.092412  0.166723  0.122782  0.228884         5등급   \n",
       "160  KR5307167514  0.092474  0.167110  0.122814  0.229282         5등급   \n",
       "161  KR5307167522  0.092394  0.166719  0.122771  0.229361         5등급   \n",
       "162  KR5307167530  0.092312  0.166506  0.122777  0.229390         5등급   \n",
       "163  KR5307167548  0.092417  0.166862  0.122773  0.229218         5등급   \n",
       "\n",
       "    risk_std_3y risk_var_3y  \n",
       "0           3등급         2등급  \n",
       "1           4등급         2등급  \n",
       "2           4등급         3등급  \n",
       "3           2등급         1등급  \n",
       "4           5등급         4등급  \n",
       "..          ...         ...  \n",
       "159         4등급         4등급  \n",
       "160         4등급         4등급  \n",
       "161         4등급         4등급  \n",
       "162         4등급         4등급  \n",
       "163         4등급         4등급  \n",
       "\n",
       "[164 rows x 8 columns]"
      ]
     },
     "execution_count": 15,
     "metadata": {},
     "output_type": "execute_result"
    }
   ],
   "source": [
    "labels = [\"6등급\", \"5등급\", \"4등급\", \"3등급\", \"2등급\", \"1등급\"]\n",
    "cut_fn = functools.partial(pd.cut, bins=BINS, labels=labels)\n",
    "\n",
    "lists_lb_df = lists_rst_df.assign(\n",
    "    risk_std_1y=cut_fn(lists_rst_df['std_1y']),\n",
    "    risk_std_3y=cut_fn(lists_rst_df['std_3y']),\n",
    "    # risk_var_1y=cut_fn(lists_rst_df['var_1y']),\n",
    "    risk_var_3y=cut_fn(lists_rst_df['var_3y']))\n",
    "lists_lb_df.dropna(inplace=True)\n",
    "lists_lb_df.reset_index(inplace=True)\n",
    "\n",
    "lists_lb_df"
   ]
  },
  {
   "cell_type": "markdown",
   "id": "dab72f47",
   "metadata": {
    "collapsed": false
   },
   "source": [
    "#### 프로세스 테스트"
   ]
  },
  {
   "cell_type": "code",
   "execution_count": 16,
   "id": "e0aa081c-7f0d-4f1b-ae74-00a27747aaa5",
   "metadata": {
    "execution": {
     "iopub.execute_input": "2022-12-16T08:52:47.526956Z",
     "iopub.status.busy": "2022-12-16T08:52:47.526956Z",
     "iopub.status.idle": "2022-12-16T08:52:47.538954Z",
     "shell.execute_reply": "2022-12-16T08:52:47.537986Z"
    }
   },
   "outputs": [],
   "source": [
    "if VALIDATE_PROCESS:\n",
    "    list_std_3y, list_std_1y, list_var_3y = zip(*list_std_y)\n",
    "\n",
    "    df_result = pd.DataFrame({\n",
    "        \"code\": codes,\n",
    "        \"std_3y\": list_std_3y,\n",
    "        \"std_1y\": list_std_1y,\n",
    "        \"var_3y\": list_var_3y,\n",
    "    })\n",
    "\n",
    "    bins = [0, 0.005, 0.05, 0.10, 0.15, 0.25, float(\"inf\")]\n",
    "    labels = [\"6등급\", \"5등급\", \"4등급\", \"3등급\", \"2등급\", \"1등급\"]\n",
    "\n",
    "    df_result[\"risk_std_3y\"] = pd.cut(df_result.std_3y, bins=bins, labels=labels)\n",
    "    df_result[\"risk_std_1y\"] = pd.cut(df_result.std_1y, bins=bins, labels=labels)\n",
    "    df_result[\"risk_var_3y\"] = pd.cut(df_result.var_3y, bins=bins, labels=labels)\n",
    "\n",
    "    df_result = df_result.dropna()"
   ]
  },
  {
   "cell_type": "code",
   "execution_count": 17,
   "id": "c3e75562-b9ea-4c95-9a11-004be639146b",
   "metadata": {
    "execution": {
     "iopub.execute_input": "2022-12-16T08:52:47.541954Z",
     "iopub.status.busy": "2022-12-16T08:52:47.541954Z",
     "iopub.status.idle": "2022-12-16T08:52:47.554069Z",
     "shell.execute_reply": "2022-12-16T08:52:47.553355Z"
    }
   },
   "outputs": [],
   "source": [
    "if VALIDATE_PROCESS:\n",
    "    display(\n",
    "        (lists_lb_df[['code', 'risk_std_1y', 'risk_std_3y', 'risk_var_3y']].set_index(['code'])\n",
    "        == df_result[['code', 'risk_std_1y', 'risk_std_3y', 'risk_var_3y']].set_index(['code'])).all())"
   ]
  },
  {
   "cell_type": "markdown",
   "id": "7093a90e-9367-40e8-bb58-fc375b2c7f0d",
   "metadata": {},
   "source": [
    "## 등급 결과 출력"
   ]
  },
  {
   "cell_type": "code",
   "execution_count": 18,
   "id": "7d74f1a2-a5b2-4b5a-b1e4-7356deb7fb2c",
   "metadata": {
    "execution": {
     "iopub.execute_input": "2022-12-16T08:52:47.557100Z",
     "iopub.status.busy": "2022-12-16T08:52:47.557100Z",
     "iopub.status.idle": "2022-12-16T08:52:47.570214Z",
     "shell.execute_reply": "2022-12-16T08:52:47.569172Z"
    }
   },
   "outputs": [],
   "source": [
    "os.makedirs('result', exist_ok=True)\n",
    "lists_lb_df.to_csv(f'result/RESULT_{type_no}_{type_name}.csv', index=False)"
   ]
  },
  {
   "cell_type": "markdown",
   "id": "2ed08a3d-eb09-4f1f-83a5-987be9b9d584",
   "metadata": {},
   "source": [
    "## 시각화"
   ]
  },
  {
   "cell_type": "code",
   "execution_count": 19,
   "id": "a2981513-60e5-4604-8fee-235d898df378",
   "metadata": {
    "execution": {
     "iopub.execute_input": "2022-12-16T08:52:47.573179Z",
     "iopub.status.busy": "2022-12-16T08:52:47.573179Z",
     "iopub.status.idle": "2022-12-16T08:52:47.664496Z",
     "shell.execute_reply": "2022-12-16T08:52:47.663616Z"
    }
   },
   "outputs": [
    {
     "data": {
      "text/html": [
       "<style type=\"text/css\">\n",
       "#T_20b59_row0_col0, #T_20b59_row0_col1, #T_20b59_row5_col0, #T_20b59_row5_col1, #T_20b59_row5_col2 {\n",
       "  background-color: #fff7fb;\n",
       "  color: #000000;\n",
       "}\n",
       "#T_20b59_row0_col2 {\n",
       "  background-color: #d5d5e8;\n",
       "  color: #000000;\n",
       "}\n",
       "#T_20b59_row1_col0, #T_20b59_row2_col0 {\n",
       "  background-color: #f3edf5;\n",
       "  color: #000000;\n",
       "}\n",
       "#T_20b59_row1_col1 {\n",
       "  background-color: #fdf5fa;\n",
       "  color: #000000;\n",
       "}\n",
       "#T_20b59_row1_col2 {\n",
       "  background-color: #dcdaeb;\n",
       "  color: #000000;\n",
       "}\n",
       "#T_20b59_row2_col1 {\n",
       "  background-color: #e6e2ef;\n",
       "  color: #000000;\n",
       "}\n",
       "#T_20b59_row2_col2, #T_20b59_row3_col0, #T_20b59_row3_col1 {\n",
       "  background-color: #023858;\n",
       "  color: #f1f1f1;\n",
       "}\n",
       "#T_20b59_row3_col2 {\n",
       "  background-color: #c1cae2;\n",
       "  color: #000000;\n",
       "}\n",
       "#T_20b59_row4_col0 {\n",
       "  background-color: #e8e4f0;\n",
       "  color: #000000;\n",
       "}\n",
       "#T_20b59_row4_col1 {\n",
       "  background-color: #d2d3e7;\n",
       "  color: #000000;\n",
       "}\n",
       "#T_20b59_row4_col2 {\n",
       "  background-color: #f5eff6;\n",
       "  color: #000000;\n",
       "}\n",
       "</style>\n",
       "<table id=\"T_20b59\">\n",
       "  <thead>\n",
       "    <tr>\n",
       "      <th class=\"blank level0\" >&nbsp;</th>\n",
       "      <th id=\"T_20b59_level0_col0\" class=\"col_heading level0 col0\" >3년 표준편차</th>\n",
       "      <th id=\"T_20b59_level0_col1\" class=\"col_heading level0 col1\" >1년 표준편차</th>\n",
       "      <th id=\"T_20b59_level0_col2\" class=\"col_heading level0 col2\" >3년 VaR</th>\n",
       "    </tr>\n",
       "    <tr>\n",
       "      <th class=\"index_name level0\" >등급</th>\n",
       "      <th class=\"blank col0\" >&nbsp;</th>\n",
       "      <th class=\"blank col1\" >&nbsp;</th>\n",
       "      <th class=\"blank col2\" >&nbsp;</th>\n",
       "    </tr>\n",
       "  </thead>\n",
       "  <tbody>\n",
       "    <tr>\n",
       "      <th id=\"T_20b59_level0_row0\" class=\"row_heading level0 row0\" >1등급</th>\n",
       "      <td id=\"T_20b59_row0_col0\" class=\"data row0 col0\" >0</td>\n",
       "      <td id=\"T_20b59_row0_col1\" class=\"data row0 col1\" >0</td>\n",
       "      <td id=\"T_20b59_row0_col2\" class=\"data row0 col2\" >21</td>\n",
       "    </tr>\n",
       "    <tr>\n",
       "      <th id=\"T_20b59_level0_row1\" class=\"row_heading level0 row1\" >2등급</th>\n",
       "      <td id=\"T_20b59_row1_col0\" class=\"data row1 col0\" >10</td>\n",
       "      <td id=\"T_20b59_row1_col1\" class=\"data row1 col1\" >2</td>\n",
       "      <td id=\"T_20b59_row1_col2\" class=\"data row1 col2\" >18</td>\n",
       "    </tr>\n",
       "    <tr>\n",
       "      <th id=\"T_20b59_level0_row2\" class=\"row_heading level0 row2\" >3등급</th>\n",
       "      <td id=\"T_20b59_row2_col0\" class=\"data row2 col0\" >10</td>\n",
       "      <td id=\"T_20b59_row2_col1\" class=\"data row2 col1\" >18</td>\n",
       "      <td id=\"T_20b59_row2_col2\" class=\"data row2 col2\" >92</td>\n",
       "    </tr>\n",
       "    <tr>\n",
       "      <th id=\"T_20b59_level0_row3\" class=\"row_heading level0 row3\" >4등급</th>\n",
       "      <td id=\"T_20b59_row3_col0\" class=\"data row3 col0\" >126</td>\n",
       "      <td id=\"T_20b59_row3_col1\" class=\"data row3 col1\" >116</td>\n",
       "      <td id=\"T_20b59_row3_col2\" class=\"data row3 col2\" >27</td>\n",
       "    </tr>\n",
       "    <tr>\n",
       "      <th id=\"T_20b59_level0_row4\" class=\"row_heading level0 row4\" >5등급</th>\n",
       "      <td id=\"T_20b59_row4_col0\" class=\"data row4 col0\" >18</td>\n",
       "      <td id=\"T_20b59_row4_col1\" class=\"data row4 col1\" >28</td>\n",
       "      <td id=\"T_20b59_row4_col2\" class=\"data row4 col2\" >6</td>\n",
       "    </tr>\n",
       "    <tr>\n",
       "      <th id=\"T_20b59_level0_row5\" class=\"row_heading level0 row5\" >6등급</th>\n",
       "      <td id=\"T_20b59_row5_col0\" class=\"data row5 col0\" >0</td>\n",
       "      <td id=\"T_20b59_row5_col1\" class=\"data row5 col1\" >0</td>\n",
       "      <td id=\"T_20b59_row5_col2\" class=\"data row5 col2\" >0</td>\n",
       "    </tr>\n",
       "  </tbody>\n",
       "</table>\n"
      ],
      "text/plain": [
       "<pandas.io.formats.style.Styler at 0x1dec12195b0>"
      ]
     },
     "execution_count": 19,
     "metadata": {},
     "output_type": "execute_result"
    }
   ],
   "source": [
    "risk_std_3y_stat_df = lists_lb_df[\"risk_std_3y\"].value_counts().sort_index(ascending=False)\n",
    "risk_std_1y_stat_df = lists_lb_df[\"risk_std_1y\"].value_counts().sort_index(ascending=False)\n",
    "risk_var_3y_stat_df = lists_lb_df[\"risk_var_3y\"].value_counts().sort_index(ascending=False)\n",
    "stat_df = pd.concat([risk_std_3y_stat_df, risk_std_1y_stat_df, risk_var_3y_stat_df], axis=1)\n",
    "stat_df = stat_df.rename(columns={\"risk_std_3y\": \"3년 표준편차\", \"risk_std_1y\": \"1년 표준편차\", \"risk_var_3y\": \"3년 VaR\"})\n",
    "stat_df.reset_index(names=['등급'], inplace=True)\n",
    "\n",
    "stat_df.set_index('등급').style.background_gradient()"
   ]
  },
  {
   "cell_type": "code",
   "execution_count": 20,
   "id": "2ecfd0b2-0548-41e1-a6ed-9abd2da5b7c8",
   "metadata": {
    "execution": {
     "iopub.execute_input": "2022-12-16T08:52:47.668497Z",
     "iopub.status.busy": "2022-12-16T08:52:47.667495Z",
     "iopub.status.idle": "2022-12-16T08:52:47.932500Z",
     "shell.execute_reply": "2022-12-16T08:52:47.930576Z"
    }
   },
   "outputs": [
    {
     "data": {
      "image/png": "[encoded data removed]",
      "text/plain": [
       "<Figure size 640x480 with 1 Axes>"
      ]
     },
     "metadata": {},
     "output_type": "display_data"
    }
   ],
   "source": [
    "def show_values(axs, orient=\"v\", space=.01):\n",
    "    def _single(ax):\n",
    "        if orient == \"v\":\n",
    "            for p in ax.patches:\n",
    "                _x = p.get_x() + p.get_width() / 2\n",
    "                _y = p.get_y() + p.get_height() + (p.get_height() * 0.01)\n",
    "                value = '{:d}'.format(int(p.get_height()))\n",
    "                ax.text(_x, _y, value, ha=\"center\")\n",
    "        elif orient == \"h\":\n",
    "            for p in ax.patches:\n",
    "                _x = p.get_x() + p.get_width() + float(space)\n",
    "                _y = p.get_y() + p.get_height() - (p.get_height() * 0.5)\n",
    "                value = '{:d}'.format(int(p.get_width()))\n",
    "                ax.text(_x, _y, value, ha=\"left\")\n",
    "\n",
    "    if isinstance(axs, np.ndarray):\n",
    "        for idx, ax in np.ndenumerate(axs):\n",
    "            _single(ax)\n",
    "    else:\n",
    "        _single(axs)\n",
    "\n",
    "\n",
    "stat_df_long = (\n",
    "    stat_df\n",
    "    .melt(id_vars=\"등급\", value_vars=[\"3년 표준편차\", \"1년 표준편차\", \"3년 VaR\"], var_name=\"기준\") \\\n",
    "    .rename(columns={\"index\": \"등급\"})\n",
    ")\n",
    "axis = sns.barplot(x=\"등급\", y=\"value\", hue=\"기준\", data=stat_df_long)\n",
    "axis.set_title(f\"{type_name} 펀드 위험등급 분포\")\n",
    "show_values(axis)"
   ]
  },
  {
   "cell_type": "markdown",
   "id": "1f9227c4-c788-429d-b8d4-fc278ba29d24",
   "metadata": {},
   "source": [
    "## 통계 결과 출력"
   ]
  },
  {
   "cell_type": "code",
   "execution_count": 21,
   "id": "68fbd533-f46e-4cd6-9c35-28c3ae50830d",
   "metadata": {
    "execution": {
     "iopub.execute_input": "2022-12-16T08:52:47.938504Z",
     "iopub.status.busy": "2022-12-16T08:52:47.937501Z",
     "iopub.status.idle": "2022-12-16T08:52:47.946568Z",
     "shell.execute_reply": "2022-12-16T08:52:47.946568Z"
    }
   },
   "outputs": [],
   "source": [
    "os.makedirs('result', exist_ok=True)\n",
    "stat_df.to_csv(f'result/STATISTICS_{type_no}_{type_name}.csv', index=False)"
   ]
  }
 ],
 "metadata": {
  "kernelspec": {
   "display_name": "Python 3 (ipykernel)",
   "language": "python",
   "name": "python3"
  },
  "language_info": {
   "codemirror_mode": {
    "name": "ipython",
    "version": 3
   },
   "file_extension": ".py",
   "mimetype": "text/x-python",
   "name": "python",
   "nbconvert_exporter": "python",
   "pygments_lexer": "ipython3",
   "version": "3.9.13"
  },
  "toc-autonumbering": true,
  "toc-showcode": false,
  "toc-showmarkdowntxt": false
 },
 "nbformat": 4,
 "nbformat_minor": 5
}
