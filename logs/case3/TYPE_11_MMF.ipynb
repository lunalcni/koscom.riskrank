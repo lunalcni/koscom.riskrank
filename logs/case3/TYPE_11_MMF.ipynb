{
 "cells": [
  {
   "cell_type": "markdown",
   "id": "2dd67b7b-b151-49b1-955e-dd7627677a4e",
   "metadata": {},
   "source": [
    "# 펀드 위험등급 산출"
   ]
  },
  {
   "cell_type": "markdown",
   "id": "b3e20237-dc40-4627-a953-52539fea6148",
   "metadata": {},
   "source": [
    "## 패키지 로드"
   ]
  },
  {
   "cell_type": "code",
   "execution_count": 1,
   "id": "103faeb9-9c7b-46f1-8ddb-e8e438626b60",
   "metadata": {
    "execution": {
     "iopub.execute_input": "2022-12-21T01:34:05.766155Z",
     "iopub.status.busy": "2022-12-21T01:34:05.764158Z",
     "iopub.status.idle": "2022-12-21T01:34:06.263830Z",
     "shell.execute_reply": "2022-12-21T01:34:06.263018Z"
    }
   },
   "outputs": [],
   "source": [
    "%matplotlib inline"
   ]
  },
  {
   "cell_type": "code",
   "execution_count": 2,
   "id": "2ead0865-2adf-4384-9e33-e05ad2246056",
   "metadata": {
    "execution": {
     "iopub.execute_input": "2022-12-21T01:34:06.267852Z",
     "iopub.status.busy": "2022-12-21T01:34:06.266853Z",
     "iopub.status.idle": "2022-12-21T01:34:06.805598Z",
     "shell.execute_reply": "2022-12-21T01:34:06.804801Z"
    }
   },
   "outputs": [],
   "source": [
    "import functools\n",
    "import os\n",
    "import re\n",
    "from collections import defaultdict\n",
    "from pathlib import Path\n",
    "\n",
    "import matplotlib.pyplot as plt\n",
    "import numpy as np\n",
    "import pandas as pd\n",
    "import seaborn as sns\n",
    "from tqdm import trange"
   ]
  },
  {
   "cell_type": "code",
   "execution_count": 3,
   "id": "b7a6aa46",
   "metadata": {
    "collapsed": false,
    "execution": {
     "iopub.execute_input": "2022-12-21T01:34:06.809609Z",
     "iopub.status.busy": "2022-12-21T01:34:06.808627Z",
     "iopub.status.idle": "2022-12-21T01:34:06.819595Z",
     "shell.execute_reply": "2022-12-21T01:34:06.819595Z"
    }
   },
   "outputs": [],
   "source": [
    "plt.rc('font', family='Malgun Gothic')  # For Windows"
   ]
  },
  {
   "cell_type": "markdown",
   "id": "dbde3fb0",
   "metadata": {
    "collapsed": false
   },
   "source": [
    "## 변수 정의"
   ]
  },
  {
   "cell_type": "code",
   "execution_count": 4,
   "id": "de84ec52",
   "metadata": {
    "collapsed": false,
    "execution": {
     "iopub.execute_input": "2022-12-21T01:34:06.823596Z",
     "iopub.status.busy": "2022-12-21T01:34:06.822634Z",
     "iopub.status.idle": "2022-12-21T01:34:06.834628Z",
     "shell.execute_reply": "2022-12-21T01:34:06.834628Z"
    }
   },
   "outputs": [
    {
     "name": "stdout",
     "output_type": "stream",
     "text": [
      "TEST_PROCESS=False, VALIDATE_PROCESS=False, DATA_FILEPATH='data\\\\TYPE_11_MMF.csv', BINS={'std_1y': [0, 0.005, 0.05, 0.1, 0.15, 0.25, inf], 'std_3y': [0, 0.005, 0.05, 0.1, 0.15, 0.25, inf], 'var_3y': [0, 0.005, 0.05, 0.1, 0.2, 0.3, inf]}, DICT_BINS={'std_1y': [0, 0.005, 0.05, 0.1, 0.15, 0.25, inf], 'std_3y': [0, 0.005, 0.05, 0.1, 0.15, 0.25, inf], 'var_3y': [0, 0.005, 0.05, 0.1, 0.2, 0.3, inf]}\n"
     ]
    }
   ],
   "source": [
    "TEST_PROCESS = eval(os.environ.get('TEST_PROCESS', 'True'))\n",
    "VALIDATE_PROCESS = eval(os.environ.get('VALIDATE_PROCESS', 'True'))\n",
    "DATA_FILEPATH = os.environ.get('DATA_FILEPATH', './data/TYPE_10_채권형.csv')\n",
    "BINS = eval(os.environ.get('BINS', '[0, 0.005, 0a.05, 0.10, 0.15, 0.25, float(\"inf\")]'))\n",
    "\n",
    "if isinstance(BINS, list):\n",
    "    DICT_BINS = defaultdict(lambda: BINS)\n",
    "elif isinstance(BINS, dict):\n",
    "    assert all(idx_col in BINS for idx_col in ['std_1y', 'std_3y', 'var_3y'])\n",
    "    DICT_BINS = BINS\n",
    "\n",
    "print(f'{TEST_PROCESS=}, {VALIDATE_PROCESS=}, {DATA_FILEPATH=}, {BINS=}, {DICT_BINS=}')"
   ]
  },
  {
   "cell_type": "markdown",
   "id": "06fe4bbb",
   "metadata": {
    "collapsed": false
   },
   "source": [
    "## 타입 추출"
   ]
  },
  {
   "cell_type": "code",
   "execution_count": 5,
   "id": "9613fca5-40ff-41c8-a061-d9c23223c365",
   "metadata": {
    "execution": {
     "iopub.execute_input": "2022-12-21T01:34:06.838610Z",
     "iopub.status.busy": "2022-12-21T01:34:06.837595Z",
     "iopub.status.idle": "2022-12-21T01:34:06.849626Z",
     "shell.execute_reply": "2022-12-21T01:34:06.849626Z"
    }
   },
   "outputs": [
    {
     "data": {
      "text/plain": [
       "('11', 'MMF')"
      ]
     },
     "execution_count": 5,
     "metadata": {},
     "output_type": "execute_result"
    }
   ],
   "source": [
    "filepath = Path(DATA_FILEPATH)\n",
    "filename_pattern = re.compile(r'TYPE_([0-9]+)_([^_]+)\\.csv')\n",
    "\n",
    "match_rst = re.fullmatch(filename_pattern, filepath.name)\n",
    "type_no, type_name = match_rst.groups()\n",
    "\n",
    "type_no, type_name"
   ]
  },
  {
   "cell_type": "markdown",
   "id": "3a02a33b-ddc6-446a-88c3-37887ffe4768",
   "metadata": {},
   "source": [
    "## 데이터 로드"
   ]
  },
  {
   "cell_type": "code",
   "execution_count": 6,
   "id": "a4260092-7f8c-48a7-a523-7b72bc350181",
   "metadata": {
    "execution": {
     "iopub.execute_input": "2022-12-21T01:34:06.853596Z",
     "iopub.status.busy": "2022-12-21T01:34:06.852627Z",
     "iopub.status.idle": "2022-12-21T01:34:07.360801Z",
     "shell.execute_reply": "2022-12-21T01:34:07.359999Z"
    }
   },
   "outputs": [
    {
     "name": "stdout",
     "output_type": "stream",
     "text": [
      "len(codes)=448\n"
     ]
    }
   ],
   "source": [
    "lists_wo_idx_df = pd.read_csv(filepath, names=[\"date\", \"code\", \"nav\"], usecols=[0, 1, 2], parse_dates=[0])\n",
    "lists_df = lists_wo_idx_df.set_index(['code', 'date'])\n",
    "\n",
    "codes = lists_df.index.get_level_values('code').unique()\n",
    "print(f\"{len(codes)=}\")"
   ]
  },
  {
   "cell_type": "markdown",
   "id": "01fae8c2",
   "metadata": {
    "collapsed": false
   },
   "source": [
    "## 수치 산출 테스트\n",
    "\n",
    "1년을 기준으로 프로세스 정의"
   ]
  },
  {
   "cell_type": "markdown",
   "id": "b4f6d361",
   "metadata": {
    "collapsed": false
   },
   "source": [
    "### 기간 조건 적용"
   ]
  },
  {
   "cell_type": "code",
   "execution_count": 7,
   "id": "5574c067",
   "metadata": {
    "collapsed": false,
    "execution": {
     "iopub.execute_input": "2022-12-21T01:34:07.363824Z",
     "iopub.status.busy": "2022-12-21T01:34:07.363824Z",
     "iopub.status.idle": "2022-12-21T01:34:07.375929Z",
     "shell.execute_reply": "2022-12-21T01:34:07.375107Z"
    }
   },
   "outputs": [],
   "source": [
    "if TEST_PROCESS:\n",
    "    lists_1y_df = pd.concat([\n",
    "        lists_df.xs(code).last('1y').assign(code=code)\n",
    "        for code in codes])\n",
    "    lists_1y_df.reset_index(inplace=True)\n",
    "    display(lists_1y_df)"
   ]
  },
  {
   "cell_type": "markdown",
   "id": "a79722fa",
   "metadata": {
    "collapsed": false
   },
   "source": [
    "### 리샘플링, 퍼센트 체인지 추출"
   ]
  },
  {
   "cell_type": "code",
   "execution_count": 8,
   "id": "dc2f38db",
   "metadata": {
    "collapsed": false,
    "execution": {
     "iopub.execute_input": "2022-12-21T01:34:07.378927Z",
     "iopub.status.busy": "2022-12-21T01:34:07.378927Z",
     "iopub.status.idle": "2022-12-21T01:34:07.390308Z",
     "shell.execute_reply": "2022-12-21T01:34:07.390308Z"
    }
   },
   "outputs": [],
   "source": [
    "if TEST_PROCESS:\n",
    "    lists_1y_wk_df = lists_1y_df.set_index(['date']).groupby(['code'])[['nav']].resample('W').last()\n",
    "    lists_1y_wk_df = lists_1y_wk_df.assign(ret=lists_1y_wk_df.groupby(['code'])[['nav']].pct_change())\n",
    "    display(lists_1y_wk_df)"
   ]
  },
  {
   "cell_type": "markdown",
   "id": "0f0f372c",
   "metadata": {
    "collapsed": false
   },
   "source": [
    "### 표준편차 산출"
   ]
  },
  {
   "cell_type": "code",
   "execution_count": 9,
   "id": "15719ab6",
   "metadata": {
    "collapsed": false,
    "execution": {
     "iopub.execute_input": "2022-12-21T01:34:07.393303Z",
     "iopub.status.busy": "2022-12-21T01:34:07.393303Z",
     "iopub.status.idle": "2022-12-21T01:34:07.406986Z",
     "shell.execute_reply": "2022-12-21T01:34:07.406100Z"
    }
   },
   "outputs": [],
   "source": [
    "if TEST_PROCESS:\n",
    "    lists_1y_std_df = lists_1y_wk_df.groupby(['code'])[['ret']].std(numeric_only=True) * np.sqrt(52)\n",
    "    lists_1y_std_df.reset_index(inplace=True)\n",
    "    lists_1y_std_df.rename(columns={'ret': 'std_1y'}, inplace=True)\n",
    "    display(lists_1y_std_df)"
   ]
  },
  {
   "cell_type": "markdown",
   "id": "64e8d893",
   "metadata": {
    "collapsed": false
   },
   "source": [
    "### VaR 산출"
   ]
  },
  {
   "cell_type": "code",
   "execution_count": 10,
   "id": "6e864600",
   "metadata": {
    "collapsed": false,
    "execution": {
     "iopub.execute_input": "2022-12-21T01:34:07.409987Z",
     "iopub.status.busy": "2022-12-21T01:34:07.408984Z",
     "iopub.status.idle": "2022-12-21T01:34:07.422525Z",
     "shell.execute_reply": "2022-12-21T01:34:07.421050Z"
    }
   },
   "outputs": [],
   "source": [
    "if TEST_PROCESS:\n",
    "    lists_1y_var_df = lists_1y_wk_df.groupby(['code'])[['ret']].quantile(0.025, numeric_only=True)\n",
    "    lists_1y_var_df = np.minimum(lists_1y_var_df, 0) * -1 * np.sqrt(52)\n",
    "    lists_1y_var_df.rename(columns={'ret': 'var_1y'}, inplace=True)\n",
    "    display(lists_1y_var_df)"
   ]
  },
  {
   "cell_type": "markdown",
   "id": "d702c220",
   "metadata": {
    "collapsed": false
   },
   "source": [
    "## 수치 산출 프로세스 정의"
   ]
  },
  {
   "cell_type": "code",
   "execution_count": 11,
   "id": "e933c61d",
   "metadata": {
    "collapsed": false,
    "execution": {
     "iopub.execute_input": "2022-12-21T01:34:07.430547Z",
     "iopub.status.busy": "2022-12-21T01:34:07.429549Z",
     "iopub.status.idle": "2022-12-21T01:34:07.438567Z",
     "shell.execute_reply": "2022-12-21T01:34:07.436547Z"
    }
   },
   "outputs": [],
   "source": [
    "offsets = ['1y', '3y']"
   ]
  },
  {
   "cell_type": "code",
   "execution_count": 12,
   "id": "1ba8bc16",
   "metadata": {
    "collapsed": false,
    "execution": {
     "iopub.execute_input": "2022-12-21T01:34:07.445544Z",
     "iopub.status.busy": "2022-12-21T01:34:07.444549Z",
     "iopub.status.idle": "2022-12-21T01:34:10.484609Z",
     "shell.execute_reply": "2022-12-21T01:34:10.483609Z"
    }
   },
   "outputs": [
    {
     "name": "stdout",
     "output_type": "stream",
     "text": [
      "CPU times: total: 2.98 s\n",
      "Wall time: 3.01 s\n"
     ]
    },
    {
     "data": {
      "text/html": [
       "<div>\n",
       "<style scoped>\n",
       "    .dataframe tbody tr th:only-of-type {\n",
       "        vertical-align: middle;\n",
       "    }\n",
       "\n",
       "    .dataframe tbody tr th {\n",
       "        vertical-align: top;\n",
       "    }\n",
       "\n",
       "    .dataframe thead th {\n",
       "        text-align: right;\n",
       "    }\n",
       "</style>\n",
       "<table border=\"1\" class=\"dataframe\">\n",
       "  <thead>\n",
       "    <tr style=\"text-align: right;\">\n",
       "      <th></th>\n",
       "      <th>std_1y</th>\n",
       "      <th>var_1y</th>\n",
       "      <th>std_3y</th>\n",
       "      <th>var_3y</th>\n",
       "    </tr>\n",
       "    <tr>\n",
       "      <th>code</th>\n",
       "      <th></th>\n",
       "      <th></th>\n",
       "      <th></th>\n",
       "      <th></th>\n",
       "    </tr>\n",
       "  </thead>\n",
       "  <tbody>\n",
       "    <tr>\n",
       "      <th>K55101B72028</th>\n",
       "      <td>0.000891</td>\n",
       "      <td>-0.0</td>\n",
       "      <td>0.013378</td>\n",
       "      <td>-0.0</td>\n",
       "    </tr>\n",
       "    <tr>\n",
       "      <th>K55101B72036</th>\n",
       "      <td>0.000892</td>\n",
       "      <td>-0.0</td>\n",
       "      <td>0.013655</td>\n",
       "      <td>-0.0</td>\n",
       "    </tr>\n",
       "    <tr>\n",
       "      <th>K55101BC8873</th>\n",
       "      <td>0.009169</td>\n",
       "      <td>-0.0</td>\n",
       "      <td>0.011201</td>\n",
       "      <td>-0.0</td>\n",
       "    </tr>\n",
       "    <tr>\n",
       "      <th>K55101BJ6490</th>\n",
       "      <td>0.000913</td>\n",
       "      <td>-0.0</td>\n",
       "      <td>0.006172</td>\n",
       "      <td>-0.0</td>\n",
       "    </tr>\n",
       "    <tr>\n",
       "      <th>K55101BJ6508</th>\n",
       "      <td>0.000912</td>\n",
       "      <td>-0.0</td>\n",
       "      <td>0.006663</td>\n",
       "      <td>-0.0</td>\n",
       "    </tr>\n",
       "    <tr>\n",
       "      <th>...</th>\n",
       "      <td>...</td>\n",
       "      <td>...</td>\n",
       "      <td>...</td>\n",
       "      <td>...</td>\n",
       "    </tr>\n",
       "    <tr>\n",
       "      <th>KR5373144900</th>\n",
       "      <td>0.015841</td>\n",
       "      <td>-0.0</td>\n",
       "      <td>0.014545</td>\n",
       "      <td>-0.0</td>\n",
       "    </tr>\n",
       "    <tr>\n",
       "      <th>KR5373144918</th>\n",
       "      <td>0.011635</td>\n",
       "      <td>-0.0</td>\n",
       "      <td>0.010680</td>\n",
       "      <td>-0.0</td>\n",
       "    </tr>\n",
       "    <tr>\n",
       "      <th>KR5373144926</th>\n",
       "      <td>0.000238</td>\n",
       "      <td>-0.0</td>\n",
       "      <td>0.000238</td>\n",
       "      <td>-0.0</td>\n",
       "    </tr>\n",
       "    <tr>\n",
       "      <th>KR5373AH9029</th>\n",
       "      <td>0.011846</td>\n",
       "      <td>-0.0</td>\n",
       "      <td>0.010872</td>\n",
       "      <td>-0.0</td>\n",
       "    </tr>\n",
       "    <tr>\n",
       "      <th>KR5391A64392</th>\n",
       "      <td>0.001111</td>\n",
       "      <td>-0.0</td>\n",
       "      <td>0.008776</td>\n",
       "      <td>-0.0</td>\n",
       "    </tr>\n",
       "  </tbody>\n",
       "</table>\n",
       "<p>448 rows × 4 columns</p>\n",
       "</div>"
      ],
      "text/plain": [
       "                std_1y  var_1y    std_3y  var_3y\n",
       "code                                            \n",
       "K55101B72028  0.000891    -0.0  0.013378    -0.0\n",
       "K55101B72036  0.000892    -0.0  0.013655    -0.0\n",
       "K55101BC8873  0.009169    -0.0  0.011201    -0.0\n",
       "K55101BJ6490  0.000913    -0.0  0.006172    -0.0\n",
       "K55101BJ6508  0.000912    -0.0  0.006663    -0.0\n",
       "...                ...     ...       ...     ...\n",
       "KR5373144900  0.015841    -0.0  0.014545    -0.0\n",
       "KR5373144918  0.011635    -0.0  0.010680    -0.0\n",
       "KR5373144926  0.000238    -0.0  0.000238    -0.0\n",
       "KR5373AH9029  0.011846    -0.0  0.010872    -0.0\n",
       "KR5391A64392  0.001111    -0.0  0.008776    -0.0\n",
       "\n",
       "[448 rows x 4 columns]"
      ]
     },
     "execution_count": 12,
     "metadata": {},
     "output_type": "execute_result"
    }
   ],
   "source": [
    "%%time\n",
    "\n",
    "lists_rst_dfs = []\n",
    "\n",
    "for offset in offsets:\n",
    "    lists_off_df = pd.concat([\n",
    "        lists_df.xs(code).last(offset).assign(code=code)\n",
    "        for code in codes])\n",
    "    lists_off_df.reset_index(inplace=True)\n",
    "\n",
    "    lists_off_wk_df = lists_off_df.set_index(['date']).groupby(['code'])[['nav']].resample('W').last()\n",
    "    lists_off_wk_df = lists_off_wk_df.assign(ret=lists_off_wk_df.groupby(['code'])[['nav']].pct_change())\n",
    "\n",
    "    lists_off_std_df = lists_off_wk_df.groupby(['code'])[['ret']].std(numeric_only=True) * np.sqrt(52)\n",
    "    lists_off_std_df.rename(columns={'ret': f'std_{offset}'}, inplace=True)\n",
    "\n",
    "    lists_off_var_df = lists_off_wk_df.groupby(['code'])[['ret']].quantile(0.025, numeric_only=True)\n",
    "    lists_off_var_df = np.minimum(lists_off_var_df, 0) * -1 * np.sqrt(52)\n",
    "    lists_off_var_df.rename(columns={'ret': f'var_{offset}'}, inplace=True)\n",
    "\n",
    "    lists_rst_dfs.append(lists_off_std_df)\n",
    "    lists_rst_dfs.append(lists_off_var_df)\n",
    "\n",
    "lists_rst_df = pd.concat(lists_rst_dfs, axis='columns')\n",
    "lists_rst_df"
   ]
  },
  {
   "cell_type": "markdown",
   "id": "660b1ab6",
   "metadata": {
    "collapsed": false
   },
   "source": [
    "### 프로세스 테스트"
   ]
  },
  {
   "cell_type": "code",
   "execution_count": 13,
   "id": "a6cc3475-204e-417d-ac8f-67c33c944c4e",
   "metadata": {
    "execution": {
     "iopub.execute_input": "2022-12-21T01:34:10.487610Z",
     "iopub.status.busy": "2022-12-21T01:34:10.487610Z",
     "iopub.status.idle": "2022-12-21T01:34:10.499618Z",
     "shell.execute_reply": "2022-12-21T01:34:10.498611Z"
    }
   },
   "outputs": [
    {
     "name": "stdout",
     "output_type": "stream",
     "text": [
      "CPU times: total: 0 ns\n",
      "Wall time: 0 ns\n"
     ]
    }
   ],
   "source": [
    "%%time\n",
    "\n",
    "def calc_std_y(code):\n",
    "    df = lists_wo_idx_df[lists_wo_idx_df['code'] == code][[\"date\", \"nav\"]]\n",
    "    df = df.sort_values(by=\"date\")\n",
    "    df = df.set_index(\"date\")\n",
    "\n",
    "    df_1y = df.last(\"1Y\")\n",
    "    df_1y_w = df_1y.resample(\"W\").last()\n",
    "\n",
    "    df_3y = df.last(\"3Y\")\n",
    "    df_3y_w = df_3y.resample(\"W\").last()\n",
    "\n",
    "    df_3y_w[\"ret\"] = df_3y_w[\"nav\"].pct_change()\n",
    "    df_3y_w = df_3y_w.iloc[1:]\n",
    "    std_3y = df_3y_w[\"ret\"].std() * np.sqrt(52)\n",
    "\n",
    "    df_1y_w[\"ret\"] = df_1y_w[\"nav\"].pct_change()\n",
    "    df_1y_w = df_1y_w.iloc[1:]\n",
    "    std_1y = df_1y_w[\"ret\"].std() * np.sqrt(52)\n",
    "\n",
    "    var_3y = -np.minimum(df_3y_w[\"ret\"].quantile(0.025), 0) * np.sqrt(52)\n",
    "\n",
    "    return std_3y, std_1y, var_3y\n",
    "\n",
    "if VALIDATE_PROCESS:\n",
    "    list_std_y = []\n",
    "    for i in trange(len(codes)):\n",
    "        code = codes[i]\n",
    "        list_std_y.append(calc_std_y(code))"
   ]
  },
  {
   "cell_type": "code",
   "execution_count": 14,
   "id": "a92ad090",
   "metadata": {
    "collapsed": false,
    "execution": {
     "iopub.execute_input": "2022-12-21T01:34:10.504609Z",
     "iopub.status.busy": "2022-12-21T01:34:10.503611Z",
     "iopub.status.idle": "2022-12-21T01:34:10.514613Z",
     "shell.execute_reply": "2022-12-21T01:34:10.513610Z"
    }
   },
   "outputs": [],
   "source": [
    "if VALIDATE_PROCESS:\n",
    "    for code_idx, code in enumerate(codes):\n",
    "        for old_idx, new_name in [(0, 'std_3y'), (1, 'std_1y'), (2, 'var_3y')]:\n",
    "            old_rst = list_std_y[code_idx][old_idx]\n",
    "            new_rst = lists_rst_df.xs(code).xs(new_name)\n",
    "            if not np.isclose(old_rst, new_rst, equal_nan=True):\n",
    "                print(f\"{code=}, {old_rst=}, {new_rst=}, {np.isclose(old_rst, new_rst, equal_nan=True)=}\")"
   ]
  },
  {
   "cell_type": "markdown",
   "id": "740c58d4",
   "metadata": {
    "collapsed": false
   },
   "source": [
    "## 등급 변환"
   ]
  },
  {
   "cell_type": "code",
   "execution_count": 15,
   "id": "3e8de0fc",
   "metadata": {
    "collapsed": false,
    "execution": {
     "iopub.execute_input": "2022-12-21T01:34:10.517610Z",
     "iopub.status.busy": "2022-12-21T01:34:10.517610Z",
     "iopub.status.idle": "2022-12-21T01:34:10.559611Z",
     "shell.execute_reply": "2022-12-21T01:34:10.558613Z"
    }
   },
   "outputs": [
    {
     "data": {
      "text/html": [
       "<div>\n",
       "<style scoped>\n",
       "    .dataframe tbody tr th:only-of-type {\n",
       "        vertical-align: middle;\n",
       "    }\n",
       "\n",
       "    .dataframe tbody tr th {\n",
       "        vertical-align: top;\n",
       "    }\n",
       "\n",
       "    .dataframe thead th {\n",
       "        text-align: right;\n",
       "    }\n",
       "</style>\n",
       "<table border=\"1\" class=\"dataframe\">\n",
       "  <thead>\n",
       "    <tr style=\"text-align: right;\">\n",
       "      <th></th>\n",
       "      <th>code</th>\n",
       "      <th>std_1y</th>\n",
       "      <th>var_1y</th>\n",
       "      <th>std_3y</th>\n",
       "      <th>var_3y</th>\n",
       "      <th>risk_std_1y</th>\n",
       "      <th>risk_std_3y</th>\n",
       "      <th>risk_var_3y</th>\n",
       "    </tr>\n",
       "  </thead>\n",
       "  <tbody>\n",
       "    <tr>\n",
       "      <th>0</th>\n",
       "      <td>K55101BV3509</td>\n",
       "      <td>0.052295</td>\n",
       "      <td>-0.000000</td>\n",
       "      <td>0.043111</td>\n",
       "      <td>0.000436</td>\n",
       "      <td>4등급</td>\n",
       "      <td>5등급</td>\n",
       "      <td>6등급</td>\n",
       "    </tr>\n",
       "    <tr>\n",
       "      <th>1</th>\n",
       "      <td>K55101CM2634</td>\n",
       "      <td>0.004937</td>\n",
       "      <td>0.012365</td>\n",
       "      <td>0.004937</td>\n",
       "      <td>0.012365</td>\n",
       "      <td>6등급</td>\n",
       "      <td>6등급</td>\n",
       "      <td>5등급</td>\n",
       "    </tr>\n",
       "    <tr>\n",
       "      <th>2</th>\n",
       "      <td>K55102D80629</td>\n",
       "      <td>0.002997</td>\n",
       "      <td>-0.000000</td>\n",
       "      <td>0.005254</td>\n",
       "      <td>0.001584</td>\n",
       "      <td>6등급</td>\n",
       "      <td>5등급</td>\n",
       "      <td>6등급</td>\n",
       "    </tr>\n",
       "    <tr>\n",
       "      <th>3</th>\n",
       "      <td>K55105CF3330</td>\n",
       "      <td>0.009849</td>\n",
       "      <td>0.012680</td>\n",
       "      <td>0.009849</td>\n",
       "      <td>0.012680</td>\n",
       "      <td>5등급</td>\n",
       "      <td>5등급</td>\n",
       "      <td>5등급</td>\n",
       "    </tr>\n",
       "    <tr>\n",
       "      <th>4</th>\n",
       "      <td>K55105CF8214</td>\n",
       "      <td>0.002938</td>\n",
       "      <td>0.006265</td>\n",
       "      <td>0.002658</td>\n",
       "      <td>0.008639</td>\n",
       "      <td>6등급</td>\n",
       "      <td>6등급</td>\n",
       "      <td>5등급</td>\n",
       "    </tr>\n",
       "    <tr>\n",
       "      <th>5</th>\n",
       "      <td>K55107DA3977</td>\n",
       "      <td>0.001216</td>\n",
       "      <td>0.001845</td>\n",
       "      <td>0.001216</td>\n",
       "      <td>0.001845</td>\n",
       "      <td>6등급</td>\n",
       "      <td>6등급</td>\n",
       "      <td>6등급</td>\n",
       "    </tr>\n",
       "    <tr>\n",
       "      <th>6</th>\n",
       "      <td>K55107DM9780</td>\n",
       "      <td>0.009135</td>\n",
       "      <td>0.014043</td>\n",
       "      <td>0.009135</td>\n",
       "      <td>0.014043</td>\n",
       "      <td>5등급</td>\n",
       "      <td>5등급</td>\n",
       "      <td>5등급</td>\n",
       "    </tr>\n",
       "    <tr>\n",
       "      <th>7</th>\n",
       "      <td>K55205BU9031</td>\n",
       "      <td>0.007790</td>\n",
       "      <td>0.014428</td>\n",
       "      <td>0.007790</td>\n",
       "      <td>0.014428</td>\n",
       "      <td>5등급</td>\n",
       "      <td>5등급</td>\n",
       "      <td>5등급</td>\n",
       "    </tr>\n",
       "    <tr>\n",
       "      <th>8</th>\n",
       "      <td>K55207CR6096</td>\n",
       "      <td>0.019024</td>\n",
       "      <td>-0.000000</td>\n",
       "      <td>0.012462</td>\n",
       "      <td>0.001801</td>\n",
       "      <td>5등급</td>\n",
       "      <td>5등급</td>\n",
       "      <td>6등급</td>\n",
       "    </tr>\n",
       "    <tr>\n",
       "      <th>9</th>\n",
       "      <td>K55214D20537</td>\n",
       "      <td>0.003545</td>\n",
       "      <td>0.007976</td>\n",
       "      <td>0.006978</td>\n",
       "      <td>0.012470</td>\n",
       "      <td>6등급</td>\n",
       "      <td>5등급</td>\n",
       "      <td>5등급</td>\n",
       "    </tr>\n",
       "    <tr>\n",
       "      <th>10</th>\n",
       "      <td>K55223BO2487</td>\n",
       "      <td>0.000345</td>\n",
       "      <td>-0.000000</td>\n",
       "      <td>0.004149</td>\n",
       "      <td>0.007825</td>\n",
       "      <td>6등급</td>\n",
       "      <td>6등급</td>\n",
       "      <td>5등급</td>\n",
       "    </tr>\n",
       "    <tr>\n",
       "      <th>11</th>\n",
       "      <td>K55223BR5933</td>\n",
       "      <td>0.096322</td>\n",
       "      <td>0.193048</td>\n",
       "      <td>0.087458</td>\n",
       "      <td>0.182407</td>\n",
       "      <td>4등급</td>\n",
       "      <td>4등급</td>\n",
       "      <td>3등급</td>\n",
       "    </tr>\n",
       "    <tr>\n",
       "      <th>12</th>\n",
       "      <td>K55223BR5966</td>\n",
       "      <td>0.095681</td>\n",
       "      <td>0.193516</td>\n",
       "      <td>0.086919</td>\n",
       "      <td>0.182877</td>\n",
       "      <td>4등급</td>\n",
       "      <td>4등급</td>\n",
       "      <td>3등급</td>\n",
       "    </tr>\n",
       "    <tr>\n",
       "      <th>13</th>\n",
       "      <td>K55223BR6006</td>\n",
       "      <td>0.095522</td>\n",
       "      <td>0.193657</td>\n",
       "      <td>0.086790</td>\n",
       "      <td>0.183017</td>\n",
       "      <td>4등급</td>\n",
       "      <td>4등급</td>\n",
       "      <td>3등급</td>\n",
       "    </tr>\n",
       "    <tr>\n",
       "      <th>14</th>\n",
       "      <td>K55223BS1113</td>\n",
       "      <td>0.095760</td>\n",
       "      <td>0.193449</td>\n",
       "      <td>0.086986</td>\n",
       "      <td>0.182811</td>\n",
       "      <td>4등급</td>\n",
       "      <td>4등급</td>\n",
       "      <td>3등급</td>\n",
       "    </tr>\n",
       "    <tr>\n",
       "      <th>15</th>\n",
       "      <td>K55223BS1121</td>\n",
       "      <td>0.123439</td>\n",
       "      <td>0.225332</td>\n",
       "      <td>0.088920</td>\n",
       "      <td>0.132680</td>\n",
       "      <td>3등급</td>\n",
       "      <td>4등급</td>\n",
       "      <td>3등급</td>\n",
       "    </tr>\n",
       "    <tr>\n",
       "      <th>16</th>\n",
       "      <td>K55223C06315</td>\n",
       "      <td>0.030928</td>\n",
       "      <td>0.076298</td>\n",
       "      <td>0.010973</td>\n",
       "      <td>0.003283</td>\n",
       "      <td>5등급</td>\n",
       "      <td>5등급</td>\n",
       "      <td>6등급</td>\n",
       "    </tr>\n",
       "    <tr>\n",
       "      <th>17</th>\n",
       "      <td>K55223C06406</td>\n",
       "      <td>0.032770</td>\n",
       "      <td>0.079707</td>\n",
       "      <td>0.011207</td>\n",
       "      <td>0.000500</td>\n",
       "      <td>5등급</td>\n",
       "      <td>5등급</td>\n",
       "      <td>6등급</td>\n",
       "    </tr>\n",
       "    <tr>\n",
       "      <th>18</th>\n",
       "      <td>K55224BB4370</td>\n",
       "      <td>0.011688</td>\n",
       "      <td>0.029086</td>\n",
       "      <td>0.016262</td>\n",
       "      <td>0.001138</td>\n",
       "      <td>5등급</td>\n",
       "      <td>5등급</td>\n",
       "      <td>6등급</td>\n",
       "    </tr>\n",
       "    <tr>\n",
       "      <th>19</th>\n",
       "      <td>K55228DU2599</td>\n",
       "      <td>0.008062</td>\n",
       "      <td>0.016738</td>\n",
       "      <td>0.008062</td>\n",
       "      <td>0.016738</td>\n",
       "      <td>5등급</td>\n",
       "      <td>5등급</td>\n",
       "      <td>5등급</td>\n",
       "    </tr>\n",
       "    <tr>\n",
       "      <th>20</th>\n",
       "      <td>K55229B65716</td>\n",
       "      <td>0.006951</td>\n",
       "      <td>0.007693</td>\n",
       "      <td>0.006916</td>\n",
       "      <td>0.000529</td>\n",
       "      <td>5등급</td>\n",
       "      <td>5등급</td>\n",
       "      <td>6등급</td>\n",
       "    </tr>\n",
       "    <tr>\n",
       "      <th>21</th>\n",
       "      <td>K55229C99895</td>\n",
       "      <td>0.013258</td>\n",
       "      <td>0.000881</td>\n",
       "      <td>0.015447</td>\n",
       "      <td>0.000406</td>\n",
       "      <td>5등급</td>\n",
       "      <td>5등급</td>\n",
       "      <td>6등급</td>\n",
       "    </tr>\n",
       "    <tr>\n",
       "      <th>22</th>\n",
       "      <td>K55229CA1157</td>\n",
       "      <td>0.012433</td>\n",
       "      <td>0.000900</td>\n",
       "      <td>0.014650</td>\n",
       "      <td>0.000468</td>\n",
       "      <td>5등급</td>\n",
       "      <td>5등급</td>\n",
       "      <td>6등급</td>\n",
       "    </tr>\n",
       "    <tr>\n",
       "      <th>23</th>\n",
       "      <td>K55321CF8618</td>\n",
       "      <td>0.016560</td>\n",
       "      <td>0.000550</td>\n",
       "      <td>0.016560</td>\n",
       "      <td>0.000550</td>\n",
       "      <td>5등급</td>\n",
       "      <td>5등급</td>\n",
       "      <td>6등급</td>\n",
       "    </tr>\n",
       "    <tr>\n",
       "      <th>24</th>\n",
       "      <td>KR5101AQ9514</td>\n",
       "      <td>0.008366</td>\n",
       "      <td>-0.000000</td>\n",
       "      <td>0.010474</td>\n",
       "      <td>0.000108</td>\n",
       "      <td>5등급</td>\n",
       "      <td>5등급</td>\n",
       "      <td>6등급</td>\n",
       "    </tr>\n",
       "    <tr>\n",
       "      <th>25</th>\n",
       "      <td>KR5105346195</td>\n",
       "      <td>0.002189</td>\n",
       "      <td>0.008801</td>\n",
       "      <td>0.003759</td>\n",
       "      <td>0.008556</td>\n",
       "      <td>6등급</td>\n",
       "      <td>6등급</td>\n",
       "      <td>5등급</td>\n",
       "    </tr>\n",
       "    <tr>\n",
       "      <th>26</th>\n",
       "      <td>KR5105AR1078</td>\n",
       "      <td>0.004595</td>\n",
       "      <td>0.010571</td>\n",
       "      <td>0.003121</td>\n",
       "      <td>0.008348</td>\n",
       "      <td>6등급</td>\n",
       "      <td>6등급</td>\n",
       "      <td>5등급</td>\n",
       "    </tr>\n",
       "    <tr>\n",
       "      <th>27</th>\n",
       "      <td>KR5206517462</td>\n",
       "      <td>0.015624</td>\n",
       "      <td>0.017597</td>\n",
       "      <td>0.013016</td>\n",
       "      <td>0.010998</td>\n",
       "      <td>5등급</td>\n",
       "      <td>5등급</td>\n",
       "      <td>5등급</td>\n",
       "    </tr>\n",
       "    <tr>\n",
       "      <th>28</th>\n",
       "      <td>KR5206575924</td>\n",
       "      <td>0.023674</td>\n",
       "      <td>-0.000000</td>\n",
       "      <td>0.014187</td>\n",
       "      <td>0.016906</td>\n",
       "      <td>5등급</td>\n",
       "      <td>5등급</td>\n",
       "      <td>5등급</td>\n",
       "    </tr>\n",
       "    <tr>\n",
       "      <th>29</th>\n",
       "      <td>KR5224796015</td>\n",
       "      <td>0.027655</td>\n",
       "      <td>0.059878</td>\n",
       "      <td>0.027655</td>\n",
       "      <td>0.059878</td>\n",
       "      <td>5등급</td>\n",
       "      <td>5등급</td>\n",
       "      <td>4등급</td>\n",
       "    </tr>\n",
       "    <tr>\n",
       "      <th>30</th>\n",
       "      <td>KR5224921209</td>\n",
       "      <td>0.013810</td>\n",
       "      <td>0.034274</td>\n",
       "      <td>0.017548</td>\n",
       "      <td>0.001205</td>\n",
       "      <td>5등급</td>\n",
       "      <td>5등급</td>\n",
       "      <td>6등급</td>\n",
       "    </tr>\n",
       "    <tr>\n",
       "      <th>31</th>\n",
       "      <td>KR5227363623</td>\n",
       "      <td>0.002571</td>\n",
       "      <td>-0.000000</td>\n",
       "      <td>0.005965</td>\n",
       "      <td>0.000072</td>\n",
       "      <td>6등급</td>\n",
       "      <td>5등급</td>\n",
       "      <td>6등급</td>\n",
       "    </tr>\n",
       "    <tr>\n",
       "      <th>32</th>\n",
       "      <td>KR5229370238</td>\n",
       "      <td>0.011810</td>\n",
       "      <td>0.012091</td>\n",
       "      <td>0.010728</td>\n",
       "      <td>0.000051</td>\n",
       "      <td>5등급</td>\n",
       "      <td>5등급</td>\n",
       "      <td>6등급</td>\n",
       "    </tr>\n",
       "    <tr>\n",
       "      <th>33</th>\n",
       "      <td>KR5233AQ2890</td>\n",
       "      <td>0.029027</td>\n",
       "      <td>0.064620</td>\n",
       "      <td>0.021668</td>\n",
       "      <td>0.027282</td>\n",
       "      <td>5등급</td>\n",
       "      <td>5등급</td>\n",
       "      <td>5등급</td>\n",
       "    </tr>\n",
       "    <tr>\n",
       "      <th>34</th>\n",
       "      <td>KR5240877351</td>\n",
       "      <td>0.000696</td>\n",
       "      <td>0.001104</td>\n",
       "      <td>0.013089</td>\n",
       "      <td>0.000860</td>\n",
       "      <td>6등급</td>\n",
       "      <td>5등급</td>\n",
       "      <td>6등급</td>\n",
       "    </tr>\n",
       "    <tr>\n",
       "      <th>35</th>\n",
       "      <td>KR5301275792</td>\n",
       "      <td>0.012257</td>\n",
       "      <td>-0.000000</td>\n",
       "      <td>0.008897</td>\n",
       "      <td>0.000865</td>\n",
       "      <td>5등급</td>\n",
       "      <td>5등급</td>\n",
       "      <td>6등급</td>\n",
       "    </tr>\n",
       "    <tr>\n",
       "      <th>36</th>\n",
       "      <td>KR5306522743</td>\n",
       "      <td>0.018155</td>\n",
       "      <td>0.030485</td>\n",
       "      <td>0.018155</td>\n",
       "      <td>0.030485</td>\n",
       "      <td>5등급</td>\n",
       "      <td>5등급</td>\n",
       "      <td>5등급</td>\n",
       "    </tr>\n",
       "    <tr>\n",
       "      <th>37</th>\n",
       "      <td>KR5308956063</td>\n",
       "      <td>0.000679</td>\n",
       "      <td>0.000900</td>\n",
       "      <td>0.007197</td>\n",
       "      <td>0.001411</td>\n",
       "      <td>6등급</td>\n",
       "      <td>5등급</td>\n",
       "      <td>6등급</td>\n",
       "    </tr>\n",
       "  </tbody>\n",
       "</table>\n",
       "</div>"
      ],
      "text/plain": [
       "            code    std_1y    var_1y    std_3y    var_3y risk_std_1y  \\\n",
       "0   K55101BV3509  0.052295 -0.000000  0.043111  0.000436         4등급   \n",
       "1   K55101CM2634  0.004937  0.012365  0.004937  0.012365         6등급   \n",
       "2   K55102D80629  0.002997 -0.000000  0.005254  0.001584         6등급   \n",
       "3   K55105CF3330  0.009849  0.012680  0.009849  0.012680         5등급   \n",
       "4   K55105CF8214  0.002938  0.006265  0.002658  0.008639         6등급   \n",
       "5   K55107DA3977  0.001216  0.001845  0.001216  0.001845         6등급   \n",
       "6   K55107DM9780  0.009135  0.014043  0.009135  0.014043         5등급   \n",
       "7   K55205BU9031  0.007790  0.014428  0.007790  0.014428         5등급   \n",
       "8   K55207CR6096  0.019024 -0.000000  0.012462  0.001801         5등급   \n",
       "9   K55214D20537  0.003545  0.007976  0.006978  0.012470         6등급   \n",
       "10  K55223BO2487  0.000345 -0.000000  0.004149  0.007825         6등급   \n",
       "11  K55223BR5933  0.096322  0.193048  0.087458  0.182407         4등급   \n",
       "12  K55223BR5966  0.095681  0.193516  0.086919  0.182877         4등급   \n",
       "13  K55223BR6006  0.095522  0.193657  0.086790  0.183017         4등급   \n",
       "14  K55223BS1113  0.095760  0.193449  0.086986  0.182811         4등급   \n",
       "15  K55223BS1121  0.123439  0.225332  0.088920  0.132680         3등급   \n",
       "16  K55223C06315  0.030928  0.076298  0.010973  0.003283         5등급   \n",
       "17  K55223C06406  0.032770  0.079707  0.011207  0.000500         5등급   \n",
       "18  K55224BB4370  0.011688  0.029086  0.016262  0.001138         5등급   \n",
       "19  K55228DU2599  0.008062  0.016738  0.008062  0.016738         5등급   \n",
       "20  K55229B65716  0.006951  0.007693  0.006916  0.000529         5등급   \n",
       "21  K55229C99895  0.013258  0.000881  0.015447  0.000406         5등급   \n",
       "22  K55229CA1157  0.012433  0.000900  0.014650  0.000468         5등급   \n",
       "23  K55321CF8618  0.016560  0.000550  0.016560  0.000550         5등급   \n",
       "24  KR5101AQ9514  0.008366 -0.000000  0.010474  0.000108         5등급   \n",
       "25  KR5105346195  0.002189  0.008801  0.003759  0.008556         6등급   \n",
       "26  KR5105AR1078  0.004595  0.010571  0.003121  0.008348         6등급   \n",
       "27  KR5206517462  0.015624  0.017597  0.013016  0.010998         5등급   \n",
       "28  KR5206575924  0.023674 -0.000000  0.014187  0.016906         5등급   \n",
       "29  KR5224796015  0.027655  0.059878  0.027655  0.059878         5등급   \n",
       "30  KR5224921209  0.013810  0.034274  0.017548  0.001205         5등급   \n",
       "31  KR5227363623  0.002571 -0.000000  0.005965  0.000072         6등급   \n",
       "32  KR5229370238  0.011810  0.012091  0.010728  0.000051         5등급   \n",
       "33  KR5233AQ2890  0.029027  0.064620  0.021668  0.027282         5등급   \n",
       "34  KR5240877351  0.000696  0.001104  0.013089  0.000860         6등급   \n",
       "35  KR5301275792  0.012257 -0.000000  0.008897  0.000865         5등급   \n",
       "36  KR5306522743  0.018155  0.030485  0.018155  0.030485         5등급   \n",
       "37  KR5308956063  0.000679  0.000900  0.007197  0.001411         6등급   \n",
       "\n",
       "   risk_std_3y risk_var_3y  \n",
       "0          5등급         6등급  \n",
       "1          6등급         5등급  \n",
       "2          5등급         6등급  \n",
       "3          5등급         5등급  \n",
       "4          6등급         5등급  \n",
       "5          6등급         6등급  \n",
       "6          5등급         5등급  \n",
       "7          5등급         5등급  \n",
       "8          5등급         6등급  \n",
       "9          5등급         5등급  \n",
       "10         6등급         5등급  \n",
       "11         4등급         3등급  \n",
       "12         4등급         3등급  \n",
       "13         4등급         3등급  \n",
       "14         4등급         3등급  \n",
       "15         4등급         3등급  \n",
       "16         5등급         6등급  \n",
       "17         5등급         6등급  \n",
       "18         5등급         6등급  \n",
       "19         5등급         5등급  \n",
       "20         5등급         6등급  \n",
       "21         5등급         6등급  \n",
       "22         5등급         6등급  \n",
       "23         5등급         6등급  \n",
       "24         5등급         6등급  \n",
       "25         6등급         5등급  \n",
       "26         6등급         5등급  \n",
       "27         5등급         5등급  \n",
       "28         5등급         5등급  \n",
       "29         5등급         4등급  \n",
       "30         5등급         6등급  \n",
       "31         5등급         6등급  \n",
       "32         5등급         6등급  \n",
       "33         5등급         5등급  \n",
       "34         5등급         6등급  \n",
       "35         5등급         6등급  \n",
       "36         5등급         5등급  \n",
       "37         5등급         6등급  "
      ]
     },
     "execution_count": 15,
     "metadata": {},
     "output_type": "execute_result"
    }
   ],
   "source": [
    "labels = [\"6등급\", \"5등급\", \"4등급\", \"3등급\", \"2등급\", \"1등급\"]\n",
    "cut_fn = functools.partial(pd.cut, labels=labels)\n",
    "\n",
    "lists_lb_df = lists_rst_df.assign(\n",
    "    risk_std_1y=cut_fn(lists_rst_df['std_1y'], bins=DICT_BINS['std_1y']),\n",
    "    risk_std_3y=cut_fn(lists_rst_df['std_3y'], bins=DICT_BINS['std_3y']),\n",
    "    # risk_var_1y=cut_fn(lists_rst_df['var_1y']),\n",
    "    risk_var_3y=cut_fn(lists_rst_df['var_3y'], bins=DICT_BINS['var_3y']))\n",
    "lists_lb_df.dropna(inplace=True)\n",
    "lists_lb_df.reset_index(inplace=True)\n",
    "\n",
    "lists_lb_df"
   ]
  },
  {
   "cell_type": "markdown",
   "id": "99f24736",
   "metadata": {
    "collapsed": false
   },
   "source": [
    "#### 프로세스 테스트"
   ]
  },
  {
   "cell_type": "code",
   "execution_count": 16,
   "id": "e0aa081c-7f0d-4f1b-ae74-00a27747aaa5",
   "metadata": {
    "execution": {
     "iopub.execute_input": "2022-12-21T01:34:10.562614Z",
     "iopub.status.busy": "2022-12-21T01:34:10.562614Z",
     "iopub.status.idle": "2022-12-21T01:34:10.574615Z",
     "shell.execute_reply": "2022-12-21T01:34:10.573609Z"
    }
   },
   "outputs": [],
   "source": [
    "if VALIDATE_PROCESS:\n",
    "    list_std_3y, list_std_1y, list_var_3y = zip(*list_std_y)\n",
    "\n",
    "    df_result = pd.DataFrame({\n",
    "        \"code\": codes,\n",
    "        \"std_3y\": list_std_3y,\n",
    "        \"std_1y\": list_std_1y,\n",
    "        \"var_3y\": list_var_3y,\n",
    "    })\n",
    "\n",
    "    bins = [0, 0.005, 0.05, 0.10, 0.15, 0.25, float(\"inf\")]\n",
    "    labels = [\"6등급\", \"5등급\", \"4등급\", \"3등급\", \"2등급\", \"1등급\"]\n",
    "\n",
    "    df_result[\"risk_std_3y\"] = pd.cut(df_result.std_3y, bins=bins, labels=labels)\n",
    "    df_result[\"risk_std_1y\"] = pd.cut(df_result.std_1y, bins=bins, labels=labels)\n",
    "    df_result[\"risk_var_3y\"] = pd.cut(df_result.var_3y, bins=bins, labels=labels)\n",
    "\n",
    "    df_result = df_result.dropna()"
   ]
  },
  {
   "cell_type": "code",
   "execution_count": 17,
   "id": "c3e75562-b9ea-4c95-9a11-004be639146b",
   "metadata": {
    "execution": {
     "iopub.execute_input": "2022-12-21T01:34:10.579611Z",
     "iopub.status.busy": "2022-12-21T01:34:10.578615Z",
     "iopub.status.idle": "2022-12-21T01:34:10.589613Z",
     "shell.execute_reply": "2022-12-21T01:34:10.588611Z"
    }
   },
   "outputs": [],
   "source": [
    "if VALIDATE_PROCESS:\n",
    "    display(\n",
    "        (lists_lb_df[['code', 'risk_std_1y', 'risk_std_3y', 'risk_var_3y']].set_index(['code'])\n",
    "        == df_result[['code', 'risk_std_1y', 'risk_std_3y', 'risk_var_3y']].set_index(['code'])).all())"
   ]
  },
  {
   "cell_type": "markdown",
   "id": "7093a90e-9367-40e8-bb58-fc375b2c7f0d",
   "metadata": {},
   "source": [
    "## 등급 결과 출력"
   ]
  },
  {
   "cell_type": "code",
   "execution_count": 18,
   "id": "7d74f1a2-a5b2-4b5a-b1e4-7356deb7fb2c",
   "metadata": {
    "execution": {
     "iopub.execute_input": "2022-12-21T01:34:10.593612Z",
     "iopub.status.busy": "2022-12-21T01:34:10.592612Z",
     "iopub.status.idle": "2022-12-21T01:34:10.604611Z",
     "shell.execute_reply": "2022-12-21T01:34:10.603612Z"
    }
   },
   "outputs": [],
   "source": [
    "os.makedirs('result', exist_ok=True)\n",
    "lists_lb_df.to_csv(f'result/RESULT_{type_no}_{type_name}.csv', index=False)"
   ]
  },
  {
   "cell_type": "markdown",
   "id": "2ed08a3d-eb09-4f1f-83a5-987be9b9d584",
   "metadata": {},
   "source": [
    "## 시각화"
   ]
  },
  {
   "cell_type": "code",
   "execution_count": 19,
   "id": "a2981513-60e5-4604-8fee-235d898df378",
   "metadata": {
    "execution": {
     "iopub.execute_input": "2022-12-21T01:34:10.608611Z",
     "iopub.status.busy": "2022-12-21T01:34:10.608611Z",
     "iopub.status.idle": "2022-12-21T01:34:10.739610Z",
     "shell.execute_reply": "2022-12-21T01:34:10.738609Z"
    }
   },
   "outputs": [
    {
     "data": {
      "text/html": [
       "<style type=\"text/css\">\n",
       "#T_6c905_row0_col0, #T_6c905_row0_col1, #T_6c905_row0_col2, #T_6c905_row1_col0, #T_6c905_row1_col1, #T_6c905_row1_col2, #T_6c905_row2_col0 {\n",
       "  background-color: #fff7fb;\n",
       "  color: #000000;\n",
       "}\n",
       "#T_6c905_row2_col1 {\n",
       "  background-color: #f8f1f8;\n",
       "  color: #000000;\n",
       "}\n",
       "#T_6c905_row2_col2 {\n",
       "  background-color: #c6cce3;\n",
       "  color: #000000;\n",
       "}\n",
       "#T_6c905_row3_col0 {\n",
       "  background-color: #dfddec;\n",
       "  color: #000000;\n",
       "}\n",
       "#T_6c905_row3_col1 {\n",
       "  background-color: #d3d4e7;\n",
       "  color: #000000;\n",
       "}\n",
       "#T_6c905_row3_col2 {\n",
       "  background-color: #f7f0f7;\n",
       "  color: #000000;\n",
       "}\n",
       "#T_6c905_row4_col0, #T_6c905_row4_col1, #T_6c905_row5_col2 {\n",
       "  background-color: #023858;\n",
       "  color: #f1f1f1;\n",
       "}\n",
       "#T_6c905_row4_col2 {\n",
       "  background-color: #056ba7;\n",
       "  color: #f1f1f1;\n",
       "}\n",
       "#T_6c905_row5_col0 {\n",
       "  background-color: #d7d6e9;\n",
       "  color: #000000;\n",
       "}\n",
       "#T_6c905_row5_col1 {\n",
       "  background-color: #67a4cc;\n",
       "  color: #f1f1f1;\n",
       "}\n",
       "</style>\n",
       "<table id=\"T_6c905\">\n",
       "  <thead>\n",
       "    <tr>\n",
       "      <th class=\"blank level0\" >&nbsp;</th>\n",
       "      <th id=\"T_6c905_level0_col0\" class=\"col_heading level0 col0\" >3년 표준편차</th>\n",
       "      <th id=\"T_6c905_level0_col1\" class=\"col_heading level0 col1\" >1년 표준편차</th>\n",
       "      <th id=\"T_6c905_level0_col2\" class=\"col_heading level0 col2\" >3년 VaR</th>\n",
       "    </tr>\n",
       "    <tr>\n",
       "      <th class=\"index_name level0\" >등급</th>\n",
       "      <th class=\"blank col0\" >&nbsp;</th>\n",
       "      <th class=\"blank col1\" >&nbsp;</th>\n",
       "      <th class=\"blank col2\" >&nbsp;</th>\n",
       "    </tr>\n",
       "  </thead>\n",
       "  <tbody>\n",
       "    <tr>\n",
       "      <th id=\"T_6c905_level0_row0\" class=\"row_heading level0 row0\" >1등급</th>\n",
       "      <td id=\"T_6c905_row0_col0\" class=\"data row0 col0\" >0</td>\n",
       "      <td id=\"T_6c905_row0_col1\" class=\"data row0 col1\" >0</td>\n",
       "      <td id=\"T_6c905_row0_col2\" class=\"data row0 col2\" >0</td>\n",
       "    </tr>\n",
       "    <tr>\n",
       "      <th id=\"T_6c905_level0_row1\" class=\"row_heading level0 row1\" >2등급</th>\n",
       "      <td id=\"T_6c905_row1_col0\" class=\"data row1 col0\" >0</td>\n",
       "      <td id=\"T_6c905_row1_col1\" class=\"data row1 col1\" >0</td>\n",
       "      <td id=\"T_6c905_row1_col2\" class=\"data row1 col2\" >0</td>\n",
       "    </tr>\n",
       "    <tr>\n",
       "      <th id=\"T_6c905_level0_row2\" class=\"row_heading level0 row2\" >3등급</th>\n",
       "      <td id=\"T_6c905_row2_col0\" class=\"data row2 col0\" >0</td>\n",
       "      <td id=\"T_6c905_row2_col1\" class=\"data row2 col1\" >1</td>\n",
       "      <td id=\"T_6c905_row2_col2\" class=\"data row2 col2\" >5</td>\n",
       "    </tr>\n",
       "    <tr>\n",
       "      <th id=\"T_6c905_level0_row3\" class=\"row_heading level0 row3\" >4등급</th>\n",
       "      <td id=\"T_6c905_row3_col0\" class=\"data row3 col0\" >5</td>\n",
       "      <td id=\"T_6c905_row3_col1\" class=\"data row3 col1\" >5</td>\n",
       "      <td id=\"T_6c905_row3_col2\" class=\"data row3 col2\" >1</td>\n",
       "    </tr>\n",
       "    <tr>\n",
       "      <th id=\"T_6c905_level0_row4\" class=\"row_heading level0 row4\" >5등급</th>\n",
       "      <td id=\"T_6c905_row4_col0\" class=\"data row4 col0\" >27</td>\n",
       "      <td id=\"T_6c905_row4_col1\" class=\"data row4 col1\" >21</td>\n",
       "      <td id=\"T_6c905_row4_col2\" class=\"data row4 col2\" >14</td>\n",
       "    </tr>\n",
       "    <tr>\n",
       "      <th id=\"T_6c905_level0_row5\" class=\"row_heading level0 row5\" >6등급</th>\n",
       "      <td id=\"T_6c905_row5_col0\" class=\"data row5 col0\" >6</td>\n",
       "      <td id=\"T_6c905_row5_col1\" class=\"data row5 col1\" >11</td>\n",
       "      <td id=\"T_6c905_row5_col2\" class=\"data row5 col2\" >18</td>\n",
       "    </tr>\n",
       "  </tbody>\n",
       "</table>\n"
      ],
      "text/plain": [
       "<pandas.io.formats.style.Styler at 0x1e2c6968ac0>"
      ]
     },
     "execution_count": 19,
     "metadata": {},
     "output_type": "execute_result"
    }
   ],
   "source": [
    "risk_std_3y_stat_df = lists_lb_df[\"risk_std_3y\"].value_counts().sort_index(ascending=False)\n",
    "risk_std_1y_stat_df = lists_lb_df[\"risk_std_1y\"].value_counts().sort_index(ascending=False)\n",
    "risk_var_3y_stat_df = lists_lb_df[\"risk_var_3y\"].value_counts().sort_index(ascending=False)\n",
    "stat_df = pd.concat([risk_std_3y_stat_df, risk_std_1y_stat_df, risk_var_3y_stat_df], axis=1)\n",
    "stat_df = stat_df.rename(columns={\"risk_std_3y\": \"3년 표준편차\", \"risk_std_1y\": \"1년 표준편차\", \"risk_var_3y\": \"3년 VaR\"})\n",
    "stat_df.reset_index(names=['등급'], inplace=True)\n",
    "\n",
    "stat_df.set_index('등급').style.background_gradient()"
   ]
  },
  {
   "cell_type": "code",
   "execution_count": 20,
   "id": "2ecfd0b2-0548-41e1-a6ed-9abd2da5b7c8",
   "metadata": {
    "execution": {
     "iopub.execute_input": "2022-12-21T01:34:10.742610Z",
     "iopub.status.busy": "2022-12-21T01:34:10.742610Z",
     "iopub.status.idle": "2022-12-21T01:34:11.055613Z",
     "shell.execute_reply": "2022-12-21T01:34:11.053618Z"
    }
   },
   "outputs": [
    {
     "data": {
      "image/png": "[encoded data removed]",
      "text/plain": [
       "<Figure size 640x480 with 1 Axes>"
      ]
     },
     "metadata": {},
     "output_type": "display_data"
    }
   ],
   "source": [
    "def show_values(axs, orient=\"v\", space=.01):\n",
    "    def _single(ax):\n",
    "        if orient == \"v\":\n",
    "            for p in ax.patches:\n",
    "                _x = p.get_x() + p.get_width() / 2\n",
    "                _y = p.get_y() + p.get_height() + (p.get_height() * 0.01)\n",
    "                value = '{:d}'.format(int(p.get_height()))\n",
    "                ax.text(_x, _y, value, ha=\"center\")\n",
    "        elif orient == \"h\":\n",
    "            for p in ax.patches:\n",
    "                _x = p.get_x() + p.get_width() + float(space)\n",
    "                _y = p.get_y() + p.get_height() - (p.get_height() * 0.5)\n",
    "                value = '{:d}'.format(int(p.get_width()))\n",
    "                ax.text(_x, _y, value, ha=\"left\")\n",
    "\n",
    "    if isinstance(axs, np.ndarray):\n",
    "        for idx, ax in np.ndenumerate(axs):\n",
    "            _single(ax)\n",
    "    else:\n",
    "        _single(axs)\n",
    "\n",
    "\n",
    "stat_df_long = (\n",
    "    stat_df\n",
    "    .melt(id_vars=\"등급\", value_vars=[\"3년 표준편차\", \"1년 표준편차\", \"3년 VaR\"], var_name=\"기준\") \\\n",
    "    .rename(columns={\"index\": \"등급\"})\n",
    ")\n",
    "axis = sns.barplot(x=\"등급\", y=\"value\", hue=\"기준\", data=stat_df_long)\n",
    "axis.set_title(f\"{type_name} 펀드 위험등급 분포\")\n",
    "show_values(axis)"
   ]
  },
  {
   "cell_type": "markdown",
   "id": "1f9227c4-c788-429d-b8d4-fc278ba29d24",
   "metadata": {},
   "source": [
    "## 통계 결과 출력"
   ]
  },
  {
   "cell_type": "code",
   "execution_count": 21,
   "id": "68fbd533-f46e-4cd6-9c35-28c3ae50830d",
   "metadata": {
    "execution": {
     "iopub.execute_input": "2022-12-21T01:34:11.063620Z",
     "iopub.status.busy": "2022-12-21T01:34:11.062650Z",
     "iopub.status.idle": "2022-12-21T01:34:11.084762Z",
     "shell.execute_reply": "2022-12-21T01:34:11.083745Z"
    }
   },
   "outputs": [],
   "source": [
    "os.makedirs('result', exist_ok=True)\n",
    "stat_df.to_csv(f'result/STATISTICS_{type_no}_{type_name}.csv', index=False)"
   ]
  },
  {
   "cell_type": "code",
   "execution_count": null,
   "id": "3dcbd794",
   "metadata": {
    "collapsed": false
   },
   "outputs": [],
   "source": []
  }
 ],
 "metadata": {
  "kernelspec": {
   "display_name": "Python 3 (ipykernel)",
   "language": "python",
   "name": "python3"
  },
  "language_info": {
   "codemirror_mode": {
    "name": "ipython",
    "version": 3
   },
   "file_extension": ".py",
   "mimetype": "text/x-python",
   "name": "python",
   "nbconvert_exporter": "python",
   "pygments_lexer": "ipython3",
   "version": "3.9.13"
  },
  "toc-autonumbering": true,
  "toc-showcode": false,
  "toc-showmarkdowntxt": false
 },
 "nbformat": 4,
 "nbformat_minor": 5
}
