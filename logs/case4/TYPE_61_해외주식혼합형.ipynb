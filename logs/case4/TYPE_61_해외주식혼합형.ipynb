{
 "cells": [
  {
   "cell_type": "markdown",
   "id": "2dd67b7b-b151-49b1-955e-dd7627677a4e",
   "metadata": {},
   "source": [
    "# 펀드 위험등급 산출"
   ]
  },
  {
   "cell_type": "markdown",
   "id": "b3e20237-dc40-4627-a953-52539fea6148",
   "metadata": {},
   "source": [
    "## 패키지 로드"
   ]
  },
  {
   "cell_type": "code",
   "execution_count": 1,
   "id": "103faeb9-9c7b-46f1-8ddb-e8e438626b60",
   "metadata": {
    "execution": {
     "iopub.execute_input": "2022-12-21T01:45:59.195913Z",
     "iopub.status.busy": "2022-12-21T01:45:59.195913Z",
     "iopub.status.idle": "2022-12-21T01:45:59.763952Z",
     "shell.execute_reply": "2022-12-21T01:45:59.762952Z"
    }
   },
   "outputs": [],
   "source": [
    "%matplotlib inline"
   ]
  },
  {
   "cell_type": "code",
   "execution_count": 2,
   "id": "2ead0865-2adf-4384-9e33-e05ad2246056",
   "metadata": {
    "execution": {
     "iopub.execute_input": "2022-12-21T01:45:59.767952Z",
     "iopub.status.busy": "2022-12-21T01:45:59.766952Z",
     "iopub.status.idle": "2022-12-21T01:46:00.364251Z",
     "shell.execute_reply": "2022-12-21T01:46:00.363249Z"
    }
   },
   "outputs": [],
   "source": [
    "import functools\n",
    "import os\n",
    "import re\n",
    "from collections import defaultdict\n",
    "from pathlib import Path\n",
    "\n",
    "import matplotlib.pyplot as plt\n",
    "import numpy as np\n",
    "import pandas as pd\n",
    "import seaborn as sns\n",
    "from tqdm import trange"
   ]
  },
  {
   "cell_type": "code",
   "execution_count": 3,
   "id": "19e4e043",
   "metadata": {
    "collapsed": false,
    "execution": {
     "iopub.execute_input": "2022-12-21T01:46:00.368252Z",
     "iopub.status.busy": "2022-12-21T01:46:00.368252Z",
     "iopub.status.idle": "2022-12-21T01:46:00.379252Z",
     "shell.execute_reply": "2022-12-21T01:46:00.378248Z"
    }
   },
   "outputs": [],
   "source": [
    "plt.rc('font', family='Malgun Gothic')  # For Windows"
   ]
  },
  {
   "cell_type": "markdown",
   "id": "cee45645",
   "metadata": {
    "collapsed": false
   },
   "source": [
    "## 변수 정의"
   ]
  },
  {
   "cell_type": "code",
   "execution_count": 4,
   "id": "cee2f0ab",
   "metadata": {
    "collapsed": false,
    "execution": {
     "iopub.execute_input": "2022-12-21T01:46:00.383251Z",
     "iopub.status.busy": "2022-12-21T01:46:00.382250Z",
     "iopub.status.idle": "2022-12-21T01:46:00.394250Z",
     "shell.execute_reply": "2022-12-21T01:46:00.393249Z"
    }
   },
   "outputs": [
    {
     "name": "stdout",
     "output_type": "stream",
     "text": [
      "TEST_PROCESS=False, VALIDATE_PROCESS=False, DATA_FILEPATH='data\\\\TYPE_61_해외주식혼합형.csv', BINS={'std_1y': [0, 0.005, 0.05, 0.1, 0.15, 0.25, inf], 'std_3y': [0, 0.005, 0.05, 0.1, 0.15, 0.25, inf], 'var_3y': [0, 0.005, 0.05, 0.1, 0.25, 0.35, inf]}, DICT_BINS={'std_1y': [0, 0.005, 0.05, 0.1, 0.15, 0.25, inf], 'std_3y': [0, 0.005, 0.05, 0.1, 0.15, 0.25, inf], 'var_3y': [0, 0.005, 0.05, 0.1, 0.25, 0.35, inf]}\n"
     ]
    }
   ],
   "source": [
    "TEST_PROCESS = eval(os.environ.get('TEST_PROCESS', 'True'))\n",
    "VALIDATE_PROCESS = eval(os.environ.get('VALIDATE_PROCESS', 'True'))\n",
    "DATA_FILEPATH = os.environ.get('DATA_FILEPATH', './data/TYPE_10_채권형.csv')\n",
    "BINS = eval(os.environ.get('BINS', '[0, 0.005, 0a.05, 0.10, 0.15, 0.25, float(\"inf\")]'))\n",
    "\n",
    "if isinstance(BINS, list):\n",
    "    DICT_BINS = defaultdict(lambda: BINS)\n",
    "elif isinstance(BINS, dict):\n",
    "    assert all(idx_col in BINS for idx_col in ['std_1y', 'std_3y', 'var_3y'])\n",
    "    DICT_BINS = BINS\n",
    "\n",
    "print(f'{TEST_PROCESS=}, {VALIDATE_PROCESS=}, {DATA_FILEPATH=}, {BINS=}, {DICT_BINS=}')"
   ]
  },
  {
   "cell_type": "markdown",
   "id": "b138743a",
   "metadata": {
    "collapsed": false
   },
   "source": [
    "## 타입 추출"
   ]
  },
  {
   "cell_type": "code",
   "execution_count": 5,
   "id": "9613fca5-40ff-41c8-a061-d9c23223c365",
   "metadata": {
    "execution": {
     "iopub.execute_input": "2022-12-21T01:46:00.398249Z",
     "iopub.status.busy": "2022-12-21T01:46:00.397250Z",
     "iopub.status.idle": "2022-12-21T01:46:00.424250Z",
     "shell.execute_reply": "2022-12-21T01:46:00.423250Z"
    }
   },
   "outputs": [
    {
     "data": {
      "text/plain": [
       "('61', '해외주식혼합형')"
      ]
     },
     "execution_count": 5,
     "metadata": {},
     "output_type": "execute_result"
    }
   ],
   "source": [
    "filepath = Path(DATA_FILEPATH)\n",
    "filename_pattern = re.compile(r'TYPE_([0-9]+)_([^_]+)\\.csv')\n",
    "\n",
    "match_rst = re.fullmatch(filename_pattern, filepath.name)\n",
    "type_no, type_name = match_rst.groups()\n",
    "\n",
    "type_no, type_name"
   ]
  },
  {
   "cell_type": "markdown",
   "id": "3a02a33b-ddc6-446a-88c3-37887ffe4768",
   "metadata": {},
   "source": [
    "## 데이터 로드"
   ]
  },
  {
   "cell_type": "code",
   "execution_count": 6,
   "id": "a4260092-7f8c-48a7-a523-7b72bc350181",
   "metadata": {
    "execution": {
     "iopub.execute_input": "2022-12-21T01:46:00.429252Z",
     "iopub.status.busy": "2022-12-21T01:46:00.428252Z",
     "iopub.status.idle": "2022-12-21T01:46:01.877420Z",
     "shell.execute_reply": "2022-12-21T01:46:01.876419Z"
    }
   },
   "outputs": [
    {
     "name": "stdout",
     "output_type": "stream",
     "text": [
      "len(codes)=1239\n"
     ]
    }
   ],
   "source": [
    "lists_wo_idx_df = pd.read_csv(filepath, names=[\"date\", \"code\", \"nav\"], usecols=[0, 1, 2], parse_dates=[0])\n",
    "lists_df = lists_wo_idx_df.set_index(['code', 'date'])\n",
    "\n",
    "codes = lists_df.index.get_level_values('code').unique()\n",
    "print(f\"{len(codes)=}\")"
   ]
  },
  {
   "cell_type": "markdown",
   "id": "428ae893",
   "metadata": {
    "collapsed": false
   },
   "source": [
    "## 수치 산출 테스트\n",
    "\n",
    "1년을 기준으로 프로세스 정의"
   ]
  },
  {
   "cell_type": "markdown",
   "id": "3c6c123b",
   "metadata": {
    "collapsed": false
   },
   "source": [
    "### 기간 조건 적용"
   ]
  },
  {
   "cell_type": "code",
   "execution_count": 7,
   "id": "75b56398",
   "metadata": {
    "collapsed": false,
    "execution": {
     "iopub.execute_input": "2022-12-21T01:46:01.880421Z",
     "iopub.status.busy": "2022-12-21T01:46:01.879420Z",
     "iopub.status.idle": "2022-12-21T01:46:01.892421Z",
     "shell.execute_reply": "2022-12-21T01:46:01.891420Z"
    }
   },
   "outputs": [],
   "source": [
    "if TEST_PROCESS:\n",
    "    lists_1y_df = pd.concat([\n",
    "        lists_df.xs(code).last('1y').assign(code=code)\n",
    "        for code in codes])\n",
    "    lists_1y_df.reset_index(inplace=True)\n",
    "    display(lists_1y_df)"
   ]
  },
  {
   "cell_type": "markdown",
   "id": "f2927b8d",
   "metadata": {
    "collapsed": false
   },
   "source": [
    "### 리샘플링, 퍼센트 체인지 추출"
   ]
  },
  {
   "cell_type": "code",
   "execution_count": 8,
   "id": "2a2c03a1",
   "metadata": {
    "collapsed": false,
    "execution": {
     "iopub.execute_input": "2022-12-21T01:46:01.895419Z",
     "iopub.status.busy": "2022-12-21T01:46:01.895419Z",
     "iopub.status.idle": "2022-12-21T01:46:01.907420Z",
     "shell.execute_reply": "2022-12-21T01:46:01.906420Z"
    }
   },
   "outputs": [],
   "source": [
    "if TEST_PROCESS:\n",
    "    lists_1y_wk_df = lists_1y_df.set_index(['date']).groupby(['code'])[['nav']].resample('W').last()\n",
    "    lists_1y_wk_df = lists_1y_wk_df.assign(ret=lists_1y_wk_df.groupby(['code'])[['nav']].pct_change())\n",
    "    display(lists_1y_wk_df)"
   ]
  },
  {
   "cell_type": "markdown",
   "id": "3de43b26",
   "metadata": {
    "collapsed": false
   },
   "source": [
    "### 표준편차 산출"
   ]
  },
  {
   "cell_type": "code",
   "execution_count": 9,
   "id": "7ab5d124",
   "metadata": {
    "collapsed": false,
    "execution": {
     "iopub.execute_input": "2022-12-21T01:46:01.911420Z",
     "iopub.status.busy": "2022-12-21T01:46:01.910420Z",
     "iopub.status.idle": "2022-12-21T01:46:01.922420Z",
     "shell.execute_reply": "2022-12-21T01:46:01.921420Z"
    }
   },
   "outputs": [],
   "source": [
    "if TEST_PROCESS:\n",
    "    lists_1y_std_df = lists_1y_wk_df.groupby(['code'])[['ret']].std(numeric_only=True) * np.sqrt(52)\n",
    "    lists_1y_std_df.reset_index(inplace=True)\n",
    "    lists_1y_std_df.rename(columns={'ret': 'std_1y'}, inplace=True)\n",
    "    display(lists_1y_std_df)"
   ]
  },
  {
   "cell_type": "markdown",
   "id": "440f9c21",
   "metadata": {
    "collapsed": false
   },
   "source": [
    "### VaR 산출"
   ]
  },
  {
   "cell_type": "code",
   "execution_count": 10,
   "id": "a5b1e0ee",
   "metadata": {
    "collapsed": false,
    "execution": {
     "iopub.execute_input": "2022-12-21T01:46:01.926421Z",
     "iopub.status.busy": "2022-12-21T01:46:01.925421Z",
     "iopub.status.idle": "2022-12-21T01:46:01.937421Z",
     "shell.execute_reply": "2022-12-21T01:46:01.936420Z"
    }
   },
   "outputs": [],
   "source": [
    "if TEST_PROCESS:\n",
    "    lists_1y_var_df = lists_1y_wk_df.groupby(['code'])[['ret']].quantile(0.025, numeric_only=True)\n",
    "    lists_1y_var_df = np.minimum(lists_1y_var_df, 0) * -1 * np.sqrt(52)\n",
    "    lists_1y_var_df.rename(columns={'ret': 'var_1y'}, inplace=True)\n",
    "    display(lists_1y_var_df)"
   ]
  },
  {
   "cell_type": "markdown",
   "id": "82d125eb",
   "metadata": {
    "collapsed": false
   },
   "source": [
    "## 수치 산출 프로세스 정의"
   ]
  },
  {
   "cell_type": "code",
   "execution_count": 11,
   "id": "db1e3da2",
   "metadata": {
    "collapsed": false,
    "execution": {
     "iopub.execute_input": "2022-12-21T01:46:01.941422Z",
     "iopub.status.busy": "2022-12-21T01:46:01.940434Z",
     "iopub.status.idle": "2022-12-21T01:46:01.952422Z",
     "shell.execute_reply": "2022-12-21T01:46:01.951422Z"
    }
   },
   "outputs": [],
   "source": [
    "offsets = ['1y', '3y']"
   ]
  },
  {
   "cell_type": "code",
   "execution_count": 12,
   "id": "c7de0e62",
   "metadata": {
    "collapsed": false,
    "execution": {
     "iopub.execute_input": "2022-12-21T01:46:01.956420Z",
     "iopub.status.busy": "2022-12-21T01:46:01.956420Z",
     "iopub.status.idle": "2022-12-21T01:46:11.960237Z",
     "shell.execute_reply": "2022-12-21T01:46:11.959236Z"
    }
   },
   "outputs": [
    {
     "name": "stdout",
     "output_type": "stream",
     "text": [
      "CPU times: total: 9.3 s\n",
      "Wall time: 9.97 s\n"
     ]
    },
    {
     "data": {
      "text/html": [
       "<div>\n",
       "<style scoped>\n",
       "    .dataframe tbody tr th:only-of-type {\n",
       "        vertical-align: middle;\n",
       "    }\n",
       "\n",
       "    .dataframe tbody tr th {\n",
       "        vertical-align: top;\n",
       "    }\n",
       "\n",
       "    .dataframe thead th {\n",
       "        text-align: right;\n",
       "    }\n",
       "</style>\n",
       "<table border=\"1\" class=\"dataframe\">\n",
       "  <thead>\n",
       "    <tr style=\"text-align: right;\">\n",
       "      <th></th>\n",
       "      <th>std_1y</th>\n",
       "      <th>var_1y</th>\n",
       "      <th>std_3y</th>\n",
       "      <th>var_3y</th>\n",
       "    </tr>\n",
       "    <tr>\n",
       "      <th>code</th>\n",
       "      <th></th>\n",
       "      <th></th>\n",
       "      <th></th>\n",
       "      <th></th>\n",
       "    </tr>\n",
       "  </thead>\n",
       "  <tbody>\n",
       "    <tr>\n",
       "      <th>K55101B55320</th>\n",
       "      <td>0.177939</td>\n",
       "      <td>0.425688</td>\n",
       "      <td>0.164837</td>\n",
       "      <td>0.403589</td>\n",
       "    </tr>\n",
       "    <tr>\n",
       "      <th>K55101B55338</th>\n",
       "      <td>0.178801</td>\n",
       "      <td>0.427530</td>\n",
       "      <td>0.164400</td>\n",
       "      <td>0.405566</td>\n",
       "    </tr>\n",
       "    <tr>\n",
       "      <th>K55101B55346</th>\n",
       "      <td>0.178734</td>\n",
       "      <td>0.427033</td>\n",
       "      <td>0.164599</td>\n",
       "      <td>0.405073</td>\n",
       "    </tr>\n",
       "    <tr>\n",
       "      <th>K55101B55353</th>\n",
       "      <td>0.178834</td>\n",
       "      <td>0.428004</td>\n",
       "      <td>0.164318</td>\n",
       "      <td>0.406121</td>\n",
       "    </tr>\n",
       "    <tr>\n",
       "      <th>K55101B55361</th>\n",
       "      <td>0.178750</td>\n",
       "      <td>0.427331</td>\n",
       "      <td>0.164350</td>\n",
       "      <td>0.405368</td>\n",
       "    </tr>\n",
       "    <tr>\n",
       "      <th>...</th>\n",
       "      <td>...</td>\n",
       "      <td>...</td>\n",
       "      <td>...</td>\n",
       "      <td>...</td>\n",
       "    </tr>\n",
       "    <tr>\n",
       "      <th>KR5366AZ1569</th>\n",
       "      <td>0.094341</td>\n",
       "      <td>0.259419</td>\n",
       "      <td>0.095479</td>\n",
       "      <td>0.161035</td>\n",
       "    </tr>\n",
       "    <tr>\n",
       "      <th>KRM225631402</th>\n",
       "      <td>0.185465</td>\n",
       "      <td>0.381840</td>\n",
       "      <td>0.261185</td>\n",
       "      <td>0.386675</td>\n",
       "    </tr>\n",
       "    <tr>\n",
       "      <th>KRM301AI3938</th>\n",
       "      <td>0.185769</td>\n",
       "      <td>0.384407</td>\n",
       "      <td>0.257254</td>\n",
       "      <td>0.389291</td>\n",
       "    </tr>\n",
       "    <tr>\n",
       "      <th>KRM301AI3979</th>\n",
       "      <td>0.230201</td>\n",
       "      <td>0.283377</td>\n",
       "      <td>0.179014</td>\n",
       "      <td>0.328698</td>\n",
       "    </tr>\n",
       "    <tr>\n",
       "      <th>KRM301AR0081</th>\n",
       "      <td>0.185678</td>\n",
       "      <td>0.383628</td>\n",
       "      <td>0.258411</td>\n",
       "      <td>0.388502</td>\n",
       "    </tr>\n",
       "  </tbody>\n",
       "</table>\n",
       "<p>1239 rows × 4 columns</p>\n",
       "</div>"
      ],
      "text/plain": [
       "                std_1y    var_1y    std_3y    var_3y\n",
       "code                                                \n",
       "K55101B55320  0.177939  0.425688  0.164837  0.403589\n",
       "K55101B55338  0.178801  0.427530  0.164400  0.405566\n",
       "K55101B55346  0.178734  0.427033  0.164599  0.405073\n",
       "K55101B55353  0.178834  0.428004  0.164318  0.406121\n",
       "K55101B55361  0.178750  0.427331  0.164350  0.405368\n",
       "...                ...       ...       ...       ...\n",
       "KR5366AZ1569  0.094341  0.259419  0.095479  0.161035\n",
       "KRM225631402  0.185465  0.381840  0.261185  0.386675\n",
       "KRM301AI3938  0.185769  0.384407  0.257254  0.389291\n",
       "KRM301AI3979  0.230201  0.283377  0.179014  0.328698\n",
       "KRM301AR0081  0.185678  0.383628  0.258411  0.388502\n",
       "\n",
       "[1239 rows x 4 columns]"
      ]
     },
     "execution_count": 12,
     "metadata": {},
     "output_type": "execute_result"
    }
   ],
   "source": [
    "%%time\n",
    "\n",
    "lists_rst_dfs = []\n",
    "\n",
    "for offset in offsets:\n",
    "    lists_off_df = pd.concat([\n",
    "        lists_df.xs(code).last(offset).assign(code=code)\n",
    "        for code in codes])\n",
    "    lists_off_df.reset_index(inplace=True)\n",
    "\n",
    "    lists_off_wk_df = lists_off_df.set_index(['date']).groupby(['code'])[['nav']].resample('W').last()\n",
    "    lists_off_wk_df = lists_off_wk_df.assign(ret=lists_off_wk_df.groupby(['code'])[['nav']].pct_change())\n",
    "\n",
    "    lists_off_std_df = lists_off_wk_df.groupby(['code'])[['ret']].std(numeric_only=True) * np.sqrt(52)\n",
    "    lists_off_std_df.rename(columns={'ret': f'std_{offset}'}, inplace=True)\n",
    "\n",
    "    lists_off_var_df = lists_off_wk_df.groupby(['code'])[['ret']].quantile(0.025, numeric_only=True)\n",
    "    lists_off_var_df = np.minimum(lists_off_var_df, 0) * -1 * np.sqrt(52)\n",
    "    lists_off_var_df.rename(columns={'ret': f'var_{offset}'}, inplace=True)\n",
    "\n",
    "    lists_rst_dfs.append(lists_off_std_df)\n",
    "    lists_rst_dfs.append(lists_off_var_df)\n",
    "\n",
    "lists_rst_df = pd.concat(lists_rst_dfs, axis='columns')\n",
    "lists_rst_df"
   ]
  },
  {
   "cell_type": "markdown",
   "id": "87e11f45",
   "metadata": {
    "collapsed": false
   },
   "source": [
    "### 프로세스 테스트"
   ]
  },
  {
   "cell_type": "code",
   "execution_count": 13,
   "id": "a6cc3475-204e-417d-ac8f-67c33c944c4e",
   "metadata": {
    "execution": {
     "iopub.execute_input": "2022-12-21T01:46:11.965236Z",
     "iopub.status.busy": "2022-12-21T01:46:11.964236Z",
     "iopub.status.idle": "2022-12-21T01:46:11.975235Z",
     "shell.execute_reply": "2022-12-21T01:46:11.974236Z"
    }
   },
   "outputs": [
    {
     "name": "stdout",
     "output_type": "stream",
     "text": [
      "CPU times: total: 0 ns\n",
      "Wall time: 0 ns\n"
     ]
    }
   ],
   "source": [
    "%%time\n",
    "\n",
    "def calc_std_y(code):\n",
    "    df = lists_wo_idx_df[lists_wo_idx_df['code'] == code][[\"date\", \"nav\"]]\n",
    "    df = df.sort_values(by=\"date\")\n",
    "    df = df.set_index(\"date\")\n",
    "\n",
    "    df_1y = df.last(\"1Y\")\n",
    "    df_1y_w = df_1y.resample(\"W\").last()\n",
    "\n",
    "    df_3y = df.last(\"3Y\")\n",
    "    df_3y_w = df_3y.resample(\"W\").last()\n",
    "\n",
    "    df_3y_w[\"ret\"] = df_3y_w[\"nav\"].pct_change()\n",
    "    df_3y_w = df_3y_w.iloc[1:]\n",
    "    std_3y = df_3y_w[\"ret\"].std() * np.sqrt(52)\n",
    "\n",
    "    df_1y_w[\"ret\"] = df_1y_w[\"nav\"].pct_change()\n",
    "    df_1y_w = df_1y_w.iloc[1:]\n",
    "    std_1y = df_1y_w[\"ret\"].std() * np.sqrt(52)\n",
    "\n",
    "    var_3y = -np.minimum(df_3y_w[\"ret\"].quantile(0.025), 0) * np.sqrt(52)\n",
    "\n",
    "    return std_3y, std_1y, var_3y\n",
    "\n",
    "if VALIDATE_PROCESS:\n",
    "    list_std_y = []\n",
    "    for i in trange(len(codes)):\n",
    "        code = codes[i]\n",
    "        list_std_y.append(calc_std_y(code))"
   ]
  },
  {
   "cell_type": "code",
   "execution_count": 14,
   "id": "a0551cbe",
   "metadata": {
    "collapsed": false,
    "execution": {
     "iopub.execute_input": "2022-12-21T01:46:11.980237Z",
     "iopub.status.busy": "2022-12-21T01:46:11.979237Z",
     "iopub.status.idle": "2022-12-21T01:46:11.990236Z",
     "shell.execute_reply": "2022-12-21T01:46:11.989235Z"
    }
   },
   "outputs": [],
   "source": [
    "if VALIDATE_PROCESS:\n",
    "    for code_idx, code in enumerate(codes):\n",
    "        for old_idx, new_name in [(0, 'std_3y'), (1, 'std_1y'), (2, 'var_3y')]:\n",
    "            old_rst = list_std_y[code_idx][old_idx]\n",
    "            new_rst = lists_rst_df.xs(code).xs(new_name)\n",
    "            if not np.isclose(old_rst, new_rst, equal_nan=True):\n",
    "                print(f\"{code=}, {old_rst=}, {new_rst=}, {np.isclose(old_rst, new_rst, equal_nan=True)=}\")"
   ]
  },
  {
   "cell_type": "markdown",
   "id": "bfefa25d",
   "metadata": {
    "collapsed": false
   },
   "source": [
    "## 등급 변환"
   ]
  },
  {
   "cell_type": "code",
   "execution_count": 15,
   "id": "f83dcd6c",
   "metadata": {
    "collapsed": false,
    "execution": {
     "iopub.execute_input": "2022-12-21T01:46:11.995236Z",
     "iopub.status.busy": "2022-12-21T01:46:11.994236Z",
     "iopub.status.idle": "2022-12-21T01:46:12.035235Z",
     "shell.execute_reply": "2022-12-21T01:46:12.034235Z"
    }
   },
   "outputs": [
    {
     "data": {
      "text/html": [
       "<div>\n",
       "<style scoped>\n",
       "    .dataframe tbody tr th:only-of-type {\n",
       "        vertical-align: middle;\n",
       "    }\n",
       "\n",
       "    .dataframe tbody tr th {\n",
       "        vertical-align: top;\n",
       "    }\n",
       "\n",
       "    .dataframe thead th {\n",
       "        text-align: right;\n",
       "    }\n",
       "</style>\n",
       "<table border=\"1\" class=\"dataframe\">\n",
       "  <thead>\n",
       "    <tr style=\"text-align: right;\">\n",
       "      <th></th>\n",
       "      <th>code</th>\n",
       "      <th>std_1y</th>\n",
       "      <th>var_1y</th>\n",
       "      <th>std_3y</th>\n",
       "      <th>var_3y</th>\n",
       "      <th>risk_std_1y</th>\n",
       "      <th>risk_std_3y</th>\n",
       "      <th>risk_var_3y</th>\n",
       "    </tr>\n",
       "  </thead>\n",
       "  <tbody>\n",
       "    <tr>\n",
       "      <th>0</th>\n",
       "      <td>K55101B55320</td>\n",
       "      <td>0.177939</td>\n",
       "      <td>0.425688</td>\n",
       "      <td>0.164837</td>\n",
       "      <td>0.403589</td>\n",
       "      <td>2등급</td>\n",
       "      <td>2등급</td>\n",
       "      <td>1등급</td>\n",
       "    </tr>\n",
       "    <tr>\n",
       "      <th>1</th>\n",
       "      <td>K55101B55338</td>\n",
       "      <td>0.178801</td>\n",
       "      <td>0.427530</td>\n",
       "      <td>0.164400</td>\n",
       "      <td>0.405566</td>\n",
       "      <td>2등급</td>\n",
       "      <td>2등급</td>\n",
       "      <td>1등급</td>\n",
       "    </tr>\n",
       "    <tr>\n",
       "      <th>2</th>\n",
       "      <td>K55101B55346</td>\n",
       "      <td>0.178734</td>\n",
       "      <td>0.427033</td>\n",
       "      <td>0.164599</td>\n",
       "      <td>0.405073</td>\n",
       "      <td>2등급</td>\n",
       "      <td>2등급</td>\n",
       "      <td>1등급</td>\n",
       "    </tr>\n",
       "    <tr>\n",
       "      <th>3</th>\n",
       "      <td>K55101B55353</td>\n",
       "      <td>0.178834</td>\n",
       "      <td>0.428004</td>\n",
       "      <td>0.164318</td>\n",
       "      <td>0.406121</td>\n",
       "      <td>2등급</td>\n",
       "      <td>2등급</td>\n",
       "      <td>1등급</td>\n",
       "    </tr>\n",
       "    <tr>\n",
       "      <th>4</th>\n",
       "      <td>K55101B55361</td>\n",
       "      <td>0.178750</td>\n",
       "      <td>0.427331</td>\n",
       "      <td>0.164350</td>\n",
       "      <td>0.405368</td>\n",
       "      <td>2등급</td>\n",
       "      <td>2등급</td>\n",
       "      <td>1등급</td>\n",
       "    </tr>\n",
       "    <tr>\n",
       "      <th>...</th>\n",
       "      <td>...</td>\n",
       "      <td>...</td>\n",
       "      <td>...</td>\n",
       "      <td>...</td>\n",
       "      <td>...</td>\n",
       "      <td>...</td>\n",
       "      <td>...</td>\n",
       "      <td>...</td>\n",
       "    </tr>\n",
       "    <tr>\n",
       "      <th>1218</th>\n",
       "      <td>KR5366AZ1569</td>\n",
       "      <td>0.094341</td>\n",
       "      <td>0.259419</td>\n",
       "      <td>0.095479</td>\n",
       "      <td>0.161035</td>\n",
       "      <td>4등급</td>\n",
       "      <td>4등급</td>\n",
       "      <td>3등급</td>\n",
       "    </tr>\n",
       "    <tr>\n",
       "      <th>1219</th>\n",
       "      <td>KRM225631402</td>\n",
       "      <td>0.185465</td>\n",
       "      <td>0.381840</td>\n",
       "      <td>0.261185</td>\n",
       "      <td>0.386675</td>\n",
       "      <td>2등급</td>\n",
       "      <td>1등급</td>\n",
       "      <td>1등급</td>\n",
       "    </tr>\n",
       "    <tr>\n",
       "      <th>1220</th>\n",
       "      <td>KRM301AI3938</td>\n",
       "      <td>0.185769</td>\n",
       "      <td>0.384407</td>\n",
       "      <td>0.257254</td>\n",
       "      <td>0.389291</td>\n",
       "      <td>2등급</td>\n",
       "      <td>1등급</td>\n",
       "      <td>1등급</td>\n",
       "    </tr>\n",
       "    <tr>\n",
       "      <th>1221</th>\n",
       "      <td>KRM301AI3979</td>\n",
       "      <td>0.230201</td>\n",
       "      <td>0.283377</td>\n",
       "      <td>0.179014</td>\n",
       "      <td>0.328698</td>\n",
       "      <td>2등급</td>\n",
       "      <td>2등급</td>\n",
       "      <td>2등급</td>\n",
       "    </tr>\n",
       "    <tr>\n",
       "      <th>1222</th>\n",
       "      <td>KRM301AR0081</td>\n",
       "      <td>0.185678</td>\n",
       "      <td>0.383628</td>\n",
       "      <td>0.258411</td>\n",
       "      <td>0.388502</td>\n",
       "      <td>2등급</td>\n",
       "      <td>1등급</td>\n",
       "      <td>1등급</td>\n",
       "    </tr>\n",
       "  </tbody>\n",
       "</table>\n",
       "<p>1223 rows × 8 columns</p>\n",
       "</div>"
      ],
      "text/plain": [
       "              code    std_1y    var_1y    std_3y    var_3y risk_std_1y  \\\n",
       "0     K55101B55320  0.177939  0.425688  0.164837  0.403589         2등급   \n",
       "1     K55101B55338  0.178801  0.427530  0.164400  0.405566         2등급   \n",
       "2     K55101B55346  0.178734  0.427033  0.164599  0.405073         2등급   \n",
       "3     K55101B55353  0.178834  0.428004  0.164318  0.406121         2등급   \n",
       "4     K55101B55361  0.178750  0.427331  0.164350  0.405368         2등급   \n",
       "...            ...       ...       ...       ...       ...         ...   \n",
       "1218  KR5366AZ1569  0.094341  0.259419  0.095479  0.161035         4등급   \n",
       "1219  KRM225631402  0.185465  0.381840  0.261185  0.386675         2등급   \n",
       "1220  KRM301AI3938  0.185769  0.384407  0.257254  0.389291         2등급   \n",
       "1221  KRM301AI3979  0.230201  0.283377  0.179014  0.328698         2등급   \n",
       "1222  KRM301AR0081  0.185678  0.383628  0.258411  0.388502         2등급   \n",
       "\n",
       "     risk_std_3y risk_var_3y  \n",
       "0            2등급         1등급  \n",
       "1            2등급         1등급  \n",
       "2            2등급         1등급  \n",
       "3            2등급         1등급  \n",
       "4            2등급         1등급  \n",
       "...          ...         ...  \n",
       "1218         4등급         3등급  \n",
       "1219         1등급         1등급  \n",
       "1220         1등급         1등급  \n",
       "1221         2등급         2등급  \n",
       "1222         1등급         1등급  \n",
       "\n",
       "[1223 rows x 8 columns]"
      ]
     },
     "execution_count": 15,
     "metadata": {},
     "output_type": "execute_result"
    }
   ],
   "source": [
    "labels = [\"6등급\", \"5등급\", \"4등급\", \"3등급\", \"2등급\", \"1등급\"]\n",
    "cut_fn = functools.partial(pd.cut, labels=labels)\n",
    "\n",
    "lists_lb_df = lists_rst_df.assign(\n",
    "    risk_std_1y=cut_fn(lists_rst_df['std_1y'], bins=DICT_BINS['std_1y']),\n",
    "    risk_std_3y=cut_fn(lists_rst_df['std_3y'], bins=DICT_BINS['std_3y']),\n",
    "    # risk_var_1y=cut_fn(lists_rst_df['var_1y']),\n",
    "    risk_var_3y=cut_fn(lists_rst_df['var_3y'], bins=DICT_BINS['var_3y']))\n",
    "lists_lb_df.dropna(inplace=True)\n",
    "lists_lb_df.reset_index(inplace=True)\n",
    "\n",
    "lists_lb_df"
   ]
  },
  {
   "cell_type": "markdown",
   "id": "f2c68370",
   "metadata": {
    "collapsed": false
   },
   "source": [
    "#### 프로세스 테스트"
   ]
  },
  {
   "cell_type": "code",
   "execution_count": 16,
   "id": "e0aa081c-7f0d-4f1b-ae74-00a27747aaa5",
   "metadata": {
    "execution": {
     "iopub.execute_input": "2022-12-21T01:46:12.039235Z",
     "iopub.status.busy": "2022-12-21T01:46:12.038236Z",
     "iopub.status.idle": "2022-12-21T01:46:12.050235Z",
     "shell.execute_reply": "2022-12-21T01:46:12.049234Z"
    }
   },
   "outputs": [],
   "source": [
    "if VALIDATE_PROCESS:\n",
    "    list_std_3y, list_std_1y, list_var_3y = zip(*list_std_y)\n",
    "\n",
    "    df_result = pd.DataFrame({\n",
    "        \"code\": codes,\n",
    "        \"std_3y\": list_std_3y,\n",
    "        \"std_1y\": list_std_1y,\n",
    "        \"var_3y\": list_var_3y,\n",
    "    })\n",
    "\n",
    "    bins = [0, 0.005, 0.05, 0.10, 0.15, 0.25, float(\"inf\")]\n",
    "    labels = [\"6등급\", \"5등급\", \"4등급\", \"3등급\", \"2등급\", \"1등급\"]\n",
    "\n",
    "    df_result[\"risk_std_3y\"] = pd.cut(df_result.std_3y, bins=bins, labels=labels)\n",
    "    df_result[\"risk_std_1y\"] = pd.cut(df_result.std_1y, bins=bins, labels=labels)\n",
    "    df_result[\"risk_var_3y\"] = pd.cut(df_result.var_3y, bins=bins, labels=labels)\n",
    "\n",
    "    df_result = df_result.dropna()"
   ]
  },
  {
   "cell_type": "code",
   "execution_count": 17,
   "id": "c3e75562-b9ea-4c95-9a11-004be639146b",
   "metadata": {
    "execution": {
     "iopub.execute_input": "2022-12-21T01:46:12.053237Z",
     "iopub.status.busy": "2022-12-21T01:46:12.053237Z",
     "iopub.status.idle": "2022-12-21T01:46:12.065237Z",
     "shell.execute_reply": "2022-12-21T01:46:12.064235Z"
    }
   },
   "outputs": [],
   "source": [
    "if VALIDATE_PROCESS:\n",
    "    display(\n",
    "        (lists_lb_df[['code', 'risk_std_1y', 'risk_std_3y', 'risk_var_3y']].set_index(['code'])\n",
    "        == df_result[['code', 'risk_std_1y', 'risk_std_3y', 'risk_var_3y']].set_index(['code'])).all())"
   ]
  },
  {
   "cell_type": "markdown",
   "id": "7093a90e-9367-40e8-bb58-fc375b2c7f0d",
   "metadata": {},
   "source": [
    "## 등급 결과 출력"
   ]
  },
  {
   "cell_type": "code",
   "execution_count": 18,
   "id": "7d74f1a2-a5b2-4b5a-b1e4-7356deb7fb2c",
   "metadata": {
    "execution": {
     "iopub.execute_input": "2022-12-21T01:46:12.070236Z",
     "iopub.status.busy": "2022-12-21T01:46:12.069237Z",
     "iopub.status.idle": "2022-12-21T01:46:12.095235Z",
     "shell.execute_reply": "2022-12-21T01:46:12.094235Z"
    }
   },
   "outputs": [],
   "source": [
    "os.makedirs('result', exist_ok=True)\n",
    "lists_lb_df.to_csv(f'result/RESULT_{type_no}_{type_name}.csv', index=False)"
   ]
  },
  {
   "cell_type": "markdown",
   "id": "2ed08a3d-eb09-4f1f-83a5-987be9b9d584",
   "metadata": {},
   "source": [
    "## 시각화"
   ]
  },
  {
   "cell_type": "code",
   "execution_count": 19,
   "id": "a2981513-60e5-4604-8fee-235d898df378",
   "metadata": {
    "execution": {
     "iopub.execute_input": "2022-12-21T01:46:12.099236Z",
     "iopub.status.busy": "2022-12-21T01:46:12.098235Z",
     "iopub.status.idle": "2022-12-21T01:46:12.230237Z",
     "shell.execute_reply": "2022-12-21T01:46:12.229235Z"
    }
   },
   "outputs": [
    {
     "data": {
      "text/html": [
       "<style type=\"text/css\">\n",
       "#T_bd8db_row0_col0 {\n",
       "  background-color: #f7f0f7;\n",
       "  color: #000000;\n",
       "}\n",
       "#T_bd8db_row0_col1 {\n",
       "  background-color: #faf3f9;\n",
       "  color: #000000;\n",
       "}\n",
       "#T_bd8db_row0_col2 {\n",
       "  background-color: #c8cde4;\n",
       "  color: #000000;\n",
       "}\n",
       "#T_bd8db_row1_col0 {\n",
       "  background-color: #549cc7;\n",
       "  color: #f1f1f1;\n",
       "}\n",
       "#T_bd8db_row1_col1 {\n",
       "  background-color: #4a98c5;\n",
       "  color: #f1f1f1;\n",
       "}\n",
       "#T_bd8db_row1_col2 {\n",
       "  background-color: #a9bfdc;\n",
       "  color: #000000;\n",
       "}\n",
       "#T_bd8db_row2_col0, #T_bd8db_row2_col1, #T_bd8db_row2_col2 {\n",
       "  background-color: #023858;\n",
       "  color: #f1f1f1;\n",
       "}\n",
       "#T_bd8db_row3_col0 {\n",
       "  background-color: #04629a;\n",
       "  color: #f1f1f1;\n",
       "}\n",
       "#T_bd8db_row3_col1 {\n",
       "  background-color: #056fae;\n",
       "  color: #f1f1f1;\n",
       "}\n",
       "#T_bd8db_row3_col2 {\n",
       "  background-color: #f5eff6;\n",
       "  color: #000000;\n",
       "}\n",
       "#T_bd8db_row4_col0 {\n",
       "  background-color: #f4eef6;\n",
       "  color: #000000;\n",
       "}\n",
       "#T_bd8db_row4_col1 {\n",
       "  background-color: #e8e4f0;\n",
       "  color: #000000;\n",
       "}\n",
       "#T_bd8db_row4_col2 {\n",
       "  background-color: #fcf4fa;\n",
       "  color: #000000;\n",
       "}\n",
       "#T_bd8db_row5_col0, #T_bd8db_row5_col1, #T_bd8db_row5_col2 {\n",
       "  background-color: #fff7fb;\n",
       "  color: #000000;\n",
       "}\n",
       "</style>\n",
       "<table id=\"T_bd8db\">\n",
       "  <thead>\n",
       "    <tr>\n",
       "      <th class=\"blank level0\" >&nbsp;</th>\n",
       "      <th id=\"T_bd8db_level0_col0\" class=\"col_heading level0 col0\" >3년 표준편차</th>\n",
       "      <th id=\"T_bd8db_level0_col1\" class=\"col_heading level0 col1\" >1년 표준편차</th>\n",
       "      <th id=\"T_bd8db_level0_col2\" class=\"col_heading level0 col2\" >3년 VaR</th>\n",
       "    </tr>\n",
       "    <tr>\n",
       "      <th class=\"index_name level0\" >등급</th>\n",
       "      <th class=\"blank col0\" >&nbsp;</th>\n",
       "      <th class=\"blank col1\" >&nbsp;</th>\n",
       "      <th class=\"blank col2\" >&nbsp;</th>\n",
       "    </tr>\n",
       "  </thead>\n",
       "  <tbody>\n",
       "    <tr>\n",
       "      <th id=\"T_bd8db_level0_row0\" class=\"row_heading level0 row0\" >1등급</th>\n",
       "      <td id=\"T_bd8db_row0_col0\" class=\"data row0 col0\" >28</td>\n",
       "      <td id=\"T_bd8db_row0_col1\" class=\"data row0 col1\" >20</td>\n",
       "      <td id=\"T_bd8db_row0_col2\" class=\"data row0 col2\" >196</td>\n",
       "    </tr>\n",
       "    <tr>\n",
       "      <th id=\"T_bd8db_level0_row1\" class=\"row_heading level0 row1\" >2등급</th>\n",
       "      <td id=\"T_bd8db_row1_col0\" class=\"data row1 col0\" >274</td>\n",
       "      <td id=\"T_bd8db_row1_col1\" class=\"data row1 col1\" >282</td>\n",
       "      <td id=\"T_bd8db_row1_col2\" class=\"data row1 col2\" >258</td>\n",
       "    </tr>\n",
       "    <tr>\n",
       "      <th id=\"T_bd8db_level0_row2\" class=\"row_heading level0 row2\" >3등급</th>\n",
       "      <td id=\"T_bd8db_row2_col0\" class=\"data row2 col0\" >485</td>\n",
       "      <td id=\"T_bd8db_row2_col1\" class=\"data row2 col1\" >480</td>\n",
       "      <td id=\"T_bd8db_row2_col2\" class=\"data row2 col2\" >702</td>\n",
       "    </tr>\n",
       "    <tr>\n",
       "      <th id=\"T_bd8db_level0_row3\" class=\"row_heading level0 row3\" >4등급</th>\n",
       "      <td id=\"T_bd8db_row3_col0\" class=\"data row3 col0\" >401</td>\n",
       "      <td id=\"T_bd8db_row3_col1\" class=\"data row3 col1\" >364</td>\n",
       "      <td id=\"T_bd8db_row3_col2\" class=\"data row3 col2\" >47</td>\n",
       "    </tr>\n",
       "    <tr>\n",
       "      <th id=\"T_bd8db_level0_row4\" class=\"row_heading level0 row4\" >5등급</th>\n",
       "      <td id=\"T_bd8db_row4_col0\" class=\"data row4 col0\" >35</td>\n",
       "      <td id=\"T_bd8db_row4_col1\" class=\"data row4 col1\" >72</td>\n",
       "      <td id=\"T_bd8db_row4_col2\" class=\"data row4 col2\" >17</td>\n",
       "    </tr>\n",
       "    <tr>\n",
       "      <th id=\"T_bd8db_level0_row5\" class=\"row_heading level0 row5\" >6등급</th>\n",
       "      <td id=\"T_bd8db_row5_col0\" class=\"data row5 col0\" >0</td>\n",
       "      <td id=\"T_bd8db_row5_col1\" class=\"data row5 col1\" >5</td>\n",
       "      <td id=\"T_bd8db_row5_col2\" class=\"data row5 col2\" >3</td>\n",
       "    </tr>\n",
       "  </tbody>\n",
       "</table>\n"
      ],
      "text/plain": [
       "<pandas.io.formats.style.Styler at 0x284b6d9db20>"
      ]
     },
     "execution_count": 19,
     "metadata": {},
     "output_type": "execute_result"
    }
   ],
   "source": [
    "risk_std_3y_stat_df = lists_lb_df[\"risk_std_3y\"].value_counts().sort_index(ascending=False)\n",
    "risk_std_1y_stat_df = lists_lb_df[\"risk_std_1y\"].value_counts().sort_index(ascending=False)\n",
    "risk_var_3y_stat_df = lists_lb_df[\"risk_var_3y\"].value_counts().sort_index(ascending=False)\n",
    "stat_df = pd.concat([risk_std_3y_stat_df, risk_std_1y_stat_df, risk_var_3y_stat_df], axis=1)\n",
    "stat_df = stat_df.rename(columns={\"risk_std_3y\": \"3년 표준편차\", \"risk_std_1y\": \"1년 표준편차\", \"risk_var_3y\": \"3년 VaR\"})\n",
    "stat_df.reset_index(names=['등급'], inplace=True)\n",
    "\n",
    "stat_df.set_index('등급').style.background_gradient()"
   ]
  },
  {
   "cell_type": "code",
   "execution_count": 20,
   "id": "2ecfd0b2-0548-41e1-a6ed-9abd2da5b7c8",
   "metadata": {
    "execution": {
     "iopub.execute_input": "2022-12-21T01:46:12.235236Z",
     "iopub.status.busy": "2022-12-21T01:46:12.234235Z",
     "iopub.status.idle": "2022-12-21T01:46:12.575250Z",
     "shell.execute_reply": "2022-12-21T01:46:12.574235Z"
    }
   },
   "outputs": [
    {
     "data": {
      "image/png": "[encoded data removed]",
      "text/plain": [
       "<Figure size 640x480 with 1 Axes>"
      ]
     },
     "metadata": {},
     "output_type": "display_data"
    }
   ],
   "source": [
    "def show_values(axs, orient=\"v\", space=.01):\n",
    "    def _single(ax):\n",
    "        if orient == \"v\":\n",
    "            for p in ax.patches:\n",
    "                _x = p.get_x() + p.get_width() / 2\n",
    "                _y = p.get_y() + p.get_height() + (p.get_height() * 0.01)\n",
    "                value = '{:d}'.format(int(p.get_height()))\n",
    "                ax.text(_x, _y, value, ha=\"center\")\n",
    "        elif orient == \"h\":\n",
    "            for p in ax.patches:\n",
    "                _x = p.get_x() + p.get_width() + float(space)\n",
    "                _y = p.get_y() + p.get_height() - (p.get_height() * 0.5)\n",
    "                value = '{:d}'.format(int(p.get_width()))\n",
    "                ax.text(_x, _y, value, ha=\"left\")\n",
    "\n",
    "    if isinstance(axs, np.ndarray):\n",
    "        for idx, ax in np.ndenumerate(axs):\n",
    "            _single(ax)\n",
    "    else:\n",
    "        _single(axs)\n",
    "\n",
    "\n",
    "stat_df_long = (\n",
    "    stat_df\n",
    "    .melt(id_vars=\"등급\", value_vars=[\"3년 표준편차\", \"1년 표준편차\", \"3년 VaR\"], var_name=\"기준\") \\\n",
    "    .rename(columns={\"index\": \"등급\"})\n",
    ")\n",
    "axis = sns.barplot(x=\"등급\", y=\"value\", hue=\"기준\", data=stat_df_long)\n",
    "axis.set_title(f\"{type_name} 펀드 위험등급 분포\")\n",
    "show_values(axis)"
   ]
  },
  {
   "cell_type": "markdown",
   "id": "1f9227c4-c788-429d-b8d4-fc278ba29d24",
   "metadata": {},
   "source": [
    "## 통계 결과 출력"
   ]
  },
  {
   "cell_type": "code",
   "execution_count": 21,
   "id": "68fbd533-f46e-4cd6-9c35-28c3ae50830d",
   "metadata": {
    "execution": {
     "iopub.execute_input": "2022-12-21T01:46:12.579236Z",
     "iopub.status.busy": "2022-12-21T01:46:12.579236Z",
     "iopub.status.idle": "2022-12-21T01:46:12.590235Z",
     "shell.execute_reply": "2022-12-21T01:46:12.589235Z"
    }
   },
   "outputs": [],
   "source": [
    "os.makedirs('result', exist_ok=True)\n",
    "stat_df.to_csv(f'result/STATISTICS_{type_no}_{type_name}.csv', index=False)"
   ]
  },
  {
   "cell_type": "code",
   "execution_count": null,
   "id": "8ea58c1d",
   "metadata": {
    "collapsed": false
   },
   "outputs": [],
   "source": []
  }
 ],
 "metadata": {
  "kernelspec": {
   "display_name": "Python 3 (ipykernel)",
   "language": "python",
   "name": "python3"
  },
  "language_info": {
   "codemirror_mode": {
    "name": "ipython",
    "version": 3
   },
   "file_extension": ".py",
   "mimetype": "text/x-python",
   "name": "python",
   "nbconvert_exporter": "python",
   "pygments_lexer": "ipython3",
   "version": "3.9.13"
  },
  "toc-autonumbering": true,
  "toc-showcode": false,
  "toc-showmarkdowntxt": false
 },
 "nbformat": 4,
 "nbformat_minor": 5
}
