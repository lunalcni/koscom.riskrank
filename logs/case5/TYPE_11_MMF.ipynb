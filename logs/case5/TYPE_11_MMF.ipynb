{
 "cells": [
  {
   "cell_type": "markdown",
   "id": "2dd67b7b-b151-49b1-955e-dd7627677a4e",
   "metadata": {},
   "source": [
    "# 펀드 위험등급 산출"
   ]
  },
  {
   "cell_type": "markdown",
   "id": "b3e20237-dc40-4627-a953-52539fea6148",
   "metadata": {},
   "source": [
    "## 패키지 로드"
   ]
  },
  {
   "cell_type": "code",
   "execution_count": 1,
   "id": "103faeb9-9c7b-46f1-8ddb-e8e438626b60",
   "metadata": {
    "execution": {
     "iopub.execute_input": "2023-01-25T07:50:42.317401Z",
     "iopub.status.busy": "2023-01-25T07:50:42.314855Z",
     "iopub.status.idle": "2023-01-25T07:50:43.803665Z",
     "shell.execute_reply": "2023-01-25T07:50:43.803665Z"
    }
   },
   "outputs": [],
   "source": [
    "%matplotlib inline"
   ]
  },
  {
   "cell_type": "code",
   "execution_count": 2,
   "id": "2ead0865-2adf-4384-9e33-e05ad2246056",
   "metadata": {
    "execution": {
     "iopub.execute_input": "2023-01-25T07:50:43.805700Z",
     "iopub.status.busy": "2023-01-25T07:50:43.805700Z",
     "iopub.status.idle": "2023-01-25T07:50:45.115787Z",
     "shell.execute_reply": "2023-01-25T07:50:45.115787Z"
    }
   },
   "outputs": [],
   "source": [
    "import functools\n",
    "import os\n",
    "import re\n",
    "from collections import defaultdict\n",
    "from pathlib import Path\n",
    "\n",
    "import matplotlib.pyplot as plt\n",
    "import numpy as np\n",
    "import pandas as pd\n",
    "import seaborn as sns\n",
    "from tqdm import trange"
   ]
  },
  {
   "cell_type": "code",
   "execution_count": 3,
   "id": "ca892556",
   "metadata": {
    "collapsed": false,
    "execution": {
     "iopub.execute_input": "2023-01-25T07:50:45.117827Z",
     "iopub.status.busy": "2023-01-25T07:50:45.117827Z",
     "iopub.status.idle": "2023-01-25T07:50:45.141976Z",
     "shell.execute_reply": "2023-01-25T07:50:45.140971Z"
    }
   },
   "outputs": [],
   "source": [
    "plt.rc('font', family='Malgun Gothic')  # For Windows"
   ]
  },
  {
   "cell_type": "markdown",
   "id": "713dae4d",
   "metadata": {
    "collapsed": false
   },
   "source": [
    "## 변수 정의"
   ]
  },
  {
   "cell_type": "code",
   "execution_count": 4,
   "id": "5aa4d43a",
   "metadata": {
    "collapsed": false,
    "execution": {
     "iopub.execute_input": "2023-01-25T07:50:45.147972Z",
     "iopub.status.busy": "2023-01-25T07:50:45.146972Z",
     "iopub.status.idle": "2023-01-25T07:50:45.168082Z",
     "shell.execute_reply": "2023-01-25T07:50:45.168082Z"
    }
   },
   "outputs": [
    {
     "name": "stdout",
     "output_type": "stream",
     "text": [
      "TEST_PROCESS=False, VALIDATE_PROCESS=False, DATA_FILEPATH='data\\\\TYPE_11_MMF.csv', BINS={'std_1y': [0, 0.005, 0.05, 0.1, 0.15, 0.25, inf], 'std_3y': [0, 0.005, 0.05, 0.1, 0.15, 0.25, inf], 'var_3y': [0, 0.005, 0.05, 0.1, 0.2, 0.3, inf]}, DICT_BINS={'std_1y': [0, 0.005, 0.05, 0.1, 0.15, 0.25, inf], 'std_3y': [0, 0.005, 0.05, 0.1, 0.15, 0.25, inf], 'var_3y': [0, 0.005, 0.05, 0.1, 0.2, 0.3, inf]}\n"
     ]
    }
   ],
   "source": [
    "TEST_PROCESS = eval(os.environ.get('TEST_PROCESS', 'True'))\n",
    "VALIDATE_PROCESS = eval(os.environ.get('VALIDATE_PROCESS', 'True'))\n",
    "DATA_FILEPATH = os.environ.get('DATA_FILEPATH', './data/TYPE_10_채권형.csv')\n",
    "BINS = eval(os.environ.get('BINS', '[0, 0.005, 0.05, 0.10, 0.15, 0.25, float(\"inf\")]'))\n",
    "\n",
    "if isinstance(BINS, list):\n",
    "    DICT_BINS = defaultdict(lambda: BINS)\n",
    "elif isinstance(BINS, dict):\n",
    "    assert all(idx_col in BINS for idx_col in ['std_1y', 'std_3y', 'var_3y'])\n",
    "    DICT_BINS = BINS\n",
    "\n",
    "print(f'{TEST_PROCESS=}, {VALIDATE_PROCESS=}, {DATA_FILEPATH=}, {BINS=}, {DICT_BINS=}')"
   ]
  },
  {
   "cell_type": "markdown",
   "id": "1bf1e13b",
   "metadata": {
    "collapsed": false
   },
   "source": [
    "## 타입 추출"
   ]
  },
  {
   "cell_type": "code",
   "execution_count": 5,
   "id": "9613fca5-40ff-41c8-a061-d9c23223c365",
   "metadata": {
    "execution": {
     "iopub.execute_input": "2023-01-25T07:50:45.168082Z",
     "iopub.status.busy": "2023-01-25T07:50:45.168082Z",
     "iopub.status.idle": "2023-01-25T07:50:45.188261Z",
     "shell.execute_reply": "2023-01-25T07:50:45.188261Z"
    }
   },
   "outputs": [
    {
     "data": {
      "text/plain": [
       "('11', 'MMF')"
      ]
     },
     "execution_count": 5,
     "metadata": {},
     "output_type": "execute_result"
    }
   ],
   "source": [
    "filepath = Path(DATA_FILEPATH)\n",
    "filename_pattern = re.compile(r'TYPE_([0-9]+)_([^_]+)\\.csv')\n",
    "\n",
    "match_rst = re.fullmatch(filename_pattern, filepath.name)\n",
    "type_no, type_name = match_rst.groups()\n",
    "\n",
    "type_no, type_name"
   ]
  },
  {
   "cell_type": "markdown",
   "id": "3a02a33b-ddc6-446a-88c3-37887ffe4768",
   "metadata": {},
   "source": [
    "## 데이터 로드"
   ]
  },
  {
   "cell_type": "code",
   "execution_count": 6,
   "id": "a4260092-7f8c-48a7-a523-7b72bc350181",
   "metadata": {
    "execution": {
     "iopub.execute_input": "2023-01-25T07:50:45.188261Z",
     "iopub.status.busy": "2023-01-25T07:50:45.188261Z",
     "iopub.status.idle": "2023-01-25T07:50:46.258023Z",
     "shell.execute_reply": "2023-01-25T07:50:46.257026Z"
    }
   },
   "outputs": [
    {
     "name": "stdout",
     "output_type": "stream",
     "text": [
      "len(codes)=410\n"
     ]
    }
   ],
   "source": [
    "lists_wo_idx_df = pd.read_csv(filepath, names=[\"date\", \"code\", \"nav\"], usecols=[0, 1, 2], parse_dates=[0])\n",
    "lists_df = lists_wo_idx_df.set_index(['code', 'date'])\n",
    "\n",
    "codes = lists_df.index.get_level_values('code').unique()\n",
    "print(f\"{len(codes)=}\")"
   ]
  },
  {
   "cell_type": "markdown",
   "id": "6296c403",
   "metadata": {
    "collapsed": false
   },
   "source": [
    "## 수치 산출 테스트\n",
    "\n",
    "1년을 기준으로 프로세스 정의"
   ]
  },
  {
   "cell_type": "markdown",
   "id": "8debf498",
   "metadata": {
    "collapsed": false
   },
   "source": [
    "### 기간 조건 적용"
   ]
  },
  {
   "cell_type": "code",
   "execution_count": 7,
   "id": "8779de0b",
   "metadata": {
    "collapsed": false,
    "execution": {
     "iopub.execute_input": "2023-01-25T07:50:46.264021Z",
     "iopub.status.busy": "2023-01-25T07:50:46.263023Z",
     "iopub.status.idle": "2023-01-25T07:50:46.273919Z",
     "shell.execute_reply": "2023-01-25T07:50:46.272913Z"
    }
   },
   "outputs": [],
   "source": [
    "if TEST_PROCESS:\n",
    "    lists_1y_df = pd.concat([\n",
    "        lists_df.xs(code).last('1y').assign(code=code)\n",
    "        for code in codes])\n",
    "    lists_1y_df.reset_index(inplace=True)\n",
    "    display(lists_1y_df)"
   ]
  },
  {
   "cell_type": "markdown",
   "id": "615b339a",
   "metadata": {
    "collapsed": false
   },
   "source": [
    "### 리샘플링, 퍼센트 체인지 추출"
   ]
  },
  {
   "cell_type": "code",
   "execution_count": 8,
   "id": "61abe666",
   "metadata": {
    "collapsed": false,
    "execution": {
     "iopub.execute_input": "2023-01-25T07:50:46.279920Z",
     "iopub.status.busy": "2023-01-25T07:50:46.278924Z",
     "iopub.status.idle": "2023-01-25T07:50:46.289995Z",
     "shell.execute_reply": "2023-01-25T07:50:46.287922Z"
    }
   },
   "outputs": [],
   "source": [
    "if TEST_PROCESS:\n",
    "    lists_1y_wk_df = lists_1y_df.set_index(['date']).groupby(['code'])[['nav']].resample('W').last()\n",
    "    lists_1y_wk_df = lists_1y_wk_df.assign(ret=lists_1y_wk_df.groupby(['code'])[['nav']].pct_change())\n",
    "    display(lists_1y_wk_df)"
   ]
  },
  {
   "cell_type": "markdown",
   "id": "8b5c0264",
   "metadata": {
    "collapsed": false
   },
   "source": [
    "### 표준편차 산출"
   ]
  },
  {
   "cell_type": "code",
   "execution_count": 9,
   "id": "d8bb4490",
   "metadata": {
    "collapsed": false,
    "execution": {
     "iopub.execute_input": "2023-01-25T07:50:46.298032Z",
     "iopub.status.busy": "2023-01-25T07:50:46.293994Z",
     "iopub.status.idle": "2023-01-25T07:50:46.311694Z",
     "shell.execute_reply": "2023-01-25T07:50:46.310186Z"
    }
   },
   "outputs": [],
   "source": [
    "if TEST_PROCESS:\n",
    "    lists_1y_std_df = lists_1y_wk_df.groupby(['code'])[['ret']].std(numeric_only=True) * np.sqrt(52)\n",
    "    lists_1y_std_df.reset_index(inplace=True)\n",
    "    lists_1y_std_df.rename(columns={'ret': 'std_1y'}, inplace=True)\n",
    "    display(lists_1y_std_df)"
   ]
  },
  {
   "cell_type": "markdown",
   "id": "0a330387",
   "metadata": {
    "collapsed": false
   },
   "source": [
    "### VaR 산출"
   ]
  },
  {
   "cell_type": "code",
   "execution_count": 10,
   "id": "ac3008b9",
   "metadata": {
    "collapsed": false,
    "execution": {
     "iopub.execute_input": "2023-01-25T07:50:46.318695Z",
     "iopub.status.busy": "2023-01-25T07:50:46.317695Z",
     "iopub.status.idle": "2023-01-25T07:50:46.341695Z",
     "shell.execute_reply": "2023-01-25T07:50:46.340694Z"
    }
   },
   "outputs": [],
   "source": [
    "if TEST_PROCESS:\n",
    "    lists_1y_var_df = lists_1y_wk_df.groupby(['code'])[['ret']].quantile(0.025, numeric_only=True)\n",
    "    lists_1y_var_df = np.minimum(lists_1y_var_df, 0) * -1 * np.sqrt(52)\n",
    "    lists_1y_var_df.rename(columns={'ret': 'var_1y'}, inplace=True)\n",
    "    display(lists_1y_var_df)"
   ]
  },
  {
   "cell_type": "markdown",
   "id": "5ebefb02",
   "metadata": {
    "collapsed": false
   },
   "source": [
    "## 수치 산출 프로세스 정의"
   ]
  },
  {
   "cell_type": "code",
   "execution_count": 11,
   "id": "cbb6d9d4",
   "metadata": {
    "collapsed": false,
    "execution": {
     "iopub.execute_input": "2023-01-25T07:50:46.353702Z",
     "iopub.status.busy": "2023-01-25T07:50:46.351698Z",
     "iopub.status.idle": "2023-01-25T07:50:46.372695Z",
     "shell.execute_reply": "2023-01-25T07:50:46.371695Z"
    }
   },
   "outputs": [],
   "source": [
    "offsets = ['1y', '3y']"
   ]
  },
  {
   "cell_type": "code",
   "execution_count": 12,
   "id": "ad4cc35b",
   "metadata": {
    "collapsed": false,
    "execution": {
     "iopub.execute_input": "2023-01-25T07:50:46.380696Z",
     "iopub.status.busy": "2023-01-25T07:50:46.379695Z",
     "iopub.status.idle": "2023-01-25T07:50:53.420860Z",
     "shell.execute_reply": "2023-01-25T07:50:53.420860Z"
    }
   },
   "outputs": [
    {
     "name": "stdout",
     "output_type": "stream",
     "text": [
      "CPU times: total: 5.61 s\n",
      "Wall time: 6.99 s\n"
     ]
    },
    {
     "data": {
      "text/html": [
       "<div>\n",
       "<style scoped>\n",
       "    .dataframe tbody tr th:only-of-type {\n",
       "        vertical-align: middle;\n",
       "    }\n",
       "\n",
       "    .dataframe tbody tr th {\n",
       "        vertical-align: top;\n",
       "    }\n",
       "\n",
       "    .dataframe thead th {\n",
       "        text-align: right;\n",
       "    }\n",
       "</style>\n",
       "<table border=\"1\" class=\"dataframe\">\n",
       "  <thead>\n",
       "    <tr style=\"text-align: right;\">\n",
       "      <th></th>\n",
       "      <th>std_1y</th>\n",
       "      <th>var_1y</th>\n",
       "      <th>std_3y</th>\n",
       "      <th>var_3y</th>\n",
       "    </tr>\n",
       "    <tr>\n",
       "      <th>code</th>\n",
       "      <th></th>\n",
       "      <th></th>\n",
       "      <th></th>\n",
       "      <th></th>\n",
       "    </tr>\n",
       "  </thead>\n",
       "  <tbody>\n",
       "    <tr>\n",
       "      <th>K55101B72028</th>\n",
       "      <td>0.017850</td>\n",
       "      <td>-0.000000</td>\n",
       "      <td>0.014046</td>\n",
       "      <td>-0.0</td>\n",
       "    </tr>\n",
       "    <tr>\n",
       "      <th>K55101B72036</th>\n",
       "      <td>0.018136</td>\n",
       "      <td>-0.000000</td>\n",
       "      <td>0.016224</td>\n",
       "      <td>-0.0</td>\n",
       "    </tr>\n",
       "    <tr>\n",
       "      <th>K55101BC8873</th>\n",
       "      <td>0.016518</td>\n",
       "      <td>-0.000000</td>\n",
       "      <td>0.014174</td>\n",
       "      <td>-0.0</td>\n",
       "    </tr>\n",
       "    <tr>\n",
       "      <th>K55101BJ6490</th>\n",
       "      <td>0.000339</td>\n",
       "      <td>-0.000000</td>\n",
       "      <td>0.011098</td>\n",
       "      <td>-0.0</td>\n",
       "    </tr>\n",
       "    <tr>\n",
       "      <th>K55101BJ6508</th>\n",
       "      <td>0.000997</td>\n",
       "      <td>0.000505</td>\n",
       "      <td>0.002700</td>\n",
       "      <td>-0.0</td>\n",
       "    </tr>\n",
       "    <tr>\n",
       "      <th>...</th>\n",
       "      <td>...</td>\n",
       "      <td>...</td>\n",
       "      <td>...</td>\n",
       "      <td>...</td>\n",
       "    </tr>\n",
       "    <tr>\n",
       "      <th>KR5373144884</th>\n",
       "      <td>0.017332</td>\n",
       "      <td>-0.000000</td>\n",
       "      <td>0.015024</td>\n",
       "      <td>-0.0</td>\n",
       "    </tr>\n",
       "    <tr>\n",
       "      <th>KR5373144900</th>\n",
       "      <td>0.019665</td>\n",
       "      <td>-0.000000</td>\n",
       "      <td>0.017089</td>\n",
       "      <td>-0.0</td>\n",
       "    </tr>\n",
       "    <tr>\n",
       "      <th>KR5373144918</th>\n",
       "      <td>0.015718</td>\n",
       "      <td>-0.000000</td>\n",
       "      <td>0.013188</td>\n",
       "      <td>-0.0</td>\n",
       "    </tr>\n",
       "    <tr>\n",
       "      <th>KR5373AH9029</th>\n",
       "      <td>0.015916</td>\n",
       "      <td>-0.000000</td>\n",
       "      <td>0.013381</td>\n",
       "      <td>-0.0</td>\n",
       "    </tr>\n",
       "    <tr>\n",
       "      <th>KR5391A64392</th>\n",
       "      <td>0.017946</td>\n",
       "      <td>-0.000000</td>\n",
       "      <td>0.016590</td>\n",
       "      <td>-0.0</td>\n",
       "    </tr>\n",
       "  </tbody>\n",
       "</table>\n",
       "<p>410 rows × 4 columns</p>\n",
       "</div>"
      ],
      "text/plain": [
       "                std_1y    var_1y    std_3y  var_3y\n",
       "code                                              \n",
       "K55101B72028  0.017850 -0.000000  0.014046    -0.0\n",
       "K55101B72036  0.018136 -0.000000  0.016224    -0.0\n",
       "K55101BC8873  0.016518 -0.000000  0.014174    -0.0\n",
       "K55101BJ6490  0.000339 -0.000000  0.011098    -0.0\n",
       "K55101BJ6508  0.000997  0.000505  0.002700    -0.0\n",
       "...                ...       ...       ...     ...\n",
       "KR5373144884  0.017332 -0.000000  0.015024    -0.0\n",
       "KR5373144900  0.019665 -0.000000  0.017089    -0.0\n",
       "KR5373144918  0.015718 -0.000000  0.013188    -0.0\n",
       "KR5373AH9029  0.015916 -0.000000  0.013381    -0.0\n",
       "KR5391A64392  0.017946 -0.000000  0.016590    -0.0\n",
       "\n",
       "[410 rows x 4 columns]"
      ]
     },
     "execution_count": 12,
     "metadata": {},
     "output_type": "execute_result"
    }
   ],
   "source": [
    "%%time\n",
    "\n",
    "lists_rst_dfs = []\n",
    "\n",
    "for offset in offsets:\n",
    "    lists_off_df = pd.concat([\n",
    "        lists_df.xs(code).last(offset).assign(code=code)\n",
    "        for code in codes])\n",
    "    lists_off_df.reset_index(inplace=True)\n",
    "\n",
    "    lists_off_wk_df = lists_off_df.set_index(['date']).groupby(['code'])[['nav']].resample('W').last()\n",
    "    lists_off_wk_df = lists_off_wk_df.assign(ret=lists_off_wk_df.groupby(['code'])[['nav']].pct_change())\n",
    "\n",
    "    lists_off_std_df = lists_off_wk_df.groupby(['code'])[['ret']].std(numeric_only=True) * np.sqrt(52)\n",
    "    lists_off_std_df.rename(columns={'ret': f'std_{offset}'}, inplace=True)\n",
    "\n",
    "    lists_off_var_df = lists_off_wk_df.groupby(['code'])[['ret']].quantile(0.025, numeric_only=True)\n",
    "    lists_off_var_df = np.minimum(lists_off_var_df, 0) * -1 * np.sqrt(52)\n",
    "    lists_off_var_df.rename(columns={'ret': f'var_{offset}'}, inplace=True)\n",
    "\n",
    "    lists_rst_dfs.append(lists_off_std_df)\n",
    "    lists_rst_dfs.append(lists_off_var_df)\n",
    "\n",
    "lists_rst_df = pd.concat(lists_rst_dfs, axis='columns')\n",
    "lists_rst_df"
   ]
  },
  {
   "cell_type": "markdown",
   "id": "ea54999a",
   "metadata": {
    "collapsed": false
   },
   "source": [
    "### 프로세스 테스트"
   ]
  },
  {
   "cell_type": "code",
   "execution_count": 13,
   "id": "a6cc3475-204e-417d-ac8f-67c33c944c4e",
   "metadata": {
    "execution": {
     "iopub.execute_input": "2023-01-25T07:50:53.420860Z",
     "iopub.status.busy": "2023-01-25T07:50:53.420860Z",
     "iopub.status.idle": "2023-01-25T07:50:53.440859Z",
     "shell.execute_reply": "2023-01-25T07:50:53.440859Z"
    }
   },
   "outputs": [
    {
     "name": "stdout",
     "output_type": "stream",
     "text": [
      "CPU times: total: 0 ns\n",
      "Wall time: 0 ns\n"
     ]
    }
   ],
   "source": [
    "%%time\n",
    "\n",
    "def calc_std_y(code):\n",
    "    df = lists_wo_idx_df[lists_wo_idx_df['code'] == code][[\"date\", \"nav\"]]\n",
    "    df = df.sort_values(by=\"date\")\n",
    "    df = df.set_index(\"date\")\n",
    "\n",
    "    df_1y = df.last(\"1Y\")\n",
    "    df_1y_w = df_1y.resample(\"W\").last()\n",
    "\n",
    "    df_3y = df.last(\"3Y\")\n",
    "    df_3y_w = df_3y.resample(\"W\").last()\n",
    "\n",
    "    df_3y_w[\"ret\"] = df_3y_w[\"nav\"].pct_change()\n",
    "    df_3y_w = df_3y_w.iloc[1:]\n",
    "    std_3y = df_3y_w[\"ret\"].std() * np.sqrt(52)\n",
    "\n",
    "    df_1y_w[\"ret\"] = df_1y_w[\"nav\"].pct_change()\n",
    "    df_1y_w = df_1y_w.iloc[1:]\n",
    "    std_1y = df_1y_w[\"ret\"].std() * np.sqrt(52)\n",
    "\n",
    "    var_3y = -np.minimum(df_3y_w[\"ret\"].quantile(0.025), 0) * np.sqrt(52)\n",
    "\n",
    "    return std_3y, std_1y, var_3y\n",
    "\n",
    "if VALIDATE_PROCESS:\n",
    "    list_std_y = []\n",
    "    for i in trange(len(codes)):\n",
    "        code = codes[i]\n",
    "        list_std_y.append(calc_std_y(code))"
   ]
  },
  {
   "cell_type": "code",
   "execution_count": 14,
   "id": "21fa7d1b",
   "metadata": {
    "collapsed": false,
    "execution": {
     "iopub.execute_input": "2023-01-25T07:50:53.440859Z",
     "iopub.status.busy": "2023-01-25T07:50:53.440859Z",
     "iopub.status.idle": "2023-01-25T07:50:53.460859Z",
     "shell.execute_reply": "2023-01-25T07:50:53.460859Z"
    }
   },
   "outputs": [],
   "source": [
    "if VALIDATE_PROCESS:\n",
    "    for code_idx, code in enumerate(codes):\n",
    "        for old_idx, new_name in [(0, 'std_3y'), (1, 'std_1y'), (2, 'var_3y')]:\n",
    "            old_rst = list_std_y[code_idx][old_idx]\n",
    "            new_rst = lists_rst_df.xs(code).xs(new_name)\n",
    "            if not np.isclose(old_rst, new_rst, equal_nan=True):\n",
    "                print(f\"{code=}, {old_rst=}, {new_rst=}, {np.isclose(old_rst, new_rst, equal_nan=True)=}\")"
   ]
  },
  {
   "cell_type": "markdown",
   "id": "51ad53f2",
   "metadata": {
    "collapsed": false
   },
   "source": [
    "## 등급 변환"
   ]
  },
  {
   "cell_type": "code",
   "execution_count": 15,
   "id": "d0648131",
   "metadata": {
    "collapsed": false,
    "execution": {
     "iopub.execute_input": "2023-01-25T07:50:53.460859Z",
     "iopub.status.busy": "2023-01-25T07:50:53.460859Z",
     "iopub.status.idle": "2023-01-25T07:50:53.510858Z",
     "shell.execute_reply": "2023-01-25T07:50:53.510858Z"
    }
   },
   "outputs": [
    {
     "data": {
      "text/html": [
       "<div>\n",
       "<style scoped>\n",
       "    .dataframe tbody tr th:only-of-type {\n",
       "        vertical-align: middle;\n",
       "    }\n",
       "\n",
       "    .dataframe tbody tr th {\n",
       "        vertical-align: top;\n",
       "    }\n",
       "\n",
       "    .dataframe thead th {\n",
       "        text-align: right;\n",
       "    }\n",
       "</style>\n",
       "<table border=\"1\" class=\"dataframe\">\n",
       "  <thead>\n",
       "    <tr style=\"text-align: right;\">\n",
       "      <th></th>\n",
       "      <th>code</th>\n",
       "      <th>std_1y</th>\n",
       "      <th>var_1y</th>\n",
       "      <th>std_3y</th>\n",
       "      <th>var_3y</th>\n",
       "      <th>risk_std_1y</th>\n",
       "      <th>risk_std_3y</th>\n",
       "      <th>risk_var_3y</th>\n",
       "    </tr>\n",
       "  </thead>\n",
       "  <tbody>\n",
       "    <tr>\n",
       "      <th>0</th>\n",
       "      <td>K55101BV3525</td>\n",
       "      <td>0.018057</td>\n",
       "      <td>-0.000000</td>\n",
       "      <td>0.016639</td>\n",
       "      <td>0.000838</td>\n",
       "      <td>5등급</td>\n",
       "      <td>5등급</td>\n",
       "      <td>6등급</td>\n",
       "    </tr>\n",
       "    <tr>\n",
       "      <th>1</th>\n",
       "      <td>K55101CM2634</td>\n",
       "      <td>0.004937</td>\n",
       "      <td>0.012365</td>\n",
       "      <td>0.004937</td>\n",
       "      <td>0.012365</td>\n",
       "      <td>6등급</td>\n",
       "      <td>6등급</td>\n",
       "      <td>5등급</td>\n",
       "    </tr>\n",
       "    <tr>\n",
       "      <th>2</th>\n",
       "      <td>K55102BR2142</td>\n",
       "      <td>0.040688</td>\n",
       "      <td>0.060860</td>\n",
       "      <td>0.023661</td>\n",
       "      <td>0.036169</td>\n",
       "      <td>5등급</td>\n",
       "      <td>5등급</td>\n",
       "      <td>5등급</td>\n",
       "    </tr>\n",
       "    <tr>\n",
       "      <th>3</th>\n",
       "      <td>K55102CA7420</td>\n",
       "      <td>0.013590</td>\n",
       "      <td>-0.000000</td>\n",
       "      <td>0.012308</td>\n",
       "      <td>0.002481</td>\n",
       "      <td>5등급</td>\n",
       "      <td>5등급</td>\n",
       "      <td>6등급</td>\n",
       "    </tr>\n",
       "    <tr>\n",
       "      <th>4</th>\n",
       "      <td>K55107BW8501</td>\n",
       "      <td>0.000137</td>\n",
       "      <td>-0.000000</td>\n",
       "      <td>0.011365</td>\n",
       "      <td>0.000310</td>\n",
       "      <td>6등급</td>\n",
       "      <td>5등급</td>\n",
       "      <td>6등급</td>\n",
       "    </tr>\n",
       "    <tr>\n",
       "      <th>5</th>\n",
       "      <td>K55207CR6096</td>\n",
       "      <td>0.009487</td>\n",
       "      <td>0.013113</td>\n",
       "      <td>0.009487</td>\n",
       "      <td>0.013113</td>\n",
       "      <td>5등급</td>\n",
       "      <td>5등급</td>\n",
       "      <td>5등급</td>\n",
       "    </tr>\n",
       "    <tr>\n",
       "      <th>6</th>\n",
       "      <td>K55223BB8521</td>\n",
       "      <td>0.004737</td>\n",
       "      <td>-0.000000</td>\n",
       "      <td>0.005431</td>\n",
       "      <td>0.009761</td>\n",
       "      <td>6등급</td>\n",
       "      <td>5등급</td>\n",
       "      <td>5등급</td>\n",
       "    </tr>\n",
       "    <tr>\n",
       "      <th>7</th>\n",
       "      <td>K55223BI3798</td>\n",
       "      <td>0.007908</td>\n",
       "      <td>0.010124</td>\n",
       "      <td>0.006942</td>\n",
       "      <td>0.014961</td>\n",
       "      <td>5등급</td>\n",
       "      <td>5등급</td>\n",
       "      <td>5등급</td>\n",
       "    </tr>\n",
       "    <tr>\n",
       "      <th>8</th>\n",
       "      <td>K55223BR5933</td>\n",
       "      <td>0.060240</td>\n",
       "      <td>0.115930</td>\n",
       "      <td>0.064045</td>\n",
       "      <td>0.120103</td>\n",
       "      <td>4등급</td>\n",
       "      <td>4등급</td>\n",
       "      <td>3등급</td>\n",
       "    </tr>\n",
       "    <tr>\n",
       "      <th>9</th>\n",
       "      <td>K55223BR5966</td>\n",
       "      <td>0.059817</td>\n",
       "      <td>0.116406</td>\n",
       "      <td>0.063520</td>\n",
       "      <td>0.104599</td>\n",
       "      <td>4등급</td>\n",
       "      <td>4등급</td>\n",
       "      <td>3등급</td>\n",
       "    </tr>\n",
       "    <tr>\n",
       "      <th>10</th>\n",
       "      <td>K55223BR6006</td>\n",
       "      <td>0.059731</td>\n",
       "      <td>0.116546</td>\n",
       "      <td>0.063393</td>\n",
       "      <td>0.102880</td>\n",
       "      <td>4등급</td>\n",
       "      <td>4등급</td>\n",
       "      <td>3등급</td>\n",
       "    </tr>\n",
       "    <tr>\n",
       "      <th>11</th>\n",
       "      <td>K55223BS1113</td>\n",
       "      <td>0.059864</td>\n",
       "      <td>0.116339</td>\n",
       "      <td>0.063634</td>\n",
       "      <td>0.109976</td>\n",
       "      <td>4등급</td>\n",
       "      <td>4등급</td>\n",
       "      <td>3등급</td>\n",
       "    </tr>\n",
       "    <tr>\n",
       "      <th>12</th>\n",
       "      <td>K55223BS1121</td>\n",
       "      <td>0.059998</td>\n",
       "      <td>0.116172</td>\n",
       "      <td>0.063761</td>\n",
       "      <td>0.114245</td>\n",
       "      <td>4등급</td>\n",
       "      <td>4등급</td>\n",
       "      <td>3등급</td>\n",
       "    </tr>\n",
       "    <tr>\n",
       "      <th>13</th>\n",
       "      <td>K55232BX8375</td>\n",
       "      <td>0.001880</td>\n",
       "      <td>0.002701</td>\n",
       "      <td>0.001880</td>\n",
       "      <td>0.002701</td>\n",
       "      <td>6등급</td>\n",
       "      <td>6등급</td>\n",
       "      <td>6등급</td>\n",
       "    </tr>\n",
       "    <tr>\n",
       "      <th>14</th>\n",
       "      <td>K55301CU4422</td>\n",
       "      <td>0.004449</td>\n",
       "      <td>0.008847</td>\n",
       "      <td>0.004449</td>\n",
       "      <td>0.008847</td>\n",
       "      <td>6등급</td>\n",
       "      <td>6등급</td>\n",
       "      <td>5등급</td>\n",
       "    </tr>\n",
       "    <tr>\n",
       "      <th>15</th>\n",
       "      <td>K55321CF8618</td>\n",
       "      <td>0.016560</td>\n",
       "      <td>0.000550</td>\n",
       "      <td>0.015926</td>\n",
       "      <td>0.000393</td>\n",
       "      <td>5등급</td>\n",
       "      <td>5등급</td>\n",
       "      <td>6등급</td>\n",
       "    </tr>\n",
       "    <tr>\n",
       "      <th>16</th>\n",
       "      <td>KR5102340936</td>\n",
       "      <td>0.019580</td>\n",
       "      <td>0.043584</td>\n",
       "      <td>0.019580</td>\n",
       "      <td>0.043584</td>\n",
       "      <td>5등급</td>\n",
       "      <td>5등급</td>\n",
       "      <td>5등급</td>\n",
       "    </tr>\n",
       "    <tr>\n",
       "      <th>17</th>\n",
       "      <td>KR5102AG6396</td>\n",
       "      <td>0.011717</td>\n",
       "      <td>0.026161</td>\n",
       "      <td>0.011717</td>\n",
       "      <td>0.026161</td>\n",
       "      <td>5등급</td>\n",
       "      <td>5등급</td>\n",
       "      <td>5등급</td>\n",
       "    </tr>\n",
       "    <tr>\n",
       "      <th>18</th>\n",
       "      <td>KR5102AG6404</td>\n",
       "      <td>0.012508</td>\n",
       "      <td>0.027901</td>\n",
       "      <td>0.012508</td>\n",
       "      <td>0.027901</td>\n",
       "      <td>5등급</td>\n",
       "      <td>5등급</td>\n",
       "      <td>5등급</td>\n",
       "    </tr>\n",
       "    <tr>\n",
       "      <th>19</th>\n",
       "      <td>KR5104366434</td>\n",
       "      <td>0.019298</td>\n",
       "      <td>0.044765</td>\n",
       "      <td>0.013277</td>\n",
       "      <td>0.020681</td>\n",
       "      <td>5등급</td>\n",
       "      <td>5등급</td>\n",
       "      <td>5등급</td>\n",
       "    </tr>\n",
       "    <tr>\n",
       "      <th>20</th>\n",
       "      <td>KR5105346195</td>\n",
       "      <td>0.004563</td>\n",
       "      <td>0.008035</td>\n",
       "      <td>0.003523</td>\n",
       "      <td>0.007637</td>\n",
       "      <td>6등급</td>\n",
       "      <td>6등급</td>\n",
       "      <td>5등급</td>\n",
       "    </tr>\n",
       "    <tr>\n",
       "      <th>21</th>\n",
       "      <td>KR5105AR1078</td>\n",
       "      <td>0.003884</td>\n",
       "      <td>0.007811</td>\n",
       "      <td>0.003688</td>\n",
       "      <td>0.007868</td>\n",
       "      <td>6등급</td>\n",
       "      <td>6등급</td>\n",
       "      <td>5등급</td>\n",
       "    </tr>\n",
       "    <tr>\n",
       "      <th>22</th>\n",
       "      <td>KR5203364231</td>\n",
       "      <td>0.021238</td>\n",
       "      <td>0.042564</td>\n",
       "      <td>0.021238</td>\n",
       "      <td>0.042564</td>\n",
       "      <td>5등급</td>\n",
       "      <td>5등급</td>\n",
       "      <td>5등급</td>\n",
       "    </tr>\n",
       "    <tr>\n",
       "      <th>23</th>\n",
       "      <td>KR5203AI9149</td>\n",
       "      <td>0.013720</td>\n",
       "      <td>0.014171</td>\n",
       "      <td>0.013947</td>\n",
       "      <td>0.002481</td>\n",
       "      <td>5등급</td>\n",
       "      <td>5등급</td>\n",
       "      <td>6등급</td>\n",
       "    </tr>\n",
       "    <tr>\n",
       "      <th>24</th>\n",
       "      <td>KR5206517462</td>\n",
       "      <td>0.009972</td>\n",
       "      <td>-0.000000</td>\n",
       "      <td>0.012513</td>\n",
       "      <td>0.001817</td>\n",
       "      <td>5등급</td>\n",
       "      <td>5등급</td>\n",
       "      <td>6등급</td>\n",
       "    </tr>\n",
       "    <tr>\n",
       "      <th>25</th>\n",
       "      <td>KR5210AQ3861</td>\n",
       "      <td>0.017001</td>\n",
       "      <td>-0.000000</td>\n",
       "      <td>0.014467</td>\n",
       "      <td>0.000171</td>\n",
       "      <td>5등급</td>\n",
       "      <td>5등급</td>\n",
       "      <td>6등급</td>\n",
       "    </tr>\n",
       "    <tr>\n",
       "      <th>26</th>\n",
       "      <td>KR5210AQ3879</td>\n",
       "      <td>0.015453</td>\n",
       "      <td>-0.000000</td>\n",
       "      <td>0.013749</td>\n",
       "      <td>0.006682</td>\n",
       "      <td>5등급</td>\n",
       "      <td>5등급</td>\n",
       "      <td>5등급</td>\n",
       "    </tr>\n",
       "    <tr>\n",
       "      <th>27</th>\n",
       "      <td>KR5214AW5757</td>\n",
       "      <td>0.038870</td>\n",
       "      <td>0.088789</td>\n",
       "      <td>0.038870</td>\n",
       "      <td>0.088789</td>\n",
       "      <td>5등급</td>\n",
       "      <td>5등급</td>\n",
       "      <td>4등급</td>\n",
       "    </tr>\n",
       "    <tr>\n",
       "      <th>28</th>\n",
       "      <td>KR5216151534</td>\n",
       "      <td>0.015505</td>\n",
       "      <td>0.002405</td>\n",
       "      <td>0.015505</td>\n",
       "      <td>0.002405</td>\n",
       "      <td>5등급</td>\n",
       "      <td>5등급</td>\n",
       "      <td>6등급</td>\n",
       "    </tr>\n",
       "    <tr>\n",
       "      <th>29</th>\n",
       "      <td>KR5216151542</td>\n",
       "      <td>0.013998</td>\n",
       "      <td>0.002171</td>\n",
       "      <td>0.013998</td>\n",
       "      <td>0.002171</td>\n",
       "      <td>5등급</td>\n",
       "      <td>5등급</td>\n",
       "      <td>6등급</td>\n",
       "    </tr>\n",
       "    <tr>\n",
       "      <th>30</th>\n",
       "      <td>KR5301275792</td>\n",
       "      <td>0.018460</td>\n",
       "      <td>0.019394</td>\n",
       "      <td>0.013328</td>\n",
       "      <td>0.004721</td>\n",
       "      <td>5등급</td>\n",
       "      <td>5등급</td>\n",
       "      <td>6등급</td>\n",
       "    </tr>\n",
       "  </tbody>\n",
       "</table>\n",
       "</div>"
      ],
      "text/plain": [
       "            code    std_1y    var_1y    std_3y    var_3y risk_std_1y  \\\n",
       "0   K55101BV3525  0.018057 -0.000000  0.016639  0.000838         5등급   \n",
       "1   K55101CM2634  0.004937  0.012365  0.004937  0.012365         6등급   \n",
       "2   K55102BR2142  0.040688  0.060860  0.023661  0.036169         5등급   \n",
       "3   K55102CA7420  0.013590 -0.000000  0.012308  0.002481         5등급   \n",
       "4   K55107BW8501  0.000137 -0.000000  0.011365  0.000310         6등급   \n",
       "5   K55207CR6096  0.009487  0.013113  0.009487  0.013113         5등급   \n",
       "6   K55223BB8521  0.004737 -0.000000  0.005431  0.009761         6등급   \n",
       "7   K55223BI3798  0.007908  0.010124  0.006942  0.014961         5등급   \n",
       "8   K55223BR5933  0.060240  0.115930  0.064045  0.120103         4등급   \n",
       "9   K55223BR5966  0.059817  0.116406  0.063520  0.104599         4등급   \n",
       "10  K55223BR6006  0.059731  0.116546  0.063393  0.102880         4등급   \n",
       "11  K55223BS1113  0.059864  0.116339  0.063634  0.109976         4등급   \n",
       "12  K55223BS1121  0.059998  0.116172  0.063761  0.114245         4등급   \n",
       "13  K55232BX8375  0.001880  0.002701  0.001880  0.002701         6등급   \n",
       "14  K55301CU4422  0.004449  0.008847  0.004449  0.008847         6등급   \n",
       "15  K55321CF8618  0.016560  0.000550  0.015926  0.000393         5등급   \n",
       "16  KR5102340936  0.019580  0.043584  0.019580  0.043584         5등급   \n",
       "17  KR5102AG6396  0.011717  0.026161  0.011717  0.026161         5등급   \n",
       "18  KR5102AG6404  0.012508  0.027901  0.012508  0.027901         5등급   \n",
       "19  KR5104366434  0.019298  0.044765  0.013277  0.020681         5등급   \n",
       "20  KR5105346195  0.004563  0.008035  0.003523  0.007637         6등급   \n",
       "21  KR5105AR1078  0.003884  0.007811  0.003688  0.007868         6등급   \n",
       "22  KR5203364231  0.021238  0.042564  0.021238  0.042564         5등급   \n",
       "23  KR5203AI9149  0.013720  0.014171  0.013947  0.002481         5등급   \n",
       "24  KR5206517462  0.009972 -0.000000  0.012513  0.001817         5등급   \n",
       "25  KR5210AQ3861  0.017001 -0.000000  0.014467  0.000171         5등급   \n",
       "26  KR5210AQ3879  0.015453 -0.000000  0.013749  0.006682         5등급   \n",
       "27  KR5214AW5757  0.038870  0.088789  0.038870  0.088789         5등급   \n",
       "28  KR5216151534  0.015505  0.002405  0.015505  0.002405         5등급   \n",
       "29  KR5216151542  0.013998  0.002171  0.013998  0.002171         5등급   \n",
       "30  KR5301275792  0.018460  0.019394  0.013328  0.004721         5등급   \n",
       "\n",
       "   risk_std_3y risk_var_3y  \n",
       "0          5등급         6등급  \n",
       "1          6등급         5등급  \n",
       "2          5등급         5등급  \n",
       "3          5등급         6등급  \n",
       "4          5등급         6등급  \n",
       "5          5등급         5등급  \n",
       "6          5등급         5등급  \n",
       "7          5등급         5등급  \n",
       "8          4등급         3등급  \n",
       "9          4등급         3등급  \n",
       "10         4등급         3등급  \n",
       "11         4등급         3등급  \n",
       "12         4등급         3등급  \n",
       "13         6등급         6등급  \n",
       "14         6등급         5등급  \n",
       "15         5등급         6등급  \n",
       "16         5등급         5등급  \n",
       "17         5등급         5등급  \n",
       "18         5등급         5등급  \n",
       "19         5등급         5등급  \n",
       "20         6등급         5등급  \n",
       "21         6등급         5등급  \n",
       "22         5등급         5등급  \n",
       "23         5등급         6등급  \n",
       "24         5등급         6등급  \n",
       "25         5등급         6등급  \n",
       "26         5등급         5등급  \n",
       "27         5등급         4등급  \n",
       "28         5등급         6등급  \n",
       "29         5등급         6등급  \n",
       "30         5등급         6등급  "
      ]
     },
     "execution_count": 15,
     "metadata": {},
     "output_type": "execute_result"
    }
   ],
   "source": [
    "labels = [\"6등급\", \"5등급\", \"4등급\", \"3등급\", \"2등급\", \"1등급\"]\n",
    "cut_fn = functools.partial(pd.cut, labels=labels)\n",
    "\n",
    "lists_lb_df = lists_rst_df.assign(\n",
    "    risk_std_1y=cut_fn(lists_rst_df['std_1y'], bins=DICT_BINS['std_1y']),\n",
    "    risk_std_3y=cut_fn(lists_rst_df['std_3y'], bins=DICT_BINS['std_3y']),\n",
    "    # risk_var_1y=cut_fn(lists_rst_df['var_1y']),\n",
    "    risk_var_3y=cut_fn(lists_rst_df['var_3y'], bins=DICT_BINS['var_3y']))\n",
    "lists_lb_df.dropna(inplace=True)\n",
    "lists_lb_df.reset_index(inplace=True)\n",
    "\n",
    "lists_lb_df"
   ]
  },
  {
   "cell_type": "markdown",
   "id": "41c770e6",
   "metadata": {
    "collapsed": false
   },
   "source": [
    "#### 프로세스 테스트"
   ]
  },
  {
   "cell_type": "code",
   "execution_count": 16,
   "id": "e0aa081c-7f0d-4f1b-ae74-00a27747aaa5",
   "metadata": {
    "execution": {
     "iopub.execute_input": "2023-01-25T07:50:53.510858Z",
     "iopub.status.busy": "2023-01-25T07:50:53.510858Z",
     "iopub.status.idle": "2023-01-25T07:50:53.530859Z",
     "shell.execute_reply": "2023-01-25T07:50:53.530859Z"
    }
   },
   "outputs": [],
   "source": [
    "if VALIDATE_PROCESS:\n",
    "    list_std_3y, list_std_1y, list_var_3y = zip(*list_std_y)\n",
    "\n",
    "    df_result = pd.DataFrame({\n",
    "        \"code\": codes,\n",
    "        \"std_3y\": list_std_3y,\n",
    "        \"std_1y\": list_std_1y,\n",
    "        \"var_3y\": list_var_3y,\n",
    "    })\n",
    "\n",
    "    bins = [0, 0.005, 0.05, 0.10, 0.15, 0.25, float(\"inf\")]\n",
    "    labels = [\"6등급\", \"5등급\", \"4등급\", \"3등급\", \"2등급\", \"1등급\"]\n",
    "\n",
    "    df_result[\"risk_std_3y\"] = pd.cut(df_result.std_3y, bins=bins, labels=labels)\n",
    "    df_result[\"risk_std_1y\"] = pd.cut(df_result.std_1y, bins=bins, labels=labels)\n",
    "    df_result[\"risk_var_3y\"] = pd.cut(df_result.var_3y, bins=bins, labels=labels)\n",
    "\n",
    "    df_result = df_result.dropna()"
   ]
  },
  {
   "cell_type": "code",
   "execution_count": 17,
   "id": "c3e75562-b9ea-4c95-9a11-004be639146b",
   "metadata": {
    "execution": {
     "iopub.execute_input": "2023-01-25T07:50:53.530859Z",
     "iopub.status.busy": "2023-01-25T07:50:53.530859Z",
     "iopub.status.idle": "2023-01-25T07:50:53.550859Z",
     "shell.execute_reply": "2023-01-25T07:50:53.550859Z"
    }
   },
   "outputs": [],
   "source": [
    "if VALIDATE_PROCESS:\n",
    "    display(\n",
    "        (lists_lb_df[['code', 'risk_std_1y', 'risk_std_3y', 'risk_var_3y']].set_index(['code'])\n",
    "        == df_result[['code', 'risk_std_1y', 'risk_std_3y', 'risk_var_3y']].set_index(['code'])).all())"
   ]
  },
  {
   "cell_type": "markdown",
   "id": "7093a90e-9367-40e8-bb58-fc375b2c7f0d",
   "metadata": {},
   "source": [
    "## 등급 결과 출력"
   ]
  },
  {
   "cell_type": "code",
   "execution_count": 18,
   "id": "7d74f1a2-a5b2-4b5a-b1e4-7356deb7fb2c",
   "metadata": {
    "execution": {
     "iopub.execute_input": "2023-01-25T07:50:53.550859Z",
     "iopub.status.busy": "2023-01-25T07:50:53.550859Z",
     "iopub.status.idle": "2023-01-25T07:50:53.570860Z",
     "shell.execute_reply": "2023-01-25T07:50:53.570860Z"
    }
   },
   "outputs": [],
   "source": [
    "os.makedirs('result', exist_ok=True)\n",
    "lists_lb_df.to_csv(f'result/RESULT_{type_no}_{type_name}.csv', index=False)"
   ]
  },
  {
   "cell_type": "markdown",
   "id": "2ed08a3d-eb09-4f1f-83a5-987be9b9d584",
   "metadata": {},
   "source": [
    "## 시각화"
   ]
  },
  {
   "cell_type": "code",
   "execution_count": 19,
   "id": "a2981513-60e5-4604-8fee-235d898df378",
   "metadata": {
    "execution": {
     "iopub.execute_input": "2023-01-25T07:50:53.570860Z",
     "iopub.status.busy": "2023-01-25T07:50:53.570860Z",
     "iopub.status.idle": "2023-01-25T07:50:53.731030Z",
     "shell.execute_reply": "2023-01-25T07:50:53.731030Z"
    }
   },
   "outputs": [
    {
     "data": {
      "text/html": [
       "<style type=\"text/css\">\n",
       "#T_b3278_row0_col0, #T_b3278_row0_col1, #T_b3278_row0_col2, #T_b3278_row1_col0, #T_b3278_row1_col1, #T_b3278_row1_col2, #T_b3278_row2_col0, #T_b3278_row2_col1 {\n",
       "  background-color: #fff7fb;\n",
       "  color: #000000;\n",
       "}\n",
       "#T_b3278_row2_col2 {\n",
       "  background-color: #acc0dd;\n",
       "  color: #000000;\n",
       "}\n",
       "#T_b3278_row3_col0, #T_b3278_row5_col0 {\n",
       "  background-color: #d3d4e7;\n",
       "  color: #000000;\n",
       "}\n",
       "#T_b3278_row3_col1 {\n",
       "  background-color: #cccfe5;\n",
       "  color: #000000;\n",
       "}\n",
       "#T_b3278_row3_col2 {\n",
       "  background-color: #f4eef6;\n",
       "  color: #000000;\n",
       "}\n",
       "#T_b3278_row4_col0, #T_b3278_row4_col1, #T_b3278_row4_col2 {\n",
       "  background-color: #023858;\n",
       "  color: #f1f1f1;\n",
       "}\n",
       "#T_b3278_row5_col1 {\n",
       "  background-color: #a8bedc;\n",
       "  color: #000000;\n",
       "}\n",
       "#T_b3278_row5_col2 {\n",
       "  background-color: #0569a5;\n",
       "  color: #f1f1f1;\n",
       "}\n",
       "</style>\n",
       "<table id=\"T_b3278\">\n",
       "  <thead>\n",
       "    <tr>\n",
       "      <th class=\"blank level0\" >&nbsp;</th>\n",
       "      <th id=\"T_b3278_level0_col0\" class=\"col_heading level0 col0\" >3년 표준편차</th>\n",
       "      <th id=\"T_b3278_level0_col1\" class=\"col_heading level0 col1\" >1년 표준편차</th>\n",
       "      <th id=\"T_b3278_level0_col2\" class=\"col_heading level0 col2\" >3년 VaR</th>\n",
       "    </tr>\n",
       "    <tr>\n",
       "      <th class=\"index_name level0\" >등급</th>\n",
       "      <th class=\"blank col0\" >&nbsp;</th>\n",
       "      <th class=\"blank col1\" >&nbsp;</th>\n",
       "      <th class=\"blank col2\" >&nbsp;</th>\n",
       "    </tr>\n",
       "  </thead>\n",
       "  <tbody>\n",
       "    <tr>\n",
       "      <th id=\"T_b3278_level0_row0\" class=\"row_heading level0 row0\" >1등급</th>\n",
       "      <td id=\"T_b3278_row0_col0\" class=\"data row0 col0\" >0</td>\n",
       "      <td id=\"T_b3278_row0_col1\" class=\"data row0 col1\" >0</td>\n",
       "      <td id=\"T_b3278_row0_col2\" class=\"data row0 col2\" >0</td>\n",
       "    </tr>\n",
       "    <tr>\n",
       "      <th id=\"T_b3278_level0_row1\" class=\"row_heading level0 row1\" >2등급</th>\n",
       "      <td id=\"T_b3278_row1_col0\" class=\"data row1 col0\" >0</td>\n",
       "      <td id=\"T_b3278_row1_col1\" class=\"data row1 col1\" >0</td>\n",
       "      <td id=\"T_b3278_row1_col2\" class=\"data row1 col2\" >0</td>\n",
       "    </tr>\n",
       "    <tr>\n",
       "      <th id=\"T_b3278_level0_row2\" class=\"row_heading level0 row2\" >3등급</th>\n",
       "      <td id=\"T_b3278_row2_col0\" class=\"data row2 col0\" >0</td>\n",
       "      <td id=\"T_b3278_row2_col1\" class=\"data row2 col1\" >0</td>\n",
       "      <td id=\"T_b3278_row2_col2\" class=\"data row2 col2\" >5</td>\n",
       "    </tr>\n",
       "    <tr>\n",
       "      <th id=\"T_b3278_level0_row3\" class=\"row_heading level0 row3\" >4등급</th>\n",
       "      <td id=\"T_b3278_row3_col0\" class=\"data row3 col0\" >5</td>\n",
       "      <td id=\"T_b3278_row3_col1\" class=\"data row3 col1\" >5</td>\n",
       "      <td id=\"T_b3278_row3_col2\" class=\"data row3 col2\" >1</td>\n",
       "    </tr>\n",
       "    <tr>\n",
       "      <th id=\"T_b3278_level0_row4\" class=\"row_heading level0 row4\" >5등급</th>\n",
       "      <td id=\"T_b3278_row4_col0\" class=\"data row4 col0\" >21</td>\n",
       "      <td id=\"T_b3278_row4_col1\" class=\"data row4 col1\" >19</td>\n",
       "      <td id=\"T_b3278_row4_col2\" class=\"data row4 col2\" >14</td>\n",
       "    </tr>\n",
       "    <tr>\n",
       "      <th id=\"T_b3278_level0_row5\" class=\"row_heading level0 row5\" >6등급</th>\n",
       "      <td id=\"T_b3278_row5_col0\" class=\"data row5 col0\" >5</td>\n",
       "      <td id=\"T_b3278_row5_col1\" class=\"data row5 col1\" >7</td>\n",
       "      <td id=\"T_b3278_row5_col2\" class=\"data row5 col2\" >11</td>\n",
       "    </tr>\n",
       "  </tbody>\n",
       "</table>\n"
      ],
      "text/plain": [
       "<pandas.io.formats.style.Styler at 0x16002e013a0>"
      ]
     },
     "execution_count": 19,
     "metadata": {},
     "output_type": "execute_result"
    }
   ],
   "source": [
    "risk_std_3y_stat_df = lists_lb_df[\"risk_std_3y\"].value_counts().sort_index(ascending=False)\n",
    "risk_std_1y_stat_df = lists_lb_df[\"risk_std_1y\"].value_counts().sort_index(ascending=False)\n",
    "risk_var_3y_stat_df = lists_lb_df[\"risk_var_3y\"].value_counts().sort_index(ascending=False)\n",
    "stat_df = pd.concat([risk_std_3y_stat_df, risk_std_1y_stat_df, risk_var_3y_stat_df], axis=1)\n",
    "stat_df = stat_df.rename(columns={\"risk_std_3y\": \"3년 표준편차\", \"risk_std_1y\": \"1년 표준편차\", \"risk_var_3y\": \"3년 VaR\"})\n",
    "stat_df.reset_index(names=['등급'], inplace=True)\n",
    "\n",
    "stat_df.set_index('등급').style.background_gradient()"
   ]
  },
  {
   "cell_type": "code",
   "execution_count": 20,
   "id": "2ecfd0b2-0548-41e1-a6ed-9abd2da5b7c8",
   "metadata": {
    "execution": {
     "iopub.execute_input": "2023-01-25T07:50:53.731030Z",
     "iopub.status.busy": "2023-01-25T07:50:53.731030Z",
     "iopub.status.idle": "2023-01-25T07:50:54.313636Z",
     "shell.execute_reply": "2023-01-25T07:50:54.312231Z"
    }
   },
   "outputs": [
    {
     "data": {
      "image/png": "[encoded data removed]",
      "text/plain": [
       "<Figure size 640x480 with 1 Axes>"
      ]
     },
     "metadata": {},
     "output_type": "display_data"
    }
   ],
   "source": [
    "def show_values(axs, orient=\"v\", space=.01):\n",
    "    def _single(ax):\n",
    "        if orient == \"v\":\n",
    "            for p in ax.patches:\n",
    "                _x = p.get_x() + p.get_width() / 2\n",
    "                _y = p.get_y() + p.get_height() + (p.get_height() * 0.01)\n",
    "                value = '{:d}'.format(int(p.get_height()))\n",
    "                ax.text(_x, _y, value, ha=\"center\")\n",
    "        elif orient == \"h\":\n",
    "            for p in ax.patches:\n",
    "                _x = p.get_x() + p.get_width() + float(space)\n",
    "                _y = p.get_y() + p.get_height() - (p.get_height() * 0.5)\n",
    "                value = '{:d}'.format(int(p.get_width()))\n",
    "                ax.text(_x, _y, value, ha=\"left\")\n",
    "\n",
    "    if isinstance(axs, np.ndarray):\n",
    "        for idx, ax in np.ndenumerate(axs):\n",
    "            _single(ax)\n",
    "    else:\n",
    "        _single(axs)\n",
    "\n",
    "\n",
    "stat_df_long = (\n",
    "    stat_df\n",
    "    .melt(id_vars=\"등급\", value_vars=[\"3년 표준편차\", \"1년 표준편차\", \"3년 VaR\"], var_name=\"기준\") \\\n",
    "    .rename(columns={\"index\": \"등급\"})\n",
    ")\n",
    "axis = sns.barplot(x=\"등급\", y=\"value\", hue=\"기준\", data=stat_df_long)\n",
    "axis.set_title(f\"{type_name} 펀드 위험등급 분포\")\n",
    "show_values(axis)"
   ]
  },
  {
   "cell_type": "markdown",
   "id": "1f9227c4-c788-429d-b8d4-fc278ba29d24",
   "metadata": {},
   "source": [
    "## 통계 결과 출력"
   ]
  },
  {
   "cell_type": "code",
   "execution_count": 21,
   "id": "68fbd533-f46e-4cd6-9c35-28c3ae50830d",
   "metadata": {
    "execution": {
     "iopub.execute_input": "2023-01-25T07:50:54.313636Z",
     "iopub.status.busy": "2023-01-25T07:50:54.313636Z",
     "iopub.status.idle": "2023-01-25T07:50:54.332803Z",
     "shell.execute_reply": "2023-01-25T07:50:54.332803Z"
    }
   },
   "outputs": [],
   "source": [
    "os.makedirs('result', exist_ok=True)\n",
    "stat_df.to_csv(f'result/STATISTICS_{type_no}_{type_name}.csv', index=False)"
   ]
  },
  {
   "cell_type": "code",
   "execution_count": null,
   "id": "5c3e0a79",
   "metadata": {
    "collapsed": false
   },
   "outputs": [],
   "source": []
  }
 ],
 "metadata": {
  "kernelspec": {
   "display_name": "Python 3 (ipykernel)",
   "language": "python",
   "name": "python3"
  },
  "language_info": {
   "codemirror_mode": {
    "name": "ipython",
    "version": 3
   },
   "file_extension": ".py",
   "mimetype": "text/x-python",
   "name": "python",
   "nbconvert_exporter": "python",
   "pygments_lexer": "ipython3",
   "version": "3.9.13"
  },
  "toc-autonumbering": true,
  "toc-showcode": false,
  "toc-showmarkdowntxt": false
 },
 "nbformat": 4,
 "nbformat_minor": 5
}
