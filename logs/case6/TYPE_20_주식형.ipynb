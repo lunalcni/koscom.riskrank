{
 "cells": [
  {
   "cell_type": "markdown",
   "id": "2dd67b7b-b151-49b1-955e-dd7627677a4e",
   "metadata": {},
   "source": [
    "# 펀드 위험등급 산출"
   ]
  },
  {
   "cell_type": "markdown",
   "id": "b3e20237-dc40-4627-a953-52539fea6148",
   "metadata": {},
   "source": [
    "## 패키지 로드"
   ]
  },
  {
   "cell_type": "code",
   "execution_count": 1,
   "id": "103faeb9-9c7b-46f1-8ddb-e8e438626b60",
   "metadata": {
    "execution": {
     "iopub.execute_input": "2023-01-25T08:17:40.248946Z",
     "iopub.status.busy": "2023-01-25T08:17:40.248946Z",
     "iopub.status.idle": "2023-01-25T08:17:41.388635Z",
     "shell.execute_reply": "2023-01-25T08:17:41.384205Z"
    }
   },
   "outputs": [],
   "source": [
    "%matplotlib inline"
   ]
  },
  {
   "cell_type": "code",
   "execution_count": 2,
   "id": "2ead0865-2adf-4384-9e33-e05ad2246056",
   "metadata": {
    "execution": {
     "iopub.execute_input": "2023-01-25T08:17:41.397637Z",
     "iopub.status.busy": "2023-01-25T08:17:41.396637Z",
     "iopub.status.idle": "2023-01-25T08:17:42.627811Z",
     "shell.execute_reply": "2023-01-25T08:17:42.625772Z"
    }
   },
   "outputs": [],
   "source": [
    "import functools\n",
    "import os\n",
    "import re\n",
    "from collections import defaultdict\n",
    "from pathlib import Path\n",
    "\n",
    "import matplotlib.pyplot as plt\n",
    "import numpy as np\n",
    "import pandas as pd\n",
    "import seaborn as sns\n",
    "from tqdm import trange"
   ]
  },
  {
   "cell_type": "code",
   "execution_count": 3,
   "id": "ee5d3007",
   "metadata": {
    "collapsed": false,
    "execution": {
     "iopub.execute_input": "2023-01-25T08:17:42.627811Z",
     "iopub.status.busy": "2023-01-25T08:17:42.627811Z",
     "iopub.status.idle": "2023-01-25T08:17:42.645942Z",
     "shell.execute_reply": "2023-01-25T08:17:42.645942Z"
    }
   },
   "outputs": [],
   "source": [
    "plt.rc('font', family='Malgun Gothic')  # For Windows"
   ]
  },
  {
   "cell_type": "markdown",
   "id": "21eaeb28",
   "metadata": {
    "collapsed": false
   },
   "source": [
    "## 변수 정의"
   ]
  },
  {
   "cell_type": "code",
   "execution_count": 4,
   "id": "656f92b6",
   "metadata": {
    "collapsed": false,
    "execution": {
     "iopub.execute_input": "2023-01-25T08:17:42.647977Z",
     "iopub.status.busy": "2023-01-25T08:17:42.647977Z",
     "iopub.status.idle": "2023-01-25T08:17:42.666686Z",
     "shell.execute_reply": "2023-01-25T08:17:42.666167Z"
    }
   },
   "outputs": [
    {
     "name": "stdout",
     "output_type": "stream",
     "text": [
      "TEST_PROCESS=False, VALIDATE_PROCESS=False, DATA_FILEPATH='data\\\\TYPE_20_주식형.csv', BINS={'std_1y': [0, 0.005, 0.05, 0.1, 0.15, 0.25, inf], 'std_3y': [0, 0.005, 0.05, 0.1, 0.15, 0.25, inf], 'var_3y': [0, 0.005, 0.05, 0.1, 0.25, 0.35, inf]}, DICT_BINS={'std_1y': [0, 0.005, 0.05, 0.1, 0.15, 0.25, inf], 'std_3y': [0, 0.005, 0.05, 0.1, 0.15, 0.25, inf], 'var_3y': [0, 0.005, 0.05, 0.1, 0.25, 0.35, inf]}\n"
     ]
    }
   ],
   "source": [
    "TEST_PROCESS = eval(os.environ.get('TEST_PROCESS', 'True'))\n",
    "VALIDATE_PROCESS = eval(os.environ.get('VALIDATE_PROCESS', 'True'))\n",
    "DATA_FILEPATH = os.environ.get('DATA_FILEPATH', './data/TYPE_10_채권형.csv')\n",
    "BINS = eval(os.environ.get('BINS', '[0, 0.005, 0.05, 0.10, 0.15, 0.25, float(\"inf\")]'))\n",
    "\n",
    "if isinstance(BINS, list):\n",
    "    DICT_BINS = defaultdict(lambda: BINS)\n",
    "elif isinstance(BINS, dict):\n",
    "    assert all(idx_col in BINS for idx_col in ['std_1y', 'std_3y', 'var_3y'])\n",
    "    DICT_BINS = BINS\n",
    "\n",
    "print(f'{TEST_PROCESS=}, {VALIDATE_PROCESS=}, {DATA_FILEPATH=}, {BINS=}, {DICT_BINS=}')"
   ]
  },
  {
   "cell_type": "markdown",
   "id": "72fc270f",
   "metadata": {
    "collapsed": false
   },
   "source": [
    "## 타입 추출"
   ]
  },
  {
   "cell_type": "code",
   "execution_count": 5,
   "id": "9613fca5-40ff-41c8-a061-d9c23223c365",
   "metadata": {
    "execution": {
     "iopub.execute_input": "2023-01-25T08:17:42.668216Z",
     "iopub.status.busy": "2023-01-25T08:17:42.668216Z",
     "iopub.status.idle": "2023-01-25T08:17:42.691972Z",
     "shell.execute_reply": "2023-01-25T08:17:42.691972Z"
    }
   },
   "outputs": [
    {
     "data": {
      "text/plain": [
       "('20', '주식형')"
      ]
     },
     "execution_count": 5,
     "metadata": {},
     "output_type": "execute_result"
    }
   ],
   "source": [
    "filepath = Path(DATA_FILEPATH)\n",
    "filename_pattern = re.compile(r'TYPE_([0-9]+)_([^_]+)\\.csv')\n",
    "\n",
    "match_rst = re.fullmatch(filename_pattern, filepath.name)\n",
    "type_no, type_name = match_rst.groups()\n",
    "\n",
    "type_no, type_name"
   ]
  },
  {
   "cell_type": "markdown",
   "id": "3a02a33b-ddc6-446a-88c3-37887ffe4768",
   "metadata": {},
   "source": [
    "## 데이터 로드"
   ]
  },
  {
   "cell_type": "code",
   "execution_count": 6,
   "id": "a4260092-7f8c-48a7-a523-7b72bc350181",
   "metadata": {
    "execution": {
     "iopub.execute_input": "2023-01-25T08:17:42.698548Z",
     "iopub.status.busy": "2023-01-25T08:17:42.696503Z",
     "iopub.status.idle": "2023-01-25T08:17:52.069027Z",
     "shell.execute_reply": "2023-01-25T08:17:52.068028Z"
    }
   },
   "outputs": [
    {
     "name": "stdout",
     "output_type": "stream",
     "text": [
      "len(codes)=5384\n"
     ]
    }
   ],
   "source": [
    "lists_wo_idx_df = pd.read_csv(filepath, names=[\"date\", \"code\", \"nav\"], usecols=[0, 1, 2], parse_dates=[0])\n",
    "lists_df = lists_wo_idx_df.set_index(['code', 'date'])\n",
    "\n",
    "codes = lists_df.index.get_level_values('code').unique()\n",
    "print(f\"{len(codes)=}\")"
   ]
  },
  {
   "cell_type": "markdown",
   "id": "f2dde823",
   "metadata": {
    "collapsed": false
   },
   "source": [
    "## 수치 산출 테스트\n",
    "\n",
    "1년을 기준으로 프로세스 정의"
   ]
  },
  {
   "cell_type": "markdown",
   "id": "1d778f91",
   "metadata": {
    "collapsed": false
   },
   "source": [
    "### 기간 조건 적용"
   ]
  },
  {
   "cell_type": "code",
   "execution_count": 7,
   "id": "168cf015",
   "metadata": {
    "collapsed": false,
    "execution": {
     "iopub.execute_input": "2023-01-25T08:17:52.076027Z",
     "iopub.status.busy": "2023-01-25T08:17:52.075030Z",
     "iopub.status.idle": "2023-01-25T08:17:52.084716Z",
     "shell.execute_reply": "2023-01-25T08:17:52.083715Z"
    }
   },
   "outputs": [],
   "source": [
    "if TEST_PROCESS:\n",
    "    lists_1y_df = pd.concat([\n",
    "        lists_df.xs(code).last('1y').assign(code=code)\n",
    "        for code in codes])\n",
    "    lists_1y_df.reset_index(inplace=True)\n",
    "    display(lists_1y_df)"
   ]
  },
  {
   "cell_type": "markdown",
   "id": "52ab61fa",
   "metadata": {
    "collapsed": false
   },
   "source": [
    "### 리샘플링, 퍼센트 체인지 추출"
   ]
  },
  {
   "cell_type": "code",
   "execution_count": 8,
   "id": "611fbeeb",
   "metadata": {
    "collapsed": false,
    "execution": {
     "iopub.execute_input": "2023-01-25T08:17:52.090715Z",
     "iopub.status.busy": "2023-01-25T08:17:52.089714Z",
     "iopub.status.idle": "2023-01-25T08:17:52.103375Z",
     "shell.execute_reply": "2023-01-25T08:17:52.100375Z"
    }
   },
   "outputs": [],
   "source": [
    "if TEST_PROCESS:\n",
    "    lists_1y_wk_df = lists_1y_df.set_index(['date']).groupby(['code'])[['nav']].resample('W').last()\n",
    "    lists_1y_wk_df = lists_1y_wk_df.assign(ret=lists_1y_wk_df.groupby(['code'])[['nav']].pct_change())\n",
    "    display(lists_1y_wk_df)"
   ]
  },
  {
   "cell_type": "markdown",
   "id": "38c7d232",
   "metadata": {
    "collapsed": false
   },
   "source": [
    "### 표준편차 산출"
   ]
  },
  {
   "cell_type": "code",
   "execution_count": 9,
   "id": "9a5d9514",
   "metadata": {
    "collapsed": false,
    "execution": {
     "iopub.execute_input": "2023-01-25T08:17:52.109375Z",
     "iopub.status.busy": "2023-01-25T08:17:52.108374Z",
     "iopub.status.idle": "2023-01-25T08:17:52.115373Z",
     "shell.execute_reply": "2023-01-25T08:17:52.114374Z"
    }
   },
   "outputs": [],
   "source": [
    "if TEST_PROCESS:\n",
    "    lists_1y_std_df = lists_1y_wk_df.groupby(['code'])[['ret']].std(numeric_only=True) * np.sqrt(52)\n",
    "    lists_1y_std_df.reset_index(inplace=True)\n",
    "    lists_1y_std_df.rename(columns={'ret': 'std_1y'}, inplace=True)\n",
    "    display(lists_1y_std_df)"
   ]
  },
  {
   "cell_type": "markdown",
   "id": "fa43fcfa",
   "metadata": {
    "collapsed": false
   },
   "source": [
    "### VaR 산출"
   ]
  },
  {
   "cell_type": "code",
   "execution_count": 10,
   "id": "36497410",
   "metadata": {
    "collapsed": false,
    "execution": {
     "iopub.execute_input": "2023-01-25T08:17:52.120373Z",
     "iopub.status.busy": "2023-01-25T08:17:52.119374Z",
     "iopub.status.idle": "2023-01-25T08:17:52.130803Z",
     "shell.execute_reply": "2023-01-25T08:17:52.129802Z"
    }
   },
   "outputs": [],
   "source": [
    "if TEST_PROCESS:\n",
    "    lists_1y_var_df = lists_1y_wk_df.groupby(['code'])[['ret']].quantile(0.025, numeric_only=True)\n",
    "    lists_1y_var_df = np.minimum(lists_1y_var_df, 0) * -1 * np.sqrt(52)\n",
    "    lists_1y_var_df.rename(columns={'ret': 'var_1y'}, inplace=True)\n",
    "    display(lists_1y_var_df)"
   ]
  },
  {
   "cell_type": "markdown",
   "id": "831c1319",
   "metadata": {
    "collapsed": false
   },
   "source": [
    "## 수치 산출 프로세스 정의"
   ]
  },
  {
   "cell_type": "code",
   "execution_count": 11,
   "id": "abb10341",
   "metadata": {
    "collapsed": false,
    "execution": {
     "iopub.execute_input": "2023-01-25T08:17:52.136803Z",
     "iopub.status.busy": "2023-01-25T08:17:52.135803Z",
     "iopub.status.idle": "2023-01-25T08:17:52.146529Z",
     "shell.execute_reply": "2023-01-25T08:17:52.144807Z"
    }
   },
   "outputs": [],
   "source": [
    "offsets = ['1y', '3y']"
   ]
  },
  {
   "cell_type": "code",
   "execution_count": 12,
   "id": "9e0e2641",
   "metadata": {
    "collapsed": false,
    "execution": {
     "iopub.execute_input": "2023-01-25T08:17:52.151528Z",
     "iopub.status.busy": "2023-01-25T08:17:52.151528Z",
     "iopub.status.idle": "2023-01-25T08:19:40.753413Z",
     "shell.execute_reply": "2023-01-25T08:19:40.753413Z"
    }
   },
   "outputs": [
    {
     "name": "stdout",
     "output_type": "stream",
     "text": [
      "CPU times: total: 1min 17s\n",
      "Wall time: 1min 48s\n"
     ]
    },
    {
     "data": {
      "text/html": [
       "<div>\n",
       "<style scoped>\n",
       "    .dataframe tbody tr th:only-of-type {\n",
       "        vertical-align: middle;\n",
       "    }\n",
       "\n",
       "    .dataframe tbody tr th {\n",
       "        vertical-align: top;\n",
       "    }\n",
       "\n",
       "    .dataframe thead th {\n",
       "        text-align: right;\n",
       "    }\n",
       "</style>\n",
       "<table border=\"1\" class=\"dataframe\">\n",
       "  <thead>\n",
       "    <tr style=\"text-align: right;\">\n",
       "      <th></th>\n",
       "      <th>std_1y</th>\n",
       "      <th>var_1y</th>\n",
       "      <th>std_3y</th>\n",
       "      <th>var_3y</th>\n",
       "    </tr>\n",
       "    <tr>\n",
       "      <th>code</th>\n",
       "      <th></th>\n",
       "      <th></th>\n",
       "      <th></th>\n",
       "      <th></th>\n",
       "    </tr>\n",
       "  </thead>\n",
       "  <tbody>\n",
       "    <tr>\n",
       "      <th>K55101AZ6913</th>\n",
       "      <td>0.130954</td>\n",
       "      <td>0.251396</td>\n",
       "      <td>0.162558</td>\n",
       "      <td>0.311481</td>\n",
       "    </tr>\n",
       "    <tr>\n",
       "      <th>K55101B13881</th>\n",
       "      <td>0.139804</td>\n",
       "      <td>0.274579</td>\n",
       "      <td>0.129792</td>\n",
       "      <td>0.265658</td>\n",
       "    </tr>\n",
       "    <tr>\n",
       "      <th>K55101B38276</th>\n",
       "      <td>0.144190</td>\n",
       "      <td>0.238259</td>\n",
       "      <td>0.166573</td>\n",
       "      <td>0.324793</td>\n",
       "    </tr>\n",
       "    <tr>\n",
       "      <th>K55101B38284</th>\n",
       "      <td>0.144472</td>\n",
       "      <td>0.240539</td>\n",
       "      <td>0.158979</td>\n",
       "      <td>0.327150</td>\n",
       "    </tr>\n",
       "    <tr>\n",
       "      <th>K55101B38292</th>\n",
       "      <td>0.144373</td>\n",
       "      <td>0.239857</td>\n",
       "      <td>0.166694</td>\n",
       "      <td>0.326385</td>\n",
       "    </tr>\n",
       "    <tr>\n",
       "      <th>...</th>\n",
       "      <td>...</td>\n",
       "      <td>...</td>\n",
       "      <td>...</td>\n",
       "      <td>...</td>\n",
       "    </tr>\n",
       "    <tr>\n",
       "      <th>KRM307AP3131</th>\n",
       "      <td>0.152302</td>\n",
       "      <td>0.318685</td>\n",
       "      <td>0.177752</td>\n",
       "      <td>0.311355</td>\n",
       "    </tr>\n",
       "    <tr>\n",
       "      <th>KRM310270207</th>\n",
       "      <td>0.086957</td>\n",
       "      <td>-0.000000</td>\n",
       "      <td>0.086957</td>\n",
       "      <td>-0.000000</td>\n",
       "    </tr>\n",
       "    <tr>\n",
       "      <th>KRM310270223</th>\n",
       "      <td>0.169794</td>\n",
       "      <td>0.366695</td>\n",
       "      <td>0.172458</td>\n",
       "      <td>0.414117</td>\n",
       "    </tr>\n",
       "    <tr>\n",
       "      <th>KRM310270231</th>\n",
       "      <td>0.169788</td>\n",
       "      <td>0.366648</td>\n",
       "      <td>0.172491</td>\n",
       "      <td>0.414099</td>\n",
       "    </tr>\n",
       "    <tr>\n",
       "      <th>KRM310276147</th>\n",
       "      <td>0.169325</td>\n",
       "      <td>0.363783</td>\n",
       "      <td>0.194560</td>\n",
       "      <td>0.411376</td>\n",
       "    </tr>\n",
       "  </tbody>\n",
       "</table>\n",
       "<p>5384 rows × 4 columns</p>\n",
       "</div>"
      ],
      "text/plain": [
       "                std_1y    var_1y    std_3y    var_3y\n",
       "code                                                \n",
       "K55101AZ6913  0.130954  0.251396  0.162558  0.311481\n",
       "K55101B13881  0.139804  0.274579  0.129792  0.265658\n",
       "K55101B38276  0.144190  0.238259  0.166573  0.324793\n",
       "K55101B38284  0.144472  0.240539  0.158979  0.327150\n",
       "K55101B38292  0.144373  0.239857  0.166694  0.326385\n",
       "...                ...       ...       ...       ...\n",
       "KRM307AP3131  0.152302  0.318685  0.177752  0.311355\n",
       "KRM310270207  0.086957 -0.000000  0.086957 -0.000000\n",
       "KRM310270223  0.169794  0.366695  0.172458  0.414117\n",
       "KRM310270231  0.169788  0.366648  0.172491  0.414099\n",
       "KRM310276147  0.169325  0.363783  0.194560  0.411376\n",
       "\n",
       "[5384 rows x 4 columns]"
      ]
     },
     "execution_count": 12,
     "metadata": {},
     "output_type": "execute_result"
    }
   ],
   "source": [
    "%%time\n",
    "\n",
    "lists_rst_dfs = []\n",
    "\n",
    "for offset in offsets:\n",
    "    lists_off_df = pd.concat([\n",
    "        lists_df.xs(code).last(offset).assign(code=code)\n",
    "        for code in codes])\n",
    "    lists_off_df.reset_index(inplace=True)\n",
    "\n",
    "    lists_off_wk_df = lists_off_df.set_index(['date']).groupby(['code'])[['nav']].resample('W').last()\n",
    "    lists_off_wk_df = lists_off_wk_df.assign(ret=lists_off_wk_df.groupby(['code'])[['nav']].pct_change())\n",
    "\n",
    "    lists_off_std_df = lists_off_wk_df.groupby(['code'])[['ret']].std(numeric_only=True) * np.sqrt(52)\n",
    "    lists_off_std_df.rename(columns={'ret': f'std_{offset}'}, inplace=True)\n",
    "\n",
    "    lists_off_var_df = lists_off_wk_df.groupby(['code'])[['ret']].quantile(0.025, numeric_only=True)\n",
    "    lists_off_var_df = np.minimum(lists_off_var_df, 0) * -1 * np.sqrt(52)\n",
    "    lists_off_var_df.rename(columns={'ret': f'var_{offset}'}, inplace=True)\n",
    "\n",
    "    lists_rst_dfs.append(lists_off_std_df)\n",
    "    lists_rst_dfs.append(lists_off_var_df)\n",
    "\n",
    "lists_rst_df = pd.concat(lists_rst_dfs, axis='columns')\n",
    "lists_rst_df"
   ]
  },
  {
   "cell_type": "markdown",
   "id": "a85e8de9",
   "metadata": {
    "collapsed": false
   },
   "source": [
    "### 프로세스 테스트"
   ]
  },
  {
   "cell_type": "code",
   "execution_count": 13,
   "id": "a6cc3475-204e-417d-ac8f-67c33c944c4e",
   "metadata": {
    "execution": {
     "iopub.execute_input": "2023-01-25T08:19:40.753413Z",
     "iopub.status.busy": "2023-01-25T08:19:40.753413Z",
     "iopub.status.idle": "2023-01-25T08:19:40.801292Z",
     "shell.execute_reply": "2023-01-25T08:19:40.801292Z"
    }
   },
   "outputs": [
    {
     "name": "stdout",
     "output_type": "stream",
     "text": [
      "CPU times: total: 0 ns\n",
      "Wall time: 0 ns\n"
     ]
    }
   ],
   "source": [
    "%%time\n",
    "\n",
    "def calc_std_y(code):\n",
    "    df = lists_wo_idx_df[lists_wo_idx_df['code'] == code][[\"date\", \"nav\"]]\n",
    "    df = df.sort_values(by=\"date\")\n",
    "    df = df.set_index(\"date\")\n",
    "\n",
    "    df_1y = df.last(\"1Y\")\n",
    "    df_1y_w = df_1y.resample(\"W\").last()\n",
    "\n",
    "    df_3y = df.last(\"3Y\")\n",
    "    df_3y_w = df_3y.resample(\"W\").last()\n",
    "\n",
    "    df_3y_w[\"ret\"] = df_3y_w[\"nav\"].pct_change()\n",
    "    df_3y_w = df_3y_w.iloc[1:]\n",
    "    std_3y = df_3y_w[\"ret\"].std() * np.sqrt(52)\n",
    "\n",
    "    df_1y_w[\"ret\"] = df_1y_w[\"nav\"].pct_change()\n",
    "    df_1y_w = df_1y_w.iloc[1:]\n",
    "    std_1y = df_1y_w[\"ret\"].std() * np.sqrt(52)\n",
    "\n",
    "    var_3y = -np.minimum(df_3y_w[\"ret\"].quantile(0.025), 0) * np.sqrt(52)\n",
    "\n",
    "    return std_3y, std_1y, var_3y\n",
    "\n",
    "if VALIDATE_PROCESS:\n",
    "    list_std_y = []\n",
    "    for i in trange(len(codes)):\n",
    "        code = codes[i]\n",
    "        list_std_y.append(calc_std_y(code))"
   ]
  },
  {
   "cell_type": "code",
   "execution_count": 14,
   "id": "6e923dd2",
   "metadata": {
    "collapsed": false,
    "execution": {
     "iopub.execute_input": "2023-01-25T08:19:40.827183Z",
     "iopub.status.busy": "2023-01-25T08:19:40.801292Z",
     "iopub.status.idle": "2023-01-25T08:19:40.845368Z",
     "shell.execute_reply": "2023-01-25T08:19:40.845368Z"
    }
   },
   "outputs": [],
   "source": [
    "if VALIDATE_PROCESS:\n",
    "    for code_idx, code in enumerate(codes):\n",
    "        for old_idx, new_name in [(0, 'std_3y'), (1, 'std_1y'), (2, 'var_3y')]:\n",
    "            old_rst = list_std_y[code_idx][old_idx]\n",
    "            new_rst = lists_rst_df.xs(code).xs(new_name)\n",
    "            if not np.isclose(old_rst, new_rst, equal_nan=True):\n",
    "                print(f\"{code=}, {old_rst=}, {new_rst=}, {np.isclose(old_rst, new_rst, equal_nan=True)=}\")"
   ]
  },
  {
   "cell_type": "markdown",
   "id": "0d9be5b0",
   "metadata": {
    "collapsed": false
   },
   "source": [
    "## 등급 변환"
   ]
  },
  {
   "cell_type": "code",
   "execution_count": 15,
   "id": "15ae8a66",
   "metadata": {
    "collapsed": false,
    "execution": {
     "iopub.execute_input": "2023-01-25T08:19:40.866252Z",
     "iopub.status.busy": "2023-01-25T08:19:40.866252Z",
     "iopub.status.idle": "2023-01-25T08:19:40.976097Z",
     "shell.execute_reply": "2023-01-25T08:19:40.942476Z"
    }
   },
   "outputs": [
    {
     "data": {
      "text/html": [
       "<div>\n",
       "<style scoped>\n",
       "    .dataframe tbody tr th:only-of-type {\n",
       "        vertical-align: middle;\n",
       "    }\n",
       "\n",
       "    .dataframe tbody tr th {\n",
       "        vertical-align: top;\n",
       "    }\n",
       "\n",
       "    .dataframe thead th {\n",
       "        text-align: right;\n",
       "    }\n",
       "</style>\n",
       "<table border=\"1\" class=\"dataframe\">\n",
       "  <thead>\n",
       "    <tr style=\"text-align: right;\">\n",
       "      <th></th>\n",
       "      <th>code</th>\n",
       "      <th>std_1y</th>\n",
       "      <th>var_1y</th>\n",
       "      <th>std_3y</th>\n",
       "      <th>var_3y</th>\n",
       "      <th>risk_std_1y</th>\n",
       "      <th>risk_std_3y</th>\n",
       "      <th>risk_var_3y</th>\n",
       "    </tr>\n",
       "  </thead>\n",
       "  <tbody>\n",
       "    <tr>\n",
       "      <th>0</th>\n",
       "      <td>K55101AZ6913</td>\n",
       "      <td>0.130954</td>\n",
       "      <td>0.251396</td>\n",
       "      <td>0.162558</td>\n",
       "      <td>0.311481</td>\n",
       "      <td>3등급</td>\n",
       "      <td>2등급</td>\n",
       "      <td>2등급</td>\n",
       "    </tr>\n",
       "    <tr>\n",
       "      <th>1</th>\n",
       "      <td>K55101B13881</td>\n",
       "      <td>0.139804</td>\n",
       "      <td>0.274579</td>\n",
       "      <td>0.129792</td>\n",
       "      <td>0.265658</td>\n",
       "      <td>3등급</td>\n",
       "      <td>3등급</td>\n",
       "      <td>2등급</td>\n",
       "    </tr>\n",
       "    <tr>\n",
       "      <th>2</th>\n",
       "      <td>K55101B38276</td>\n",
       "      <td>0.144190</td>\n",
       "      <td>0.238259</td>\n",
       "      <td>0.166573</td>\n",
       "      <td>0.324793</td>\n",
       "      <td>3등급</td>\n",
       "      <td>2등급</td>\n",
       "      <td>2등급</td>\n",
       "    </tr>\n",
       "    <tr>\n",
       "      <th>3</th>\n",
       "      <td>K55101B38284</td>\n",
       "      <td>0.144472</td>\n",
       "      <td>0.240539</td>\n",
       "      <td>0.158979</td>\n",
       "      <td>0.327150</td>\n",
       "      <td>3등급</td>\n",
       "      <td>2등급</td>\n",
       "      <td>2등급</td>\n",
       "    </tr>\n",
       "    <tr>\n",
       "      <th>4</th>\n",
       "      <td>K55101B38292</td>\n",
       "      <td>0.144373</td>\n",
       "      <td>0.239857</td>\n",
       "      <td>0.166694</td>\n",
       "      <td>0.326385</td>\n",
       "      <td>3등급</td>\n",
       "      <td>2등급</td>\n",
       "      <td>2등급</td>\n",
       "    </tr>\n",
       "    <tr>\n",
       "      <th>...</th>\n",
       "      <td>...</td>\n",
       "      <td>...</td>\n",
       "      <td>...</td>\n",
       "      <td>...</td>\n",
       "      <td>...</td>\n",
       "      <td>...</td>\n",
       "      <td>...</td>\n",
       "      <td>...</td>\n",
       "    </tr>\n",
       "    <tr>\n",
       "      <th>5339</th>\n",
       "      <td>KRM307618491</td>\n",
       "      <td>0.152454</td>\n",
       "      <td>0.320123</td>\n",
       "      <td>0.164196</td>\n",
       "      <td>0.283269</td>\n",
       "      <td>2등급</td>\n",
       "      <td>2등급</td>\n",
       "      <td>2등급</td>\n",
       "    </tr>\n",
       "    <tr>\n",
       "      <th>5340</th>\n",
       "      <td>KRM307AP3131</td>\n",
       "      <td>0.152302</td>\n",
       "      <td>0.318685</td>\n",
       "      <td>0.177752</td>\n",
       "      <td>0.311355</td>\n",
       "      <td>2등급</td>\n",
       "      <td>2등급</td>\n",
       "      <td>2등급</td>\n",
       "    </tr>\n",
       "    <tr>\n",
       "      <th>5341</th>\n",
       "      <td>KRM310270223</td>\n",
       "      <td>0.169794</td>\n",
       "      <td>0.366695</td>\n",
       "      <td>0.172458</td>\n",
       "      <td>0.414117</td>\n",
       "      <td>2등급</td>\n",
       "      <td>2등급</td>\n",
       "      <td>1등급</td>\n",
       "    </tr>\n",
       "    <tr>\n",
       "      <th>5342</th>\n",
       "      <td>KRM310270231</td>\n",
       "      <td>0.169788</td>\n",
       "      <td>0.366648</td>\n",
       "      <td>0.172491</td>\n",
       "      <td>0.414099</td>\n",
       "      <td>2등급</td>\n",
       "      <td>2등급</td>\n",
       "      <td>1등급</td>\n",
       "    </tr>\n",
       "    <tr>\n",
       "      <th>5343</th>\n",
       "      <td>KRM310276147</td>\n",
       "      <td>0.169325</td>\n",
       "      <td>0.363783</td>\n",
       "      <td>0.194560</td>\n",
       "      <td>0.411376</td>\n",
       "      <td>2등급</td>\n",
       "      <td>2등급</td>\n",
       "      <td>1등급</td>\n",
       "    </tr>\n",
       "  </tbody>\n",
       "</table>\n",
       "<p>5344 rows × 8 columns</p>\n",
       "</div>"
      ],
      "text/plain": [
       "              code    std_1y    var_1y    std_3y    var_3y risk_std_1y  \\\n",
       "0     K55101AZ6913  0.130954  0.251396  0.162558  0.311481         3등급   \n",
       "1     K55101B13881  0.139804  0.274579  0.129792  0.265658         3등급   \n",
       "2     K55101B38276  0.144190  0.238259  0.166573  0.324793         3등급   \n",
       "3     K55101B38284  0.144472  0.240539  0.158979  0.327150         3등급   \n",
       "4     K55101B38292  0.144373  0.239857  0.166694  0.326385         3등급   \n",
       "...            ...       ...       ...       ...       ...         ...   \n",
       "5339  KRM307618491  0.152454  0.320123  0.164196  0.283269         2등급   \n",
       "5340  KRM307AP3131  0.152302  0.318685  0.177752  0.311355         2등급   \n",
       "5341  KRM310270223  0.169794  0.366695  0.172458  0.414117         2등급   \n",
       "5342  KRM310270231  0.169788  0.366648  0.172491  0.414099         2등급   \n",
       "5343  KRM310276147  0.169325  0.363783  0.194560  0.411376         2등급   \n",
       "\n",
       "     risk_std_3y risk_var_3y  \n",
       "0            2등급         2등급  \n",
       "1            3등급         2등급  \n",
       "2            2등급         2등급  \n",
       "3            2등급         2등급  \n",
       "4            2등급         2등급  \n",
       "...          ...         ...  \n",
       "5339         2등급         2등급  \n",
       "5340         2등급         2등급  \n",
       "5341         2등급         1등급  \n",
       "5342         2등급         1등급  \n",
       "5343         2등급         1등급  \n",
       "\n",
       "[5344 rows x 8 columns]"
      ]
     },
     "execution_count": 15,
     "metadata": {},
     "output_type": "execute_result"
    }
   ],
   "source": [
    "labels = [\"6등급\", \"5등급\", \"4등급\", \"3등급\", \"2등급\", \"1등급\"]\n",
    "cut_fn = functools.partial(pd.cut, labels=labels)\n",
    "\n",
    "lists_lb_df = lists_rst_df.assign(\n",
    "    risk_std_1y=cut_fn(lists_rst_df['std_1y'], bins=DICT_BINS['std_1y']),\n",
    "    risk_std_3y=cut_fn(lists_rst_df['std_3y'], bins=DICT_BINS['std_3y']),\n",
    "    # risk_var_1y=cut_fn(lists_rst_df['var_1y']),\n",
    "    risk_var_3y=cut_fn(lists_rst_df['var_3y'], bins=DICT_BINS['var_3y']))\n",
    "lists_lb_df.dropna(inplace=True)\n",
    "lists_lb_df.reset_index(inplace=True)\n",
    "\n",
    "lists_lb_df"
   ]
  },
  {
   "cell_type": "markdown",
   "id": "8a1d2bd0",
   "metadata": {
    "collapsed": false
   },
   "source": [
    "#### 프로세스 테스트"
   ]
  },
  {
   "cell_type": "code",
   "execution_count": 16,
   "id": "e0aa081c-7f0d-4f1b-ae74-00a27747aaa5",
   "metadata": {
    "execution": {
     "iopub.execute_input": "2023-01-25T08:19:40.980806Z",
     "iopub.status.busy": "2023-01-25T08:19:40.980291Z",
     "iopub.status.idle": "2023-01-25T08:19:41.006699Z",
     "shell.execute_reply": "2023-01-25T08:19:41.005414Z"
    }
   },
   "outputs": [],
   "source": [
    "if VALIDATE_PROCESS:\n",
    "    list_std_3y, list_std_1y, list_var_3y = zip(*list_std_y)\n",
    "\n",
    "    df_result = pd.DataFrame({\n",
    "        \"code\": codes,\n",
    "        \"std_3y\": list_std_3y,\n",
    "        \"std_1y\": list_std_1y,\n",
    "        \"var_3y\": list_var_3y,\n",
    "    })\n",
    "\n",
    "    bins = [0, 0.005, 0.05, 0.10, 0.15, 0.25, float(\"inf\")]\n",
    "    labels = [\"6등급\", \"5등급\", \"4등급\", \"3등급\", \"2등급\", \"1등급\"]\n",
    "\n",
    "    df_result[\"risk_std_3y\"] = pd.cut(df_result.std_3y, bins=bins, labels=labels)\n",
    "    df_result[\"risk_std_1y\"] = pd.cut(df_result.std_1y, bins=bins, labels=labels)\n",
    "    df_result[\"risk_var_3y\"] = pd.cut(df_result.var_3y, bins=bins, labels=labels)\n",
    "\n",
    "    df_result = df_result.dropna()"
   ]
  },
  {
   "cell_type": "code",
   "execution_count": 17,
   "id": "c3e75562-b9ea-4c95-9a11-004be639146b",
   "metadata": {
    "execution": {
     "iopub.execute_input": "2023-01-25T08:19:41.010763Z",
     "iopub.status.busy": "2023-01-25T08:19:41.010763Z",
     "iopub.status.idle": "2023-01-25T08:19:41.024553Z",
     "shell.execute_reply": "2023-01-25T08:19:41.022242Z"
    }
   },
   "outputs": [],
   "source": [
    "if VALIDATE_PROCESS:\n",
    "    display(\n",
    "        (lists_lb_df[['code', 'risk_std_1y', 'risk_std_3y', 'risk_var_3y']].set_index(['code'])\n",
    "        == df_result[['code', 'risk_std_1y', 'risk_std_3y', 'risk_var_3y']].set_index(['code'])).all())"
   ]
  },
  {
   "cell_type": "markdown",
   "id": "7093a90e-9367-40e8-bb58-fc375b2c7f0d",
   "metadata": {},
   "source": [
    "## 등급 결과 출력"
   ]
  },
  {
   "cell_type": "code",
   "execution_count": 18,
   "id": "7d74f1a2-a5b2-4b5a-b1e4-7356deb7fb2c",
   "metadata": {
    "execution": {
     "iopub.execute_input": "2023-01-25T08:19:41.024553Z",
     "iopub.status.busy": "2023-01-25T08:19:41.024553Z",
     "iopub.status.idle": "2023-01-25T08:19:45.181816Z",
     "shell.execute_reply": "2023-01-25T08:19:45.181816Z"
    }
   },
   "outputs": [],
   "source": [
    "os.makedirs('results', exist_ok=True)\n",
    "lists_lb_df.to_excel(f'results/RESULT_{type_no}_{type_name}.xlsx', index=False)"
   ]
  },
  {
   "cell_type": "markdown",
   "id": "2ed08a3d-eb09-4f1f-83a5-987be9b9d584",
   "metadata": {},
   "source": [
    "## 시각화"
   ]
  },
  {
   "cell_type": "code",
   "execution_count": 19,
   "id": "a2981513-60e5-4604-8fee-235d898df378",
   "metadata": {
    "execution": {
     "iopub.execute_input": "2023-01-25T08:19:45.181816Z",
     "iopub.status.busy": "2023-01-25T08:19:45.181816Z",
     "iopub.status.idle": "2023-01-25T08:19:45.349479Z",
     "shell.execute_reply": "2023-01-25T08:19:45.349479Z"
    }
   },
   "outputs": [
    {
     "data": {
      "text/html": [
       "<style type=\"text/css\">\n",
       "#T_338e8_row0_col0 {\n",
       "  background-color: #f6eff7;\n",
       "  color: #000000;\n",
       "}\n",
       "#T_338e8_row0_col1 {\n",
       "  background-color: #f8f1f8;\n",
       "  color: #000000;\n",
       "}\n",
       "#T_338e8_row0_col2 {\n",
       "  background-color: #afc1dd;\n",
       "  color: #000000;\n",
       "}\n",
       "#T_338e8_row1_col0 {\n",
       "  background-color: #7eadd1;\n",
       "  color: #f1f1f1;\n",
       "}\n",
       "#T_338e8_row1_col1 {\n",
       "  background-color: #80aed2;\n",
       "  color: #f1f1f1;\n",
       "}\n",
       "#T_338e8_row1_col2, #T_338e8_row2_col0, #T_338e8_row2_col1 {\n",
       "  background-color: #023858;\n",
       "  color: #f1f1f1;\n",
       "}\n",
       "#T_338e8_row2_col2 {\n",
       "  background-color: #e2dfee;\n",
       "  color: #000000;\n",
       "}\n",
       "#T_338e8_row3_col0, #T_338e8_row3_col1 {\n",
       "  background-color: #f5eff6;\n",
       "  color: #000000;\n",
       "}\n",
       "#T_338e8_row3_col2 {\n",
       "  background-color: #fbf3f9;\n",
       "  color: #000000;\n",
       "}\n",
       "#T_338e8_row4_col0, #T_338e8_row4_col1, #T_338e8_row5_col0, #T_338e8_row5_col1, #T_338e8_row5_col2 {\n",
       "  background-color: #fff7fb;\n",
       "  color: #000000;\n",
       "}\n",
       "#T_338e8_row4_col2 {\n",
       "  background-color: #fef6fb;\n",
       "  color: #000000;\n",
       "}\n",
       "</style>\n",
       "<table id=\"T_338e8\">\n",
       "  <thead>\n",
       "    <tr>\n",
       "      <th class=\"blank level0\" >&nbsp;</th>\n",
       "      <th id=\"T_338e8_level0_col0\" class=\"col_heading level0 col0\" >3년 표준편차</th>\n",
       "      <th id=\"T_338e8_level0_col1\" class=\"col_heading level0 col1\" >1년 표준편차</th>\n",
       "      <th id=\"T_338e8_level0_col2\" class=\"col_heading level0 col2\" >3년 VaR</th>\n",
       "    </tr>\n",
       "    <tr>\n",
       "      <th class=\"index_name level0\" >등급</th>\n",
       "      <th class=\"blank col0\" >&nbsp;</th>\n",
       "      <th class=\"blank col1\" >&nbsp;</th>\n",
       "      <th class=\"blank col2\" >&nbsp;</th>\n",
       "    </tr>\n",
       "  </thead>\n",
       "  <tbody>\n",
       "    <tr>\n",
       "      <th id=\"T_338e8_level0_row0\" class=\"row_heading level0 row0\" >1등급</th>\n",
       "      <td id=\"T_338e8_row0_col0\" class=\"data row0 col0\" >202</td>\n",
       "      <td id=\"T_338e8_row0_col1\" class=\"data row0 col1\" >158</td>\n",
       "      <td id=\"T_338e8_row0_col2\" class=\"data row0 col2\" >1197</td>\n",
       "    </tr>\n",
       "    <tr>\n",
       "      <th id=\"T_338e8_level0_row1\" class=\"row_heading level0 row1\" >2등급</th>\n",
       "      <td id=\"T_338e8_row1_col0\" class=\"data row1 col0\" >1580</td>\n",
       "      <td id=\"T_338e8_row1_col1\" class=\"data row1 col1\" >1582</td>\n",
       "      <td id=\"T_338e8_row1_col2\" class=\"data row1 col2\" >3420</td>\n",
       "    </tr>\n",
       "    <tr>\n",
       "      <th id=\"T_338e8_level0_row2\" class=\"row_heading level0 row2\" >3등급</th>\n",
       "      <td id=\"T_338e8_row2_col0\" class=\"data row2 col0\" >3325</td>\n",
       "      <td id=\"T_338e8_row2_col1\" class=\"data row2 col1\" >3347</td>\n",
       "      <td id=\"T_338e8_row2_col2\" class=\"data row2 col2\" >580</td>\n",
       "    </tr>\n",
       "    <tr>\n",
       "      <th id=\"T_338e8_level0_row3\" class=\"row_heading level0 row3\" >4등급</th>\n",
       "      <td id=\"T_338e8_row3_col0\" class=\"data row3 col0\" >218</td>\n",
       "      <td id=\"T_338e8_row3_col1\" class=\"data row3 col1\" >229</td>\n",
       "      <td id=\"T_338e8_row3_col2\" class=\"data row3 col2\" >109</td>\n",
       "    </tr>\n",
       "    <tr>\n",
       "      <th id=\"T_338e8_level0_row4\" class=\"row_heading level0 row4\" >5등급</th>\n",
       "      <td id=\"T_338e8_row4_col0\" class=\"data row4 col0\" >15</td>\n",
       "      <td id=\"T_338e8_row4_col1\" class=\"data row4 col1\" >14</td>\n",
       "      <td id=\"T_338e8_row4_col2\" class=\"data row4 col2\" >32</td>\n",
       "    </tr>\n",
       "    <tr>\n",
       "      <th id=\"T_338e8_level0_row5\" class=\"row_heading level0 row5\" >6등급</th>\n",
       "      <td id=\"T_338e8_row5_col0\" class=\"data row5 col0\" >4</td>\n",
       "      <td id=\"T_338e8_row5_col1\" class=\"data row5 col1\" >14</td>\n",
       "      <td id=\"T_338e8_row5_col2\" class=\"data row5 col2\" >6</td>\n",
       "    </tr>\n",
       "  </tbody>\n",
       "</table>\n"
      ],
      "text/plain": [
       "<pandas.io.formats.style.Styler at 0x204ba4ab250>"
      ]
     },
     "execution_count": 19,
     "metadata": {},
     "output_type": "execute_result"
    }
   ],
   "source": [
    "risk_std_3y_stat_df = lists_lb_df[\"risk_std_3y\"].value_counts().sort_index(ascending=False)\n",
    "risk_std_1y_stat_df = lists_lb_df[\"risk_std_1y\"].value_counts().sort_index(ascending=False)\n",
    "risk_var_3y_stat_df = lists_lb_df[\"risk_var_3y\"].value_counts().sort_index(ascending=False)\n",
    "stat_df = pd.concat([risk_std_3y_stat_df, risk_std_1y_stat_df, risk_var_3y_stat_df], axis=1)\n",
    "stat_df = stat_df.rename(columns={\"risk_std_3y\": \"3년 표준편차\", \"risk_std_1y\": \"1년 표준편차\", \"risk_var_3y\": \"3년 VaR\"})\n",
    "stat_df.reset_index(names=['등급'], inplace=True)\n",
    "\n",
    "stat_df.set_index('등급').style.background_gradient()"
   ]
  },
  {
   "cell_type": "code",
   "execution_count": 20,
   "id": "2ecfd0b2-0548-41e1-a6ed-9abd2da5b7c8",
   "metadata": {
    "execution": {
     "iopub.execute_input": "2023-01-25T08:19:45.349479Z",
     "iopub.status.busy": "2023-01-25T08:19:45.349479Z",
     "iopub.status.idle": "2023-01-25T08:19:46.081423Z",
     "shell.execute_reply": "2023-01-25T08:19:46.081423Z"
    }
   },
   "outputs": [
    {
     "data": {
      "image/png": "[encoded data removed]",
      "text/plain": [
       "<Figure size 640x480 with 1 Axes>"
      ]
     },
     "metadata": {},
     "output_type": "display_data"
    }
   ],
   "source": [
    "def show_values(axs, orient=\"v\", space=.01):\n",
    "    def _single(ax):\n",
    "        if orient == \"v\":\n",
    "            for p in ax.patches:\n",
    "                _x = p.get_x() + p.get_width() / 2\n",
    "                _y = p.get_y() + p.get_height() + (p.get_height() * 0.01)\n",
    "                value = '{:d}'.format(int(p.get_height()))\n",
    "                ax.text(_x, _y, value, ha=\"center\")\n",
    "        elif orient == \"h\":\n",
    "            for p in ax.patches:\n",
    "                _x = p.get_x() + p.get_width() + float(space)\n",
    "                _y = p.get_y() + p.get_height() - (p.get_height() * 0.5)\n",
    "                value = '{:d}'.format(int(p.get_width()))\n",
    "                ax.text(_x, _y, value, ha=\"left\")\n",
    "\n",
    "    if isinstance(axs, np.ndarray):\n",
    "        for idx, ax in np.ndenumerate(axs):\n",
    "            _single(ax)\n",
    "    else:\n",
    "        _single(axs)\n",
    "\n",
    "\n",
    "stat_df_long = (\n",
    "    stat_df\n",
    "    .melt(id_vars=\"등급\", value_vars=[\"3년 표준편차\", \"1년 표준편차\", \"3년 VaR\"], var_name=\"기준\") \\\n",
    "    .rename(columns={\"index\": \"등급\"})\n",
    ")\n",
    "axis = sns.barplot(x=\"등급\", y=\"value\", hue=\"기준\", data=stat_df_long)\n",
    "axis.set_title(f\"{type_name} 펀드 위험등급 분포\")\n",
    "show_values(axis)"
   ]
  },
  {
   "cell_type": "markdown",
   "id": "1f9227c4-c788-429d-b8d4-fc278ba29d24",
   "metadata": {},
   "source": [
    "## 통계 결과 출력"
   ]
  },
  {
   "cell_type": "code",
   "execution_count": 21,
   "id": "68fbd533-f46e-4cd6-9c35-28c3ae50830d",
   "metadata": {
    "execution": {
     "iopub.execute_input": "2023-01-25T08:19:46.081423Z",
     "iopub.status.busy": "2023-01-25T08:19:46.081423Z",
     "iopub.status.idle": "2023-01-25T08:19:46.128701Z",
     "shell.execute_reply": "2023-01-25T08:19:46.128701Z"
    }
   },
   "outputs": [],
   "source": [
    "os.makedirs('results', exist_ok=True)\n",
    "stat_df.to_excel(f'results/STATISTICS_{type_no}_{type_name}.xlsx', index=False)"
   ]
  },
  {
   "cell_type": "code",
   "execution_count": null,
   "id": "69fc4522",
   "metadata": {
    "collapsed": false
   },
   "outputs": [],
   "source": []
  }
 ],
 "metadata": {
  "kernelspec": {
   "display_name": "Python 3 (ipykernel)",
   "language": "python",
   "name": "python3"
  },
  "language_info": {
   "codemirror_mode": {
    "name": "ipython",
    "version": 3
   },
   "file_extension": ".py",
   "mimetype": "text/x-python",
   "name": "python",
   "nbconvert_exporter": "python",
   "pygments_lexer": "ipython3",
   "version": "3.9.13"
  },
  "toc-autonumbering": true,
  "toc-showcode": false,
  "toc-showmarkdowntxt": false
 },
 "nbformat": 4,
 "nbformat_minor": 5
}
