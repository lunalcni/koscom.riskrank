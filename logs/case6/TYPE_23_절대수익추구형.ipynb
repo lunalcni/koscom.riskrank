{
 "cells": [
  {
   "cell_type": "markdown",
   "id": "2dd67b7b-b151-49b1-955e-dd7627677a4e",
   "metadata": {},
   "source": [
    "# 펀드 위험등급 산출"
   ]
  },
  {
   "cell_type": "markdown",
   "id": "b3e20237-dc40-4627-a953-52539fea6148",
   "metadata": {},
   "source": [
    "## 패키지 로드"
   ]
  },
  {
   "cell_type": "code",
   "execution_count": 1,
   "id": "103faeb9-9c7b-46f1-8ddb-e8e438626b60",
   "metadata": {
    "execution": {
     "iopub.execute_input": "2023-01-25T08:20:34.944024Z",
     "iopub.status.busy": "2023-01-25T08:20:34.944024Z",
     "iopub.status.idle": "2023-01-25T08:20:35.413773Z",
     "shell.execute_reply": "2023-01-25T08:20:35.413773Z"
    }
   },
   "outputs": [],
   "source": [
    "%matplotlib inline"
   ]
  },
  {
   "cell_type": "code",
   "execution_count": 2,
   "id": "2ead0865-2adf-4384-9e33-e05ad2246056",
   "metadata": {
    "execution": {
     "iopub.execute_input": "2023-01-25T08:20:35.413773Z",
     "iopub.status.busy": "2023-01-25T08:20:35.413773Z",
     "iopub.status.idle": "2023-01-25T08:20:35.867089Z",
     "shell.execute_reply": "2023-01-25T08:20:35.866342Z"
    }
   },
   "outputs": [],
   "source": [
    "import functools\n",
    "import os\n",
    "import re\n",
    "from collections import defaultdict\n",
    "from pathlib import Path\n",
    "\n",
    "import matplotlib.pyplot as plt\n",
    "import numpy as np\n",
    "import pandas as pd\n",
    "import seaborn as sns\n",
    "from tqdm import trange"
   ]
  },
  {
   "cell_type": "code",
   "execution_count": 3,
   "id": "58d52ece",
   "metadata": {
    "collapsed": false,
    "execution": {
     "iopub.execute_input": "2023-01-25T08:20:35.870873Z",
     "iopub.status.busy": "2023-01-25T08:20:35.870291Z",
     "iopub.status.idle": "2023-01-25T08:20:35.895043Z",
     "shell.execute_reply": "2023-01-25T08:20:35.895043Z"
    }
   },
   "outputs": [],
   "source": [
    "plt.rc('font', family='Malgun Gothic')  # For Windows"
   ]
  },
  {
   "cell_type": "markdown",
   "id": "12d21614",
   "metadata": {
    "collapsed": false
   },
   "source": [
    "## 변수 정의"
   ]
  },
  {
   "cell_type": "code",
   "execution_count": 4,
   "id": "0ba560d6",
   "metadata": {
    "collapsed": false,
    "execution": {
     "iopub.execute_input": "2023-01-25T08:20:35.895043Z",
     "iopub.status.busy": "2023-01-25T08:20:35.895043Z",
     "iopub.status.idle": "2023-01-25T08:20:35.910700Z",
     "shell.execute_reply": "2023-01-25T08:20:35.910700Z"
    }
   },
   "outputs": [
    {
     "name": "stdout",
     "output_type": "stream",
     "text": [
      "TEST_PROCESS=False, VALIDATE_PROCESS=False, DATA_FILEPATH='data\\\\TYPE_23_절대수익추구형.csv', BINS={'std_1y': [0, 0.005, 0.05, 0.1, 0.15, 0.25, inf], 'std_3y': [0, 0.005, 0.05, 0.1, 0.15, 0.25, inf], 'var_3y': [0, 0.005, 0.05, 0.1, 0.25, 0.35, inf]}, DICT_BINS={'std_1y': [0, 0.005, 0.05, 0.1, 0.15, 0.25, inf], 'std_3y': [0, 0.005, 0.05, 0.1, 0.15, 0.25, inf], 'var_3y': [0, 0.005, 0.05, 0.1, 0.25, 0.35, inf]}\n"
     ]
    }
   ],
   "source": [
    "TEST_PROCESS = eval(os.environ.get('TEST_PROCESS', 'True'))\n",
    "VALIDATE_PROCESS = eval(os.environ.get('VALIDATE_PROCESS', 'True'))\n",
    "DATA_FILEPATH = os.environ.get('DATA_FILEPATH', './data/TYPE_10_채권형.csv')\n",
    "BINS = eval(os.environ.get('BINS', '[0, 0.005, 0.05, 0.10, 0.15, 0.25, float(\"inf\")]'))\n",
    "\n",
    "if isinstance(BINS, list):\n",
    "    DICT_BINS = defaultdict(lambda: BINS)\n",
    "elif isinstance(BINS, dict):\n",
    "    assert all(idx_col in BINS for idx_col in ['std_1y', 'std_3y', 'var_3y'])\n",
    "    DICT_BINS = BINS\n",
    "\n",
    "print(f'{TEST_PROCESS=}, {VALIDATE_PROCESS=}, {DATA_FILEPATH=}, {BINS=}, {DICT_BINS=}')"
   ]
  },
  {
   "cell_type": "markdown",
   "id": "85236132",
   "metadata": {
    "collapsed": false
   },
   "source": [
    "## 타입 추출"
   ]
  },
  {
   "cell_type": "code",
   "execution_count": 5,
   "id": "9613fca5-40ff-41c8-a061-d9c23223c365",
   "metadata": {
    "execution": {
     "iopub.execute_input": "2023-01-25T08:20:35.910700Z",
     "iopub.status.busy": "2023-01-25T08:20:35.910700Z",
     "iopub.status.idle": "2023-01-25T08:20:35.926323Z",
     "shell.execute_reply": "2023-01-25T08:20:35.926323Z"
    }
   },
   "outputs": [
    {
     "data": {
      "text/plain": [
       "('23', '절대수익추구형')"
      ]
     },
     "execution_count": 5,
     "metadata": {},
     "output_type": "execute_result"
    }
   ],
   "source": [
    "filepath = Path(DATA_FILEPATH)\n",
    "filename_pattern = re.compile(r'TYPE_([0-9]+)_([^_]+)\\.csv')\n",
    "\n",
    "match_rst = re.fullmatch(filename_pattern, filepath.name)\n",
    "type_no, type_name = match_rst.groups()\n",
    "\n",
    "type_no, type_name"
   ]
  },
  {
   "cell_type": "markdown",
   "id": "3a02a33b-ddc6-446a-88c3-37887ffe4768",
   "metadata": {},
   "source": [
    "## 데이터 로드"
   ]
  },
  {
   "cell_type": "code",
   "execution_count": 6,
   "id": "a4260092-7f8c-48a7-a523-7b72bc350181",
   "metadata": {
    "execution": {
     "iopub.execute_input": "2023-01-25T08:20:35.926323Z",
     "iopub.status.busy": "2023-01-25T08:20:35.926323Z",
     "iopub.status.idle": "2023-01-25T08:20:36.670471Z",
     "shell.execute_reply": "2023-01-25T08:20:36.669886Z"
    }
   },
   "outputs": [
    {
     "name": "stdout",
     "output_type": "stream",
     "text": [
      "len(codes)=685\n"
     ]
    }
   ],
   "source": [
    "lists_wo_idx_df = pd.read_csv(filepath, names=[\"date\", \"code\", \"nav\"], usecols=[0, 1, 2], parse_dates=[0])\n",
    "lists_df = lists_wo_idx_df.set_index(['code', 'date'])\n",
    "\n",
    "codes = lists_df.index.get_level_values('code').unique()\n",
    "print(f\"{len(codes)=}\")"
   ]
  },
  {
   "cell_type": "markdown",
   "id": "61561518",
   "metadata": {
    "collapsed": false
   },
   "source": [
    "## 수치 산출 테스트\n",
    "\n",
    "1년을 기준으로 프로세스 정의"
   ]
  },
  {
   "cell_type": "markdown",
   "id": "5e4a3140",
   "metadata": {
    "collapsed": false
   },
   "source": [
    "### 기간 조건 적용"
   ]
  },
  {
   "cell_type": "code",
   "execution_count": 7,
   "id": "abe38a05",
   "metadata": {
    "collapsed": false,
    "execution": {
     "iopub.execute_input": "2023-01-25T08:20:36.673605Z",
     "iopub.status.busy": "2023-01-25T08:20:36.673080Z",
     "iopub.status.idle": "2023-01-25T08:20:36.693423Z",
     "shell.execute_reply": "2023-01-25T08:20:36.693423Z"
    }
   },
   "outputs": [],
   "source": [
    "if TEST_PROCESS:\n",
    "    lists_1y_df = pd.concat([\n",
    "        lists_df.xs(code).last('1y').assign(code=code)\n",
    "        for code in codes])\n",
    "    lists_1y_df.reset_index(inplace=True)\n",
    "    display(lists_1y_df)"
   ]
  },
  {
   "cell_type": "markdown",
   "id": "37afa3d9",
   "metadata": {
    "collapsed": false
   },
   "source": [
    "### 리샘플링, 퍼센트 체인지 추출"
   ]
  },
  {
   "cell_type": "code",
   "execution_count": 8,
   "id": "c6e82f16",
   "metadata": {
    "collapsed": false,
    "execution": {
     "iopub.execute_input": "2023-01-25T08:20:36.693423Z",
     "iopub.status.busy": "2023-01-25T08:20:36.693423Z",
     "iopub.status.idle": "2023-01-25T08:20:36.709046Z",
     "shell.execute_reply": "2023-01-25T08:20:36.709046Z"
    }
   },
   "outputs": [],
   "source": [
    "if TEST_PROCESS:\n",
    "    lists_1y_wk_df = lists_1y_df.set_index(['date']).groupby(['code'])[['nav']].resample('W').last()\n",
    "    lists_1y_wk_df = lists_1y_wk_df.assign(ret=lists_1y_wk_df.groupby(['code'])[['nav']].pct_change())\n",
    "    display(lists_1y_wk_df)"
   ]
  },
  {
   "cell_type": "markdown",
   "id": "acead52c",
   "metadata": {
    "collapsed": false
   },
   "source": [
    "### 표준편차 산출"
   ]
  },
  {
   "cell_type": "code",
   "execution_count": 9,
   "id": "10794bfa",
   "metadata": {
    "collapsed": false,
    "execution": {
     "iopub.execute_input": "2023-01-25T08:20:36.709046Z",
     "iopub.status.busy": "2023-01-25T08:20:36.709046Z",
     "iopub.status.idle": "2023-01-25T08:20:36.724667Z",
     "shell.execute_reply": "2023-01-25T08:20:36.724667Z"
    }
   },
   "outputs": [],
   "source": [
    "if TEST_PROCESS:\n",
    "    lists_1y_std_df = lists_1y_wk_df.groupby(['code'])[['ret']].std(numeric_only=True) * np.sqrt(52)\n",
    "    lists_1y_std_df.reset_index(inplace=True)\n",
    "    lists_1y_std_df.rename(columns={'ret': 'std_1y'}, inplace=True)\n",
    "    display(lists_1y_std_df)"
   ]
  },
  {
   "cell_type": "markdown",
   "id": "ede21e6e",
   "metadata": {
    "collapsed": false
   },
   "source": [
    "### VaR 산출"
   ]
  },
  {
   "cell_type": "code",
   "execution_count": 10,
   "id": "cb8b40e9",
   "metadata": {
    "collapsed": false,
    "execution": {
     "iopub.execute_input": "2023-01-25T08:20:36.724667Z",
     "iopub.status.busy": "2023-01-25T08:20:36.724667Z",
     "iopub.status.idle": "2023-01-25T08:20:36.740268Z",
     "shell.execute_reply": "2023-01-25T08:20:36.740268Z"
    }
   },
   "outputs": [],
   "source": [
    "if TEST_PROCESS:\n",
    "    lists_1y_var_df = lists_1y_wk_df.groupby(['code'])[['ret']].quantile(0.025, numeric_only=True)\n",
    "    lists_1y_var_df = np.minimum(lists_1y_var_df, 0) * -1 * np.sqrt(52)\n",
    "    lists_1y_var_df.rename(columns={'ret': 'var_1y'}, inplace=True)\n",
    "    display(lists_1y_var_df)"
   ]
  },
  {
   "cell_type": "markdown",
   "id": "de0dd925",
   "metadata": {
    "collapsed": false
   },
   "source": [
    "## 수치 산출 프로세스 정의"
   ]
  },
  {
   "cell_type": "code",
   "execution_count": 11,
   "id": "96174117",
   "metadata": {
    "collapsed": false,
    "execution": {
     "iopub.execute_input": "2023-01-25T08:20:36.740268Z",
     "iopub.status.busy": "2023-01-25T08:20:36.740268Z",
     "iopub.status.idle": "2023-01-25T08:20:36.755924Z",
     "shell.execute_reply": "2023-01-25T08:20:36.755924Z"
    }
   },
   "outputs": [],
   "source": [
    "offsets = ['1y', '3y']"
   ]
  },
  {
   "cell_type": "code",
   "execution_count": 12,
   "id": "1386b7db",
   "metadata": {
    "collapsed": false,
    "execution": {
     "iopub.execute_input": "2023-01-25T08:20:36.755924Z",
     "iopub.status.busy": "2023-01-25T08:20:36.755924Z",
     "iopub.status.idle": "2023-01-25T08:20:40.787802Z",
     "shell.execute_reply": "2023-01-25T08:20:40.787802Z"
    }
   },
   "outputs": [
    {
     "name": "stdout",
     "output_type": "stream",
     "text": [
      "CPU times: total: 4.02 s\n",
      "Wall time: 4.02 s\n"
     ]
    },
    {
     "data": {
      "text/html": [
       "<div>\n",
       "<style scoped>\n",
       "    .dataframe tbody tr th:only-of-type {\n",
       "        vertical-align: middle;\n",
       "    }\n",
       "\n",
       "    .dataframe tbody tr th {\n",
       "        vertical-align: top;\n",
       "    }\n",
       "\n",
       "    .dataframe thead th {\n",
       "        text-align: right;\n",
       "    }\n",
       "</style>\n",
       "<table border=\"1\" class=\"dataframe\">\n",
       "  <thead>\n",
       "    <tr style=\"text-align: right;\">\n",
       "      <th></th>\n",
       "      <th>std_1y</th>\n",
       "      <th>var_1y</th>\n",
       "      <th>std_3y</th>\n",
       "      <th>var_3y</th>\n",
       "    </tr>\n",
       "    <tr>\n",
       "      <th>code</th>\n",
       "      <th></th>\n",
       "      <th></th>\n",
       "      <th></th>\n",
       "      <th></th>\n",
       "    </tr>\n",
       "  </thead>\n",
       "  <tbody>\n",
       "    <tr>\n",
       "      <th>K55101BV9704</th>\n",
       "      <td>0.047014</td>\n",
       "      <td>0.038493</td>\n",
       "      <td>0.030931</td>\n",
       "      <td>0.039730</td>\n",
       "    </tr>\n",
       "    <tr>\n",
       "      <th>K55104B00957</th>\n",
       "      <td>0.017539</td>\n",
       "      <td>0.030743</td>\n",
       "      <td>0.018023</td>\n",
       "      <td>0.032299</td>\n",
       "    </tr>\n",
       "    <tr>\n",
       "      <th>K55104BB8491</th>\n",
       "      <td>0.017271</td>\n",
       "      <td>0.029622</td>\n",
       "      <td>0.017936</td>\n",
       "      <td>0.031358</td>\n",
       "    </tr>\n",
       "    <tr>\n",
       "      <th>K55104BD1221</th>\n",
       "      <td>0.020426</td>\n",
       "      <td>0.044398</td>\n",
       "      <td>0.020762</td>\n",
       "      <td>0.042333</td>\n",
       "    </tr>\n",
       "    <tr>\n",
       "      <th>K55104BE9116</th>\n",
       "      <td>0.017454</td>\n",
       "      <td>0.030410</td>\n",
       "      <td>0.019237</td>\n",
       "      <td>0.030270</td>\n",
       "    </tr>\n",
       "    <tr>\n",
       "      <th>...</th>\n",
       "      <td>...</td>\n",
       "      <td>...</td>\n",
       "      <td>...</td>\n",
       "      <td>...</td>\n",
       "    </tr>\n",
       "    <tr>\n",
       "      <th>KRM301957473</th>\n",
       "      <td>0.204749</td>\n",
       "      <td>0.108240</td>\n",
       "      <td>0.124584</td>\n",
       "      <td>0.112995</td>\n",
       "    </tr>\n",
       "    <tr>\n",
       "      <th>KRM306363370</th>\n",
       "      <td>0.024316</td>\n",
       "      <td>0.043701</td>\n",
       "      <td>0.040360</td>\n",
       "      <td>0.038787</td>\n",
       "    </tr>\n",
       "    <tr>\n",
       "      <th>KRM306395562</th>\n",
       "      <td>0.018376</td>\n",
       "      <td>0.030862</td>\n",
       "      <td>0.037020</td>\n",
       "      <td>0.032837</td>\n",
       "    </tr>\n",
       "    <tr>\n",
       "      <th>KRM309542301</th>\n",
       "      <td>0.043576</td>\n",
       "      <td>0.093240</td>\n",
       "      <td>0.038089</td>\n",
       "      <td>0.095283</td>\n",
       "    </tr>\n",
       "    <tr>\n",
       "      <th>KRM313350527</th>\n",
       "      <td>0.011515</td>\n",
       "      <td>0.028540</td>\n",
       "      <td>0.007096</td>\n",
       "      <td>0.018495</td>\n",
       "    </tr>\n",
       "  </tbody>\n",
       "</table>\n",
       "<p>685 rows × 4 columns</p>\n",
       "</div>"
      ],
      "text/plain": [
       "                std_1y    var_1y    std_3y    var_3y\n",
       "code                                                \n",
       "K55101BV9704  0.047014  0.038493  0.030931  0.039730\n",
       "K55104B00957  0.017539  0.030743  0.018023  0.032299\n",
       "K55104BB8491  0.017271  0.029622  0.017936  0.031358\n",
       "K55104BD1221  0.020426  0.044398  0.020762  0.042333\n",
       "K55104BE9116  0.017454  0.030410  0.019237  0.030270\n",
       "...                ...       ...       ...       ...\n",
       "KRM301957473  0.204749  0.108240  0.124584  0.112995\n",
       "KRM306363370  0.024316  0.043701  0.040360  0.038787\n",
       "KRM306395562  0.018376  0.030862  0.037020  0.032837\n",
       "KRM309542301  0.043576  0.093240  0.038089  0.095283\n",
       "KRM313350527  0.011515  0.028540  0.007096  0.018495\n",
       "\n",
       "[685 rows x 4 columns]"
      ]
     },
     "execution_count": 12,
     "metadata": {},
     "output_type": "execute_result"
    }
   ],
   "source": [
    "%%time\n",
    "\n",
    "lists_rst_dfs = []\n",
    "\n",
    "for offset in offsets:\n",
    "    lists_off_df = pd.concat([\n",
    "        lists_df.xs(code).last(offset).assign(code=code)\n",
    "        for code in codes])\n",
    "    lists_off_df.reset_index(inplace=True)\n",
    "\n",
    "    lists_off_wk_df = lists_off_df.set_index(['date']).groupby(['code'])[['nav']].resample('W').last()\n",
    "    lists_off_wk_df = lists_off_wk_df.assign(ret=lists_off_wk_df.groupby(['code'])[['nav']].pct_change())\n",
    "\n",
    "    lists_off_std_df = lists_off_wk_df.groupby(['code'])[['ret']].std(numeric_only=True) * np.sqrt(52)\n",
    "    lists_off_std_df.rename(columns={'ret': f'std_{offset}'}, inplace=True)\n",
    "\n",
    "    lists_off_var_df = lists_off_wk_df.groupby(['code'])[['ret']].quantile(0.025, numeric_only=True)\n",
    "    lists_off_var_df = np.minimum(lists_off_var_df, 0) * -1 * np.sqrt(52)\n",
    "    lists_off_var_df.rename(columns={'ret': f'var_{offset}'}, inplace=True)\n",
    "\n",
    "    lists_rst_dfs.append(lists_off_std_df)\n",
    "    lists_rst_dfs.append(lists_off_var_df)\n",
    "\n",
    "lists_rst_df = pd.concat(lists_rst_dfs, axis='columns')\n",
    "lists_rst_df"
   ]
  },
  {
   "cell_type": "markdown",
   "id": "269ba999",
   "metadata": {
    "collapsed": false
   },
   "source": [
    "### 프로세스 테스트"
   ]
  },
  {
   "cell_type": "code",
   "execution_count": 13,
   "id": "a6cc3475-204e-417d-ac8f-67c33c944c4e",
   "metadata": {
    "execution": {
     "iopub.execute_input": "2023-01-25T08:20:40.787802Z",
     "iopub.status.busy": "2023-01-25T08:20:40.787802Z",
     "iopub.status.idle": "2023-01-25T08:20:40.803429Z",
     "shell.execute_reply": "2023-01-25T08:20:40.803429Z"
    }
   },
   "outputs": [
    {
     "name": "stdout",
     "output_type": "stream",
     "text": [
      "CPU times: total: 0 ns\n",
      "Wall time: 0 ns\n"
     ]
    }
   ],
   "source": [
    "%%time\n",
    "\n",
    "def calc_std_y(code):\n",
    "    df = lists_wo_idx_df[lists_wo_idx_df['code'] == code][[\"date\", \"nav\"]]\n",
    "    df = df.sort_values(by=\"date\")\n",
    "    df = df.set_index(\"date\")\n",
    "\n",
    "    df_1y = df.last(\"1Y\")\n",
    "    df_1y_w = df_1y.resample(\"W\").last()\n",
    "\n",
    "    df_3y = df.last(\"3Y\")\n",
    "    df_3y_w = df_3y.resample(\"W\").last()\n",
    "\n",
    "    df_3y_w[\"ret\"] = df_3y_w[\"nav\"].pct_change()\n",
    "    df_3y_w = df_3y_w.iloc[1:]\n",
    "    std_3y = df_3y_w[\"ret\"].std() * np.sqrt(52)\n",
    "\n",
    "    df_1y_w[\"ret\"] = df_1y_w[\"nav\"].pct_change()\n",
    "    df_1y_w = df_1y_w.iloc[1:]\n",
    "    std_1y = df_1y_w[\"ret\"].std() * np.sqrt(52)\n",
    "\n",
    "    var_3y = -np.minimum(df_3y_w[\"ret\"].quantile(0.025), 0) * np.sqrt(52)\n",
    "\n",
    "    return std_3y, std_1y, var_3y\n",
    "\n",
    "if VALIDATE_PROCESS:\n",
    "    list_std_y = []\n",
    "    for i in trange(len(codes)):\n",
    "        code = codes[i]\n",
    "        list_std_y.append(calc_std_y(code))"
   ]
  },
  {
   "cell_type": "code",
   "execution_count": 14,
   "id": "b26bd927",
   "metadata": {
    "collapsed": false,
    "execution": {
     "iopub.execute_input": "2023-01-25T08:20:40.803429Z",
     "iopub.status.busy": "2023-01-25T08:20:40.803429Z",
     "iopub.status.idle": "2023-01-25T08:20:40.819053Z",
     "shell.execute_reply": "2023-01-25T08:20:40.819053Z"
    }
   },
   "outputs": [],
   "source": [
    "if VALIDATE_PROCESS:\n",
    "    for code_idx, code in enumerate(codes):\n",
    "        for old_idx, new_name in [(0, 'std_3y'), (1, 'std_1y'), (2, 'var_3y')]:\n",
    "            old_rst = list_std_y[code_idx][old_idx]\n",
    "            new_rst = lists_rst_df.xs(code).xs(new_name)\n",
    "            if not np.isclose(old_rst, new_rst, equal_nan=True):\n",
    "                print(f\"{code=}, {old_rst=}, {new_rst=}, {np.isclose(old_rst, new_rst, equal_nan=True)=}\")"
   ]
  },
  {
   "cell_type": "markdown",
   "id": "c221c09e",
   "metadata": {
    "collapsed": false
   },
   "source": [
    "## 등급 변환"
   ]
  },
  {
   "cell_type": "code",
   "execution_count": 15,
   "id": "231cef09",
   "metadata": {
    "collapsed": false,
    "execution": {
     "iopub.execute_input": "2023-01-25T08:20:40.819053Z",
     "iopub.status.busy": "2023-01-25T08:20:40.819053Z",
     "iopub.status.idle": "2023-01-25T08:20:40.850302Z",
     "shell.execute_reply": "2023-01-25T08:20:40.850302Z"
    }
   },
   "outputs": [
    {
     "data": {
      "text/html": [
       "<div>\n",
       "<style scoped>\n",
       "    .dataframe tbody tr th:only-of-type {\n",
       "        vertical-align: middle;\n",
       "    }\n",
       "\n",
       "    .dataframe tbody tr th {\n",
       "        vertical-align: top;\n",
       "    }\n",
       "\n",
       "    .dataframe thead th {\n",
       "        text-align: right;\n",
       "    }\n",
       "</style>\n",
       "<table border=\"1\" class=\"dataframe\">\n",
       "  <thead>\n",
       "    <tr style=\"text-align: right;\">\n",
       "      <th></th>\n",
       "      <th>code</th>\n",
       "      <th>std_1y</th>\n",
       "      <th>var_1y</th>\n",
       "      <th>std_3y</th>\n",
       "      <th>var_3y</th>\n",
       "      <th>risk_std_1y</th>\n",
       "      <th>risk_std_3y</th>\n",
       "      <th>risk_var_3y</th>\n",
       "    </tr>\n",
       "  </thead>\n",
       "  <tbody>\n",
       "    <tr>\n",
       "      <th>0</th>\n",
       "      <td>K55101BV9704</td>\n",
       "      <td>0.047014</td>\n",
       "      <td>0.038493</td>\n",
       "      <td>0.030931</td>\n",
       "      <td>0.039730</td>\n",
       "      <td>5등급</td>\n",
       "      <td>5등급</td>\n",
       "      <td>5등급</td>\n",
       "    </tr>\n",
       "    <tr>\n",
       "      <th>1</th>\n",
       "      <td>K55104B00957</td>\n",
       "      <td>0.017539</td>\n",
       "      <td>0.030743</td>\n",
       "      <td>0.018023</td>\n",
       "      <td>0.032299</td>\n",
       "      <td>5등급</td>\n",
       "      <td>5등급</td>\n",
       "      <td>5등급</td>\n",
       "    </tr>\n",
       "    <tr>\n",
       "      <th>2</th>\n",
       "      <td>K55104BB8491</td>\n",
       "      <td>0.017271</td>\n",
       "      <td>0.029622</td>\n",
       "      <td>0.017936</td>\n",
       "      <td>0.031358</td>\n",
       "      <td>5등급</td>\n",
       "      <td>5등급</td>\n",
       "      <td>5등급</td>\n",
       "    </tr>\n",
       "    <tr>\n",
       "      <th>3</th>\n",
       "      <td>K55104BD1221</td>\n",
       "      <td>0.020426</td>\n",
       "      <td>0.044398</td>\n",
       "      <td>0.020762</td>\n",
       "      <td>0.042333</td>\n",
       "      <td>5등급</td>\n",
       "      <td>5등급</td>\n",
       "      <td>5등급</td>\n",
       "    </tr>\n",
       "    <tr>\n",
       "      <th>4</th>\n",
       "      <td>K55104BE9116</td>\n",
       "      <td>0.017454</td>\n",
       "      <td>0.030410</td>\n",
       "      <td>0.019237</td>\n",
       "      <td>0.030270</td>\n",
       "      <td>5등급</td>\n",
       "      <td>5등급</td>\n",
       "      <td>5등급</td>\n",
       "    </tr>\n",
       "    <tr>\n",
       "      <th>...</th>\n",
       "      <td>...</td>\n",
       "      <td>...</td>\n",
       "      <td>...</td>\n",
       "      <td>...</td>\n",
       "      <td>...</td>\n",
       "      <td>...</td>\n",
       "      <td>...</td>\n",
       "      <td>...</td>\n",
       "    </tr>\n",
       "    <tr>\n",
       "      <th>669</th>\n",
       "      <td>KRM301957473</td>\n",
       "      <td>0.204749</td>\n",
       "      <td>0.108240</td>\n",
       "      <td>0.124584</td>\n",
       "      <td>0.112995</td>\n",
       "      <td>2등급</td>\n",
       "      <td>3등급</td>\n",
       "      <td>3등급</td>\n",
       "    </tr>\n",
       "    <tr>\n",
       "      <th>670</th>\n",
       "      <td>KRM306363370</td>\n",
       "      <td>0.024316</td>\n",
       "      <td>0.043701</td>\n",
       "      <td>0.040360</td>\n",
       "      <td>0.038787</td>\n",
       "      <td>5등급</td>\n",
       "      <td>5등급</td>\n",
       "      <td>5등급</td>\n",
       "    </tr>\n",
       "    <tr>\n",
       "      <th>671</th>\n",
       "      <td>KRM306395562</td>\n",
       "      <td>0.018376</td>\n",
       "      <td>0.030862</td>\n",
       "      <td>0.037020</td>\n",
       "      <td>0.032837</td>\n",
       "      <td>5등급</td>\n",
       "      <td>5등급</td>\n",
       "      <td>5등급</td>\n",
       "    </tr>\n",
       "    <tr>\n",
       "      <th>672</th>\n",
       "      <td>KRM309542301</td>\n",
       "      <td>0.043576</td>\n",
       "      <td>0.093240</td>\n",
       "      <td>0.038089</td>\n",
       "      <td>0.095283</td>\n",
       "      <td>5등급</td>\n",
       "      <td>5등급</td>\n",
       "      <td>4등급</td>\n",
       "    </tr>\n",
       "    <tr>\n",
       "      <th>673</th>\n",
       "      <td>KRM313350527</td>\n",
       "      <td>0.011515</td>\n",
       "      <td>0.028540</td>\n",
       "      <td>0.007096</td>\n",
       "      <td>0.018495</td>\n",
       "      <td>5등급</td>\n",
       "      <td>5등급</td>\n",
       "      <td>5등급</td>\n",
       "    </tr>\n",
       "  </tbody>\n",
       "</table>\n",
       "<p>674 rows × 8 columns</p>\n",
       "</div>"
      ],
      "text/plain": [
       "             code    std_1y    var_1y    std_3y    var_3y risk_std_1y  \\\n",
       "0    K55101BV9704  0.047014  0.038493  0.030931  0.039730         5등급   \n",
       "1    K55104B00957  0.017539  0.030743  0.018023  0.032299         5등급   \n",
       "2    K55104BB8491  0.017271  0.029622  0.017936  0.031358         5등급   \n",
       "3    K55104BD1221  0.020426  0.044398  0.020762  0.042333         5등급   \n",
       "4    K55104BE9116  0.017454  0.030410  0.019237  0.030270         5등급   \n",
       "..            ...       ...       ...       ...       ...         ...   \n",
       "669  KRM301957473  0.204749  0.108240  0.124584  0.112995         2등급   \n",
       "670  KRM306363370  0.024316  0.043701  0.040360  0.038787         5등급   \n",
       "671  KRM306395562  0.018376  0.030862  0.037020  0.032837         5등급   \n",
       "672  KRM309542301  0.043576  0.093240  0.038089  0.095283         5등급   \n",
       "673  KRM313350527  0.011515  0.028540  0.007096  0.018495         5등급   \n",
       "\n",
       "    risk_std_3y risk_var_3y  \n",
       "0           5등급         5등급  \n",
       "1           5등급         5등급  \n",
       "2           5등급         5등급  \n",
       "3           5등급         5등급  \n",
       "4           5등급         5등급  \n",
       "..          ...         ...  \n",
       "669         3등급         3등급  \n",
       "670         5등급         5등급  \n",
       "671         5등급         5등급  \n",
       "672         5등급         4등급  \n",
       "673         5등급         5등급  \n",
       "\n",
       "[674 rows x 8 columns]"
      ]
     },
     "execution_count": 15,
     "metadata": {},
     "output_type": "execute_result"
    }
   ],
   "source": [
    "labels = [\"6등급\", \"5등급\", \"4등급\", \"3등급\", \"2등급\", \"1등급\"]\n",
    "cut_fn = functools.partial(pd.cut, labels=labels)\n",
    "\n",
    "lists_lb_df = lists_rst_df.assign(\n",
    "    risk_std_1y=cut_fn(lists_rst_df['std_1y'], bins=DICT_BINS['std_1y']),\n",
    "    risk_std_3y=cut_fn(lists_rst_df['std_3y'], bins=DICT_BINS['std_3y']),\n",
    "    # risk_var_1y=cut_fn(lists_rst_df['var_1y']),\n",
    "    risk_var_3y=cut_fn(lists_rst_df['var_3y'], bins=DICT_BINS['var_3y']))\n",
    "lists_lb_df.dropna(inplace=True)\n",
    "lists_lb_df.reset_index(inplace=True)\n",
    "\n",
    "lists_lb_df"
   ]
  },
  {
   "cell_type": "markdown",
   "id": "1c4b5d70",
   "metadata": {
    "collapsed": false
   },
   "source": [
    "#### 프로세스 테스트"
   ]
  },
  {
   "cell_type": "code",
   "execution_count": 16,
   "id": "e0aa081c-7f0d-4f1b-ae74-00a27747aaa5",
   "metadata": {
    "execution": {
     "iopub.execute_input": "2023-01-25T08:20:40.850302Z",
     "iopub.status.busy": "2023-01-25T08:20:40.850302Z",
     "iopub.status.idle": "2023-01-25T08:20:40.865926Z",
     "shell.execute_reply": "2023-01-25T08:20:40.865926Z"
    }
   },
   "outputs": [],
   "source": [
    "if VALIDATE_PROCESS:\n",
    "    list_std_3y, list_std_1y, list_var_3y = zip(*list_std_y)\n",
    "\n",
    "    df_result = pd.DataFrame({\n",
    "        \"code\": codes,\n",
    "        \"std_3y\": list_std_3y,\n",
    "        \"std_1y\": list_std_1y,\n",
    "        \"var_3y\": list_var_3y,\n",
    "    })\n",
    "\n",
    "    bins = [0, 0.005, 0.05, 0.10, 0.15, 0.25, float(\"inf\")]\n",
    "    labels = [\"6등급\", \"5등급\", \"4등급\", \"3등급\", \"2등급\", \"1등급\"]\n",
    "\n",
    "    df_result[\"risk_std_3y\"] = pd.cut(df_result.std_3y, bins=bins, labels=labels)\n",
    "    df_result[\"risk_std_1y\"] = pd.cut(df_result.std_1y, bins=bins, labels=labels)\n",
    "    df_result[\"risk_var_3y\"] = pd.cut(df_result.var_3y, bins=bins, labels=labels)\n",
    "\n",
    "    df_result = df_result.dropna()"
   ]
  },
  {
   "cell_type": "code",
   "execution_count": 17,
   "id": "c3e75562-b9ea-4c95-9a11-004be639146b",
   "metadata": {
    "execution": {
     "iopub.execute_input": "2023-01-25T08:20:40.865926Z",
     "iopub.status.busy": "2023-01-25T08:20:40.865926Z",
     "iopub.status.idle": "2023-01-25T08:20:40.882245Z",
     "shell.execute_reply": "2023-01-25T08:20:40.881552Z"
    }
   },
   "outputs": [],
   "source": [
    "if VALIDATE_PROCESS:\n",
    "    display(\n",
    "        (lists_lb_df[['code', 'risk_std_1y', 'risk_std_3y', 'risk_var_3y']].set_index(['code'])\n",
    "        == df_result[['code', 'risk_std_1y', 'risk_std_3y', 'risk_var_3y']].set_index(['code'])).all())"
   ]
  },
  {
   "cell_type": "markdown",
   "id": "7093a90e-9367-40e8-bb58-fc375b2c7f0d",
   "metadata": {},
   "source": [
    "## 등급 결과 출력"
   ]
  },
  {
   "cell_type": "code",
   "execution_count": 18,
   "id": "7d74f1a2-a5b2-4b5a-b1e4-7356deb7fb2c",
   "metadata": {
    "execution": {
     "iopub.execute_input": "2023-01-25T08:20:40.882245Z",
     "iopub.status.busy": "2023-01-25T08:20:40.882245Z",
     "iopub.status.idle": "2023-01-25T08:20:41.387909Z",
     "shell.execute_reply": "2023-01-25T08:20:41.387909Z"
    }
   },
   "outputs": [],
   "source": [
    "os.makedirs('results', exist_ok=True)\n",
    "lists_lb_df.to_excel(f'results/RESULT_{type_no}_{type_name}.xlsx', index=False)"
   ]
  },
  {
   "cell_type": "markdown",
   "id": "2ed08a3d-eb09-4f1f-83a5-987be9b9d584",
   "metadata": {},
   "source": [
    "## 시각화"
   ]
  },
  {
   "cell_type": "code",
   "execution_count": 19,
   "id": "a2981513-60e5-4604-8fee-235d898df378",
   "metadata": {
    "execution": {
     "iopub.execute_input": "2023-01-25T08:20:41.387909Z",
     "iopub.status.busy": "2023-01-25T08:20:41.387909Z",
     "iopub.status.idle": "2023-01-25T08:20:41.517779Z",
     "shell.execute_reply": "2023-01-25T08:20:41.517779Z"
    }
   },
   "outputs": [
    {
     "data": {
      "text/html": [
       "<style type=\"text/css\">\n",
       "#T_fa522_row0_col0, #T_fa522_row0_col1, #T_fa522_row0_col2, #T_fa522_row1_col0, #T_fa522_row1_col1 {\n",
       "  background-color: #fff7fb;\n",
       "  color: #000000;\n",
       "}\n",
       "#T_fa522_row1_col2, #T_fa522_row2_col0 {\n",
       "  background-color: #fbf4f9;\n",
       "  color: #000000;\n",
       "}\n",
       "#T_fa522_row2_col1, #T_fa522_row5_col0 {\n",
       "  background-color: #fdf5fa;\n",
       "  color: #000000;\n",
       "}\n",
       "#T_fa522_row2_col2 {\n",
       "  background-color: #f9f2f8;\n",
       "  color: #000000;\n",
       "}\n",
       "#T_fa522_row3_col0 {\n",
       "  background-color: #f4eef6;\n",
       "  color: #000000;\n",
       "}\n",
       "#T_fa522_row3_col1 {\n",
       "  background-color: #fbf3f9;\n",
       "  color: #000000;\n",
       "}\n",
       "#T_fa522_row3_col2 {\n",
       "  background-color: #78abd0;\n",
       "  color: #f1f1f1;\n",
       "}\n",
       "#T_fa522_row4_col0, #T_fa522_row4_col1, #T_fa522_row4_col2 {\n",
       "  background-color: #023858;\n",
       "  color: #f1f1f1;\n",
       "}\n",
       "#T_fa522_row5_col1 {\n",
       "  background-color: #faf2f8;\n",
       "  color: #000000;\n",
       "}\n",
       "#T_fa522_row5_col2 {\n",
       "  background-color: #faf3f9;\n",
       "  color: #000000;\n",
       "}\n",
       "</style>\n",
       "<table id=\"T_fa522\">\n",
       "  <thead>\n",
       "    <tr>\n",
       "      <th class=\"blank level0\" >&nbsp;</th>\n",
       "      <th id=\"T_fa522_level0_col0\" class=\"col_heading level0 col0\" >3년 표준편차</th>\n",
       "      <th id=\"T_fa522_level0_col1\" class=\"col_heading level0 col1\" >1년 표준편차</th>\n",
       "      <th id=\"T_fa522_level0_col2\" class=\"col_heading level0 col2\" >3년 VaR</th>\n",
       "    </tr>\n",
       "    <tr>\n",
       "      <th class=\"index_name level0\" >등급</th>\n",
       "      <th class=\"blank col0\" >&nbsp;</th>\n",
       "      <th class=\"blank col1\" >&nbsp;</th>\n",
       "      <th class=\"blank col2\" >&nbsp;</th>\n",
       "    </tr>\n",
       "  </thead>\n",
       "  <tbody>\n",
       "    <tr>\n",
       "      <th id=\"T_fa522_level0_row0\" class=\"row_heading level0 row0\" >1등급</th>\n",
       "      <td id=\"T_fa522_row0_col0\" class=\"data row0 col0\" >1</td>\n",
       "      <td id=\"T_fa522_row0_col1\" class=\"data row0 col1\" >0</td>\n",
       "      <td id=\"T_fa522_row0_col2\" class=\"data row0 col2\" >0</td>\n",
       "    </tr>\n",
       "    <tr>\n",
       "      <th id=\"T_fa522_level0_row1\" class=\"row_heading level0 row1\" >2등급</th>\n",
       "      <td id=\"T_fa522_row1_col0\" class=\"data row1 col0\" >2</td>\n",
       "      <td id=\"T_fa522_row1_col1\" class=\"data row1 col1\" >2</td>\n",
       "      <td id=\"T_fa522_row1_col2\" class=\"data row1 col2\" >11</td>\n",
       "    </tr>\n",
       "    <tr>\n",
       "      <th id=\"T_fa522_level0_row2\" class=\"row_heading level0 row2\" >3등급</th>\n",
       "      <td id=\"T_fa522_row2_col0\" class=\"data row2 col0\" >16</td>\n",
       "      <td id=\"T_fa522_row2_col1\" class=\"data row2 col1\" >10</td>\n",
       "      <td id=\"T_fa522_row2_col2\" class=\"data row2 col2\" >18</td>\n",
       "    </tr>\n",
       "    <tr>\n",
       "      <th id=\"T_fa522_level0_row3\" class=\"row_heading level0 row3\" >4등급</th>\n",
       "      <td id=\"T_fa522_row3_col0\" class=\"data row3 col0\" >44</td>\n",
       "      <td id=\"T_fa522_row3_col1\" class=\"data row3 col1\" >19</td>\n",
       "      <td id=\"T_fa522_row3_col2\" class=\"data row3 col2\" >208</td>\n",
       "    </tr>\n",
       "    <tr>\n",
       "      <th id=\"T_fa522_level0_row4\" class=\"row_heading level0 row4\" >5등급</th>\n",
       "      <td id=\"T_fa522_row4_col0\" class=\"data row4 col0\" >601</td>\n",
       "      <td id=\"T_fa522_row4_col1\" class=\"data row4 col1\" >619</td>\n",
       "      <td id=\"T_fa522_row4_col2\" class=\"data row4 col2\" >423</td>\n",
       "    </tr>\n",
       "    <tr>\n",
       "      <th id=\"T_fa522_level0_row5\" class=\"row_heading level0 row5\" >6등급</th>\n",
       "      <td id=\"T_fa522_row5_col0\" class=\"data row5 col0\" >10</td>\n",
       "      <td id=\"T_fa522_row5_col1\" class=\"data row5 col1\" >24</td>\n",
       "      <td id=\"T_fa522_row5_col2\" class=\"data row5 col2\" >14</td>\n",
       "    </tr>\n",
       "  </tbody>\n",
       "</table>\n"
      ],
      "text/plain": [
       "<pandas.io.formats.style.Styler at 0x2768bd7f8b0>"
      ]
     },
     "execution_count": 19,
     "metadata": {},
     "output_type": "execute_result"
    }
   ],
   "source": [
    "risk_std_3y_stat_df = lists_lb_df[\"risk_std_3y\"].value_counts().sort_index(ascending=False)\n",
    "risk_std_1y_stat_df = lists_lb_df[\"risk_std_1y\"].value_counts().sort_index(ascending=False)\n",
    "risk_var_3y_stat_df = lists_lb_df[\"risk_var_3y\"].value_counts().sort_index(ascending=False)\n",
    "stat_df = pd.concat([risk_std_3y_stat_df, risk_std_1y_stat_df, risk_var_3y_stat_df], axis=1)\n",
    "stat_df = stat_df.rename(columns={\"risk_std_3y\": \"3년 표준편차\", \"risk_std_1y\": \"1년 표준편차\", \"risk_var_3y\": \"3년 VaR\"})\n",
    "stat_df.reset_index(names=['등급'], inplace=True)\n",
    "\n",
    "stat_df.set_index('등급').style.background_gradient()"
   ]
  },
  {
   "cell_type": "code",
   "execution_count": 20,
   "id": "2ecfd0b2-0548-41e1-a6ed-9abd2da5b7c8",
   "metadata": {
    "execution": {
     "iopub.execute_input": "2023-01-25T08:20:41.517779Z",
     "iopub.status.busy": "2023-01-25T08:20:41.517779Z",
     "iopub.status.idle": "2023-01-25T08:20:41.805956Z",
     "shell.execute_reply": "2023-01-25T08:20:41.805956Z"
    }
   },
   "outputs": [
    {
     "data": {
      "image/png": "[encoded data removed]",
      "text/plain": [
       "<Figure size 640x480 with 1 Axes>"
      ]
     },
     "metadata": {},
     "output_type": "display_data"
    }
   ],
   "source": [
    "def show_values(axs, orient=\"v\", space=.01):\n",
    "    def _single(ax):\n",
    "        if orient == \"v\":\n",
    "            for p in ax.patches:\n",
    "                _x = p.get_x() + p.get_width() / 2\n",
    "                _y = p.get_y() + p.get_height() + (p.get_height() * 0.01)\n",
    "                value = '{:d}'.format(int(p.get_height()))\n",
    "                ax.text(_x, _y, value, ha=\"center\")\n",
    "        elif orient == \"h\":\n",
    "            for p in ax.patches:\n",
    "                _x = p.get_x() + p.get_width() + float(space)\n",
    "                _y = p.get_y() + p.get_height() - (p.get_height() * 0.5)\n",
    "                value = '{:d}'.format(int(p.get_width()))\n",
    "                ax.text(_x, _y, value, ha=\"left\")\n",
    "\n",
    "    if isinstance(axs, np.ndarray):\n",
    "        for idx, ax in np.ndenumerate(axs):\n",
    "            _single(ax)\n",
    "    else:\n",
    "        _single(axs)\n",
    "\n",
    "\n",
    "stat_df_long = (\n",
    "    stat_df\n",
    "    .melt(id_vars=\"등급\", value_vars=[\"3년 표준편차\", \"1년 표준편차\", \"3년 VaR\"], var_name=\"기준\") \\\n",
    "    .rename(columns={\"index\": \"등급\"})\n",
    ")\n",
    "axis = sns.barplot(x=\"등급\", y=\"value\", hue=\"기준\", data=stat_df_long)\n",
    "axis.set_title(f\"{type_name} 펀드 위험등급 분포\")\n",
    "show_values(axis)"
   ]
  },
  {
   "cell_type": "markdown",
   "id": "1f9227c4-c788-429d-b8d4-fc278ba29d24",
   "metadata": {},
   "source": [
    "## 통계 결과 출력"
   ]
  },
  {
   "cell_type": "code",
   "execution_count": 21,
   "id": "68fbd533-f46e-4cd6-9c35-28c3ae50830d",
   "metadata": {
    "execution": {
     "iopub.execute_input": "2023-01-25T08:20:41.805956Z",
     "iopub.status.busy": "2023-01-25T08:20:41.805956Z",
     "iopub.status.idle": "2023-01-25T08:20:41.837175Z",
     "shell.execute_reply": "2023-01-25T08:20:41.837175Z"
    }
   },
   "outputs": [],
   "source": [
    "os.makedirs('results', exist_ok=True)\n",
    "stat_df.to_excel(f'results/STATISTICS_{type_no}_{type_name}.xlsx', index=False)"
   ]
  },
  {
   "cell_type": "code",
   "execution_count": null,
   "id": "4f9c0b18",
   "metadata": {
    "collapsed": false
   },
   "outputs": [],
   "source": []
  }
 ],
 "metadata": {
  "kernelspec": {
   "display_name": "Python 3 (ipykernel)",
   "language": "python",
   "name": "python3"
  },
  "language_info": {
   "codemirror_mode": {
    "name": "ipython",
    "version": 3
   },
   "file_extension": ".py",
   "mimetype": "text/x-python",
   "name": "python",
   "nbconvert_exporter": "python",
   "pygments_lexer": "ipython3",
   "version": "3.9.13"
  },
  "toc-autonumbering": true,
  "toc-showcode": false,
  "toc-showmarkdowntxt": false
 },
 "nbformat": 4,
 "nbformat_minor": 5
}
