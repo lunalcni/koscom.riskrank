{
 "cells": [
  {
   "cell_type": "markdown",
   "id": "2dd67b7b-b151-49b1-955e-dd7627677a4e",
   "metadata": {},
   "source": [
    "# 펀드 위험등급 산출"
   ]
  },
  {
   "cell_type": "markdown",
   "id": "b3e20237-dc40-4627-a953-52539fea6148",
   "metadata": {},
   "source": [
    "## 패키지 로드"
   ]
  },
  {
   "cell_type": "code",
   "execution_count": 1,
   "id": "103faeb9-9c7b-46f1-8ddb-e8e438626b60",
   "metadata": {
    "execution": {
     "iopub.execute_input": "2022-12-16T08:32:02.494533Z",
     "iopub.status.busy": "2022-12-16T08:32:02.493570Z",
     "iopub.status.idle": "2022-12-16T08:32:03.659739Z",
     "shell.execute_reply": "2022-12-16T08:32:03.658845Z"
    }
   },
   "outputs": [],
   "source": [
    "%matplotlib inline"
   ]
  },
  {
   "cell_type": "code",
   "execution_count": 2,
   "id": "2ead0865-2adf-4384-9e33-e05ad2246056",
   "metadata": {
    "execution": {
     "iopub.execute_input": "2022-12-16T08:32:03.662736Z",
     "iopub.status.busy": "2022-12-16T08:32:03.662736Z",
     "iopub.status.idle": "2022-12-16T08:32:04.836538Z",
     "shell.execute_reply": "2022-12-16T08:32:04.835534Z"
    }
   },
   "outputs": [],
   "source": [
    "import functools\n",
    "import os\n",
    "import re\n",
    "from pathlib import Path\n",
    "\n",
    "import matplotlib.pyplot as plt\n",
    "import numpy as np\n",
    "import pandas as pd\n",
    "import seaborn as sns\n",
    "from tqdm import trange"
   ]
  },
  {
   "cell_type": "code",
   "execution_count": 3,
   "id": "348c570b",
   "metadata": {
    "collapsed": false,
    "execution": {
     "iopub.execute_input": "2022-12-16T08:32:04.839533Z",
     "iopub.status.busy": "2022-12-16T08:32:04.839533Z",
     "iopub.status.idle": "2022-12-16T08:32:04.852541Z",
     "shell.execute_reply": "2022-12-16T08:32:04.851647Z"
    }
   },
   "outputs": [],
   "source": [
    "plt.rc('font', family='Malgun Gothic')  # For Windows"
   ]
  },
  {
   "cell_type": "markdown",
   "id": "70606689",
   "metadata": {
    "collapsed": false
   },
   "source": [
    "## 변수 정의"
   ]
  },
  {
   "cell_type": "code",
   "execution_count": 4,
   "id": "e2aeac27",
   "metadata": {
    "collapsed": false,
    "execution": {
     "iopub.execute_input": "2022-12-16T08:32:04.855534Z",
     "iopub.status.busy": "2022-12-16T08:32:04.855534Z",
     "iopub.status.idle": "2022-12-16T08:32:04.868582Z",
     "shell.execute_reply": "2022-12-16T08:32:04.867645Z"
    }
   },
   "outputs": [
    {
     "name": "stdout",
     "output_type": "stream",
     "text": [
      "TEST_PROCESS=False, VALIDATE_PROCESS=False, DATA_FILEPATH='data\\\\TYPE_10_채권형.csv', BINS=[0, 0.005, 0.05, 0.2, 0.4, 0.6, inf]\n"
     ]
    }
   ],
   "source": [
    "TEST_PROCESS = eval(os.environ.get('TEST_PROCESS', 'True'))\n",
    "VALIDATE_PROCESS = eval(os.environ.get('VALIDATE_PROCESS', 'True'))\n",
    "DATA_FILEPATH = os.environ.get('DATA_FILEPATH', './data/TYPE_10_채권형.csv')\n",
    "BINS = eval(os.environ.get('BINS', '[0, 0.005, 0.05, 0.10, 0.15, 0.25, float(\"inf\")]'))\n",
    "\n",
    "print(f'{TEST_PROCESS=}, {VALIDATE_PROCESS=}, {DATA_FILEPATH=}, {BINS=}')"
   ]
  },
  {
   "cell_type": "markdown",
   "id": "6fe88df5",
   "metadata": {
    "collapsed": false
   },
   "source": [
    "## 타입 추출"
   ]
  },
  {
   "cell_type": "code",
   "execution_count": 5,
   "id": "9613fca5-40ff-41c8-a061-d9c23223c365",
   "metadata": {
    "execution": {
     "iopub.execute_input": "2022-12-16T08:32:04.871566Z",
     "iopub.status.busy": "2022-12-16T08:32:04.871566Z",
     "iopub.status.idle": "2022-12-16T08:32:04.884573Z",
     "shell.execute_reply": "2022-12-16T08:32:04.883645Z"
    }
   },
   "outputs": [
    {
     "data": {
      "text/plain": [
       "('10', '채권형')"
      ]
     },
     "execution_count": 5,
     "metadata": {},
     "output_type": "execute_result"
    }
   ],
   "source": [
    "filepath = Path(DATA_FILEPATH)\n",
    "filename_pattern = re.compile(r'TYPE_([0-9]+)_([^_]+)\\.csv')\n",
    "\n",
    "match_rst = re.fullmatch(filename_pattern, filepath.name)\n",
    "type_no, type_name = match_rst.groups()\n",
    "\n",
    "type_no, type_name"
   ]
  },
  {
   "cell_type": "markdown",
   "id": "3a02a33b-ddc6-446a-88c3-37887ffe4768",
   "metadata": {},
   "source": [
    "## 데이터 로드"
   ]
  },
  {
   "cell_type": "code",
   "execution_count": 6,
   "id": "a4260092-7f8c-48a7-a523-7b72bc350181",
   "metadata": {
    "execution": {
     "iopub.execute_input": "2022-12-16T08:32:04.887549Z",
     "iopub.status.busy": "2022-12-16T08:32:04.887549Z",
     "iopub.status.idle": "2022-12-16T08:32:07.324235Z",
     "shell.execute_reply": "2022-12-16T08:32:07.323237Z"
    }
   },
   "outputs": [
    {
     "name": "stdout",
     "output_type": "stream",
     "text": [
      "len(codes)=2052\n"
     ]
    }
   ],
   "source": [
    "lists_wo_idx_df = pd.read_csv(filepath, names=[\"date\", \"code\", \"nav\"], usecols=[0, 1, 2], parse_dates=[0])\n",
    "lists_df = lists_wo_idx_df.set_index(['code', 'date'])\n",
    "\n",
    "codes = lists_df.index.get_level_values('code').unique()\n",
    "print(f\"{len(codes)=}\")"
   ]
  },
  {
   "cell_type": "markdown",
   "id": "c2ae089b",
   "metadata": {
    "collapsed": false
   },
   "source": [
    "## 수치 산출 테스트\n",
    "\n",
    "1년을 기준으로 프로세스 정의"
   ]
  },
  {
   "cell_type": "markdown",
   "id": "a0785d9f",
   "metadata": {
    "collapsed": false
   },
   "source": [
    "### 기간 조건 적용"
   ]
  },
  {
   "cell_type": "code",
   "execution_count": 7,
   "id": "86b33344",
   "metadata": {
    "collapsed": false,
    "execution": {
     "iopub.execute_input": "2022-12-16T08:32:07.328235Z",
     "iopub.status.busy": "2022-12-16T08:32:07.327235Z",
     "iopub.status.idle": "2022-12-16T08:32:07.340237Z",
     "shell.execute_reply": "2022-12-16T08:32:07.339235Z"
    }
   },
   "outputs": [],
   "source": [
    "if TEST_PROCESS:\n",
    "    lists_1y_df = pd.concat([\n",
    "        lists_df.xs(code).last('1y').assign(code=code)\n",
    "        for code in codes])\n",
    "    lists_1y_df.reset_index(inplace=True)\n",
    "    display(lists_1y_df)"
   ]
  },
  {
   "cell_type": "markdown",
   "id": "ab719077",
   "metadata": {
    "collapsed": false
   },
   "source": [
    "### 리샘플링, 퍼센트 체인지 추출"
   ]
  },
  {
   "cell_type": "code",
   "execution_count": 8,
   "id": "2c6f626c",
   "metadata": {
    "collapsed": false,
    "execution": {
     "iopub.execute_input": "2022-12-16T08:32:07.344237Z",
     "iopub.status.busy": "2022-12-16T08:32:07.343235Z",
     "iopub.status.idle": "2022-12-16T08:32:07.355237Z",
     "shell.execute_reply": "2022-12-16T08:32:07.354235Z"
    }
   },
   "outputs": [],
   "source": [
    "if TEST_PROCESS:\n",
    "    lists_1y_wk_df = lists_1y_df.set_index(['date']).groupby(['code'])[['nav']].resample('W').last()\n",
    "    lists_1y_wk_df = lists_1y_wk_df.assign(ret=lists_1y_wk_df.groupby(['code'])[['nav']].pct_change())\n",
    "    display(lists_1y_wk_df)"
   ]
  },
  {
   "cell_type": "markdown",
   "id": "59b208af",
   "metadata": {
    "collapsed": false
   },
   "source": [
    "### 표준편차 산출"
   ]
  },
  {
   "cell_type": "code",
   "execution_count": 9,
   "id": "099566a8",
   "metadata": {
    "collapsed": false,
    "execution": {
     "iopub.execute_input": "2022-12-16T08:32:07.358236Z",
     "iopub.status.busy": "2022-12-16T08:32:07.358236Z",
     "iopub.status.idle": "2022-12-16T08:32:07.371238Z",
     "shell.execute_reply": "2022-12-16T08:32:07.370236Z"
    }
   },
   "outputs": [],
   "source": [
    "if TEST_PROCESS:\n",
    "    lists_1y_std_df = lists_1y_wk_df.groupby(['code'])[['ret']].std(numeric_only=True) * np.sqrt(52)\n",
    "    lists_1y_std_df.reset_index(inplace=True)\n",
    "    lists_1y_std_df.rename(columns={'ret': 'std_1y'}, inplace=True)\n",
    "    display(lists_1y_std_df)"
   ]
  },
  {
   "cell_type": "markdown",
   "id": "abb5a34e",
   "metadata": {
    "collapsed": false
   },
   "source": [
    "### VaR 산출"
   ]
  },
  {
   "cell_type": "code",
   "execution_count": 10,
   "id": "313964bb",
   "metadata": {
    "collapsed": false,
    "execution": {
     "iopub.execute_input": "2022-12-16T08:32:07.375237Z",
     "iopub.status.busy": "2022-12-16T08:32:07.374237Z",
     "iopub.status.idle": "2022-12-16T08:32:07.387239Z",
     "shell.execute_reply": "2022-12-16T08:32:07.386237Z"
    }
   },
   "outputs": [],
   "source": [
    "if TEST_PROCESS:\n",
    "    lists_1y_var_df = lists_1y_wk_df.groupby(['code'])[['ret']].quantile(0.025, numeric_only=True)\n",
    "    lists_1y_var_df = np.minimum(lists_1y_var_df, 0) * -1 * np.sqrt(52)\n",
    "    lists_1y_var_df.rename(columns={'ret': 'var_1y'}, inplace=True)\n",
    "    display(lists_1y_var_df)"
   ]
  },
  {
   "cell_type": "markdown",
   "id": "6ce7111b",
   "metadata": {
    "collapsed": false
   },
   "source": [
    "## 수치 산출 프로세스 정의"
   ]
  },
  {
   "cell_type": "code",
   "execution_count": 11,
   "id": "0ed26a98",
   "metadata": {
    "collapsed": false,
    "execution": {
     "iopub.execute_input": "2022-12-16T08:32:07.390239Z",
     "iopub.status.busy": "2022-12-16T08:32:07.390239Z",
     "iopub.status.idle": "2022-12-16T08:32:07.403236Z",
     "shell.execute_reply": "2022-12-16T08:32:07.402238Z"
    }
   },
   "outputs": [],
   "source": [
    "offsets = ['1y', '3y']"
   ]
  },
  {
   "cell_type": "code",
   "execution_count": 12,
   "id": "f02fc0e8",
   "metadata": {
    "collapsed": false,
    "execution": {
     "iopub.execute_input": "2022-12-16T08:32:07.408238Z",
     "iopub.status.busy": "2022-12-16T08:32:07.407239Z",
     "iopub.status.idle": "2022-12-16T08:32:20.554475Z",
     "shell.execute_reply": "2022-12-16T08:32:20.553562Z"
    }
   },
   "outputs": [
    {
     "name": "stdout",
     "output_type": "stream",
     "text": [
      "CPU times: total: 13 s\n",
      "Wall time: 13.1 s\n"
     ]
    },
    {
     "data": {
      "text/html": [
       "<div>\n",
       "<style scoped>\n",
       "    .dataframe tbody tr th:only-of-type {\n",
       "        vertical-align: middle;\n",
       "    }\n",
       "\n",
       "    .dataframe tbody tr th {\n",
       "        vertical-align: top;\n",
       "    }\n",
       "\n",
       "    .dataframe thead th {\n",
       "        text-align: right;\n",
       "    }\n",
       "</style>\n",
       "<table border=\"1\" class=\"dataframe\">\n",
       "  <thead>\n",
       "    <tr style=\"text-align: right;\">\n",
       "      <th></th>\n",
       "      <th>std_1y</th>\n",
       "      <th>var_1y</th>\n",
       "      <th>std_3y</th>\n",
       "      <th>var_3y</th>\n",
       "    </tr>\n",
       "    <tr>\n",
       "      <th>code</th>\n",
       "      <th></th>\n",
       "      <th></th>\n",
       "      <th></th>\n",
       "      <th></th>\n",
       "    </tr>\n",
       "  </thead>\n",
       "  <tbody>\n",
       "    <tr>\n",
       "      <th>K55101B40934</th>\n",
       "      <td>0.031280</td>\n",
       "      <td>0.068102</td>\n",
       "      <td>0.026194</td>\n",
       "      <td>0.073933</td>\n",
       "    </tr>\n",
       "    <tr>\n",
       "      <th>K55101B43714</th>\n",
       "      <td>0.033217</td>\n",
       "      <td>0.073352</td>\n",
       "      <td>0.025928</td>\n",
       "      <td>0.067121</td>\n",
       "    </tr>\n",
       "    <tr>\n",
       "      <th>K55101B95151</th>\n",
       "      <td>0.034132</td>\n",
       "      <td>0.078412</td>\n",
       "      <td>0.026927</td>\n",
       "      <td>0.057858</td>\n",
       "    </tr>\n",
       "    <tr>\n",
       "      <th>K55101B95169</th>\n",
       "      <td>0.034150</td>\n",
       "      <td>0.079212</td>\n",
       "      <td>0.026621</td>\n",
       "      <td>0.056407</td>\n",
       "    </tr>\n",
       "    <tr>\n",
       "      <th>K55101BA9675</th>\n",
       "      <td>0.012923</td>\n",
       "      <td>0.033494</td>\n",
       "      <td>0.020878</td>\n",
       "      <td>0.021996</td>\n",
       "    </tr>\n",
       "    <tr>\n",
       "      <th>...</th>\n",
       "      <td>...</td>\n",
       "      <td>...</td>\n",
       "      <td>...</td>\n",
       "      <td>...</td>\n",
       "    </tr>\n",
       "    <tr>\n",
       "      <th>KR5373145451</th>\n",
       "      <td>0.015785</td>\n",
       "      <td>0.013382</td>\n",
       "      <td>0.011902</td>\n",
       "      <td>0.017705</td>\n",
       "    </tr>\n",
       "    <tr>\n",
       "      <th>KR5373A19634</th>\n",
       "      <td>0.050348</td>\n",
       "      <td>0.001834</td>\n",
       "      <td>0.221172</td>\n",
       "      <td>0.478124</td>\n",
       "    </tr>\n",
       "    <tr>\n",
       "      <th>KR5373A19642</th>\n",
       "      <td>0.050408</td>\n",
       "      <td>0.003046</td>\n",
       "      <td>0.221421</td>\n",
       "      <td>0.479694</td>\n",
       "    </tr>\n",
       "    <tr>\n",
       "      <th>KR5373AP5951</th>\n",
       "      <td>0.019384</td>\n",
       "      <td>0.011462</td>\n",
       "      <td>0.014392</td>\n",
       "      <td>0.015518</td>\n",
       "    </tr>\n",
       "    <tr>\n",
       "      <th>KR7373AO7715</th>\n",
       "      <td>0.016461</td>\n",
       "      <td>0.011887</td>\n",
       "      <td>0.011668</td>\n",
       "      <td>0.015958</td>\n",
       "    </tr>\n",
       "  </tbody>\n",
       "</table>\n",
       "<p>2052 rows × 4 columns</p>\n",
       "</div>"
      ],
      "text/plain": [
       "                std_1y    var_1y    std_3y    var_3y\n",
       "code                                                \n",
       "K55101B40934  0.031280  0.068102  0.026194  0.073933\n",
       "K55101B43714  0.033217  0.073352  0.025928  0.067121\n",
       "K55101B95151  0.034132  0.078412  0.026927  0.057858\n",
       "K55101B95169  0.034150  0.079212  0.026621  0.056407\n",
       "K55101BA9675  0.012923  0.033494  0.020878  0.021996\n",
       "...                ...       ...       ...       ...\n",
       "KR5373145451  0.015785  0.013382  0.011902  0.017705\n",
       "KR5373A19634  0.050348  0.001834  0.221172  0.478124\n",
       "KR5373A19642  0.050408  0.003046  0.221421  0.479694\n",
       "KR5373AP5951  0.019384  0.011462  0.014392  0.015518\n",
       "KR7373AO7715  0.016461  0.011887  0.011668  0.015958\n",
       "\n",
       "[2052 rows x 4 columns]"
      ]
     },
     "execution_count": 12,
     "metadata": {},
     "output_type": "execute_result"
    }
   ],
   "source": [
    "%%time\n",
    "\n",
    "lists_rst_dfs = []\n",
    "\n",
    "for offset in offsets:\n",
    "    lists_off_df = pd.concat([\n",
    "        lists_df.xs(code).last(offset).assign(code=code)\n",
    "        for code in codes])\n",
    "    lists_off_df.reset_index(inplace=True)\n",
    "\n",
    "    lists_off_wk_df = lists_off_df.set_index(['date']).groupby(['code'])[['nav']].resample('W').last()\n",
    "    lists_off_wk_df = lists_off_wk_df.assign(ret=lists_off_wk_df.groupby(['code'])[['nav']].pct_change())\n",
    "\n",
    "    lists_off_std_df = lists_off_wk_df.groupby(['code'])[['ret']].std(numeric_only=True) * np.sqrt(52)\n",
    "    lists_off_std_df.rename(columns={'ret': f'std_{offset}'}, inplace=True)\n",
    "\n",
    "    lists_off_var_df = lists_off_wk_df.groupby(['code'])[['ret']].quantile(0.025, numeric_only=True)\n",
    "    lists_off_var_df = np.minimum(lists_off_var_df, 0) * -1 * np.sqrt(52)\n",
    "    lists_off_var_df.rename(columns={'ret': f'var_{offset}'}, inplace=True)\n",
    "\n",
    "    lists_rst_dfs.append(lists_off_std_df)\n",
    "    lists_rst_dfs.append(lists_off_var_df)\n",
    "\n",
    "lists_rst_df = pd.concat(lists_rst_dfs, axis='columns')\n",
    "lists_rst_df"
   ]
  },
  {
   "cell_type": "markdown",
   "id": "d3dce7eb",
   "metadata": {
    "collapsed": false
   },
   "source": [
    "### 프로세스 테스트"
   ]
  },
  {
   "cell_type": "code",
   "execution_count": 13,
   "id": "a6cc3475-204e-417d-ac8f-67c33c944c4e",
   "metadata": {
    "execution": {
     "iopub.execute_input": "2022-12-16T08:32:20.557442Z",
     "iopub.status.busy": "2022-12-16T08:32:20.557442Z",
     "iopub.status.idle": "2022-12-16T08:32:20.570483Z",
     "shell.execute_reply": "2022-12-16T08:32:20.569556Z"
    }
   },
   "outputs": [
    {
     "name": "stdout",
     "output_type": "stream",
     "text": [
      "CPU times: total: 0 ns\n",
      "Wall time: 0 ns\n"
     ]
    }
   ],
   "source": [
    "%%time\n",
    "\n",
    "def calc_std_y(code):\n",
    "    df = lists_wo_idx_df[lists_wo_idx_df['code'] == code][[\"date\", \"nav\"]]\n",
    "    df = df.sort_values(by=\"date\")\n",
    "    df = df.set_index(\"date\")\n",
    "\n",
    "    df_1y = df.last(\"1Y\")\n",
    "    df_1y_w = df_1y.resample(\"W\").last()\n",
    "\n",
    "    df_3y = df.last(\"3Y\")\n",
    "    df_3y_w = df_3y.resample(\"W\").last()\n",
    "\n",
    "    df_3y_w[\"ret\"] = df_3y_w[\"nav\"].pct_change()\n",
    "    df_3y_w = df_3y_w.iloc[1:]\n",
    "    std_3y = df_3y_w[\"ret\"].std() * np.sqrt(52)\n",
    "\n",
    "    df_1y_w[\"ret\"] = df_1y_w[\"nav\"].pct_change()\n",
    "    df_1y_w = df_1y_w.iloc[1:]\n",
    "    std_1y = df_1y_w[\"ret\"].std() * np.sqrt(52)\n",
    "\n",
    "    var_3y = -np.minimum(df_3y_w[\"ret\"].quantile(0.025), 0) * np.sqrt(52)\n",
    "\n",
    "    return std_3y, std_1y, var_3y\n",
    "\n",
    "if VALIDATE_PROCESS:\n",
    "    list_std_y = []\n",
    "    for i in trange(len(codes)):\n",
    "        code = codes[i]\n",
    "        list_std_y.append(calc_std_y(code))"
   ]
  },
  {
   "cell_type": "code",
   "execution_count": 14,
   "id": "7115e831",
   "metadata": {
    "collapsed": false,
    "execution": {
     "iopub.execute_input": "2022-12-16T08:32:20.573442Z",
     "iopub.status.busy": "2022-12-16T08:32:20.573442Z",
     "iopub.status.idle": "2022-12-16T08:32:20.586445Z",
     "shell.execute_reply": "2022-12-16T08:32:20.585495Z"
    }
   },
   "outputs": [],
   "source": [
    "if VALIDATE_PROCESS:\n",
    "    for code_idx, code in enumerate(codes):\n",
    "        for old_idx, new_name in [(0, 'std_3y'), (1, 'std_1y'), (2, 'var_3y')]:\n",
    "            old_rst = list_std_y[code_idx][old_idx]\n",
    "            new_rst = lists_rst_df.xs(code).xs(new_name)\n",
    "            if not np.isclose(old_rst, new_rst, equal_nan=True):\n",
    "                print(f\"{code=}, {old_rst=}, {new_rst=}, {np.isclose(old_rst, new_rst, equal_nan=True)=}\")"
   ]
  },
  {
   "cell_type": "markdown",
   "id": "b9279074",
   "metadata": {
    "collapsed": false
   },
   "source": [
    "## 등급 변환"
   ]
  },
  {
   "cell_type": "code",
   "execution_count": 15,
   "id": "3a9f8c43",
   "metadata": {
    "collapsed": false,
    "execution": {
     "iopub.execute_input": "2022-12-16T08:32:20.589445Z",
     "iopub.status.busy": "2022-12-16T08:32:20.589445Z",
     "iopub.status.idle": "2022-12-16T08:32:20.617878Z",
     "shell.execute_reply": "2022-12-16T08:32:20.616857Z"
    }
   },
   "outputs": [
    {
     "data": {
      "text/html": [
       "<div>\n",
       "<style scoped>\n",
       "    .dataframe tbody tr th:only-of-type {\n",
       "        vertical-align: middle;\n",
       "    }\n",
       "\n",
       "    .dataframe tbody tr th {\n",
       "        vertical-align: top;\n",
       "    }\n",
       "\n",
       "    .dataframe thead th {\n",
       "        text-align: right;\n",
       "    }\n",
       "</style>\n",
       "<table border=\"1\" class=\"dataframe\">\n",
       "  <thead>\n",
       "    <tr style=\"text-align: right;\">\n",
       "      <th></th>\n",
       "      <th>code</th>\n",
       "      <th>std_1y</th>\n",
       "      <th>var_1y</th>\n",
       "      <th>std_3y</th>\n",
       "      <th>var_3y</th>\n",
       "      <th>risk_std_1y</th>\n",
       "      <th>risk_std_3y</th>\n",
       "      <th>risk_var_3y</th>\n",
       "    </tr>\n",
       "  </thead>\n",
       "  <tbody>\n",
       "    <tr>\n",
       "      <th>0</th>\n",
       "      <td>K55101B40934</td>\n",
       "      <td>0.031280</td>\n",
       "      <td>0.068102</td>\n",
       "      <td>0.026194</td>\n",
       "      <td>0.073933</td>\n",
       "      <td>5등급</td>\n",
       "      <td>5등급</td>\n",
       "      <td>4등급</td>\n",
       "    </tr>\n",
       "    <tr>\n",
       "      <th>1</th>\n",
       "      <td>K55101B43714</td>\n",
       "      <td>0.033217</td>\n",
       "      <td>0.073352</td>\n",
       "      <td>0.025928</td>\n",
       "      <td>0.067121</td>\n",
       "      <td>5등급</td>\n",
       "      <td>5등급</td>\n",
       "      <td>4등급</td>\n",
       "    </tr>\n",
       "    <tr>\n",
       "      <th>2</th>\n",
       "      <td>K55101B95151</td>\n",
       "      <td>0.034132</td>\n",
       "      <td>0.078412</td>\n",
       "      <td>0.026927</td>\n",
       "      <td>0.057858</td>\n",
       "      <td>5등급</td>\n",
       "      <td>5등급</td>\n",
       "      <td>4등급</td>\n",
       "    </tr>\n",
       "    <tr>\n",
       "      <th>3</th>\n",
       "      <td>K55101B95169</td>\n",
       "      <td>0.034150</td>\n",
       "      <td>0.079212</td>\n",
       "      <td>0.026621</td>\n",
       "      <td>0.056407</td>\n",
       "      <td>5등급</td>\n",
       "      <td>5등급</td>\n",
       "      <td>4등급</td>\n",
       "    </tr>\n",
       "    <tr>\n",
       "      <th>4</th>\n",
       "      <td>K55101BA9675</td>\n",
       "      <td>0.012923</td>\n",
       "      <td>0.033494</td>\n",
       "      <td>0.020878</td>\n",
       "      <td>0.021996</td>\n",
       "      <td>5등급</td>\n",
       "      <td>5등급</td>\n",
       "      <td>5등급</td>\n",
       "    </tr>\n",
       "    <tr>\n",
       "      <th>...</th>\n",
       "      <td>...</td>\n",
       "      <td>...</td>\n",
       "      <td>...</td>\n",
       "      <td>...</td>\n",
       "      <td>...</td>\n",
       "      <td>...</td>\n",
       "      <td>...</td>\n",
       "      <td>...</td>\n",
       "    </tr>\n",
       "    <tr>\n",
       "      <th>1940</th>\n",
       "      <td>KR5373145451</td>\n",
       "      <td>0.015785</td>\n",
       "      <td>0.013382</td>\n",
       "      <td>0.011902</td>\n",
       "      <td>0.017705</td>\n",
       "      <td>5등급</td>\n",
       "      <td>5등급</td>\n",
       "      <td>5등급</td>\n",
       "    </tr>\n",
       "    <tr>\n",
       "      <th>1941</th>\n",
       "      <td>KR5373A19634</td>\n",
       "      <td>0.050348</td>\n",
       "      <td>0.001834</td>\n",
       "      <td>0.221172</td>\n",
       "      <td>0.478124</td>\n",
       "      <td>4등급</td>\n",
       "      <td>3등급</td>\n",
       "      <td>2등급</td>\n",
       "    </tr>\n",
       "    <tr>\n",
       "      <th>1942</th>\n",
       "      <td>KR5373A19642</td>\n",
       "      <td>0.050408</td>\n",
       "      <td>0.003046</td>\n",
       "      <td>0.221421</td>\n",
       "      <td>0.479694</td>\n",
       "      <td>4등급</td>\n",
       "      <td>3등급</td>\n",
       "      <td>2등급</td>\n",
       "    </tr>\n",
       "    <tr>\n",
       "      <th>1943</th>\n",
       "      <td>KR5373AP5951</td>\n",
       "      <td>0.019384</td>\n",
       "      <td>0.011462</td>\n",
       "      <td>0.014392</td>\n",
       "      <td>0.015518</td>\n",
       "      <td>5등급</td>\n",
       "      <td>5등급</td>\n",
       "      <td>5등급</td>\n",
       "    </tr>\n",
       "    <tr>\n",
       "      <th>1944</th>\n",
       "      <td>KR7373AO7715</td>\n",
       "      <td>0.016461</td>\n",
       "      <td>0.011887</td>\n",
       "      <td>0.011668</td>\n",
       "      <td>0.015958</td>\n",
       "      <td>5등급</td>\n",
       "      <td>5등급</td>\n",
       "      <td>5등급</td>\n",
       "    </tr>\n",
       "  </tbody>\n",
       "</table>\n",
       "<p>1945 rows × 8 columns</p>\n",
       "</div>"
      ],
      "text/plain": [
       "              code    std_1y    var_1y    std_3y    var_3y risk_std_1y  \\\n",
       "0     K55101B40934  0.031280  0.068102  0.026194  0.073933         5등급   \n",
       "1     K55101B43714  0.033217  0.073352  0.025928  0.067121         5등급   \n",
       "2     K55101B95151  0.034132  0.078412  0.026927  0.057858         5등급   \n",
       "3     K55101B95169  0.034150  0.079212  0.026621  0.056407         5등급   \n",
       "4     K55101BA9675  0.012923  0.033494  0.020878  0.021996         5등급   \n",
       "...            ...       ...       ...       ...       ...         ...   \n",
       "1940  KR5373145451  0.015785  0.013382  0.011902  0.017705         5등급   \n",
       "1941  KR5373A19634  0.050348  0.001834  0.221172  0.478124         4등급   \n",
       "1942  KR5373A19642  0.050408  0.003046  0.221421  0.479694         4등급   \n",
       "1943  KR5373AP5951  0.019384  0.011462  0.014392  0.015518         5등급   \n",
       "1944  KR7373AO7715  0.016461  0.011887  0.011668  0.015958         5등급   \n",
       "\n",
       "     risk_std_3y risk_var_3y  \n",
       "0            5등급         4등급  \n",
       "1            5등급         4등급  \n",
       "2            5등급         4등급  \n",
       "3            5등급         4등급  \n",
       "4            5등급         5등급  \n",
       "...          ...         ...  \n",
       "1940         5등급         5등급  \n",
       "1941         3등급         2등급  \n",
       "1942         3등급         2등급  \n",
       "1943         5등급         5등급  \n",
       "1944         5등급         5등급  \n",
       "\n",
       "[1945 rows x 8 columns]"
      ]
     },
     "execution_count": 15,
     "metadata": {},
     "output_type": "execute_result"
    }
   ],
   "source": [
    "labels = [\"6등급\", \"5등급\", \"4등급\", \"3등급\", \"2등급\", \"1등급\"]\n",
    "cut_fn = functools.partial(pd.cut, bins=BINS, labels=labels)\n",
    "\n",
    "lists_lb_df = lists_rst_df.assign(\n",
    "    risk_std_1y=cut_fn(lists_rst_df['std_1y']),\n",
    "    risk_std_3y=cut_fn(lists_rst_df['std_3y']),\n",
    "    # risk_var_1y=cut_fn(lists_rst_df['var_1y']),\n",
    "    risk_var_3y=cut_fn(lists_rst_df['var_3y']))\n",
    "lists_lb_df.dropna(inplace=True)\n",
    "lists_lb_df.reset_index(inplace=True)\n",
    "\n",
    "lists_lb_df"
   ]
  },
  {
   "cell_type": "markdown",
   "id": "9a3795d9",
   "metadata": {
    "collapsed": false
   },
   "source": [
    "#### 프로세스 테스트"
   ]
  },
  {
   "cell_type": "code",
   "execution_count": 16,
   "id": "e0aa081c-7f0d-4f1b-ae74-00a27747aaa5",
   "metadata": {
    "execution": {
     "iopub.execute_input": "2022-12-16T08:32:20.620867Z",
     "iopub.status.busy": "2022-12-16T08:32:20.620867Z",
     "iopub.status.idle": "2022-12-16T08:32:20.633090Z",
     "shell.execute_reply": "2022-12-16T08:32:20.632217Z"
    }
   },
   "outputs": [],
   "source": [
    "if VALIDATE_PROCESS:\n",
    "    list_std_3y, list_std_1y, list_var_3y = zip(*list_std_y)\n",
    "\n",
    "    df_result = pd.DataFrame({\n",
    "        \"code\": codes,\n",
    "        \"std_3y\": list_std_3y,\n",
    "        \"std_1y\": list_std_1y,\n",
    "        \"var_3y\": list_var_3y,\n",
    "    })\n",
    "\n",
    "    bins = [0, 0.005, 0.05, 0.10, 0.15, 0.25, float(\"inf\")]\n",
    "    labels = [\"6등급\", \"5등급\", \"4등급\", \"3등급\", \"2등급\", \"1등급\"]\n",
    "\n",
    "    df_result[\"risk_std_3y\"] = pd.cut(df_result.std_3y, bins=bins, labels=labels)\n",
    "    df_result[\"risk_std_1y\"] = pd.cut(df_result.std_1y, bins=bins, labels=labels)\n",
    "    df_result[\"risk_var_3y\"] = pd.cut(df_result.var_3y, bins=bins, labels=labels)\n",
    "\n",
    "    df_result = df_result.dropna()"
   ]
  },
  {
   "cell_type": "code",
   "execution_count": 17,
   "id": "c3e75562-b9ea-4c95-9a11-004be639146b",
   "metadata": {
    "execution": {
     "iopub.execute_input": "2022-12-16T08:32:20.636093Z",
     "iopub.status.busy": "2022-12-16T08:32:20.636093Z",
     "iopub.status.idle": "2022-12-16T08:32:20.649384Z",
     "shell.execute_reply": "2022-12-16T08:32:20.648371Z"
    }
   },
   "outputs": [],
   "source": [
    "if VALIDATE_PROCESS:\n",
    "    display(\n",
    "        (lists_lb_df[['code', 'risk_std_1y', 'risk_std_3y', 'risk_var_3y']].set_index(['code'])\n",
    "        == df_result[['code', 'risk_std_1y', 'risk_std_3y', 'risk_var_3y']].set_index(['code'])).all())"
   ]
  },
  {
   "cell_type": "markdown",
   "id": "7093a90e-9367-40e8-bb58-fc375b2c7f0d",
   "metadata": {},
   "source": [
    "## 등급 결과 출력"
   ]
  },
  {
   "cell_type": "code",
   "execution_count": 18,
   "id": "7d74f1a2-a5b2-4b5a-b1e4-7356deb7fb2c",
   "metadata": {
    "execution": {
     "iopub.execute_input": "2022-12-16T08:32:20.652408Z",
     "iopub.status.busy": "2022-12-16T08:32:20.652408Z",
     "iopub.status.idle": "2022-12-16T08:32:20.680442Z",
     "shell.execute_reply": "2022-12-16T08:32:20.679398Z"
    }
   },
   "outputs": [],
   "source": [
    "os.makedirs('result', exist_ok=True)\n",
    "lists_lb_df.to_csv(f'result/RESULT_{type_no}_{type_name}.csv', index=False)"
   ]
  },
  {
   "cell_type": "markdown",
   "id": "2ed08a3d-eb09-4f1f-83a5-987be9b9d584",
   "metadata": {},
   "source": [
    "## 시각화"
   ]
  },
  {
   "cell_type": "code",
   "execution_count": 19,
   "id": "a2981513-60e5-4604-8fee-235d898df378",
   "metadata": {
    "execution": {
     "iopub.execute_input": "2022-12-16T08:32:20.683408Z",
     "iopub.status.busy": "2022-12-16T08:32:20.683408Z",
     "iopub.status.idle": "2022-12-16T08:32:20.790408Z",
     "shell.execute_reply": "2022-12-16T08:32:20.789436Z"
    }
   },
   "outputs": [
    {
     "data": {
      "text/html": [
       "<style type=\"text/css\">\n",
       "#T_e7bad_row0_col0, #T_e7bad_row0_col1, #T_e7bad_row0_col2, #T_e7bad_row1_col0, #T_e7bad_row1_col1 {\n",
       "  background-color: #fff7fb;\n",
       "  color: #000000;\n",
       "}\n",
       "#T_e7bad_row1_col2, #T_e7bad_row2_col0 {\n",
       "  background-color: #f5eef6;\n",
       "  color: #000000;\n",
       "}\n",
       "#T_e7bad_row2_col1 {\n",
       "  background-color: #fef6fb;\n",
       "  color: #000000;\n",
       "}\n",
       "#T_e7bad_row2_col2 {\n",
       "  background-color: #f6eff7;\n",
       "  color: #000000;\n",
       "}\n",
       "#T_e7bad_row3_col0 {\n",
       "  background-color: #d2d2e7;\n",
       "  color: #000000;\n",
       "}\n",
       "#T_e7bad_row3_col1 {\n",
       "  background-color: #a9bfdc;\n",
       "  color: #000000;\n",
       "}\n",
       "#T_e7bad_row3_col2 {\n",
       "  background-color: #2685bb;\n",
       "  color: #f1f1f1;\n",
       "}\n",
       "#T_e7bad_row4_col0, #T_e7bad_row4_col1, #T_e7bad_row4_col2 {\n",
       "  background-color: #023858;\n",
       "  color: #f1f1f1;\n",
       "}\n",
       "#T_e7bad_row5_col0 {\n",
       "  background-color: #f7f0f7;\n",
       "  color: #000000;\n",
       "}\n",
       "#T_e7bad_row5_col1 {\n",
       "  background-color: #c6cce3;\n",
       "  color: #000000;\n",
       "}\n",
       "#T_e7bad_row5_col2 {\n",
       "  background-color: #e7e3f0;\n",
       "  color: #000000;\n",
       "}\n",
       "</style>\n",
       "<table id=\"T_e7bad\">\n",
       "  <thead>\n",
       "    <tr>\n",
       "      <th class=\"blank level0\" >&nbsp;</th>\n",
       "      <th id=\"T_e7bad_level0_col0\" class=\"col_heading level0 col0\" >3년 표준편차</th>\n",
       "      <th id=\"T_e7bad_level0_col1\" class=\"col_heading level0 col1\" >1년 표준편차</th>\n",
       "      <th id=\"T_e7bad_level0_col2\" class=\"col_heading level0 col2\" >3년 VaR</th>\n",
       "    </tr>\n",
       "    <tr>\n",
       "      <th class=\"index_name level0\" >등급</th>\n",
       "      <th class=\"blank col0\" >&nbsp;</th>\n",
       "      <th class=\"blank col1\" >&nbsp;</th>\n",
       "      <th class=\"blank col2\" >&nbsp;</th>\n",
       "    </tr>\n",
       "  </thead>\n",
       "  <tbody>\n",
       "    <tr>\n",
       "      <th id=\"T_e7bad_level0_row0\" class=\"row_heading level0 row0\" >1등급</th>\n",
       "      <td id=\"T_e7bad_row0_col0\" class=\"data row0 col0\" >0</td>\n",
       "      <td id=\"T_e7bad_row0_col1\" class=\"data row0 col1\" >2</td>\n",
       "      <td id=\"T_e7bad_row0_col2\" class=\"data row0 col2\" >13</td>\n",
       "    </tr>\n",
       "    <tr>\n",
       "      <th id=\"T_e7bad_level0_row1\" class=\"row_heading level0 row1\" >2등급</th>\n",
       "      <td id=\"T_e7bad_row1_col0\" class=\"data row1 col0\" >3</td>\n",
       "      <td id=\"T_e7bad_row1_col1\" class=\"data row1 col1\" >5</td>\n",
       "      <td id=\"T_e7bad_row1_col2\" class=\"data row1 col2\" >80</td>\n",
       "    </tr>\n",
       "    <tr>\n",
       "      <th id=\"T_e7bad_level0_row2\" class=\"row_heading level0 row2\" >3등급</th>\n",
       "      <td id=\"T_e7bad_row2_col0\" class=\"data row2 col0\" >95</td>\n",
       "      <td id=\"T_e7bad_row2_col1\" class=\"data row2 col1\" >10</td>\n",
       "      <td id=\"T_e7bad_row2_col2\" class=\"data row2 col2\" >70</td>\n",
       "    </tr>\n",
       "    <tr>\n",
       "      <th id=\"T_e7bad_level0_row3\" class=\"row_heading level0 row3\" >4등급</th>\n",
       "      <td id=\"T_e7bad_row3_col0\" class=\"data row3 col0\" >347</td>\n",
       "      <td id=\"T_e7bad_row3_col1\" class=\"data row3 col1\" >429</td>\n",
       "      <td id=\"T_e7bad_row3_col2\" class=\"data row3 col2\" >653</td>\n",
       "    </tr>\n",
       "    <tr>\n",
       "      <th id=\"T_e7bad_level0_row4\" class=\"row_heading level0 row4\" >5등급</th>\n",
       "      <td id=\"T_e7bad_row4_col0\" class=\"data row4 col0\" >1421</td>\n",
       "      <td id=\"T_e7bad_row4_col1\" class=\"data row4 col1\" >1169</td>\n",
       "      <td id=\"T_e7bad_row4_col2\" class=\"data row4 col2\" >976</td>\n",
       "    </tr>\n",
       "    <tr>\n",
       "      <th id=\"T_e7bad_level0_row5\" class=\"row_heading level0 row5\" >6등급</th>\n",
       "      <td id=\"T_e7bad_row5_col0\" class=\"data row5 col0\" >79</td>\n",
       "      <td id=\"T_e7bad_row5_col1\" class=\"data row5 col1\" >330</td>\n",
       "      <td id=\"T_e7bad_row5_col2\" class=\"data row5 col2\" >153</td>\n",
       "    </tr>\n",
       "  </tbody>\n",
       "</table>\n"
      ],
      "text/plain": [
       "<pandas.io.formats.style.Styler at 0x1ddcb30d2b0>"
      ]
     },
     "execution_count": 19,
     "metadata": {},
     "output_type": "execute_result"
    }
   ],
   "source": [
    "risk_std_3y_stat_df = lists_lb_df[\"risk_std_3y\"].value_counts().sort_index(ascending=False)\n",
    "risk_std_1y_stat_df = lists_lb_df[\"risk_std_1y\"].value_counts().sort_index(ascending=False)\n",
    "risk_var_3y_stat_df = lists_lb_df[\"risk_var_3y\"].value_counts().sort_index(ascending=False)\n",
    "stat_df = pd.concat([risk_std_3y_stat_df, risk_std_1y_stat_df, risk_var_3y_stat_df], axis=1)\n",
    "stat_df = stat_df.rename(columns={\"risk_std_3y\": \"3년 표준편차\", \"risk_std_1y\": \"1년 표준편차\", \"risk_var_3y\": \"3년 VaR\"})\n",
    "stat_df.reset_index(names=['등급'], inplace=True)\n",
    "\n",
    "stat_df.set_index('등급').style.background_gradient()"
   ]
  },
  {
   "cell_type": "code",
   "execution_count": 20,
   "id": "2ecfd0b2-0548-41e1-a6ed-9abd2da5b7c8",
   "metadata": {
    "execution": {
     "iopub.execute_input": "2022-12-16T08:32:20.794406Z",
     "iopub.status.busy": "2022-12-16T08:32:20.793407Z",
     "iopub.status.idle": "2022-12-16T08:32:21.156409Z",
     "shell.execute_reply": "2022-12-16T08:32:21.155406Z"
    }
   },
   "outputs": [
    {
     "data": {
      "image/png": "[encoded data removed]",
      "text/plain": [
       "<Figure size 640x480 with 1 Axes>"
      ]
     },
     "metadata": {},
     "output_type": "display_data"
    }
   ],
   "source": [
    "def show_values(axs, orient=\"v\", space=.01):\n",
    "    def _single(ax):\n",
    "        if orient == \"v\":\n",
    "            for p in ax.patches:\n",
    "                _x = p.get_x() + p.get_width() / 2\n",
    "                _y = p.get_y() + p.get_height() + (p.get_height() * 0.01)\n",
    "                value = '{:d}'.format(int(p.get_height()))\n",
    "                ax.text(_x, _y, value, ha=\"center\")\n",
    "        elif orient == \"h\":\n",
    "            for p in ax.patches:\n",
    "                _x = p.get_x() + p.get_width() + float(space)\n",
    "                _y = p.get_y() + p.get_height() - (p.get_height() * 0.5)\n",
    "                value = '{:d}'.format(int(p.get_width()))\n",
    "                ax.text(_x, _y, value, ha=\"left\")\n",
    "\n",
    "    if isinstance(axs, np.ndarray):\n",
    "        for idx, ax in np.ndenumerate(axs):\n",
    "            _single(ax)\n",
    "    else:\n",
    "        _single(axs)\n",
    "\n",
    "\n",
    "stat_df_long = (\n",
    "    stat_df\n",
    "    .melt(id_vars=\"등급\", value_vars=[\"3년 표준편차\", \"1년 표준편차\", \"3년 VaR\"], var_name=\"기준\") \\\n",
    "    .rename(columns={\"index\": \"등급\"})\n",
    ")\n",
    "axis = sns.barplot(x=\"등급\", y=\"value\", hue=\"기준\", data=stat_df_long)\n",
    "axis.set_title(f\"{type_name} 펀드 위험등급 분포\")\n",
    "show_values(axis)"
   ]
  },
  {
   "cell_type": "markdown",
   "id": "1f9227c4-c788-429d-b8d4-fc278ba29d24",
   "metadata": {},
   "source": [
    "## 통계 결과 출력"
   ]
  },
  {
   "cell_type": "code",
   "execution_count": 21,
   "id": "68fbd533-f46e-4cd6-9c35-28c3ae50830d",
   "metadata": {
    "execution": {
     "iopub.execute_input": "2022-12-16T08:32:21.160418Z",
     "iopub.status.busy": "2022-12-16T08:32:21.159408Z",
     "iopub.status.idle": "2022-12-16T08:32:21.170405Z",
     "shell.execute_reply": "2022-12-16T08:32:21.170405Z"
    }
   },
   "outputs": [],
   "source": [
    "os.makedirs('result', exist_ok=True)\n",
    "stat_df.to_csv(f'result/STATISTICS_{type_no}_{type_name}.csv', index=False)"
   ]
  }
 ],
 "metadata": {
  "kernelspec": {
   "display_name": "Python 3 (ipykernel)",
   "language": "python",
   "name": "python3"
  },
  "language_info": {
   "codemirror_mode": {
    "name": "ipython",
    "version": 3
   },
   "file_extension": ".py",
   "mimetype": "text/x-python",
   "name": "python",
   "nbconvert_exporter": "python",
   "pygments_lexer": "ipython3",
   "version": "3.9.13"
  },
  "toc-autonumbering": true,
  "toc-showcode": false,
  "toc-showmarkdowntxt": false
 },
 "nbformat": 4,
 "nbformat_minor": 5
}
