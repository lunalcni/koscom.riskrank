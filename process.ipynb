{
 "cells": [
  {
   "cell_type": "markdown",
   "id": "2dd67b7b-b151-49b1-955e-dd7627677a4e",
   "metadata": {},
   "source": [
    "# 펀드 위험등급 산출"
   ]
  },
  {
   "cell_type": "markdown",
   "id": "b3e20237-dc40-4627-a953-52539fea6148",
   "metadata": {},
   "source": [
    "## 패키지 로드"
   ]
  },
  {
   "cell_type": "code",
   "execution_count": 1,
   "id": "103faeb9-9c7b-46f1-8ddb-e8e438626b60",
   "metadata": {},
   "outputs": [],
   "source": [
    "%matplotlib inline"
   ]
  },
  {
   "cell_type": "code",
   "execution_count": 2,
   "id": "2ead0865-2adf-4384-9e33-e05ad2246056",
   "metadata": {},
   "outputs": [],
   "source": [
    "import functools\n",
    "import os\n",
    "import re\n",
    "from collections import defaultdict\n",
    "from pathlib import Path\n",
    "\n",
    "import matplotlib.pyplot as plt\n",
    "import numpy as np\n",
    "import pandas as pd\n",
    "import seaborn as sns\n",
    "from tqdm import trange"
   ]
  },
  {
   "cell_type": "code",
   "execution_count": 3,
   "outputs": [],
   "source": [
    "plt.rc('font', family='Malgun Gothic')  # For Windows"
   ],
   "metadata": {
    "collapsed": false
   }
  },
  {
   "cell_type": "markdown",
   "source": [
    "## 변수 정의"
   ],
   "metadata": {
    "collapsed": false
   }
  },
  {
   "cell_type": "code",
   "execution_count": 5,
   "outputs": [
    {
     "name": "stdout",
     "output_type": "stream",
     "text": [
      "TEST_PROCESS=True, VALIDATE_PROCESS=True, DATA_FILEPATH='./data/TYPE_10_채권형.csv', BINS=[0, 0.005, 0.05, 0.1, 0.15, 0.25, inf], DICT_BINS=defaultdict(<function <lambda> at 0x000002DB1424F1F0>, {})\n"
     ]
    }
   ],
   "source": [
    "TEST_PROCESS = eval(os.environ.get('TEST_PROCESS', 'True'))\n",
    "VALIDATE_PROCESS = eval(os.environ.get('VALIDATE_PROCESS', 'True'))\n",
    "DATA_FILEPATH = os.environ.get('DATA_FILEPATH', './data/TYPE_10_채권형.csv')\n",
    "BINS = eval(os.environ.get('BINS', '[0, 0.005, 0.05, 0.10, 0.15, 0.25, float(\"inf\")]'))\n",
    "\n",
    "if isinstance(BINS, list):\n",
    "    DICT_BINS = defaultdict(lambda: BINS)\n",
    "elif isinstance(BINS, dict):\n",
    "    assert all(idx_col in BINS for idx_col in ['std_1y', 'std_3y', 'var_3y'])\n",
    "    DICT_BINS = BINS\n",
    "\n",
    "print(f'{TEST_PROCESS=}, {VALIDATE_PROCESS=}, {DATA_FILEPATH=}, {BINS=}, {DICT_BINS=}')"
   ],
   "metadata": {
    "collapsed": false
   }
  },
  {
   "cell_type": "markdown",
   "source": [
    "## 타입 추출"
   ],
   "metadata": {
    "collapsed": false
   }
  },
  {
   "cell_type": "code",
   "execution_count": 6,
   "id": "9613fca5-40ff-41c8-a061-d9c23223c365",
   "metadata": {},
   "outputs": [
    {
     "data": {
      "text/plain": "('10', '채권형')"
     },
     "execution_count": 6,
     "metadata": {},
     "output_type": "execute_result"
    }
   ],
   "source": [
    "filepath = Path(DATA_FILEPATH)\n",
    "filename_pattern = re.compile(r'TYPE_([0-9]+)_([^_]+)\\.csv')\n",
    "\n",
    "match_rst = re.fullmatch(filename_pattern, filepath.name)\n",
    "type_no, type_name = match_rst.groups()\n",
    "\n",
    "type_no, type_name"
   ]
  },
  {
   "cell_type": "markdown",
   "id": "3a02a33b-ddc6-446a-88c3-37887ffe4768",
   "metadata": {},
   "source": [
    "## 데이터 로드"
   ]
  },
  {
   "cell_type": "code",
   "execution_count": 7,
   "id": "a4260092-7f8c-48a7-a523-7b72bc350181",
   "metadata": {},
   "outputs": [
    {
     "name": "stdout",
     "output_type": "stream",
     "text": [
      "len(codes)=1973\n"
     ]
    }
   ],
   "source": [
    "lists_wo_idx_df = pd.read_csv(filepath, names=[\"date\", \"code\", \"nav\"], usecols=[0, 1, 2], parse_dates=[0])\n",
    "lists_df = lists_wo_idx_df.set_index(['code', 'date'])\n",
    "\n",
    "codes = lists_df.index.get_level_values('code').unique()\n",
    "print(f\"{len(codes)=}\")"
   ]
  },
  {
   "cell_type": "markdown",
   "source": [
    "## 수치 산출 테스트\n",
    "\n",
    "1년을 기준으로 프로세스 정의"
   ],
   "metadata": {
    "collapsed": false
   }
  },
  {
   "cell_type": "markdown",
   "source": [
    "### 기간 조건 적용"
   ],
   "metadata": {
    "collapsed": false
   }
  },
  {
   "cell_type": "code",
   "execution_count": 8,
   "outputs": [
    {
     "data": {
      "text/plain": "             date      nav          code\n0      2019-01-02  1045.43  K55101B40934\n1      2019-01-03  1045.76  K55101B40934\n2      2019-01-04  1045.57  K55101B40934\n3      2019-01-07  1046.33  K55101B40934\n4      2019-01-08  1046.27  K55101B40934\n...           ...      ...           ...\n393847 2019-12-23  1003.34  KR7373AO7715\n393848 2019-12-24  1003.38  KR7373AO7715\n393849 2019-12-26  1003.50  KR7373AO7715\n393850 2019-12-27  1003.56  KR7373AO7715\n393851 2019-12-30  1003.71  KR7373AO7715\n\n[393852 rows x 3 columns]",
      "text/html": "<div>\n<style scoped>\n    .dataframe tbody tr th:only-of-type {\n        vertical-align: middle;\n    }\n\n    .dataframe tbody tr th {\n        vertical-align: top;\n    }\n\n    .dataframe thead th {\n        text-align: right;\n    }\n</style>\n<table border=\"1\" class=\"dataframe\">\n  <thead>\n    <tr style=\"text-align: right;\">\n      <th></th>\n      <th>date</th>\n      <th>nav</th>\n      <th>code</th>\n    </tr>\n  </thead>\n  <tbody>\n    <tr>\n      <th>0</th>\n      <td>2019-01-02</td>\n      <td>1045.43</td>\n      <td>K55101B40934</td>\n    </tr>\n    <tr>\n      <th>1</th>\n      <td>2019-01-03</td>\n      <td>1045.76</td>\n      <td>K55101B40934</td>\n    </tr>\n    <tr>\n      <th>2</th>\n      <td>2019-01-04</td>\n      <td>1045.57</td>\n      <td>K55101B40934</td>\n    </tr>\n    <tr>\n      <th>3</th>\n      <td>2019-01-07</td>\n      <td>1046.33</td>\n      <td>K55101B40934</td>\n    </tr>\n    <tr>\n      <th>4</th>\n      <td>2019-01-08</td>\n      <td>1046.27</td>\n      <td>K55101B40934</td>\n    </tr>\n    <tr>\n      <th>...</th>\n      <td>...</td>\n      <td>...</td>\n      <td>...</td>\n    </tr>\n    <tr>\n      <th>393847</th>\n      <td>2019-12-23</td>\n      <td>1003.34</td>\n      <td>KR7373AO7715</td>\n    </tr>\n    <tr>\n      <th>393848</th>\n      <td>2019-12-24</td>\n      <td>1003.38</td>\n      <td>KR7373AO7715</td>\n    </tr>\n    <tr>\n      <th>393849</th>\n      <td>2019-12-26</td>\n      <td>1003.50</td>\n      <td>KR7373AO7715</td>\n    </tr>\n    <tr>\n      <th>393850</th>\n      <td>2019-12-27</td>\n      <td>1003.56</td>\n      <td>KR7373AO7715</td>\n    </tr>\n    <tr>\n      <th>393851</th>\n      <td>2019-12-30</td>\n      <td>1003.71</td>\n      <td>KR7373AO7715</td>\n    </tr>\n  </tbody>\n</table>\n<p>393852 rows × 3 columns</p>\n</div>"
     },
     "metadata": {},
     "output_type": "display_data"
    }
   ],
   "source": [
    "if TEST_PROCESS:\n",
    "    lists_1y_df = pd.concat([\n",
    "        lists_df.xs(code).last('1y').assign(code=code)\n",
    "        for code in codes])\n",
    "    lists_1y_df.reset_index(inplace=True)\n",
    "    display(lists_1y_df)"
   ],
   "metadata": {
    "collapsed": false
   }
  },
  {
   "cell_type": "markdown",
   "source": [
    "### 리샘플링, 퍼센트 체인지 추출"
   ],
   "metadata": {
    "collapsed": false
   }
  },
  {
   "cell_type": "code",
   "execution_count": 9,
   "outputs": [
    {
     "data": {
      "text/plain": "                             nav       ret\ncode         date                         \nK55101B40934 2019-01-06  1045.57       NaN\n             2019-01-13  1046.97  0.001339\n             2019-01-20  1046.32 -0.000621\n             2019-01-27  1046.49  0.000162\n             2019-02-03  1046.78  0.000277\n...                          ...       ...\nKR7373AO7715 2019-12-08  1002.67  0.000269\n             2019-12-15  1002.91  0.000239\n             2019-12-22  1003.20  0.000289\n             2019-12-29  1003.56  0.000359\n             2020-01-05  1003.71  0.000149\n\n[85224 rows x 2 columns]",
      "text/html": "<div>\n<style scoped>\n    .dataframe tbody tr th:only-of-type {\n        vertical-align: middle;\n    }\n\n    .dataframe tbody tr th {\n        vertical-align: top;\n    }\n\n    .dataframe thead th {\n        text-align: right;\n    }\n</style>\n<table border=\"1\" class=\"dataframe\">\n  <thead>\n    <tr style=\"text-align: right;\">\n      <th></th>\n      <th></th>\n      <th>nav</th>\n      <th>ret</th>\n    </tr>\n    <tr>\n      <th>code</th>\n      <th>date</th>\n      <th></th>\n      <th></th>\n    </tr>\n  </thead>\n  <tbody>\n    <tr>\n      <th rowspan=\"5\" valign=\"top\">K55101B40934</th>\n      <th>2019-01-06</th>\n      <td>1045.57</td>\n      <td>NaN</td>\n    </tr>\n    <tr>\n      <th>2019-01-13</th>\n      <td>1046.97</td>\n      <td>0.001339</td>\n    </tr>\n    <tr>\n      <th>2019-01-20</th>\n      <td>1046.32</td>\n      <td>-0.000621</td>\n    </tr>\n    <tr>\n      <th>2019-01-27</th>\n      <td>1046.49</td>\n      <td>0.000162</td>\n    </tr>\n    <tr>\n      <th>2019-02-03</th>\n      <td>1046.78</td>\n      <td>0.000277</td>\n    </tr>\n    <tr>\n      <th>...</th>\n      <th>...</th>\n      <td>...</td>\n      <td>...</td>\n    </tr>\n    <tr>\n      <th rowspan=\"5\" valign=\"top\">KR7373AO7715</th>\n      <th>2019-12-08</th>\n      <td>1002.67</td>\n      <td>0.000269</td>\n    </tr>\n    <tr>\n      <th>2019-12-15</th>\n      <td>1002.91</td>\n      <td>0.000239</td>\n    </tr>\n    <tr>\n      <th>2019-12-22</th>\n      <td>1003.20</td>\n      <td>0.000289</td>\n    </tr>\n    <tr>\n      <th>2019-12-29</th>\n      <td>1003.56</td>\n      <td>0.000359</td>\n    </tr>\n    <tr>\n      <th>2020-01-05</th>\n      <td>1003.71</td>\n      <td>0.000149</td>\n    </tr>\n  </tbody>\n</table>\n<p>85224 rows × 2 columns</p>\n</div>"
     },
     "metadata": {},
     "output_type": "display_data"
    }
   ],
   "source": [
    "if TEST_PROCESS:\n",
    "    lists_1y_wk_df = lists_1y_df.set_index(['date']).groupby(['code'])[['nav']].resample('W').last()\n",
    "    lists_1y_wk_df = lists_1y_wk_df.assign(ret=lists_1y_wk_df.groupby(['code'])[['nav']].pct_change())\n",
    "    display(lists_1y_wk_df)"
   ],
   "metadata": {
    "collapsed": false
   }
  },
  {
   "cell_type": "markdown",
   "source": [
    "### 표준편차 산출"
   ],
   "metadata": {
    "collapsed": false
   }
  },
  {
   "cell_type": "code",
   "execution_count": 10,
   "outputs": [
    {
     "data": {
      "text/plain": "              code    std_1y\n0     K55101B40934  0.045506\n1     K55101B43714  0.023240\n2     K55101B57557  0.022378\n3     K55101B57581  0.017040\n4     K55101B95151  0.035571\n...            ...       ...\n1968  KR5373A33239  0.000489\n1969  KR5373A33247  0.000424\n1970  KR5373AO7529  0.004176\n1971  KR5373AP5951  0.027025\n1972  KR7373AO7715  0.024002\n\n[1973 rows x 2 columns]",
      "text/html": "<div>\n<style scoped>\n    .dataframe tbody tr th:only-of-type {\n        vertical-align: middle;\n    }\n\n    .dataframe tbody tr th {\n        vertical-align: top;\n    }\n\n    .dataframe thead th {\n        text-align: right;\n    }\n</style>\n<table border=\"1\" class=\"dataframe\">\n  <thead>\n    <tr style=\"text-align: right;\">\n      <th></th>\n      <th>code</th>\n      <th>std_1y</th>\n    </tr>\n  </thead>\n  <tbody>\n    <tr>\n      <th>0</th>\n      <td>K55101B40934</td>\n      <td>0.045506</td>\n    </tr>\n    <tr>\n      <th>1</th>\n      <td>K55101B43714</td>\n      <td>0.023240</td>\n    </tr>\n    <tr>\n      <th>2</th>\n      <td>K55101B57557</td>\n      <td>0.022378</td>\n    </tr>\n    <tr>\n      <th>3</th>\n      <td>K55101B57581</td>\n      <td>0.017040</td>\n    </tr>\n    <tr>\n      <th>4</th>\n      <td>K55101B95151</td>\n      <td>0.035571</td>\n    </tr>\n    <tr>\n      <th>...</th>\n      <td>...</td>\n      <td>...</td>\n    </tr>\n    <tr>\n      <th>1968</th>\n      <td>KR5373A33239</td>\n      <td>0.000489</td>\n    </tr>\n    <tr>\n      <th>1969</th>\n      <td>KR5373A33247</td>\n      <td>0.000424</td>\n    </tr>\n    <tr>\n      <th>1970</th>\n      <td>KR5373AO7529</td>\n      <td>0.004176</td>\n    </tr>\n    <tr>\n      <th>1971</th>\n      <td>KR5373AP5951</td>\n      <td>0.027025</td>\n    </tr>\n    <tr>\n      <th>1972</th>\n      <td>KR7373AO7715</td>\n      <td>0.024002</td>\n    </tr>\n  </tbody>\n</table>\n<p>1973 rows × 2 columns</p>\n</div>"
     },
     "metadata": {},
     "output_type": "display_data"
    }
   ],
   "source": [
    "if TEST_PROCESS:\n",
    "    lists_1y_std_df = lists_1y_wk_df.groupby(['code'])[['ret']].std(numeric_only=True) * np.sqrt(52)\n",
    "    lists_1y_std_df.reset_index(inplace=True)\n",
    "    lists_1y_std_df.rename(columns={'ret': 'std_1y'}, inplace=True)\n",
    "    display(lists_1y_std_df)"
   ],
   "metadata": {
    "collapsed": false
   }
  },
  {
   "cell_type": "markdown",
   "source": [
    "### VaR 산출"
   ],
   "metadata": {
    "collapsed": false
   }
  },
  {
   "cell_type": "code",
   "execution_count": 11,
   "outputs": [
    {
     "data": {
      "text/plain": "                var_1y\ncode                  \nK55101B40934  0.035456\nK55101B43714  0.019181\nK55101B57557  0.000835\nK55101B57581  0.001604\nK55101B95151  0.039168\n...                ...\nKR5373A33239 -0.000000\nKR5373A33247 -0.000000\nKR5373AO7529  0.004685\nKR5373AP5951  0.003407\nKR7373AO7715  0.003808\n\n[1973 rows x 1 columns]",
      "text/html": "<div>\n<style scoped>\n    .dataframe tbody tr th:only-of-type {\n        vertical-align: middle;\n    }\n\n    .dataframe tbody tr th {\n        vertical-align: top;\n    }\n\n    .dataframe thead th {\n        text-align: right;\n    }\n</style>\n<table border=\"1\" class=\"dataframe\">\n  <thead>\n    <tr style=\"text-align: right;\">\n      <th></th>\n      <th>var_1y</th>\n    </tr>\n    <tr>\n      <th>code</th>\n      <th></th>\n    </tr>\n  </thead>\n  <tbody>\n    <tr>\n      <th>K55101B40934</th>\n      <td>0.035456</td>\n    </tr>\n    <tr>\n      <th>K55101B43714</th>\n      <td>0.019181</td>\n    </tr>\n    <tr>\n      <th>K55101B57557</th>\n      <td>0.000835</td>\n    </tr>\n    <tr>\n      <th>K55101B57581</th>\n      <td>0.001604</td>\n    </tr>\n    <tr>\n      <th>K55101B95151</th>\n      <td>0.039168</td>\n    </tr>\n    <tr>\n      <th>...</th>\n      <td>...</td>\n    </tr>\n    <tr>\n      <th>KR5373A33239</th>\n      <td>-0.000000</td>\n    </tr>\n    <tr>\n      <th>KR5373A33247</th>\n      <td>-0.000000</td>\n    </tr>\n    <tr>\n      <th>KR5373AO7529</th>\n      <td>0.004685</td>\n    </tr>\n    <tr>\n      <th>KR5373AP5951</th>\n      <td>0.003407</td>\n    </tr>\n    <tr>\n      <th>KR7373AO7715</th>\n      <td>0.003808</td>\n    </tr>\n  </tbody>\n</table>\n<p>1973 rows × 1 columns</p>\n</div>"
     },
     "metadata": {},
     "output_type": "display_data"
    }
   ],
   "source": [
    "if TEST_PROCESS:\n",
    "    lists_1y_var_df = lists_1y_wk_df.groupby(['code'])[['ret']].quantile(0.025, numeric_only=True)\n",
    "    lists_1y_var_df = np.minimum(lists_1y_var_df, 0) * -1 * np.sqrt(52)\n",
    "    lists_1y_var_df.rename(columns={'ret': 'var_1y'}, inplace=True)\n",
    "    display(lists_1y_var_df)"
   ],
   "metadata": {
    "collapsed": false
   }
  },
  {
   "cell_type": "markdown",
   "source": [
    "## 수치 산출 프로세스 정의"
   ],
   "metadata": {
    "collapsed": false
   }
  },
  {
   "cell_type": "code",
   "execution_count": 12,
   "outputs": [],
   "source": [
    "offsets = ['1y', '3y']"
   ],
   "metadata": {
    "collapsed": false
   }
  },
  {
   "cell_type": "code",
   "execution_count": 13,
   "outputs": [
    {
     "name": "stdout",
     "output_type": "stream",
     "text": [
      "CPU times: total: 21.4 s\n",
      "Wall time: 22.1 s\n"
     ]
    },
    {
     "data": {
      "text/plain": "                std_1y    var_1y    std_3y    var_3y\ncode                                                \nK55101B40934  0.045506  0.035456  0.030408  0.037253\nK55101B43714  0.023240  0.019181  0.018625  0.018985\nK55101B57557  0.022378  0.000835  0.018648  0.005765\nK55101B57581  0.017040  0.001604  0.013547  0.006506\nK55101B95151  0.035571  0.039168  0.031586  0.041300\n...                ...       ...       ...       ...\nKR5373A33239  0.000489 -0.000000  0.108285  0.122384\nKR5373A33247  0.000424 -0.000000  0.099488  0.123790\nKR5373AO7529  0.004176  0.004685  0.006490  0.013245\nKR5373AP5951  0.027025  0.003407  0.019259  0.014028\nKR7373AO7715  0.024002  0.003808  0.016560  0.013155\n\n[1973 rows x 4 columns]",
      "text/html": "<div>\n<style scoped>\n    .dataframe tbody tr th:only-of-type {\n        vertical-align: middle;\n    }\n\n    .dataframe tbody tr th {\n        vertical-align: top;\n    }\n\n    .dataframe thead th {\n        text-align: right;\n    }\n</style>\n<table border=\"1\" class=\"dataframe\">\n  <thead>\n    <tr style=\"text-align: right;\">\n      <th></th>\n      <th>std_1y</th>\n      <th>var_1y</th>\n      <th>std_3y</th>\n      <th>var_3y</th>\n    </tr>\n    <tr>\n      <th>code</th>\n      <th></th>\n      <th></th>\n      <th></th>\n      <th></th>\n    </tr>\n  </thead>\n  <tbody>\n    <tr>\n      <th>K55101B40934</th>\n      <td>0.045506</td>\n      <td>0.035456</td>\n      <td>0.030408</td>\n      <td>0.037253</td>\n    </tr>\n    <tr>\n      <th>K55101B43714</th>\n      <td>0.023240</td>\n      <td>0.019181</td>\n      <td>0.018625</td>\n      <td>0.018985</td>\n    </tr>\n    <tr>\n      <th>K55101B57557</th>\n      <td>0.022378</td>\n      <td>0.000835</td>\n      <td>0.018648</td>\n      <td>0.005765</td>\n    </tr>\n    <tr>\n      <th>K55101B57581</th>\n      <td>0.017040</td>\n      <td>0.001604</td>\n      <td>0.013547</td>\n      <td>0.006506</td>\n    </tr>\n    <tr>\n      <th>K55101B95151</th>\n      <td>0.035571</td>\n      <td>0.039168</td>\n      <td>0.031586</td>\n      <td>0.041300</td>\n    </tr>\n    <tr>\n      <th>...</th>\n      <td>...</td>\n      <td>...</td>\n      <td>...</td>\n      <td>...</td>\n    </tr>\n    <tr>\n      <th>KR5373A33239</th>\n      <td>0.000489</td>\n      <td>-0.000000</td>\n      <td>0.108285</td>\n      <td>0.122384</td>\n    </tr>\n    <tr>\n      <th>KR5373A33247</th>\n      <td>0.000424</td>\n      <td>-0.000000</td>\n      <td>0.099488</td>\n      <td>0.123790</td>\n    </tr>\n    <tr>\n      <th>KR5373AO7529</th>\n      <td>0.004176</td>\n      <td>0.004685</td>\n      <td>0.006490</td>\n      <td>0.013245</td>\n    </tr>\n    <tr>\n      <th>KR5373AP5951</th>\n      <td>0.027025</td>\n      <td>0.003407</td>\n      <td>0.019259</td>\n      <td>0.014028</td>\n    </tr>\n    <tr>\n      <th>KR7373AO7715</th>\n      <td>0.024002</td>\n      <td>0.003808</td>\n      <td>0.016560</td>\n      <td>0.013155</td>\n    </tr>\n  </tbody>\n</table>\n<p>1973 rows × 4 columns</p>\n</div>"
     },
     "execution_count": 13,
     "metadata": {},
     "output_type": "execute_result"
    }
   ],
   "source": [
    "%%time\n",
    "\n",
    "lists_rst_dfs = []\n",
    "\n",
    "for offset in offsets:\n",
    "    lists_off_df = pd.concat([\n",
    "        lists_df.xs(code).last(offset).assign(code=code)\n",
    "        for code in codes])\n",
    "    lists_off_df.reset_index(inplace=True)\n",
    "\n",
    "    lists_off_wk_df = lists_off_df.set_index(['date']).groupby(['code'])[['nav']].resample('W').last()\n",
    "    lists_off_wk_df = lists_off_wk_df.assign(ret=lists_off_wk_df.groupby(['code'])[['nav']].pct_change())\n",
    "\n",
    "    lists_off_std_df = lists_off_wk_df.groupby(['code'])[['ret']].std(numeric_only=True) * np.sqrt(52)\n",
    "    lists_off_std_df.rename(columns={'ret': f'std_{offset}'}, inplace=True)\n",
    "\n",
    "    lists_off_var_df = lists_off_wk_df.groupby(['code'])[['ret']].quantile(0.025, numeric_only=True)\n",
    "    lists_off_var_df = np.minimum(lists_off_var_df, 0) * -1 * np.sqrt(52)\n",
    "    lists_off_var_df.rename(columns={'ret': f'var_{offset}'}, inplace=True)\n",
    "\n",
    "    lists_rst_dfs.append(lists_off_std_df)\n",
    "    lists_rst_dfs.append(lists_off_var_df)\n",
    "\n",
    "lists_rst_df = pd.concat(lists_rst_dfs, axis='columns')\n",
    "lists_rst_df"
   ],
   "metadata": {
    "collapsed": false
   }
  },
  {
   "cell_type": "markdown",
   "source": [
    "### 프로세스 테스트"
   ],
   "metadata": {
    "collapsed": false
   }
  },
  {
   "cell_type": "code",
   "execution_count": 14,
   "id": "a6cc3475-204e-417d-ac8f-67c33c944c4e",
   "metadata": {},
   "outputs": [
    {
     "name": "stderr",
     "output_type": "stream",
     "text": [
      "100%|██████████| 1973/1973 [02:51<00:00, 11.52it/s]"
     ]
    },
    {
     "name": "stdout",
     "output_type": "stream",
     "text": [
      "CPU times: total: 2min 48s\n",
      "Wall time: 2min 51s\n"
     ]
    },
    {
     "name": "stderr",
     "output_type": "stream",
     "text": [
      "\n"
     ]
    }
   ],
   "source": [
    "%%time\n",
    "\n",
    "def calc_std_y(code):\n",
    "    df = lists_wo_idx_df[lists_wo_idx_df['code'] == code][[\"date\", \"nav\"]]\n",
    "    df = df.sort_values(by=\"date\")\n",
    "    df = df.set_index(\"date\")\n",
    "\n",
    "    df_1y = df.last(\"1Y\")\n",
    "    df_1y_w = df_1y.resample(\"W\").last()\n",
    "\n",
    "    df_3y = df.last(\"3Y\")\n",
    "    df_3y_w = df_3y.resample(\"W\").last()\n",
    "\n",
    "    df_3y_w[\"ret\"] = df_3y_w[\"nav\"].pct_change()\n",
    "    df_3y_w = df_3y_w.iloc[1:]\n",
    "    std_3y = df_3y_w[\"ret\"].std() * np.sqrt(52)\n",
    "\n",
    "    df_1y_w[\"ret\"] = df_1y_w[\"nav\"].pct_change()\n",
    "    df_1y_w = df_1y_w.iloc[1:]\n",
    "    std_1y = df_1y_w[\"ret\"].std() * np.sqrt(52)\n",
    "\n",
    "    var_3y = -np.minimum(df_3y_w[\"ret\"].quantile(0.025), 0) * np.sqrt(52)\n",
    "\n",
    "    return std_3y, std_1y, var_3y\n",
    "\n",
    "if VALIDATE_PROCESS:\n",
    "    list_std_y = []\n",
    "    for i in trange(len(codes)):\n",
    "        code = codes[i]\n",
    "        list_std_y.append(calc_std_y(code))"
   ]
  },
  {
   "cell_type": "code",
   "execution_count": 15,
   "outputs": [],
   "source": [
    "if VALIDATE_PROCESS:\n",
    "    for code_idx, code in enumerate(codes):\n",
    "        for old_idx, new_name in [(0, 'std_3y'), (1, 'std_1y'), (2, 'var_3y')]:\n",
    "            old_rst = list_std_y[code_idx][old_idx]\n",
    "            new_rst = lists_rst_df.xs(code).xs(new_name)\n",
    "            if not np.isclose(old_rst, new_rst, equal_nan=True):\n",
    "                print(f\"{code=}, {old_rst=}, {new_rst=}, {np.isclose(old_rst, new_rst, equal_nan=True)=}\")"
   ],
   "metadata": {
    "collapsed": false
   }
  },
  {
   "cell_type": "markdown",
   "source": [
    "## 등급 변환"
   ],
   "metadata": {
    "collapsed": false
   }
  },
  {
   "cell_type": "code",
   "execution_count": 16,
   "outputs": [
    {
     "data": {
      "text/plain": "              code    std_1y    var_1y    std_3y    var_3y risk_std_1y  \\\n0     K55101B40934  0.045506  0.035456  0.030408  0.037253         5등급   \n1     K55101B43714  0.023240  0.019181  0.018625  0.018985         5등급   \n2     K55101B57557  0.022378  0.000835  0.018648  0.005765         5등급   \n3     K55101B57581  0.017040  0.001604  0.013547  0.006506         5등급   \n4     K55101B95151  0.035571  0.039168  0.031586  0.041300         5등급   \n...            ...       ...       ...       ...       ...         ...   \n1879  KR5373A33239  0.000489 -0.000000  0.108285  0.122384         6등급   \n1880  KR5373A33247  0.000424 -0.000000  0.099488  0.123790         6등급   \n1881  KR5373AO7529  0.004176  0.004685  0.006490  0.013245         6등급   \n1882  KR5373AP5951  0.027025  0.003407  0.019259  0.014028         5등급   \n1883  KR7373AO7715  0.024002  0.003808  0.016560  0.013155         5등급   \n\n     risk_std_3y risk_var_3y  \n0            5등급         5등급  \n1            5등급         5등급  \n2            5등급         5등급  \n3            5등급         5등급  \n4            5등급         5등급  \n...          ...         ...  \n1879         3등급         3등급  \n1880         4등급         3등급  \n1881         5등급         5등급  \n1882         5등급         5등급  \n1883         5등급         5등급  \n\n[1884 rows x 8 columns]",
      "text/html": "<div>\n<style scoped>\n    .dataframe tbody tr th:only-of-type {\n        vertical-align: middle;\n    }\n\n    .dataframe tbody tr th {\n        vertical-align: top;\n    }\n\n    .dataframe thead th {\n        text-align: right;\n    }\n</style>\n<table border=\"1\" class=\"dataframe\">\n  <thead>\n    <tr style=\"text-align: right;\">\n      <th></th>\n      <th>code</th>\n      <th>std_1y</th>\n      <th>var_1y</th>\n      <th>std_3y</th>\n      <th>var_3y</th>\n      <th>risk_std_1y</th>\n      <th>risk_std_3y</th>\n      <th>risk_var_3y</th>\n    </tr>\n  </thead>\n  <tbody>\n    <tr>\n      <th>0</th>\n      <td>K55101B40934</td>\n      <td>0.045506</td>\n      <td>0.035456</td>\n      <td>0.030408</td>\n      <td>0.037253</td>\n      <td>5등급</td>\n      <td>5등급</td>\n      <td>5등급</td>\n    </tr>\n    <tr>\n      <th>1</th>\n      <td>K55101B43714</td>\n      <td>0.023240</td>\n      <td>0.019181</td>\n      <td>0.018625</td>\n      <td>0.018985</td>\n      <td>5등급</td>\n      <td>5등급</td>\n      <td>5등급</td>\n    </tr>\n    <tr>\n      <th>2</th>\n      <td>K55101B57557</td>\n      <td>0.022378</td>\n      <td>0.000835</td>\n      <td>0.018648</td>\n      <td>0.005765</td>\n      <td>5등급</td>\n      <td>5등급</td>\n      <td>5등급</td>\n    </tr>\n    <tr>\n      <th>3</th>\n      <td>K55101B57581</td>\n      <td>0.017040</td>\n      <td>0.001604</td>\n      <td>0.013547</td>\n      <td>0.006506</td>\n      <td>5등급</td>\n      <td>5등급</td>\n      <td>5등급</td>\n    </tr>\n    <tr>\n      <th>4</th>\n      <td>K55101B95151</td>\n      <td>0.035571</td>\n      <td>0.039168</td>\n      <td>0.031586</td>\n      <td>0.041300</td>\n      <td>5등급</td>\n      <td>5등급</td>\n      <td>5등급</td>\n    </tr>\n    <tr>\n      <th>...</th>\n      <td>...</td>\n      <td>...</td>\n      <td>...</td>\n      <td>...</td>\n      <td>...</td>\n      <td>...</td>\n      <td>...</td>\n      <td>...</td>\n    </tr>\n    <tr>\n      <th>1879</th>\n      <td>KR5373A33239</td>\n      <td>0.000489</td>\n      <td>-0.000000</td>\n      <td>0.108285</td>\n      <td>0.122384</td>\n      <td>6등급</td>\n      <td>3등급</td>\n      <td>3등급</td>\n    </tr>\n    <tr>\n      <th>1880</th>\n      <td>KR5373A33247</td>\n      <td>0.000424</td>\n      <td>-0.000000</td>\n      <td>0.099488</td>\n      <td>0.123790</td>\n      <td>6등급</td>\n      <td>4등급</td>\n      <td>3등급</td>\n    </tr>\n    <tr>\n      <th>1881</th>\n      <td>KR5373AO7529</td>\n      <td>0.004176</td>\n      <td>0.004685</td>\n      <td>0.006490</td>\n      <td>0.013245</td>\n      <td>6등급</td>\n      <td>5등급</td>\n      <td>5등급</td>\n    </tr>\n    <tr>\n      <th>1882</th>\n      <td>KR5373AP5951</td>\n      <td>0.027025</td>\n      <td>0.003407</td>\n      <td>0.019259</td>\n      <td>0.014028</td>\n      <td>5등급</td>\n      <td>5등급</td>\n      <td>5등급</td>\n    </tr>\n    <tr>\n      <th>1883</th>\n      <td>KR7373AO7715</td>\n      <td>0.024002</td>\n      <td>0.003808</td>\n      <td>0.016560</td>\n      <td>0.013155</td>\n      <td>5등급</td>\n      <td>5등급</td>\n      <td>5등급</td>\n    </tr>\n  </tbody>\n</table>\n<p>1884 rows × 8 columns</p>\n</div>"
     },
     "execution_count": 16,
     "metadata": {},
     "output_type": "execute_result"
    }
   ],
   "source": [
    "labels = [\"6등급\", \"5등급\", \"4등급\", \"3등급\", \"2등급\", \"1등급\"]\n",
    "cut_fn = functools.partial(pd.cut, labels=labels)\n",
    "\n",
    "lists_lb_df = lists_rst_df.assign(\n",
    "    risk_std_1y=cut_fn(lists_rst_df['std_1y'], bins=DICT_BINS['std_1y']),\n",
    "    risk_std_3y=cut_fn(lists_rst_df['std_3y'], bins=DICT_BINS['std_3y']),\n",
    "    # risk_var_1y=cut_fn(lists_rst_df['var_1y']),\n",
    "    risk_var_3y=cut_fn(lists_rst_df['var_3y'], bins=DICT_BINS['var_3y']))\n",
    "lists_lb_df.dropna(inplace=True)\n",
    "lists_lb_df.reset_index(inplace=True)\n",
    "\n",
    "lists_lb_df"
   ],
   "metadata": {
    "collapsed": false
   }
  },
  {
   "cell_type": "markdown",
   "source": [
    "#### 프로세스 테스트"
   ],
   "metadata": {
    "collapsed": false
   }
  },
  {
   "cell_type": "code",
   "execution_count": 17,
   "id": "e0aa081c-7f0d-4f1b-ae74-00a27747aaa5",
   "metadata": {},
   "outputs": [],
   "source": [
    "if VALIDATE_PROCESS:\n",
    "    list_std_3y, list_std_1y, list_var_3y = zip(*list_std_y)\n",
    "\n",
    "    df_result = pd.DataFrame({\n",
    "        \"code\": codes,\n",
    "        \"std_3y\": list_std_3y,\n",
    "        \"std_1y\": list_std_1y,\n",
    "        \"var_3y\": list_var_3y,\n",
    "    })\n",
    "\n",
    "    bins = [0, 0.005, 0.05, 0.10, 0.15, 0.25, float(\"inf\")]\n",
    "    labels = [\"6등급\", \"5등급\", \"4등급\", \"3등급\", \"2등급\", \"1등급\"]\n",
    "\n",
    "    df_result[\"risk_std_3y\"] = pd.cut(df_result.std_3y, bins=bins, labels=labels)\n",
    "    df_result[\"risk_std_1y\"] = pd.cut(df_result.std_1y, bins=bins, labels=labels)\n",
    "    df_result[\"risk_var_3y\"] = pd.cut(df_result.var_3y, bins=bins, labels=labels)\n",
    "\n",
    "    df_result = df_result.dropna()"
   ]
  },
  {
   "cell_type": "code",
   "execution_count": 18,
   "id": "c3e75562-b9ea-4c95-9a11-004be639146b",
   "metadata": {},
   "outputs": [
    {
     "data": {
      "text/plain": "risk_std_1y    True\nrisk_std_3y    True\nrisk_var_3y    True\ndtype: bool"
     },
     "metadata": {},
     "output_type": "display_data"
    }
   ],
   "source": [
    "if VALIDATE_PROCESS:\n",
    "    display(\n",
    "        (lists_lb_df[['code', 'risk_std_1y', 'risk_std_3y', 'risk_var_3y']].set_index(['code'])\n",
    "        == df_result[['code', 'risk_std_1y', 'risk_std_3y', 'risk_var_3y']].set_index(['code'])).all())"
   ]
  },
  {
   "cell_type": "markdown",
   "id": "7093a90e-9367-40e8-bb58-fc375b2c7f0d",
   "metadata": {},
   "source": [
    "## 등급 결과 출력"
   ]
  },
  {
   "cell_type": "code",
   "execution_count": 19,
   "id": "7d74f1a2-a5b2-4b5a-b1e4-7356deb7fb2c",
   "metadata": {},
   "outputs": [],
   "source": [
    "os.makedirs('results', exist_ok=True)\n",
    "lists_lb_df.to_excel(f'results/RESULT_{type_no}_{type_name}.xlsx', index=False)"
   ]
  },
  {
   "cell_type": "markdown",
   "id": "2ed08a3d-eb09-4f1f-83a5-987be9b9d584",
   "metadata": {},
   "source": [
    "## 시각화"
   ]
  },
  {
   "cell_type": "code",
   "execution_count": 20,
   "id": "a2981513-60e5-4604-8fee-235d898df378",
   "metadata": {},
   "outputs": [
    {
     "data": {
      "text/plain": "<pandas.io.formats.style.Styler at 0x2db1433b4f0>",
      "text/html": "<style type=\"text/css\">\n#T_986ba_row0_col0, #T_986ba_row0_col1, #T_986ba_row1_col2 {\n  background-color: #fff7fb;\n  color: #000000;\n}\n#T_986ba_row0_col2 {\n  background-color: #e0dded;\n  color: #000000;\n}\n#T_986ba_row1_col0, #T_986ba_row2_col0 {\n  background-color: #eee8f3;\n  color: #000000;\n}\n#T_986ba_row1_col1 {\n  background-color: #f7f0f7;\n  color: #000000;\n}\n#T_986ba_row2_col1 {\n  background-color: #ede8f3;\n  color: #000000;\n}\n#T_986ba_row2_col2 {\n  background-color: #fdf5fa;\n  color: #000000;\n}\n#T_986ba_row3_col0 {\n  background-color: #d9d8ea;\n  color: #000000;\n}\n#T_986ba_row3_col1 {\n  background-color: #e1dfed;\n  color: #000000;\n}\n#T_986ba_row3_col2 {\n  background-color: #e4e1ef;\n  color: #000000;\n}\n#T_986ba_row4_col0, #T_986ba_row4_col1, #T_986ba_row4_col2 {\n  background-color: #023858;\n  color: #f1f1f1;\n}\n#T_986ba_row5_col0 {\n  background-color: #f2ecf5;\n  color: #000000;\n}\n#T_986ba_row5_col1 {\n  background-color: #c4cbe3;\n  color: #000000;\n}\n#T_986ba_row5_col2 {\n  background-color: #8eb3d5;\n  color: #000000;\n}\n</style>\n<table id=\"T_986ba\">\n  <thead>\n    <tr>\n      <th class=\"blank level0\" >&nbsp;</th>\n      <th id=\"T_986ba_level0_col0\" class=\"col_heading level0 col0\" >3년 표준편차</th>\n      <th id=\"T_986ba_level0_col1\" class=\"col_heading level0 col1\" >1년 표준편차</th>\n      <th id=\"T_986ba_level0_col2\" class=\"col_heading level0 col2\" >3년 VaR</th>\n    </tr>\n    <tr>\n      <th class=\"index_name level0\" >등급</th>\n      <th class=\"blank col0\" >&nbsp;</th>\n      <th class=\"blank col1\" >&nbsp;</th>\n      <th class=\"blank col2\" >&nbsp;</th>\n    </tr>\n  </thead>\n  <tbody>\n    <tr>\n      <th id=\"T_986ba_level0_row0\" class=\"row_heading level0 row0\" >1등급</th>\n      <td id=\"T_986ba_row0_col0\" class=\"data row0 col0\" >2</td>\n      <td id=\"T_986ba_row0_col1\" class=\"data row0 col1\" >1</td>\n      <td id=\"T_986ba_row0_col2\" class=\"data row0 col2\" >228</td>\n    </tr>\n    <tr>\n      <th id=\"T_986ba_level0_row1\" class=\"row_heading level0 row1\" >2등급</th>\n      <td id=\"T_986ba_row1_col0\" class=\"data row1 col0\" >141</td>\n      <td id=\"T_986ba_row1_col1\" class=\"data row1 col1\" >68</td>\n      <td id=\"T_986ba_row1_col2\" class=\"data row1 col2\" >93</td>\n    </tr>\n    <tr>\n      <th id=\"T_986ba_level0_row2\" class=\"row_heading level0 row2\" >3등급</th>\n      <td id=\"T_986ba_row2_col0\" class=\"data row2 col0\" >143</td>\n      <td id=\"T_986ba_row2_col1\" class=\"data row2 col1\" >137</td>\n      <td id=\"T_986ba_row2_col2\" class=\"data row2 col2\" >102</td>\n    </tr>\n    <tr>\n      <th id=\"T_986ba_level0_row3\" class=\"row_heading level0 row3\" >4등급</th>\n      <td id=\"T_986ba_row3_col0\" class=\"data row3 col0\" >260</td>\n      <td id=\"T_986ba_row3_col1\" class=\"data row3 col1\" >199</td>\n      <td id=\"T_986ba_row3_col2\" class=\"data row3 col2\" >214</td>\n    </tr>\n    <tr>\n      <th id=\"T_986ba_level0_row4\" class=\"row_heading level0 row4\" >5등급</th>\n      <td id=\"T_986ba_row4_col0\" class=\"data row4 col0\" >1228</td>\n      <td id=\"T_986ba_row4_col1\" class=\"data row4 col1\" >1150</td>\n      <td id=\"T_986ba_row4_col2\" class=\"data row4 col2\" >832</td>\n    </tr>\n    <tr>\n      <th id=\"T_986ba_level0_row5\" class=\"row_heading level0 row5\" >6등급</th>\n      <td id=\"T_986ba_row5_col0\" class=\"data row5 col0\" >110</td>\n      <td id=\"T_986ba_row5_col1\" class=\"data row5 col1\" >329</td>\n      <td id=\"T_986ba_row5_col2\" class=\"data row5 col2\" >415</td>\n    </tr>\n  </tbody>\n</table>\n"
     },
     "execution_count": 20,
     "metadata": {},
     "output_type": "execute_result"
    }
   ],
   "source": [
    "risk_std_3y_stat_df = lists_lb_df[\"risk_std_3y\"].value_counts().sort_index(ascending=False)\n",
    "risk_std_1y_stat_df = lists_lb_df[\"risk_std_1y\"].value_counts().sort_index(ascending=False)\n",
    "risk_var_3y_stat_df = lists_lb_df[\"risk_var_3y\"].value_counts().sort_index(ascending=False)\n",
    "stat_df = pd.concat([risk_std_3y_stat_df, risk_std_1y_stat_df, risk_var_3y_stat_df], axis=1)\n",
    "stat_df = stat_df.rename(columns={\"risk_std_3y\": \"3년 표준편차\", \"risk_std_1y\": \"1년 표준편차\", \"risk_var_3y\": \"3년 VaR\"})\n",
    "stat_df.reset_index(names=['등급'], inplace=True)\n",
    "\n",
    "stat_df.set_index('등급').style.background_gradient()"
   ]
  },
  {
   "cell_type": "code",
   "execution_count": 21,
   "id": "2ecfd0b2-0548-41e1-a6ed-9abd2da5b7c8",
   "metadata": {},
   "outputs": [
    {
     "data": {
      "text/plain": "<Figure size 640x480 with 1 Axes>",
      "image/png": "[encoded data removed]"
     },
     "metadata": {},
     "output_type": "display_data"
    }
   ],
   "source": [
    "def show_values(axs, orient=\"v\", space=.01):\n",
    "    def _single(ax):\n",
    "        if orient == \"v\":\n",
    "            for p in ax.patches:\n",
    "                _x = p.get_x() + p.get_width() / 2\n",
    "                _y = p.get_y() + p.get_height() + (p.get_height() * 0.01)\n",
    "                value = '{:d}'.format(int(p.get_height()))\n",
    "                ax.text(_x, _y, value, ha=\"center\")\n",
    "        elif orient == \"h\":\n",
    "            for p in ax.patches:\n",
    "                _x = p.get_x() + p.get_width() + float(space)\n",
    "                _y = p.get_y() + p.get_height() - (p.get_height() * 0.5)\n",
    "                value = '{:d}'.format(int(p.get_width()))\n",
    "                ax.text(_x, _y, value, ha=\"left\")\n",
    "\n",
    "    if isinstance(axs, np.ndarray):\n",
    "        for idx, ax in np.ndenumerate(axs):\n",
    "            _single(ax)\n",
    "    else:\n",
    "        _single(axs)\n",
    "\n",
    "\n",
    "stat_df_long = (\n",
    "    stat_df\n",
    "    .melt(id_vars=\"등급\", value_vars=[\"3년 표준편차\", \"1년 표준편차\", \"3년 VaR\"], var_name=\"기준\") \\\n",
    "    .rename(columns={\"index\": \"등급\"})\n",
    ")\n",
    "axis = sns.barplot(x=\"등급\", y=\"value\", hue=\"기준\", data=stat_df_long)\n",
    "axis.set_title(f\"{type_name} 펀드 위험등급 분포\")\n",
    "show_values(axis)"
   ]
  },
  {
   "cell_type": "markdown",
   "id": "1f9227c4-c788-429d-b8d4-fc278ba29d24",
   "metadata": {},
   "source": [
    "## 통계 결과 출력"
   ]
  },
  {
   "cell_type": "code",
   "execution_count": 22,
   "id": "68fbd533-f46e-4cd6-9c35-28c3ae50830d",
   "metadata": {},
   "outputs": [],
   "source": [
    "os.makedirs('results', exist_ok=True)\n",
    "stat_df.to_excel(f'results/STATISTICS_{type_no}_{type_name}.xlsx', index=False)"
   ]
  },
  {
   "cell_type": "code",
   "execution_count": null,
   "outputs": [],
   "source": [],
   "metadata": {
    "collapsed": false
   }
  }
 ],
 "metadata": {
  "kernelspec": {
   "display_name": "Python 3 (ipykernel)",
   "language": "python",
   "name": "python3"
  },
  "language_info": {
   "codemirror_mode": {
    "name": "ipython",
    "version": 3
   },
   "file_extension": ".py",
   "mimetype": "text/x-python",
   "name": "python",
   "nbconvert_exporter": "python",
   "pygments_lexer": "ipython3",
   "version": "3.10.8"
  },
  "toc-autonumbering": true,
  "toc-showcode": false,
  "toc-showmarkdowntxt": false
 },
 "nbformat": 4,
 "nbformat_minor": 5
}
