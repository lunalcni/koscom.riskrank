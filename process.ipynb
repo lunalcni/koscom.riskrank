{
 "cells": [
  {
   "cell_type": "markdown",
   "id": "2dd67b7b-b151-49b1-955e-dd7627677a4e",
   "metadata": {},
   "source": [
    "# 펀드 위험등급 산출"
   ]
  },
  {
   "cell_type": "markdown",
   "id": "b3e20237-dc40-4627-a953-52539fea6148",
   "metadata": {},
   "source": [
    "## 패키지 로드"
   ]
  },
  {
   "cell_type": "code",
   "execution_count": 1,
   "id": "103faeb9-9c7b-46f1-8ddb-e8e438626b60",
   "metadata": {},
   "outputs": [],
   "source": [
    "%matplotlib inline"
   ]
  },
  {
   "cell_type": "code",
   "execution_count": 2,
   "id": "2ead0865-2adf-4384-9e33-e05ad2246056",
   "metadata": {},
   "outputs": [],
   "source": [
    "import functools\n",
    "import os\n",
    "import re\n",
    "from pathlib import Path\n",
    "\n",
    "import matplotlib.pyplot as plt\n",
    "import numpy as np\n",
    "import pandas as pd\n",
    "import seaborn as sns\n",
    "from tqdm import trange"
   ]
  },
  {
   "cell_type": "code",
   "execution_count": 3,
   "outputs": [],
   "source": [
    "plt.rc('font', family='Malgun Gothic')  # For Windows"
   ],
   "metadata": {
    "collapsed": false
   }
  },
  {
   "cell_type": "markdown",
   "source": [
    "## 변수 정의"
   ],
   "metadata": {
    "collapsed": false
   }
  },
  {
   "cell_type": "code",
   "execution_count": 4,
   "outputs": [
    {
     "name": "stdout",
     "output_type": "stream",
     "text": [
      "TEST_PROCESS=True, VALIDATE_PROCESS=True, DATA_FILEPATH='./data/TYPE_10_채권형.csv'\n"
     ]
    }
   ],
   "source": [
    "TEST_PROCESS = eval(os.environ.get('TEST_PROCESS', 'True'))\n",
    "VALIDATE_PROCESS = eval(os.environ.get('VALIDATE_PROCESS', 'True'))\n",
    "DATA_FILEPATH = os.environ.get('DATA_FILEPATH', './data/TYPE_10_채권형.csv')\n",
    "BINS = eval(os.environ.get('BINS', '[0, 0.005, 0.05, 0.10, 0.15, 0.25, float(\"inf\")]'))\n",
    "\n",
    "print(f'{TEST_PROCESS=}, {VALIDATE_PROCESS=}, {DATA_FILEPATH=}, {BINS=}')"
   ],
   "metadata": {
    "collapsed": false
   }
  },
  {
   "cell_type": "markdown",
   "source": [
    "## 타입 추출"
   ],
   "metadata": {
    "collapsed": false
   }
  },
  {
   "cell_type": "code",
   "execution_count": 5,
   "id": "9613fca5-40ff-41c8-a061-d9c23223c365",
   "metadata": {},
   "outputs": [
    {
     "data": {
      "text/plain": "('10', '채권형')"
     },
     "execution_count": 5,
     "metadata": {},
     "output_type": "execute_result"
    }
   ],
   "source": [
    "filepath = Path(DATA_FILEPATH)\n",
    "filename_pattern = re.compile(r'TYPE_([0-9]+)_([^_]+)\\.csv')\n",
    "\n",
    "match_rst = re.fullmatch(filename_pattern, filepath.name)\n",
    "type_no, type_name = match_rst.groups()\n",
    "\n",
    "type_no, type_name"
   ]
  },
  {
   "cell_type": "markdown",
   "id": "3a02a33b-ddc6-446a-88c3-37887ffe4768",
   "metadata": {},
   "source": [
    "## 데이터 로드"
   ]
  },
  {
   "cell_type": "code",
   "execution_count": 6,
   "id": "a4260092-7f8c-48a7-a523-7b72bc350181",
   "metadata": {},
   "outputs": [
    {
     "name": "stdout",
     "output_type": "stream",
     "text": [
      "len(codes)=2052\n"
     ]
    }
   ],
   "source": [
    "lists_wo_idx_df = pd.read_csv(filepath, names=[\"date\", \"code\", \"nav\"], usecols=[0, 1, 2], parse_dates=[0])\n",
    "lists_df = lists_wo_idx_df.set_index(['code', 'date'])\n",
    "\n",
    "codes = lists_df.index.get_level_values('code').unique()\n",
    "print(f\"{len(codes)=}\")"
   ]
  },
  {
   "cell_type": "markdown",
   "source": [
    "## 수치 산출 테스트\n",
    "\n",
    "1년을 기준으로 프로세스 정의"
   ],
   "metadata": {
    "collapsed": false
   }
  },
  {
   "cell_type": "markdown",
   "source": [
    "### 기간 조건 적용"
   ],
   "metadata": {
    "collapsed": false
   }
  },
  {
   "cell_type": "code",
   "execution_count": 7,
   "outputs": [
    {
     "data": {
      "text/plain": "             date      nav          code\n0      2022-01-03  1011.39  K55101B40934\n1      2022-01-04  1009.69  K55101B40934\n2      2022-01-05  1009.45  K55101B40934\n3      2022-01-06  1008.56  K55101B40934\n4      2022-01-07  1005.45  K55101B40934\n...           ...      ...           ...\n371505 2022-11-21  1004.01  KR7373AO7715\n371506 2022-11-22  1004.15  KR7373AO7715\n371507 2022-11-23  1004.27  KR7373AO7715\n371508 2022-11-24  1004.46  KR7373AO7715\n371509 2022-11-25  1004.72  KR7373AO7715\n\n[371510 rows x 3 columns]",
      "text/html": "<div>\n<style scoped>\n    .dataframe tbody tr th:only-of-type {\n        vertical-align: middle;\n    }\n\n    .dataframe tbody tr th {\n        vertical-align: top;\n    }\n\n    .dataframe thead th {\n        text-align: right;\n    }\n</style>\n<table border=\"1\" class=\"dataframe\">\n  <thead>\n    <tr style=\"text-align: right;\">\n      <th></th>\n      <th>date</th>\n      <th>nav</th>\n      <th>code</th>\n    </tr>\n  </thead>\n  <tbody>\n    <tr>\n      <th>0</th>\n      <td>2022-01-03</td>\n      <td>1011.39</td>\n      <td>K55101B40934</td>\n    </tr>\n    <tr>\n      <th>1</th>\n      <td>2022-01-04</td>\n      <td>1009.69</td>\n      <td>K55101B40934</td>\n    </tr>\n    <tr>\n      <th>2</th>\n      <td>2022-01-05</td>\n      <td>1009.45</td>\n      <td>K55101B40934</td>\n    </tr>\n    <tr>\n      <th>3</th>\n      <td>2022-01-06</td>\n      <td>1008.56</td>\n      <td>K55101B40934</td>\n    </tr>\n    <tr>\n      <th>4</th>\n      <td>2022-01-07</td>\n      <td>1005.45</td>\n      <td>K55101B40934</td>\n    </tr>\n    <tr>\n      <th>...</th>\n      <td>...</td>\n      <td>...</td>\n      <td>...</td>\n    </tr>\n    <tr>\n      <th>371505</th>\n      <td>2022-11-21</td>\n      <td>1004.01</td>\n      <td>KR7373AO7715</td>\n    </tr>\n    <tr>\n      <th>371506</th>\n      <td>2022-11-22</td>\n      <td>1004.15</td>\n      <td>KR7373AO7715</td>\n    </tr>\n    <tr>\n      <th>371507</th>\n      <td>2022-11-23</td>\n      <td>1004.27</td>\n      <td>KR7373AO7715</td>\n    </tr>\n    <tr>\n      <th>371508</th>\n      <td>2022-11-24</td>\n      <td>1004.46</td>\n      <td>KR7373AO7715</td>\n    </tr>\n    <tr>\n      <th>371509</th>\n      <td>2022-11-25</td>\n      <td>1004.72</td>\n      <td>KR7373AO7715</td>\n    </tr>\n  </tbody>\n</table>\n<p>371510 rows × 3 columns</p>\n</div>"
     },
     "metadata": {},
     "output_type": "display_data"
    }
   ],
   "source": [
    "if TEST_PROCESS:\n",
    "    lists_1y_df = pd.concat([\n",
    "        lists_df.xs(code).last('1y').assign(code=code)\n",
    "        for code in codes])\n",
    "    lists_1y_df.reset_index(inplace=True)\n",
    "    display(lists_1y_df)"
   ],
   "metadata": {
    "collapsed": false
   }
  },
  {
   "cell_type": "markdown",
   "source": [
    "### 리샘플링, 퍼센트 체인지 추출"
   ],
   "metadata": {
    "collapsed": false
   }
  },
  {
   "cell_type": "code",
   "execution_count": 8,
   "outputs": [
    {
     "data": {
      "text/plain": "                             nav       ret\ncode         date                         \nK55101B40934 2022-01-09  1005.45       NaN\n             2022-01-16  1008.38  0.002914\n             2022-01-23  1004.27 -0.004076\n             2022-01-30  1002.65 -0.001613\n             2022-02-06  1004.60  0.001945\n...                          ...       ...\nKR7373AO7715 2022-10-30  1000.73  0.001411\n             2022-11-06  1001.64  0.000909\n             2022-11-13  1002.50  0.000859\n             2022-11-20  1003.58  0.001077\n             2022-11-27  1004.72  0.001136\n\n[79154 rows x 2 columns]",
      "text/html": "<div>\n<style scoped>\n    .dataframe tbody tr th:only-of-type {\n        vertical-align: middle;\n    }\n\n    .dataframe tbody tr th {\n        vertical-align: top;\n    }\n\n    .dataframe thead th {\n        text-align: right;\n    }\n</style>\n<table border=\"1\" class=\"dataframe\">\n  <thead>\n    <tr style=\"text-align: right;\">\n      <th></th>\n      <th></th>\n      <th>nav</th>\n      <th>ret</th>\n    </tr>\n    <tr>\n      <th>code</th>\n      <th>date</th>\n      <th></th>\n      <th></th>\n    </tr>\n  </thead>\n  <tbody>\n    <tr>\n      <th rowspan=\"5\" valign=\"top\">K55101B40934</th>\n      <th>2022-01-09</th>\n      <td>1005.45</td>\n      <td>NaN</td>\n    </tr>\n    <tr>\n      <th>2022-01-16</th>\n      <td>1008.38</td>\n      <td>0.002914</td>\n    </tr>\n    <tr>\n      <th>2022-01-23</th>\n      <td>1004.27</td>\n      <td>-0.004076</td>\n    </tr>\n    <tr>\n      <th>2022-01-30</th>\n      <td>1002.65</td>\n      <td>-0.001613</td>\n    </tr>\n    <tr>\n      <th>2022-02-06</th>\n      <td>1004.60</td>\n      <td>0.001945</td>\n    </tr>\n    <tr>\n      <th>...</th>\n      <th>...</th>\n      <td>...</td>\n      <td>...</td>\n    </tr>\n    <tr>\n      <th rowspan=\"5\" valign=\"top\">KR7373AO7715</th>\n      <th>2022-10-30</th>\n      <td>1000.73</td>\n      <td>0.001411</td>\n    </tr>\n    <tr>\n      <th>2022-11-06</th>\n      <td>1001.64</td>\n      <td>0.000909</td>\n    </tr>\n    <tr>\n      <th>2022-11-13</th>\n      <td>1002.50</td>\n      <td>0.000859</td>\n    </tr>\n    <tr>\n      <th>2022-11-20</th>\n      <td>1003.58</td>\n      <td>0.001077</td>\n    </tr>\n    <tr>\n      <th>2022-11-27</th>\n      <td>1004.72</td>\n      <td>0.001136</td>\n    </tr>\n  </tbody>\n</table>\n<p>79154 rows × 2 columns</p>\n</div>"
     },
     "metadata": {},
     "output_type": "display_data"
    }
   ],
   "source": [
    "if TEST_PROCESS:\n",
    "    lists_1y_wk_df = lists_1y_df.set_index(['date']).groupby(['code'])[['nav']].resample('W').last()\n",
    "    lists_1y_wk_df = lists_1y_wk_df.assign(ret=lists_1y_wk_df.groupby(['code'])[['nav']].pct_change())\n",
    "    display(lists_1y_wk_df)"
   ],
   "metadata": {
    "collapsed": false
   }
  },
  {
   "cell_type": "markdown",
   "source": [
    "### 표준편차 산출"
   ],
   "metadata": {
    "collapsed": false
   }
  },
  {
   "cell_type": "code",
   "execution_count": 9,
   "outputs": [
    {
     "data": {
      "text/plain": "              code    std_1y\n0     K55101B40934  0.031280\n1     K55101B43714  0.033217\n2     K55101B95151  0.034132\n3     K55101B95169  0.034150\n4     K55101BA9675  0.012923\n...            ...       ...\n2047  KR5373145451  0.015785\n2048  KR5373A19634  0.050348\n2049  KR5373A19642  0.050408\n2050  KR5373AP5951  0.019384\n2051  KR7373AO7715  0.016461\n\n[2052 rows x 2 columns]",
      "text/html": "<div>\n<style scoped>\n    .dataframe tbody tr th:only-of-type {\n        vertical-align: middle;\n    }\n\n    .dataframe tbody tr th {\n        vertical-align: top;\n    }\n\n    .dataframe thead th {\n        text-align: right;\n    }\n</style>\n<table border=\"1\" class=\"dataframe\">\n  <thead>\n    <tr style=\"text-align: right;\">\n      <th></th>\n      <th>code</th>\n      <th>std_1y</th>\n    </tr>\n  </thead>\n  <tbody>\n    <tr>\n      <th>0</th>\n      <td>K55101B40934</td>\n      <td>0.031280</td>\n    </tr>\n    <tr>\n      <th>1</th>\n      <td>K55101B43714</td>\n      <td>0.033217</td>\n    </tr>\n    <tr>\n      <th>2</th>\n      <td>K55101B95151</td>\n      <td>0.034132</td>\n    </tr>\n    <tr>\n      <th>3</th>\n      <td>K55101B95169</td>\n      <td>0.034150</td>\n    </tr>\n    <tr>\n      <th>4</th>\n      <td>K55101BA9675</td>\n      <td>0.012923</td>\n    </tr>\n    <tr>\n      <th>...</th>\n      <td>...</td>\n      <td>...</td>\n    </tr>\n    <tr>\n      <th>2047</th>\n      <td>KR5373145451</td>\n      <td>0.015785</td>\n    </tr>\n    <tr>\n      <th>2048</th>\n      <td>KR5373A19634</td>\n      <td>0.050348</td>\n    </tr>\n    <tr>\n      <th>2049</th>\n      <td>KR5373A19642</td>\n      <td>0.050408</td>\n    </tr>\n    <tr>\n      <th>2050</th>\n      <td>KR5373AP5951</td>\n      <td>0.019384</td>\n    </tr>\n    <tr>\n      <th>2051</th>\n      <td>KR7373AO7715</td>\n      <td>0.016461</td>\n    </tr>\n  </tbody>\n</table>\n<p>2052 rows × 2 columns</p>\n</div>"
     },
     "metadata": {},
     "output_type": "display_data"
    }
   ],
   "source": [
    "if TEST_PROCESS:\n",
    "    lists_1y_std_df = lists_1y_wk_df.groupby(['code'])[['ret']].std(numeric_only=True) * np.sqrt(52)\n",
    "    lists_1y_std_df.reset_index(inplace=True)\n",
    "    lists_1y_std_df.rename(columns={'ret': 'std_1y'}, inplace=True)\n",
    "    display(lists_1y_std_df)"
   ],
   "metadata": {
    "collapsed": false
   }
  },
  {
   "cell_type": "markdown",
   "source": [
    "### VaR 산출"
   ],
   "metadata": {
    "collapsed": false
   }
  },
  {
   "cell_type": "code",
   "execution_count": 10,
   "outputs": [
    {
     "data": {
      "text/plain": "                var_1y\ncode                  \nK55101B40934  0.068102\nK55101B43714  0.073352\nK55101B95151  0.078412\nK55101B95169  0.079212\nK55101BA9675  0.033494\n...                ...\nKR5373145451  0.013382\nKR5373A19634  0.001834\nKR5373A19642  0.003046\nKR5373AP5951  0.011462\nKR7373AO7715  0.011887\n\n[2052 rows x 1 columns]",
      "text/html": "<div>\n<style scoped>\n    .dataframe tbody tr th:only-of-type {\n        vertical-align: middle;\n    }\n\n    .dataframe tbody tr th {\n        vertical-align: top;\n    }\n\n    .dataframe thead th {\n        text-align: right;\n    }\n</style>\n<table border=\"1\" class=\"dataframe\">\n  <thead>\n    <tr style=\"text-align: right;\">\n      <th></th>\n      <th>var_1y</th>\n    </tr>\n    <tr>\n      <th>code</th>\n      <th></th>\n    </tr>\n  </thead>\n  <tbody>\n    <tr>\n      <th>K55101B40934</th>\n      <td>0.068102</td>\n    </tr>\n    <tr>\n      <th>K55101B43714</th>\n      <td>0.073352</td>\n    </tr>\n    <tr>\n      <th>K55101B95151</th>\n      <td>0.078412</td>\n    </tr>\n    <tr>\n      <th>K55101B95169</th>\n      <td>0.079212</td>\n    </tr>\n    <tr>\n      <th>K55101BA9675</th>\n      <td>0.033494</td>\n    </tr>\n    <tr>\n      <th>...</th>\n      <td>...</td>\n    </tr>\n    <tr>\n      <th>KR5373145451</th>\n      <td>0.013382</td>\n    </tr>\n    <tr>\n      <th>KR5373A19634</th>\n      <td>0.001834</td>\n    </tr>\n    <tr>\n      <th>KR5373A19642</th>\n      <td>0.003046</td>\n    </tr>\n    <tr>\n      <th>KR5373AP5951</th>\n      <td>0.011462</td>\n    </tr>\n    <tr>\n      <th>KR7373AO7715</th>\n      <td>0.011887</td>\n    </tr>\n  </tbody>\n</table>\n<p>2052 rows × 1 columns</p>\n</div>"
     },
     "metadata": {},
     "output_type": "display_data"
    }
   ],
   "source": [
    "if TEST_PROCESS:\n",
    "    lists_1y_var_df = lists_1y_wk_df.groupby(['code'])[['ret']].quantile(0.025, numeric_only=True)\n",
    "    lists_1y_var_df = np.minimum(lists_1y_var_df, 0) * -1 * np.sqrt(52)\n",
    "    lists_1y_var_df.rename(columns={'ret': 'var_1y'}, inplace=True)\n",
    "    display(lists_1y_var_df)"
   ],
   "metadata": {
    "collapsed": false
   }
  },
  {
   "cell_type": "markdown",
   "source": [
    "## 수치 산출 프로세스 정의"
   ],
   "metadata": {
    "collapsed": false
   }
  },
  {
   "cell_type": "code",
   "execution_count": 11,
   "outputs": [],
   "source": [
    "offsets = ['1y', '3y']"
   ],
   "metadata": {
    "collapsed": false
   }
  },
  {
   "cell_type": "code",
   "execution_count": 12,
   "outputs": [
    {
     "name": "stdout",
     "output_type": "stream",
     "text": [
      "CPU times: total: 12.6 s\n",
      "Wall time: 13 s\n"
     ]
    },
    {
     "data": {
      "text/plain": "                std_1y    var_1y    std_3y    var_3y\ncode                                                \nK55101B40934  0.031280  0.068102  0.026194  0.073933\nK55101B43714  0.033217  0.073352  0.025928  0.067121\nK55101B95151  0.034132  0.078412  0.026927  0.057858\nK55101B95169  0.034150  0.079212  0.026621  0.056407\nK55101BA9675  0.012923  0.033494  0.020878  0.021996\n...                ...       ...       ...       ...\nKR5373145451  0.015785  0.013382  0.011902  0.017705\nKR5373A19634  0.050348  0.001834  0.221172  0.478124\nKR5373A19642  0.050408  0.003046  0.221421  0.479694\nKR5373AP5951  0.019384  0.011462  0.014392  0.015518\nKR7373AO7715  0.016461  0.011887  0.011668  0.015958\n\n[2052 rows x 4 columns]",
      "text/html": "<div>\n<style scoped>\n    .dataframe tbody tr th:only-of-type {\n        vertical-align: middle;\n    }\n\n    .dataframe tbody tr th {\n        vertical-align: top;\n    }\n\n    .dataframe thead th {\n        text-align: right;\n    }\n</style>\n<table border=\"1\" class=\"dataframe\">\n  <thead>\n    <tr style=\"text-align: right;\">\n      <th></th>\n      <th>std_1y</th>\n      <th>var_1y</th>\n      <th>std_3y</th>\n      <th>var_3y</th>\n    </tr>\n    <tr>\n      <th>code</th>\n      <th></th>\n      <th></th>\n      <th></th>\n      <th></th>\n    </tr>\n  </thead>\n  <tbody>\n    <tr>\n      <th>K55101B40934</th>\n      <td>0.031280</td>\n      <td>0.068102</td>\n      <td>0.026194</td>\n      <td>0.073933</td>\n    </tr>\n    <tr>\n      <th>K55101B43714</th>\n      <td>0.033217</td>\n      <td>0.073352</td>\n      <td>0.025928</td>\n      <td>0.067121</td>\n    </tr>\n    <tr>\n      <th>K55101B95151</th>\n      <td>0.034132</td>\n      <td>0.078412</td>\n      <td>0.026927</td>\n      <td>0.057858</td>\n    </tr>\n    <tr>\n      <th>K55101B95169</th>\n      <td>0.034150</td>\n      <td>0.079212</td>\n      <td>0.026621</td>\n      <td>0.056407</td>\n    </tr>\n    <tr>\n      <th>K55101BA9675</th>\n      <td>0.012923</td>\n      <td>0.033494</td>\n      <td>0.020878</td>\n      <td>0.021996</td>\n    </tr>\n    <tr>\n      <th>...</th>\n      <td>...</td>\n      <td>...</td>\n      <td>...</td>\n      <td>...</td>\n    </tr>\n    <tr>\n      <th>KR5373145451</th>\n      <td>0.015785</td>\n      <td>0.013382</td>\n      <td>0.011902</td>\n      <td>0.017705</td>\n    </tr>\n    <tr>\n      <th>KR5373A19634</th>\n      <td>0.050348</td>\n      <td>0.001834</td>\n      <td>0.221172</td>\n      <td>0.478124</td>\n    </tr>\n    <tr>\n      <th>KR5373A19642</th>\n      <td>0.050408</td>\n      <td>0.003046</td>\n      <td>0.221421</td>\n      <td>0.479694</td>\n    </tr>\n    <tr>\n      <th>KR5373AP5951</th>\n      <td>0.019384</td>\n      <td>0.011462</td>\n      <td>0.014392</td>\n      <td>0.015518</td>\n    </tr>\n    <tr>\n      <th>KR7373AO7715</th>\n      <td>0.016461</td>\n      <td>0.011887</td>\n      <td>0.011668</td>\n      <td>0.015958</td>\n    </tr>\n  </tbody>\n</table>\n<p>2052 rows × 4 columns</p>\n</div>"
     },
     "execution_count": 12,
     "metadata": {},
     "output_type": "execute_result"
    }
   ],
   "source": [
    "%%time\n",
    "\n",
    "lists_rst_dfs = []\n",
    "\n",
    "for offset in offsets:\n",
    "    lists_off_df = pd.concat([\n",
    "        lists_df.xs(code).last(offset).assign(code=code)\n",
    "        for code in codes])\n",
    "    lists_off_df.reset_index(inplace=True)\n",
    "\n",
    "    lists_off_wk_df = lists_off_df.set_index(['date']).groupby(['code'])[['nav']].resample('W').last()\n",
    "    lists_off_wk_df = lists_off_wk_df.assign(ret=lists_off_wk_df.groupby(['code'])[['nav']].pct_change())\n",
    "\n",
    "    lists_off_std_df = lists_off_wk_df.groupby(['code'])[['ret']].std(numeric_only=True) * np.sqrt(52)\n",
    "    lists_off_std_df.rename(columns={'ret': f'std_{offset}'}, inplace=True)\n",
    "\n",
    "    lists_off_var_df = lists_off_wk_df.groupby(['code'])[['ret']].quantile(0.025, numeric_only=True)\n",
    "    lists_off_var_df = np.minimum(lists_off_var_df, 0) * -1 * np.sqrt(52)\n",
    "    lists_off_var_df.rename(columns={'ret': f'var_{offset}'}, inplace=True)\n",
    "\n",
    "    lists_rst_dfs.append(lists_off_std_df)\n",
    "    lists_rst_dfs.append(lists_off_var_df)\n",
    "\n",
    "lists_rst_df = pd.concat(lists_rst_dfs, axis='columns')\n",
    "lists_rst_df"
   ],
   "metadata": {
    "collapsed": false
   }
  },
  {
   "cell_type": "markdown",
   "source": [
    "### 프로세스 테스트"
   ],
   "metadata": {
    "collapsed": false
   }
  },
  {
   "cell_type": "code",
   "execution_count": 23,
   "id": "a6cc3475-204e-417d-ac8f-67c33c944c4e",
   "metadata": {},
   "outputs": [
    {
     "name": "stderr",
     "output_type": "stream",
     "text": [
      "100%|██████████| 2052/2052 [02:30<00:00, 13.67it/s]"
     ]
    },
    {
     "name": "stdout",
     "output_type": "stream",
     "text": [
      "CPU times: total: 2min 29s\n",
      "Wall time: 2min 30s\n"
     ]
    },
    {
     "name": "stderr",
     "output_type": "stream",
     "text": [
      "\n"
     ]
    }
   ],
   "source": [
    "%%time\n",
    "\n",
    "def calc_std_y(code):\n",
    "    df = lists_wo_idx_df[lists_wo_idx_df['code'] == code][[\"date\", \"nav\"]]\n",
    "    df = df.sort_values(by=\"date\")\n",
    "    df = df.set_index(\"date\")\n",
    "\n",
    "    df_1y = df.last(\"1Y\")\n",
    "    df_1y_w = df_1y.resample(\"W\").last()\n",
    "\n",
    "    df_3y = df.last(\"3Y\")\n",
    "    df_3y_w = df_3y.resample(\"W\").last()\n",
    "\n",
    "    df_3y_w[\"ret\"] = df_3y_w[\"nav\"].pct_change()\n",
    "    df_3y_w = df_3y_w.iloc[1:]\n",
    "    std_3y = df_3y_w[\"ret\"].std() * np.sqrt(52)\n",
    "\n",
    "    df_1y_w[\"ret\"] = df_1y_w[\"nav\"].pct_change()\n",
    "    df_1y_w = df_1y_w.iloc[1:]\n",
    "    std_1y = df_1y_w[\"ret\"].std() * np.sqrt(52)\n",
    "\n",
    "    var_3y = -np.minimum(df_3y_w[\"ret\"].quantile(0.025), 0) * np.sqrt(52)\n",
    "\n",
    "    return std_3y, std_1y, var_3y\n",
    "\n",
    "if VALIDATE_PROCESS:\n",
    "    list_std_y = []\n",
    "    for i in trange(len(codes)):\n",
    "        code = codes[i]\n",
    "        list_std_y.append(calc_std_y(code))"
   ]
  },
  {
   "cell_type": "code",
   "execution_count": 25,
   "outputs": [],
   "source": [
    "if VALIDATE_PROCESS:\n",
    "    for code_idx, code in enumerate(codes):\n",
    "        for old_idx, new_name in [(0, 'std_3y'), (1, 'std_1y'), (2, 'var_3y')]:\n",
    "            old_rst = list_std_y[code_idx][old_idx]\n",
    "            new_rst = lists_rst_df.xs(code).xs(new_name)\n",
    "            if not np.isclose(old_rst, new_rst, equal_nan=True):\n",
    "                print(f\"{code=}, {old_rst=}, {new_rst=}, {np.isclose(old_rst, new_rst, equal_nan=True)=}\")"
   ],
   "metadata": {
    "collapsed": false
   }
  },
  {
   "cell_type": "markdown",
   "source": [
    "## 등급 변환"
   ],
   "metadata": {
    "collapsed": false
   }
  },
  {
   "cell_type": "code",
   "execution_count": 26,
   "outputs": [
    {
     "data": {
      "text/plain": "              code    std_1y    var_1y    std_3y    var_3y risk_std_1y  \\\n0     K55101B40934  0.031280  0.068102  0.026194  0.073933         5등급   \n1     K55101B43714  0.033217  0.073352  0.025928  0.067121         5등급   \n2     K55101B95151  0.034132  0.078412  0.026927  0.057858         5등급   \n3     K55101B95169  0.034150  0.079212  0.026621  0.056407         5등급   \n4     K55101BA9675  0.012923  0.033494  0.020878  0.021996         5등급   \n...            ...       ...       ...       ...       ...         ...   \n1940  KR5373145451  0.015785  0.013382  0.011902  0.017705         5등급   \n1941  KR5373A19634  0.050348  0.001834  0.221172  0.478124         4등급   \n1942  KR5373A19642  0.050408  0.003046  0.221421  0.479694         4등급   \n1943  KR5373AP5951  0.019384  0.011462  0.014392  0.015518         5등급   \n1944  KR7373AO7715  0.016461  0.011887  0.011668  0.015958         5등급   \n\n     risk_std_3y risk_var_3y  \n0            5등급         4등급  \n1            5등급         4등급  \n2            5등급         4등급  \n3            5등급         4등급  \n4            5등급         5등급  \n...          ...         ...  \n1940         5등급         5등급  \n1941         2등급         1등급  \n1942         2등급         1등급  \n1943         5등급         5등급  \n1944         5등급         5등급  \n\n[1945 rows x 8 columns]",
      "text/html": "<div>\n<style scoped>\n    .dataframe tbody tr th:only-of-type {\n        vertical-align: middle;\n    }\n\n    .dataframe tbody tr th {\n        vertical-align: top;\n    }\n\n    .dataframe thead th {\n        text-align: right;\n    }\n</style>\n<table border=\"1\" class=\"dataframe\">\n  <thead>\n    <tr style=\"text-align: right;\">\n      <th></th>\n      <th>code</th>\n      <th>std_1y</th>\n      <th>var_1y</th>\n      <th>std_3y</th>\n      <th>var_3y</th>\n      <th>risk_std_1y</th>\n      <th>risk_std_3y</th>\n      <th>risk_var_3y</th>\n    </tr>\n  </thead>\n  <tbody>\n    <tr>\n      <th>0</th>\n      <td>K55101B40934</td>\n      <td>0.031280</td>\n      <td>0.068102</td>\n      <td>0.026194</td>\n      <td>0.073933</td>\n      <td>5등급</td>\n      <td>5등급</td>\n      <td>4등급</td>\n    </tr>\n    <tr>\n      <th>1</th>\n      <td>K55101B43714</td>\n      <td>0.033217</td>\n      <td>0.073352</td>\n      <td>0.025928</td>\n      <td>0.067121</td>\n      <td>5등급</td>\n      <td>5등급</td>\n      <td>4등급</td>\n    </tr>\n    <tr>\n      <th>2</th>\n      <td>K55101B95151</td>\n      <td>0.034132</td>\n      <td>0.078412</td>\n      <td>0.026927</td>\n      <td>0.057858</td>\n      <td>5등급</td>\n      <td>5등급</td>\n      <td>4등급</td>\n    </tr>\n    <tr>\n      <th>3</th>\n      <td>K55101B95169</td>\n      <td>0.034150</td>\n      <td>0.079212</td>\n      <td>0.026621</td>\n      <td>0.056407</td>\n      <td>5등급</td>\n      <td>5등급</td>\n      <td>4등급</td>\n    </tr>\n    <tr>\n      <th>4</th>\n      <td>K55101BA9675</td>\n      <td>0.012923</td>\n      <td>0.033494</td>\n      <td>0.020878</td>\n      <td>0.021996</td>\n      <td>5등급</td>\n      <td>5등급</td>\n      <td>5등급</td>\n    </tr>\n    <tr>\n      <th>...</th>\n      <td>...</td>\n      <td>...</td>\n      <td>...</td>\n      <td>...</td>\n      <td>...</td>\n      <td>...</td>\n      <td>...</td>\n      <td>...</td>\n    </tr>\n    <tr>\n      <th>1940</th>\n      <td>KR5373145451</td>\n      <td>0.015785</td>\n      <td>0.013382</td>\n      <td>0.011902</td>\n      <td>0.017705</td>\n      <td>5등급</td>\n      <td>5등급</td>\n      <td>5등급</td>\n    </tr>\n    <tr>\n      <th>1941</th>\n      <td>KR5373A19634</td>\n      <td>0.050348</td>\n      <td>0.001834</td>\n      <td>0.221172</td>\n      <td>0.478124</td>\n      <td>4등급</td>\n      <td>2등급</td>\n      <td>1등급</td>\n    </tr>\n    <tr>\n      <th>1942</th>\n      <td>KR5373A19642</td>\n      <td>0.050408</td>\n      <td>0.003046</td>\n      <td>0.221421</td>\n      <td>0.479694</td>\n      <td>4등급</td>\n      <td>2등급</td>\n      <td>1등급</td>\n    </tr>\n    <tr>\n      <th>1943</th>\n      <td>KR5373AP5951</td>\n      <td>0.019384</td>\n      <td>0.011462</td>\n      <td>0.014392</td>\n      <td>0.015518</td>\n      <td>5등급</td>\n      <td>5등급</td>\n      <td>5등급</td>\n    </tr>\n    <tr>\n      <th>1944</th>\n      <td>KR7373AO7715</td>\n      <td>0.016461</td>\n      <td>0.011887</td>\n      <td>0.011668</td>\n      <td>0.015958</td>\n      <td>5등급</td>\n      <td>5등급</td>\n      <td>5등급</td>\n    </tr>\n  </tbody>\n</table>\n<p>1945 rows × 8 columns</p>\n</div>"
     },
     "execution_count": 26,
     "metadata": {},
     "output_type": "execute_result"
    }
   ],
   "source": [
    "labels = [\"6등급\", \"5등급\", \"4등급\", \"3등급\", \"2등급\", \"1등급\"]\n",
    "cut_fn = functools.partial(pd.cut, bins=BINS, labels=labels)\n",
    "\n",
    "lists_lb_df = lists_rst_df.assign(\n",
    "    risk_std_1y=cut_fn(lists_rst_df['std_1y']),\n",
    "    risk_std_3y=cut_fn(lists_rst_df['std_3y']),\n",
    "    # risk_var_1y=cut_fn(lists_rst_df['var_1y']),\n",
    "    risk_var_3y=cut_fn(lists_rst_df['var_3y']))\n",
    "lists_lb_df.dropna(inplace=True)\n",
    "lists_lb_df.reset_index(inplace=True)\n",
    "\n",
    "lists_lb_df"
   ],
   "metadata": {
    "collapsed": false
   }
  },
  {
   "cell_type": "markdown",
   "source": [
    "#### 프로세스 테스트"
   ],
   "metadata": {
    "collapsed": false
   }
  },
  {
   "cell_type": "code",
   "execution_count": 27,
   "id": "e0aa081c-7f0d-4f1b-ae74-00a27747aaa5",
   "metadata": {},
   "outputs": [],
   "source": [
    "if VALIDATE_PROCESS:\n",
    "    list_std_3y, list_std_1y, list_var_3y = zip(*list_std_y)\n",
    "\n",
    "    df_result = pd.DataFrame({\n",
    "        \"code\": codes,\n",
    "        \"std_3y\": list_std_3y,\n",
    "        \"std_1y\": list_std_1y,\n",
    "        \"var_3y\": list_var_3y,\n",
    "    })\n",
    "\n",
    "    bins = [0, 0.005, 0.05, 0.10, 0.15, 0.25, float(\"inf\")]\n",
    "    labels = [\"6등급\", \"5등급\", \"4등급\", \"3등급\", \"2등급\", \"1등급\"]\n",
    "\n",
    "    df_result[\"risk_std_3y\"] = pd.cut(df_result.std_3y, bins=bins, labels=labels)\n",
    "    df_result[\"risk_std_1y\"] = pd.cut(df_result.std_1y, bins=bins, labels=labels)\n",
    "    df_result[\"risk_var_3y\"] = pd.cut(df_result.var_3y, bins=bins, labels=labels)\n",
    "\n",
    "    df_result = df_result.dropna()"
   ]
  },
  {
   "cell_type": "code",
   "execution_count": 32,
   "id": "c3e75562-b9ea-4c95-9a11-004be639146b",
   "metadata": {},
   "outputs": [
    {
     "data": {
      "text/plain": "risk_std_1y    True\nrisk_std_3y    True\nrisk_var_3y    True\ndtype: bool"
     },
     "metadata": {},
     "output_type": "display_data"
    }
   ],
   "source": [
    "if VALIDATE_PROCESS:\n",
    "    display(\n",
    "        (lists_lb_df[['code', 'risk_std_1y', 'risk_std_3y', 'risk_var_3y']].set_index(['code'])\n",
    "        == df_result[['code', 'risk_std_1y', 'risk_std_3y', 'risk_var_3y']].set_index(['code'])).all())"
   ]
  },
  {
   "cell_type": "markdown",
   "id": "7093a90e-9367-40e8-bb58-fc375b2c7f0d",
   "metadata": {},
   "source": [
    "## 등급 결과 출력"
   ]
  },
  {
   "cell_type": "code",
   "execution_count": 33,
   "id": "7d74f1a2-a5b2-4b5a-b1e4-7356deb7fb2c",
   "metadata": {},
   "outputs": [],
   "source": [
    "os.makedirs('result', exist_ok=True)\n",
    "lists_lb_df.to_csv(f'result/RESULT_{type_no}_{type_name}.csv', index=False)"
   ]
  },
  {
   "cell_type": "markdown",
   "id": "2ed08a3d-eb09-4f1f-83a5-987be9b9d584",
   "metadata": {},
   "source": [
    "## 시각화"
   ]
  },
  {
   "cell_type": "code",
   "execution_count": 34,
   "id": "a2981513-60e5-4604-8fee-235d898df378",
   "metadata": {},
   "outputs": [
    {
     "data": {
      "text/plain": "<pandas.io.formats.style.Styler at 0x16fb2f7b670>",
      "text/html": "<style type=\"text/css\">\n#T_f7c79_row0_col0, #T_f7c79_row1_col1, #T_f7c79_row1_col2 {\n  background-color: #fff7fb;\n  color: #000000;\n}\n#T_f7c79_row0_col1 {\n  background-color: #fef6fb;\n  color: #000000;\n}\n#T_f7c79_row0_col2 {\n  background-color: #f1ebf4;\n  color: #000000;\n}\n#T_f7c79_row1_col0 {\n  background-color: #faf3f9;\n  color: #000000;\n}\n#T_f7c79_row2_col0 {\n  background-color: #fdf5fa;\n  color: #000000;\n}\n#T_f7c79_row2_col1 {\n  background-color: #fcf4fa;\n  color: #000000;\n}\n#T_f7c79_row2_col2 {\n  background-color: #e9e5f1;\n  color: #000000;\n}\n#T_f7c79_row3_col0 {\n  background-color: #e7e3f0;\n  color: #000000;\n}\n#T_f7c79_row3_col1 {\n  background-color: #b5c4df;\n  color: #000000;\n}\n#T_f7c79_row3_col2 {\n  background-color: #9ebad9;\n  color: #000000;\n}\n#T_f7c79_row4_col0, #T_f7c79_row4_col1, #T_f7c79_row4_col2 {\n  background-color: #023858;\n  color: #f1f1f1;\n}\n#T_f7c79_row5_col0 {\n  background-color: #fbf4f9;\n  color: #000000;\n}\n#T_f7c79_row5_col1 {\n  background-color: #c6cce3;\n  color: #000000;\n}\n#T_f7c79_row5_col2 {\n  background-color: #f0eaf4;\n  color: #000000;\n}\n</style>\n<table id=\"T_f7c79\">\n  <thead>\n    <tr>\n      <th class=\"blank level0\" >&nbsp;</th>\n      <th id=\"T_f7c79_level0_col0\" class=\"col_heading level0 col0\" >3년 표준편차</th>\n      <th id=\"T_f7c79_level0_col1\" class=\"col_heading level0 col1\" >1년 표준편차</th>\n      <th id=\"T_f7c79_level0_col2\" class=\"col_heading level0 col2\" >3년 VaR</th>\n    </tr>\n    <tr>\n      <th class=\"index_name level0\" >등급</th>\n      <th class=\"blank col0\" >&nbsp;</th>\n      <th class=\"blank col1\" >&nbsp;</th>\n      <th class=\"blank col2\" >&nbsp;</th>\n    </tr>\n  </thead>\n  <tbody>\n    <tr>\n      <th id=\"T_f7c79_level0_row0\" class=\"row_heading level0 row0\" >1등급</th>\n      <td id=\"T_f7c79_row0_col0\" class=\"data row0 col0\" >44</td>\n      <td id=\"T_f7c79_row0_col1\" class=\"data row0 col1\" >15</td>\n      <td id=\"T_f7c79_row0_col2\" class=\"data row0 col2\" >148</td>\n    </tr>\n    <tr>\n      <th id=\"T_f7c79_level0_row1\" class=\"row_heading level0 row1\" >2등급</th>\n      <td id=\"T_f7c79_row1_col0\" class=\"data row1 col0\" >88</td>\n      <td id=\"T_f7c79_row1_col1\" class=\"data row1 col1\" >6</td>\n      <td id=\"T_f7c79_row1_col2\" class=\"data row1 col2\" >59</td>\n    </tr>\n    <tr>\n      <th id=\"T_f7c79_level0_row2\" class=\"row_heading level0 row2\" >3등급</th>\n      <td id=\"T_f7c79_row2_col0\" class=\"data row2 col0\" >63</td>\n      <td id=\"T_f7c79_row2_col1\" class=\"data row2 col1\" >33</td>\n      <td id=\"T_f7c79_row2_col2\" class=\"data row2 col2\" >186</td>\n    </tr>\n    <tr>\n      <th id=\"T_f7c79_level0_row3\" class=\"row_heading level0 row3\" >4등급</th>\n      <td id=\"T_f7c79_row3_col0\" class=\"data row3 col0\" >250</td>\n      <td id=\"T_f7c79_row3_col1\" class=\"data row3 col1\" >392</td>\n      <td id=\"T_f7c79_row3_col2\" class=\"data row3 col2\" >423</td>\n    </tr>\n    <tr>\n      <th id=\"T_f7c79_level0_row4\" class=\"row_heading level0 row4\" >5등급</th>\n      <td id=\"T_f7c79_row4_col0\" class=\"data row4 col0\" >1421</td>\n      <td id=\"T_f7c79_row4_col1\" class=\"data row4 col1\" >1169</td>\n      <td id=\"T_f7c79_row4_col2\" class=\"data row4 col2\" >976</td>\n    </tr>\n    <tr>\n      <th id=\"T_f7c79_level0_row5\" class=\"row_heading level0 row5\" >6등급</th>\n      <td id=\"T_f7c79_row5_col0\" class=\"data row5 col0\" >79</td>\n      <td id=\"T_f7c79_row5_col1\" class=\"data row5 col1\" >330</td>\n      <td id=\"T_f7c79_row5_col2\" class=\"data row5 col2\" >153</td>\n    </tr>\n  </tbody>\n</table>\n"
     },
     "execution_count": 34,
     "metadata": {},
     "output_type": "execute_result"
    }
   ],
   "source": [
    "risk_std_3y_stat_df = lists_lb_df[\"risk_std_3y\"].value_counts().sort_index(ascending=False)\n",
    "risk_std_1y_stat_df = lists_lb_df[\"risk_std_1y\"].value_counts().sort_index(ascending=False)\n",
    "risk_var_3y_stat_df = lists_lb_df[\"risk_var_3y\"].value_counts().sort_index(ascending=False)\n",
    "stat_df = pd.concat([risk_std_3y_stat_df, risk_std_1y_stat_df, risk_var_3y_stat_df], axis=1)\n",
    "stat_df = stat_df.rename(columns={\"risk_std_3y\": \"3년 표준편차\", \"risk_std_1y\": \"1년 표준편차\", \"risk_var_3y\": \"3년 VaR\"})\n",
    "stat_df.reset_index(names=['등급'], inplace=True)\n",
    "\n",
    "stat_df.set_index('등급').style.background_gradient()"
   ]
  },
  {
   "cell_type": "code",
   "execution_count": 35,
   "id": "2ecfd0b2-0548-41e1-a6ed-9abd2da5b7c8",
   "metadata": {},
   "outputs": [
    {
     "data": {
      "text/plain": "<Figure size 640x480 with 1 Axes>",
      "image/png": "[encoded data removed]"
     },
     "metadata": {},
     "output_type": "display_data"
    }
   ],
   "source": [
    "def show_values(axs, orient=\"v\", space=.01):\n",
    "    def _single(ax):\n",
    "        if orient == \"v\":\n",
    "            for p in ax.patches:\n",
    "                _x = p.get_x() + p.get_width() / 2\n",
    "                _y = p.get_y() + p.get_height() + (p.get_height() * 0.01)\n",
    "                value = '{:d}'.format(int(p.get_height()))\n",
    "                ax.text(_x, _y, value, ha=\"center\")\n",
    "        elif orient == \"h\":\n",
    "            for p in ax.patches:\n",
    "                _x = p.get_x() + p.get_width() + float(space)\n",
    "                _y = p.get_y() + p.get_height() - (p.get_height() * 0.5)\n",
    "                value = '{:d}'.format(int(p.get_width()))\n",
    "                ax.text(_x, _y, value, ha=\"left\")\n",
    "\n",
    "    if isinstance(axs, np.ndarray):\n",
    "        for idx, ax in np.ndenumerate(axs):\n",
    "            _single(ax)\n",
    "    else:\n",
    "        _single(axs)\n",
    "\n",
    "\n",
    "stat_df_long = (\n",
    "    stat_df\n",
    "    .melt(id_vars=\"등급\", value_vars=[\"3년 표준편차\", \"1년 표준편차\", \"3년 VaR\"], var_name=\"기준\") \\\n",
    "    .rename(columns={\"index\": \"등급\"})\n",
    ")\n",
    "axis = sns.barplot(x=\"등급\", y=\"value\", hue=\"기준\", data=stat_df_long)\n",
    "axis.set_title(f\"{type_name} 펀드 위험등급 분포\")\n",
    "show_values(axis)"
   ]
  },
  {
   "cell_type": "markdown",
   "id": "1f9227c4-c788-429d-b8d4-fc278ba29d24",
   "metadata": {},
   "source": [
    "## 통계 결과 출력"
   ]
  },
  {
   "cell_type": "code",
   "execution_count": 36,
   "id": "68fbd533-f46e-4cd6-9c35-28c3ae50830d",
   "metadata": {},
   "outputs": [],
   "source": [
    "os.makedirs('result', exist_ok=True)\n",
    "stat_df.to_csv(f'result/STATISTICS_{type_no}_{type_name}.csv', index=False)"
   ]
  }
 ],
 "metadata": {
  "kernelspec": {
   "display_name": "Python 3 (ipykernel)",
   "language": "python",
   "name": "python3"
  },
  "language_info": {
   "codemirror_mode": {
    "name": "ipython",
    "version": 3
   },
   "file_extension": ".py",
   "mimetype": "text/x-python",
   "name": "python",
   "nbconvert_exporter": "python",
   "pygments_lexer": "ipython3",
   "version": "3.10.8"
  },
  "toc-autonumbering": true,
  "toc-showcode": false,
  "toc-showmarkdowntxt": false
 },
 "nbformat": 4,
 "nbformat_minor": 5
}
