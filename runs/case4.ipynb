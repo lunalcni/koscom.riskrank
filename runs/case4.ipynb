{
 "cells": [
  {
   "cell_type": "code",
   "execution_count": 7,
   "outputs": [],
   "source": [
    "import os\n",
    "import re\n",
    "from pathlib import Path\n",
    "\n",
    "from tqdm import trange"
   ],
   "metadata": {
    "collapsed": false
   }
  },
  {
   "cell_type": "code",
   "execution_count": 9,
   "metadata": {
    "collapsed": true
   },
   "outputs": [
    {
     "name": "stderr",
     "output_type": "stream",
     "text": [
      "100%|██████████| 17/17 [05:16<00:00, 18.64s/it]"
     ]
    },
    {
     "name": "stdout",
     "output_type": "stream",
     "text": [
      "CPU times: total: 15.6 ms\n",
      "Wall time: 5min 16s\n"
     ]
    },
    {
     "name": "stderr",
     "output_type": "stream",
     "text": [
      "\n"
     ]
    }
   ],
   "source": [
    "%%time\n",
    "\n",
    "os.makedirs('logs/', exist_ok=True)\n",
    "filepaths = list(Path('./data/').glob('*.csv'))\n",
    "for filepath_idx in trange(len(filepaths)):\n",
    "    filepath = filepaths[filepath_idx]\n",
    "    if not (match_rst := re.fullmatch(r'TYPE_([0-9]+)_([^_]+)\\.csv', str(filepath.name))):\n",
    "        continue\n",
    "\n",
    "    type_no, type_name = match_rst.groups()\n",
    "    os.environ['TEST_PROCESS'] = 'False'\n",
    "    os.environ['VALIDATE_PROCESS'] = 'False'\n",
    "    os.environ['DATA_FILEPATH'] = str(filepath)\n",
    "    os.environ['BINS'] = (\n",
    "    \"{'std_1y': [0, 0.005, 0.05, 0.10, 0.15, 0.25, float('inf')], \"\n",
    "    \"'std_3y': [0, 0.005, 0.05, 0.10, 0.15, 0.25, float('inf')], \"\n",
    "    \"'var_3y': [0, 0.005, 0.05, 0.10, 0.25, 0.35, float('inf')], \"\n",
    "    \"}\"\n",
    "    )\n",
    "\n",
    "    os.system(f'jupyter nbconvert --to notebook --execute process.ipynb --output logs/TYPE_{type_no}_{type_name}.ipynb')\n"
   ]
  }
 ],
 "metadata": {
  "kernelspec": {
   "display_name": "Python 3",
   "language": "python",
   "name": "python3"
  },
  "language_info": {
   "codemirror_mode": {
    "name": "ipython",
    "version": 2
   },
   "file_extension": ".py",
   "mimetype": "text/x-python",
   "name": "python",
   "nbconvert_exporter": "python",
   "pygments_lexer": "ipython2",
   "version": "2.7.6"
  }
 },
 "nbformat": 4,
 "nbformat_minor": 0
}
